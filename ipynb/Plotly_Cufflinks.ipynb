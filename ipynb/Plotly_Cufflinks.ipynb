{
 "cells": [
  {
   "cell_type": "markdown",
   "metadata": {},
   "source": [
    "Plotly is a library that allows you to create interactive plots that you can use in dashboards or websites (you can save them as html files or static images).\n",
    "\n",
    "## Installation\n",
    "\n",
    "In order for this all to work, you'll need to install plotly and cufflinks to call plots directly off of a pandas dataframe. These libraries are not currently available through **conda** but are available through **pip**. Install the libraries at your command line/terminal using:\n",
    "\n",
    "    pip install plotly\n",
    "    pip install cufflinks\n",
    "\n",
    "** NOTE: Make sure you only have one installation of Python on your computer when you do this, otherwise the installation may not work. **\n",
    "\n",
    "## Imports and Set-up"
   ]
  },
  {
   "cell_type": "code",
   "execution_count": 1,
   "metadata": {},
   "outputs": [
    {
     "name": "stdout",
     "output_type": "stream",
     "text": [
      "Requirement already satisfied: plotly in /home/fischer/anaconda3/lib/python3.11/site-packages (5.9.0)\n",
      "Requirement already satisfied: tenacity>=6.2.0 in /home/fischer/anaconda3/lib/python3.11/site-packages (from plotly) (8.2.2)\n",
      "Note: you may need to restart the kernel to use updated packages.\n"
     ]
    }
   ],
   "source": [
    "pip install plotly"
   ]
  },
  {
   "cell_type": "code",
   "execution_count": 1,
   "metadata": {},
   "outputs": [
    {
     "name": "stdout",
     "output_type": "stream",
     "text": [
      "Collecting cufflinks\n",
      "  Downloading cufflinks-0.17.3.tar.gz (81 kB)\n",
      "\u001b[2K     \u001b[38;2;114;156;31m━━━━━━━━━━━━━━━━━━━━━━━━━━━━━━━━━━━━━━━\u001b[0m \u001b[32m81.7/81.7 kB\u001b[0m \u001b[31m553.6 kB/s\u001b[0m eta \u001b[36m0:00:00\u001b[0m kB/s\u001b[0m eta \u001b[36m0:00:01\u001b[0m:01\u001b[0m\n",
      "\u001b[?25h  Preparing metadata (setup.py) ... \u001b[?25ldone\n",
      "\u001b[?25hRequirement already satisfied: numpy>=1.9.2 in /home/fischer/anaconda3/lib/python3.11/site-packages (from cufflinks) (1.25.2)\n",
      "Requirement already satisfied: pandas>=0.19.2 in /home/fischer/anaconda3/lib/python3.11/site-packages (from cufflinks) (2.1.0)\n",
      "Requirement already satisfied: plotly>=4.1.1 in /home/fischer/anaconda3/lib/python3.11/site-packages (from cufflinks) (5.9.0)\n",
      "Requirement already satisfied: six>=1.9.0 in /home/fischer/anaconda3/lib/python3.11/site-packages (from cufflinks) (1.16.0)\n",
      "Collecting colorlover>=0.2.1 (from cufflinks)\n",
      "  Downloading colorlover-0.3.0-py3-none-any.whl (8.9 kB)\n",
      "Requirement already satisfied: setuptools>=34.4.1 in /home/fischer/anaconda3/lib/python3.11/site-packages (from cufflinks) (67.8.0)\n",
      "Requirement already satisfied: ipython>=5.3.0 in /home/fischer/anaconda3/lib/python3.11/site-packages (from cufflinks) (8.12.0)\n",
      "Requirement already satisfied: ipywidgets>=7.0.0 in /home/fischer/anaconda3/lib/python3.11/site-packages (from cufflinks) (8.0.4)\n",
      "Requirement already satisfied: backcall in /home/fischer/anaconda3/lib/python3.11/site-packages (from ipython>=5.3.0->cufflinks) (0.2.0)\n",
      "Requirement already satisfied: decorator in /home/fischer/anaconda3/lib/python3.11/site-packages (from ipython>=5.3.0->cufflinks) (5.1.1)\n",
      "Requirement already satisfied: jedi>=0.16 in /home/fischer/anaconda3/lib/python3.11/site-packages (from ipython>=5.3.0->cufflinks) (0.18.1)\n",
      "Requirement already satisfied: matplotlib-inline in /home/fischer/anaconda3/lib/python3.11/site-packages (from ipython>=5.3.0->cufflinks) (0.1.6)\n",
      "Requirement already satisfied: pickleshare in /home/fischer/anaconda3/lib/python3.11/site-packages (from ipython>=5.3.0->cufflinks) (0.7.5)\n",
      "Requirement already satisfied: prompt-toolkit!=3.0.37,<3.1.0,>=3.0.30 in /home/fischer/anaconda3/lib/python3.11/site-packages (from ipython>=5.3.0->cufflinks) (3.0.36)\n",
      "Requirement already satisfied: pygments>=2.4.0 in /home/fischer/anaconda3/lib/python3.11/site-packages (from ipython>=5.3.0->cufflinks) (2.15.1)\n",
      "Requirement already satisfied: stack-data in /home/fischer/anaconda3/lib/python3.11/site-packages (from ipython>=5.3.0->cufflinks) (0.2.0)\n",
      "Requirement already satisfied: traitlets>=5 in /home/fischer/anaconda3/lib/python3.11/site-packages (from ipython>=5.3.0->cufflinks) (5.7.1)\n",
      "Requirement already satisfied: pexpect>4.3 in /home/fischer/anaconda3/lib/python3.11/site-packages (from ipython>=5.3.0->cufflinks) (4.8.0)\n",
      "Requirement already satisfied: ipykernel>=4.5.1 in /home/fischer/anaconda3/lib/python3.11/site-packages (from ipywidgets>=7.0.0->cufflinks) (6.25.0)\n",
      "Requirement already satisfied: widgetsnbextension~=4.0 in /home/fischer/anaconda3/lib/python3.11/site-packages (from ipywidgets>=7.0.0->cufflinks) (4.0.5)\n",
      "Requirement already satisfied: jupyterlab-widgets~=3.0 in /home/fischer/anaconda3/lib/python3.11/site-packages (from ipywidgets>=7.0.0->cufflinks) (3.0.5)\n",
      "Requirement already satisfied: python-dateutil>=2.8.2 in /home/fischer/anaconda3/lib/python3.11/site-packages (from pandas>=0.19.2->cufflinks) (2.8.2)\n",
      "Requirement already satisfied: pytz>=2020.1 in /home/fischer/anaconda3/lib/python3.11/site-packages (from pandas>=0.19.2->cufflinks) (2022.7)\n",
      "Requirement already satisfied: tzdata>=2022.1 in /home/fischer/anaconda3/lib/python3.11/site-packages (from pandas>=0.19.2->cufflinks) (2023.3)\n",
      "Requirement already satisfied: tenacity>=6.2.0 in /home/fischer/anaconda3/lib/python3.11/site-packages (from plotly>=4.1.1->cufflinks) (8.2.2)\n",
      "Requirement already satisfied: comm>=0.1.1 in /home/fischer/anaconda3/lib/python3.11/site-packages (from ipykernel>=4.5.1->ipywidgets>=7.0.0->cufflinks) (0.1.2)\n",
      "Requirement already satisfied: debugpy>=1.6.5 in /home/fischer/anaconda3/lib/python3.11/site-packages (from ipykernel>=4.5.1->ipywidgets>=7.0.0->cufflinks) (1.6.7)\n",
      "Requirement already satisfied: jupyter-client>=6.1.12 in /home/fischer/anaconda3/lib/python3.11/site-packages (from ipykernel>=4.5.1->ipywidgets>=7.0.0->cufflinks) (7.4.9)\n",
      "Requirement already satisfied: jupyter-core!=5.0.*,>=4.12 in /home/fischer/anaconda3/lib/python3.11/site-packages (from ipykernel>=4.5.1->ipywidgets>=7.0.0->cufflinks) (5.3.0)\n",
      "Requirement already satisfied: nest-asyncio in /home/fischer/anaconda3/lib/python3.11/site-packages (from ipykernel>=4.5.1->ipywidgets>=7.0.0->cufflinks) (1.5.6)\n",
      "Requirement already satisfied: packaging in /home/fischer/anaconda3/lib/python3.11/site-packages (from ipykernel>=4.5.1->ipywidgets>=7.0.0->cufflinks) (23.0)\n",
      "Requirement already satisfied: psutil in /home/fischer/anaconda3/lib/python3.11/site-packages (from ipykernel>=4.5.1->ipywidgets>=7.0.0->cufflinks) (5.9.0)\n",
      "Requirement already satisfied: pyzmq>=20 in /home/fischer/anaconda3/lib/python3.11/site-packages (from ipykernel>=4.5.1->ipywidgets>=7.0.0->cufflinks) (23.2.0)\n",
      "Requirement already satisfied: tornado>=6.1 in /home/fischer/anaconda3/lib/python3.11/site-packages (from ipykernel>=4.5.1->ipywidgets>=7.0.0->cufflinks) (6.3.2)\n",
      "Requirement already satisfied: parso<0.9.0,>=0.8.0 in /home/fischer/anaconda3/lib/python3.11/site-packages (from jedi>=0.16->ipython>=5.3.0->cufflinks) (0.8.3)\n",
      "Requirement already satisfied: ptyprocess>=0.5 in /home/fischer/anaconda3/lib/python3.11/site-packages (from pexpect>4.3->ipython>=5.3.0->cufflinks) (0.7.0)\n",
      "Requirement already satisfied: wcwidth in /home/fischer/anaconda3/lib/python3.11/site-packages (from prompt-toolkit!=3.0.37,<3.1.0,>=3.0.30->ipython>=5.3.0->cufflinks) (0.2.5)\n",
      "Requirement already satisfied: executing in /home/fischer/anaconda3/lib/python3.11/site-packages (from stack-data->ipython>=5.3.0->cufflinks) (0.8.3)\n",
      "Requirement already satisfied: asttokens in /home/fischer/anaconda3/lib/python3.11/site-packages (from stack-data->ipython>=5.3.0->cufflinks) (2.0.5)\n",
      "Requirement already satisfied: pure-eval in /home/fischer/anaconda3/lib/python3.11/site-packages (from stack-data->ipython>=5.3.0->cufflinks) (0.2.2)\n",
      "Requirement already satisfied: entrypoints in /home/fischer/anaconda3/lib/python3.11/site-packages (from jupyter-client>=6.1.12->ipykernel>=4.5.1->ipywidgets>=7.0.0->cufflinks) (0.4)\n",
      "Requirement already satisfied: platformdirs>=2.5 in /home/fischer/anaconda3/lib/python3.11/site-packages (from jupyter-core!=5.0.*,>=4.12->ipykernel>=4.5.1->ipywidgets>=7.0.0->cufflinks) (2.5.2)\n",
      "Building wheels for collected packages: cufflinks\n",
      "  Building wheel for cufflinks (setup.py) ... \u001b[?25ldone\n",
      "\u001b[?25h  Created wheel for cufflinks: filename=cufflinks-0.17.3-py3-none-any.whl size=67902 sha256=133246da0b246febc79b4488a7302c7d27ec616093c7de9c78cefe5ade3d25ee\n",
      "  Stored in directory: /home/fischer/.cache/pip/wheels/c3/bf/8f/afa0730b29e347e8c1071049f89748c1262e7a14a838820ae6\n",
      "Successfully built cufflinks\n",
      "Installing collected packages: colorlover, cufflinks\n",
      "Successfully installed colorlover-0.3.0 cufflinks-0.17.3\n",
      "Note: you may need to restart the kernel to use updated packages.\n"
     ]
    }
   ],
   "source": [
    "pip install cufflinks"
   ]
  },
  {
   "cell_type": "code",
   "execution_count": 26,
   "metadata": {},
   "outputs": [
    {
     "name": "stdout",
     "output_type": "stream",
     "text": [
      "Requirement already satisfied: pandas in /home/fischer/anaconda3/lib/python3.11/site-packages (2.1.0)\n",
      "Collecting pandas\n",
      "  Downloading pandas-2.2.1-cp311-cp311-manylinux_2_17_x86_64.manylinux2014_x86_64.whl (13.0 MB)\n",
      "\u001b[2K     \u001b[38;2;114;156;31m━━━━━━━━━━━━━━━━━━━━━━━━━━━━━━━━━━━━━━━\u001b[0m \u001b[32m13.0/13.0 MB\u001b[0m \u001b[31m186.9 kB/s\u001b[0m eta \u001b[36m0:00:00\u001b[0mm eta \u001b[36m0:00:01\u001b[0m[36m0:00:13\u001b[0m\n",
      "\u001b[?25hRequirement already satisfied: numpy<2,>=1.23.2 in /home/fischer/anaconda3/lib/python3.11/site-packages (from pandas) (1.25.2)\n",
      "Requirement already satisfied: python-dateutil>=2.8.2 in /home/fischer/anaconda3/lib/python3.11/site-packages (from pandas) (2.8.2)\n",
      "Requirement already satisfied: pytz>=2020.1 in /home/fischer/anaconda3/lib/python3.11/site-packages (from pandas) (2022.7)\n",
      "Requirement already satisfied: tzdata>=2022.7 in /home/fischer/anaconda3/lib/python3.11/site-packages (from pandas) (2023.3)\n",
      "Requirement already satisfied: six>=1.5 in /home/fischer/anaconda3/lib/python3.11/site-packages (from python-dateutil>=2.8.2->pandas) (1.16.0)\n",
      "Installing collected packages: pandas\n",
      "  Attempting uninstall: pandas\n",
      "    Found existing installation: pandas 2.1.0\n",
      "    Uninstalling pandas-2.1.0:\n",
      "      Successfully uninstalled pandas-2.1.0\n",
      "Successfully installed pandas-2.2.1\n"
     ]
    }
   ],
   "source": [
    "!pip install --upgrade pandas"
   ]
  },
  {
   "cell_type": "code",
   "execution_count": 1,
   "metadata": {},
   "outputs": [],
   "source": [
    "import pandas as pd\n",
    "import numpy as np\n",
    "import matplotlib.pyplot as plt\n",
    "%matplotlib inline"
   ]
  },
  {
   "cell_type": "code",
   "execution_count": 2,
   "metadata": {},
   "outputs": [
    {
     "name": "stdout",
     "output_type": "stream",
     "text": [
      "Requirement already satisfied: bottleneck in /home/fischer/anaconda3/lib/python3.11/site-packages (1.3.5)\n",
      "Collecting bottleneck\n",
      "  Downloading Bottleneck-1.3.8-cp311-cp311-manylinux_2_5_x86_64.manylinux1_x86_64.manylinux_2_17_x86_64.manylinux2014_x86_64.whl (358 kB)\n",
      "\u001b[2K     \u001b[38;2;114;156;31m━━━━━━━━━━━━━━━━━━━━━━━━━━━━━━━━━━━━━\u001b[0m \u001b[32m358.7/358.7 kB\u001b[0m \u001b[31m168.7 kB/s\u001b[0m eta \u001b[36m0:00:00\u001b[0m1m162.1 kB/s\u001b[0m eta \u001b[36m0:00:01\u001b[0m\n",
      "\u001b[?25hRequirement already satisfied: numpy in /home/fischer/anaconda3/lib/python3.11/site-packages (from bottleneck) (1.25.2)\n",
      "Installing collected packages: bottleneck\n",
      "  Attempting uninstall: bottleneck\n",
      "    Found existing installation: Bottleneck 1.3.5\n",
      "    Uninstalling Bottleneck-1.3.5:\n",
      "      Successfully uninstalled Bottleneck-1.3.5\n",
      "Successfully installed bottleneck-1.3.8\n",
      "Note: you may need to restart the kernel to use updated packages.\n"
     ]
    }
   ],
   "source": [
    "pip install --upgrade bottleneck"
   ]
  },
  {
   "cell_type": "code",
   "execution_count": 3,
   "metadata": {},
   "outputs": [
    {
     "name": "stdout",
     "output_type": "stream",
     "text": [
      "/home/fischer/anaconda3/bin/python\n"
     ]
    }
   ],
   "source": [
    "import sys\n",
    "print(sys.executable)\n"
   ]
  },
  {
   "cell_type": "code",
   "execution_count": 2,
   "metadata": {},
   "outputs": [
    {
     "name": "stdout",
     "output_type": "stream",
     "text": [
      "5.9.0\n"
     ]
    }
   ],
   "source": [
    "from plotly import __version__\n",
    "from plotly.offline import download_plotlyjs, init_notebook_mode, plot, iplot\n",
    "\n",
    "print(__version__) # requires version >= 1.9.0"
   ]
  },
  {
   "cell_type": "code",
   "execution_count": 3,
   "metadata": {},
   "outputs": [],
   "source": [
    "import cufflinks as cf"
   ]
  },
  {
   "cell_type": "code",
   "execution_count": 4,
   "metadata": {},
   "outputs": [
    {
     "data": {
      "text/html": [
       "        <script type=\"text/javascript\">\n",
       "        window.PlotlyConfig = {MathJaxConfig: 'local'};\n",
       "        if (window.MathJax && window.MathJax.Hub && window.MathJax.Hub.Config) {window.MathJax.Hub.Config({SVG: {font: \"STIX-Web\"}});}\n",
       "        if (typeof require !== 'undefined') {\n",
       "        require.undef(\"plotly\");\n",
       "        requirejs.config({\n",
       "            paths: {\n",
       "                'plotly': ['https://cdn.plot.ly/plotly-2.12.1.min']\n",
       "            }\n",
       "        });\n",
       "        require(['plotly'], function(Plotly) {\n",
       "            window._Plotly = Plotly;\n",
       "        });\n",
       "        }\n",
       "        </script>\n",
       "        "
      ]
     },
     "metadata": {},
     "output_type": "display_data"
    }
   ],
   "source": [
    "import plotly.offline as py\n",
    "import plotly.graph_objs as go\n",
    "py.init_notebook_mode(connected=True)"
   ]
  },
  {
   "cell_type": "code",
   "execution_count": 5,
   "metadata": {},
   "outputs": [
    {
     "data": {
      "text/html": [
       "        <script type=\"text/javascript\">\n",
       "        window.PlotlyConfig = {MathJaxConfig: 'local'};\n",
       "        if (window.MathJax && window.MathJax.Hub && window.MathJax.Hub.Config) {window.MathJax.Hub.Config({SVG: {font: \"STIX-Web\"}});}\n",
       "        if (typeof require !== 'undefined') {\n",
       "        require.undef(\"plotly\");\n",
       "        requirejs.config({\n",
       "            paths: {\n",
       "                'plotly': ['https://cdn.plot.ly/plotly-2.12.1.min']\n",
       "            }\n",
       "        });\n",
       "        require(['plotly'], function(Plotly) {\n",
       "            window._Plotly = Plotly;\n",
       "        });\n",
       "        }\n",
       "        </script>\n",
       "        "
      ]
     },
     "metadata": {},
     "output_type": "display_data"
    }
   ],
   "source": [
    "# For offline use\n",
    "cf.go_offline()"
   ]
  },
  {
   "cell_type": "markdown",
   "metadata": {},
   "source": [
    "### Fake Data"
   ]
  },
  {
   "cell_type": "code",
   "execution_count": 6,
   "metadata": {},
   "outputs": [],
   "source": [
    "df = pd.DataFrame(np.random.randn(100,4),columns='A B C D'.split())"
   ]
  },
  {
   "cell_type": "code",
   "execution_count": 7,
   "metadata": {},
   "outputs": [
    {
     "data": {
      "text/html": [
       "<div>\n",
       "<style scoped>\n",
       "    .dataframe tbody tr th:only-of-type {\n",
       "        vertical-align: middle;\n",
       "    }\n",
       "\n",
       "    .dataframe tbody tr th {\n",
       "        vertical-align: top;\n",
       "    }\n",
       "\n",
       "    .dataframe thead th {\n",
       "        text-align: right;\n",
       "    }\n",
       "</style>\n",
       "<table border=\"1\" class=\"dataframe\">\n",
       "  <thead>\n",
       "    <tr style=\"text-align: right;\">\n",
       "      <th></th>\n",
       "      <th>A</th>\n",
       "      <th>B</th>\n",
       "      <th>C</th>\n",
       "      <th>D</th>\n",
       "    </tr>\n",
       "  </thead>\n",
       "  <tbody>\n",
       "    <tr>\n",
       "      <th>0</th>\n",
       "      <td>0.770523</td>\n",
       "      <td>-1.936991</td>\n",
       "      <td>-1.053078</td>\n",
       "      <td>0.864641</td>\n",
       "    </tr>\n",
       "    <tr>\n",
       "      <th>1</th>\n",
       "      <td>-0.589648</td>\n",
       "      <td>-0.115691</td>\n",
       "      <td>-0.599883</td>\n",
       "      <td>-0.255228</td>\n",
       "    </tr>\n",
       "    <tr>\n",
       "      <th>2</th>\n",
       "      <td>0.178354</td>\n",
       "      <td>-0.967549</td>\n",
       "      <td>0.682339</td>\n",
       "      <td>0.268118</td>\n",
       "    </tr>\n",
       "    <tr>\n",
       "      <th>3</th>\n",
       "      <td>0.596361</td>\n",
       "      <td>-0.035707</td>\n",
       "      <td>0.391548</td>\n",
       "      <td>-0.056207</td>\n",
       "    </tr>\n",
       "    <tr>\n",
       "      <th>4</th>\n",
       "      <td>1.727457</td>\n",
       "      <td>1.152026</td>\n",
       "      <td>-1.477756</td>\n",
       "      <td>0.608343</td>\n",
       "    </tr>\n",
       "  </tbody>\n",
       "</table>\n",
       "</div>"
      ],
      "text/plain": [
       "          A         B         C         D\n",
       "0  0.770523 -1.936991 -1.053078  0.864641\n",
       "1 -0.589648 -0.115691 -0.599883 -0.255228\n",
       "2  0.178354 -0.967549  0.682339  0.268118\n",
       "3  0.596361 -0.035707  0.391548 -0.056207\n",
       "4  1.727457  1.152026 -1.477756  0.608343"
      ]
     },
     "execution_count": 7,
     "metadata": {},
     "output_type": "execute_result"
    }
   ],
   "source": [
    "df.head()"
   ]
  },
  {
   "cell_type": "code",
   "execution_count": 8,
   "metadata": {},
   "outputs": [],
   "source": [
    "df2 = pd.DataFrame({'Category':['A','B','C'],'Values':[32,43,50]})"
   ]
  },
  {
   "cell_type": "code",
   "execution_count": 9,
   "metadata": {},
   "outputs": [
    {
     "data": {
      "text/html": [
       "<div>\n",
       "<style scoped>\n",
       "    .dataframe tbody tr th:only-of-type {\n",
       "        vertical-align: middle;\n",
       "    }\n",
       "\n",
       "    .dataframe tbody tr th {\n",
       "        vertical-align: top;\n",
       "    }\n",
       "\n",
       "    .dataframe thead th {\n",
       "        text-align: right;\n",
       "    }\n",
       "</style>\n",
       "<table border=\"1\" class=\"dataframe\">\n",
       "  <thead>\n",
       "    <tr style=\"text-align: right;\">\n",
       "      <th></th>\n",
       "      <th>Category</th>\n",
       "      <th>Values</th>\n",
       "    </tr>\n",
       "  </thead>\n",
       "  <tbody>\n",
       "    <tr>\n",
       "      <th>0</th>\n",
       "      <td>A</td>\n",
       "      <td>32</td>\n",
       "    </tr>\n",
       "    <tr>\n",
       "      <th>1</th>\n",
       "      <td>B</td>\n",
       "      <td>43</td>\n",
       "    </tr>\n",
       "    <tr>\n",
       "      <th>2</th>\n",
       "      <td>C</td>\n",
       "      <td>50</td>\n",
       "    </tr>\n",
       "  </tbody>\n",
       "</table>\n",
       "</div>"
      ],
      "text/plain": [
       "  Category  Values\n",
       "0        A      32\n",
       "1        B      43\n",
       "2        C      50"
      ]
     },
     "execution_count": 9,
     "metadata": {},
     "output_type": "execute_result"
    }
   ],
   "source": [
    "df2.head()"
   ]
  },
  {
   "cell_type": "markdown",
   "metadata": {},
   "source": [
    "## Using Cufflinks and iplot()\n",
    "\n",
    "* scatter\n",
    "* bar\n",
    "* box\n",
    "* spread\n",
    "* ratio\n",
    "* heatmap\n",
    "* surface\n",
    "* histogram\n",
    "* bubble"
   ]
  },
  {
   "cell_type": "markdown",
   "metadata": {},
   "source": [
    "## Scatter"
   ]
  },
  {
   "cell_type": "code",
   "execution_count": 11,
   "metadata": {},
   "outputs": [
    {
     "data": {
      "application/vnd.plotly.v1+json": {
       "config": {
        "linkText": "Export to plot.ly",
        "plotlyServerURL": "https://plot.ly",
        "showLink": true
       },
       "data": [
        {
         "line": {
          "color": "rgba(255, 153, 51, 1.0)",
          "dash": "solid",
          "shape": "linear",
          "width": 1.3
         },
         "marker": {
          "size": 10,
          "symbol": "circle"
         },
         "mode": "markers",
         "name": "B",
         "text": "",
         "type": "scatter",
         "x": [
          0.7705234898774278,
          -0.5896478916206093,
          0.17835405438999646,
          0.5963611453123362,
          1.7274565609395005,
          1.5421780537811438,
          1.628061239074311,
          -1.6996003095351457,
          0.4530517140462203,
          -0.05010402209357444,
          -0.6730349573592179,
          -0.505925008907118,
          1.5217444998825644,
          0.7830218517512779,
          0.2136415311917148,
          -0.5068968787431705,
          0.7238227873155504,
          -1.0524166058242228,
          0.5914587161087208,
          -2.148676705320432,
          -0.7343466366308768,
          -0.5943623139561683,
          -1.0583740994274637,
          0.7201107462148718,
          0.6603549547370541,
          0.8696266362093719,
          0.929244746991931,
          -0.47497605125261894,
          0.15404582729617616,
          -0.5917878555453583,
          0.3905984525454246,
          -0.4713030598853919,
          0.8700933287407903,
          -0.3415262616728389,
          -1.6728016113390374,
          0.2671229944566014,
          1.7640424596098119,
          0.07097350671730723,
          -0.19742298132391986,
          0.1702612515042837,
          -1.6394584554670721,
          -0.30406088152150856,
          -0.5416069186215873,
          -0.8513178826391808,
          -2.290646822512884,
          1.165929862213416,
          0.6878892903436499,
          -0.9795878322314134,
          0.211058793073966,
          0.7525561644401494,
          0.9141292435934405,
          1.0731670376288232,
          1.928115539184313,
          -1.0586469160156335,
          0.2493133435375463,
          1.0004543896878182,
          1.0654255989836823,
          1.514703842271405,
          -0.37229630884852305,
          1.4976291737398033,
          1.6088231464521767,
          0.1477979916712005,
          0.3398750970819321,
          -0.46002824476166554,
          -0.5551918306725362,
          -1.6155560991907183,
          -1.9556880291233207,
          0.7295946389464798,
          1.7254124803382753,
          1.7148315559047616,
          -0.10266094978445155,
          0.941879392537153,
          -1.8244418332264318,
          -0.13984057595098215,
          -1.4001826184089927,
          -0.6613228720419397,
          0.35870788958066135,
          -0.17741833189552075,
          1.4662471983332244,
          -1.6385294535708028,
          0.3379690245178709,
          0.22867327506198257,
          -0.21706300077687582,
          0.8480575702567326,
          -0.4687634196997417,
          -1.1569707233646864,
          -0.20439184269921234,
          0.6484691681289205,
          0.8247922039779939,
          0.7566534076986263,
          -0.47802065920583475,
          -0.37539515591956796,
          -0.19480019887372732,
          -0.8903694266829668,
          -1.158895906986244,
          -0.5966010935224592,
          -1.5444232357563994,
          1.1777548236526936,
          0.7616182066614193,
          0.5047518552082003
         ],
         "y": [
          -1.936991487963092,
          -0.11569126822480842,
          -0.9675486848312903,
          -0.03570748738154921,
          1.152026157314478,
          -0.12020911095310927,
          0.9502929244024161,
          0.7776727947455804,
          -0.924013142703625,
          0.32050791426337977,
          -1.7597516309042502,
          -0.4491586351842661,
          0.290894990735173,
          -0.9770054854340499,
          -0.43590308062626865,
          -1.0944993413852326,
          -0.4916500092535971,
          -0.5123894614624396,
          -0.8467633894763315,
          -0.826901448085367,
          -1.4764740605909894,
          0.11068008983495835,
          0.28978668069622404,
          1.0992213648166544,
          0.7782339040585375,
          0.5465000218976769,
          0.3199898087610177,
          -0.18808464624135388,
          1.0568366529165245,
          0.1659244958695554,
          1.399625046098209,
          -0.5953007591936754,
          -0.5206373924693855,
          0.5801829129702887,
          0.6832679470816938,
          1.336260254421983,
          0.3015855846803247,
          2.6333464798146022,
          1.0731127971508758,
          1.7754932668329395,
          -2.0385225989590827,
          0.700761045294904,
          -0.20299627576017767,
          -0.020437457335589805,
          -0.4288836539011838,
          -0.13226991819424455,
          0.08764900440910976,
          -0.674794617002996,
          0.54043210088352,
          -0.4860642591960618,
          0.01366339696631474,
          1.3753034053891933,
          0.9162504634564674,
          -0.32492474812705857,
          -0.8736821112850072,
          -0.9934167604855684,
          -0.34446953444598993,
          -0.5349924240902536,
          -0.17457797518128212,
          -0.6100819152367105,
          -0.8044402168629541,
          -1.3249140922986007,
          -0.4794668006590733,
          -0.23943261051912887,
          0.8509726207184295,
          -0.06513782081526151,
          0.46049993220238744,
          1.3352421073022125,
          -1.870558997580458,
          0.5559619107977536,
          0.20130397456112806,
          0.6883136283856667,
          0.9348624859768491,
          0.7897466383010999,
          -0.11616726146529319,
          -0.6054411993072186,
          0.10644067632075262,
          -0.4346088114743291,
          -0.12828473246656533,
          -0.9665313520782338,
          1.151325789207208,
          2.201941374624922,
          -0.19188876859711448,
          -1.4442447516855943,
          -2.4301440173709588,
          0.46959226759189954,
          -0.27329631691061235,
          -0.01905773855042531,
          -0.8807242909845279,
          0.31128548580138216,
          -0.4314795761239597,
          0.26737467979074336,
          -0.44413081879029187,
          0.9075101453753525,
          -0.5403558802549625,
          0.4024911278983956,
          -0.08641759945373886,
          0.12791519183490496,
          -0.7033907085796087,
          -0.7884005843835954
         ]
        }
       ],
       "layout": {
        "legend": {
         "bgcolor": "#F5F6F9",
         "font": {
          "color": "#4D5663"
         }
        },
        "paper_bgcolor": "#F5F6F9",
        "plot_bgcolor": "#F5F6F9",
        "template": {
         "data": {
          "bar": [
           {
            "error_x": {
             "color": "#2a3f5f"
            },
            "error_y": {
             "color": "#2a3f5f"
            },
            "marker": {
             "line": {
              "color": "#E5ECF6",
              "width": 0.5
             },
             "pattern": {
              "fillmode": "overlay",
              "size": 10,
              "solidity": 0.2
             }
            },
            "type": "bar"
           }
          ],
          "barpolar": [
           {
            "marker": {
             "line": {
              "color": "#E5ECF6",
              "width": 0.5
             },
             "pattern": {
              "fillmode": "overlay",
              "size": 10,
              "solidity": 0.2
             }
            },
            "type": "barpolar"
           }
          ],
          "carpet": [
           {
            "aaxis": {
             "endlinecolor": "#2a3f5f",
             "gridcolor": "white",
             "linecolor": "white",
             "minorgridcolor": "white",
             "startlinecolor": "#2a3f5f"
            },
            "baxis": {
             "endlinecolor": "#2a3f5f",
             "gridcolor": "white",
             "linecolor": "white",
             "minorgridcolor": "white",
             "startlinecolor": "#2a3f5f"
            },
            "type": "carpet"
           }
          ],
          "choropleth": [
           {
            "colorbar": {
             "outlinewidth": 0,
             "ticks": ""
            },
            "type": "choropleth"
           }
          ],
          "contour": [
           {
            "colorbar": {
             "outlinewidth": 0,
             "ticks": ""
            },
            "colorscale": [
             [
              0,
              "#0d0887"
             ],
             [
              0.1111111111111111,
              "#46039f"
             ],
             [
              0.2222222222222222,
              "#7201a8"
             ],
             [
              0.3333333333333333,
              "#9c179e"
             ],
             [
              0.4444444444444444,
              "#bd3786"
             ],
             [
              0.5555555555555556,
              "#d8576b"
             ],
             [
              0.6666666666666666,
              "#ed7953"
             ],
             [
              0.7777777777777778,
              "#fb9f3a"
             ],
             [
              0.8888888888888888,
              "#fdca26"
             ],
             [
              1,
              "#f0f921"
             ]
            ],
            "type": "contour"
           }
          ],
          "contourcarpet": [
           {
            "colorbar": {
             "outlinewidth": 0,
             "ticks": ""
            },
            "type": "contourcarpet"
           }
          ],
          "heatmap": [
           {
            "colorbar": {
             "outlinewidth": 0,
             "ticks": ""
            },
            "colorscale": [
             [
              0,
              "#0d0887"
             ],
             [
              0.1111111111111111,
              "#46039f"
             ],
             [
              0.2222222222222222,
              "#7201a8"
             ],
             [
              0.3333333333333333,
              "#9c179e"
             ],
             [
              0.4444444444444444,
              "#bd3786"
             ],
             [
              0.5555555555555556,
              "#d8576b"
             ],
             [
              0.6666666666666666,
              "#ed7953"
             ],
             [
              0.7777777777777778,
              "#fb9f3a"
             ],
             [
              0.8888888888888888,
              "#fdca26"
             ],
             [
              1,
              "#f0f921"
             ]
            ],
            "type": "heatmap"
           }
          ],
          "heatmapgl": [
           {
            "colorbar": {
             "outlinewidth": 0,
             "ticks": ""
            },
            "colorscale": [
             [
              0,
              "#0d0887"
             ],
             [
              0.1111111111111111,
              "#46039f"
             ],
             [
              0.2222222222222222,
              "#7201a8"
             ],
             [
              0.3333333333333333,
              "#9c179e"
             ],
             [
              0.4444444444444444,
              "#bd3786"
             ],
             [
              0.5555555555555556,
              "#d8576b"
             ],
             [
              0.6666666666666666,
              "#ed7953"
             ],
             [
              0.7777777777777778,
              "#fb9f3a"
             ],
             [
              0.8888888888888888,
              "#fdca26"
             ],
             [
              1,
              "#f0f921"
             ]
            ],
            "type": "heatmapgl"
           }
          ],
          "histogram": [
           {
            "marker": {
             "pattern": {
              "fillmode": "overlay",
              "size": 10,
              "solidity": 0.2
             }
            },
            "type": "histogram"
           }
          ],
          "histogram2d": [
           {
            "colorbar": {
             "outlinewidth": 0,
             "ticks": ""
            },
            "colorscale": [
             [
              0,
              "#0d0887"
             ],
             [
              0.1111111111111111,
              "#46039f"
             ],
             [
              0.2222222222222222,
              "#7201a8"
             ],
             [
              0.3333333333333333,
              "#9c179e"
             ],
             [
              0.4444444444444444,
              "#bd3786"
             ],
             [
              0.5555555555555556,
              "#d8576b"
             ],
             [
              0.6666666666666666,
              "#ed7953"
             ],
             [
              0.7777777777777778,
              "#fb9f3a"
             ],
             [
              0.8888888888888888,
              "#fdca26"
             ],
             [
              1,
              "#f0f921"
             ]
            ],
            "type": "histogram2d"
           }
          ],
          "histogram2dcontour": [
           {
            "colorbar": {
             "outlinewidth": 0,
             "ticks": ""
            },
            "colorscale": [
             [
              0,
              "#0d0887"
             ],
             [
              0.1111111111111111,
              "#46039f"
             ],
             [
              0.2222222222222222,
              "#7201a8"
             ],
             [
              0.3333333333333333,
              "#9c179e"
             ],
             [
              0.4444444444444444,
              "#bd3786"
             ],
             [
              0.5555555555555556,
              "#d8576b"
             ],
             [
              0.6666666666666666,
              "#ed7953"
             ],
             [
              0.7777777777777778,
              "#fb9f3a"
             ],
             [
              0.8888888888888888,
              "#fdca26"
             ],
             [
              1,
              "#f0f921"
             ]
            ],
            "type": "histogram2dcontour"
           }
          ],
          "mesh3d": [
           {
            "colorbar": {
             "outlinewidth": 0,
             "ticks": ""
            },
            "type": "mesh3d"
           }
          ],
          "parcoords": [
           {
            "line": {
             "colorbar": {
              "outlinewidth": 0,
              "ticks": ""
             }
            },
            "type": "parcoords"
           }
          ],
          "pie": [
           {
            "automargin": true,
            "type": "pie"
           }
          ],
          "scatter": [
           {
            "fillpattern": {
             "fillmode": "overlay",
             "size": 10,
             "solidity": 0.2
            },
            "type": "scatter"
           }
          ],
          "scatter3d": [
           {
            "line": {
             "colorbar": {
              "outlinewidth": 0,
              "ticks": ""
             }
            },
            "marker": {
             "colorbar": {
              "outlinewidth": 0,
              "ticks": ""
             }
            },
            "type": "scatter3d"
           }
          ],
          "scattercarpet": [
           {
            "marker": {
             "colorbar": {
              "outlinewidth": 0,
              "ticks": ""
             }
            },
            "type": "scattercarpet"
           }
          ],
          "scattergeo": [
           {
            "marker": {
             "colorbar": {
              "outlinewidth": 0,
              "ticks": ""
             }
            },
            "type": "scattergeo"
           }
          ],
          "scattergl": [
           {
            "marker": {
             "colorbar": {
              "outlinewidth": 0,
              "ticks": ""
             }
            },
            "type": "scattergl"
           }
          ],
          "scattermapbox": [
           {
            "marker": {
             "colorbar": {
              "outlinewidth": 0,
              "ticks": ""
             }
            },
            "type": "scattermapbox"
           }
          ],
          "scatterpolar": [
           {
            "marker": {
             "colorbar": {
              "outlinewidth": 0,
              "ticks": ""
             }
            },
            "type": "scatterpolar"
           }
          ],
          "scatterpolargl": [
           {
            "marker": {
             "colorbar": {
              "outlinewidth": 0,
              "ticks": ""
             }
            },
            "type": "scatterpolargl"
           }
          ],
          "scatterternary": [
           {
            "marker": {
             "colorbar": {
              "outlinewidth": 0,
              "ticks": ""
             }
            },
            "type": "scatterternary"
           }
          ],
          "surface": [
           {
            "colorbar": {
             "outlinewidth": 0,
             "ticks": ""
            },
            "colorscale": [
             [
              0,
              "#0d0887"
             ],
             [
              0.1111111111111111,
              "#46039f"
             ],
             [
              0.2222222222222222,
              "#7201a8"
             ],
             [
              0.3333333333333333,
              "#9c179e"
             ],
             [
              0.4444444444444444,
              "#bd3786"
             ],
             [
              0.5555555555555556,
              "#d8576b"
             ],
             [
              0.6666666666666666,
              "#ed7953"
             ],
             [
              0.7777777777777778,
              "#fb9f3a"
             ],
             [
              0.8888888888888888,
              "#fdca26"
             ],
             [
              1,
              "#f0f921"
             ]
            ],
            "type": "surface"
           }
          ],
          "table": [
           {
            "cells": {
             "fill": {
              "color": "#EBF0F8"
             },
             "line": {
              "color": "white"
             }
            },
            "header": {
             "fill": {
              "color": "#C8D4E3"
             },
             "line": {
              "color": "white"
             }
            },
            "type": "table"
           }
          ]
         },
         "layout": {
          "annotationdefaults": {
           "arrowcolor": "#2a3f5f",
           "arrowhead": 0,
           "arrowwidth": 1
          },
          "autotypenumbers": "strict",
          "coloraxis": {
           "colorbar": {
            "outlinewidth": 0,
            "ticks": ""
           }
          },
          "colorscale": {
           "diverging": [
            [
             0,
             "#8e0152"
            ],
            [
             0.1,
             "#c51b7d"
            ],
            [
             0.2,
             "#de77ae"
            ],
            [
             0.3,
             "#f1b6da"
            ],
            [
             0.4,
             "#fde0ef"
            ],
            [
             0.5,
             "#f7f7f7"
            ],
            [
             0.6,
             "#e6f5d0"
            ],
            [
             0.7,
             "#b8e186"
            ],
            [
             0.8,
             "#7fbc41"
            ],
            [
             0.9,
             "#4d9221"
            ],
            [
             1,
             "#276419"
            ]
           ],
           "sequential": [
            [
             0,
             "#0d0887"
            ],
            [
             0.1111111111111111,
             "#46039f"
            ],
            [
             0.2222222222222222,
             "#7201a8"
            ],
            [
             0.3333333333333333,
             "#9c179e"
            ],
            [
             0.4444444444444444,
             "#bd3786"
            ],
            [
             0.5555555555555556,
             "#d8576b"
            ],
            [
             0.6666666666666666,
             "#ed7953"
            ],
            [
             0.7777777777777778,
             "#fb9f3a"
            ],
            [
             0.8888888888888888,
             "#fdca26"
            ],
            [
             1,
             "#f0f921"
            ]
           ],
           "sequentialminus": [
            [
             0,
             "#0d0887"
            ],
            [
             0.1111111111111111,
             "#46039f"
            ],
            [
             0.2222222222222222,
             "#7201a8"
            ],
            [
             0.3333333333333333,
             "#9c179e"
            ],
            [
             0.4444444444444444,
             "#bd3786"
            ],
            [
             0.5555555555555556,
             "#d8576b"
            ],
            [
             0.6666666666666666,
             "#ed7953"
            ],
            [
             0.7777777777777778,
             "#fb9f3a"
            ],
            [
             0.8888888888888888,
             "#fdca26"
            ],
            [
             1,
             "#f0f921"
            ]
           ]
          },
          "colorway": [
           "#636efa",
           "#EF553B",
           "#00cc96",
           "#ab63fa",
           "#FFA15A",
           "#19d3f3",
           "#FF6692",
           "#B6E880",
           "#FF97FF",
           "#FECB52"
          ],
          "font": {
           "color": "#2a3f5f"
          },
          "geo": {
           "bgcolor": "white",
           "lakecolor": "white",
           "landcolor": "#E5ECF6",
           "showlakes": true,
           "showland": true,
           "subunitcolor": "white"
          },
          "hoverlabel": {
           "align": "left"
          },
          "hovermode": "closest",
          "mapbox": {
           "style": "light"
          },
          "paper_bgcolor": "white",
          "plot_bgcolor": "#E5ECF6",
          "polar": {
           "angularaxis": {
            "gridcolor": "white",
            "linecolor": "white",
            "ticks": ""
           },
           "bgcolor": "#E5ECF6",
           "radialaxis": {
            "gridcolor": "white",
            "linecolor": "white",
            "ticks": ""
           }
          },
          "scene": {
           "xaxis": {
            "backgroundcolor": "#E5ECF6",
            "gridcolor": "white",
            "gridwidth": 2,
            "linecolor": "white",
            "showbackground": true,
            "ticks": "",
            "zerolinecolor": "white"
           },
           "yaxis": {
            "backgroundcolor": "#E5ECF6",
            "gridcolor": "white",
            "gridwidth": 2,
            "linecolor": "white",
            "showbackground": true,
            "ticks": "",
            "zerolinecolor": "white"
           },
           "zaxis": {
            "backgroundcolor": "#E5ECF6",
            "gridcolor": "white",
            "gridwidth": 2,
            "linecolor": "white",
            "showbackground": true,
            "ticks": "",
            "zerolinecolor": "white"
           }
          },
          "shapedefaults": {
           "line": {
            "color": "#2a3f5f"
           }
          },
          "ternary": {
           "aaxis": {
            "gridcolor": "white",
            "linecolor": "white",
            "ticks": ""
           },
           "baxis": {
            "gridcolor": "white",
            "linecolor": "white",
            "ticks": ""
           },
           "bgcolor": "#E5ECF6",
           "caxis": {
            "gridcolor": "white",
            "linecolor": "white",
            "ticks": ""
           }
          },
          "title": {
           "x": 0.05
          },
          "xaxis": {
           "automargin": true,
           "gridcolor": "white",
           "linecolor": "white",
           "ticks": "",
           "title": {
            "standoff": 15
           },
           "zerolinecolor": "white",
           "zerolinewidth": 2
          },
          "yaxis": {
           "automargin": true,
           "gridcolor": "white",
           "linecolor": "white",
           "ticks": "",
           "title": {
            "standoff": 15
           },
           "zerolinecolor": "white",
           "zerolinewidth": 2
          }
         }
        },
        "title": {
         "font": {
          "color": "#4D5663"
         }
        },
        "xaxis": {
         "gridcolor": "#E1E5ED",
         "showgrid": true,
         "tickfont": {
          "color": "#4D5663"
         },
         "title": {
          "font": {
           "color": "#4D5663"
          },
          "text": ""
         },
         "zerolinecolor": "#E1E5ED"
        },
        "yaxis": {
         "gridcolor": "#E1E5ED",
         "showgrid": true,
         "tickfont": {
          "color": "#4D5663"
         },
         "title": {
          "font": {
           "color": "#4D5663"
          },
          "text": ""
         },
         "zerolinecolor": "#E1E5ED"
        }
       }
      },
      "text/html": [
       "<div>                            <div id=\"c60963f7-2546-4a51-81fe-246cdb9393c9\" class=\"plotly-graph-div\" style=\"height:525px; width:100%;\"></div>            <script type=\"text/javascript\">                require([\"plotly\"], function(Plotly) {                    window.PLOTLYENV=window.PLOTLYENV || {};\n",
       "                    window.PLOTLYENV.BASE_URL='https://plot.ly';                                    if (document.getElementById(\"c60963f7-2546-4a51-81fe-246cdb9393c9\")) {                    Plotly.newPlot(                        \"c60963f7-2546-4a51-81fe-246cdb9393c9\",                        [{\"line\":{\"color\":\"rgba(255, 153, 51, 1.0)\",\"dash\":\"solid\",\"shape\":\"linear\",\"width\":1.3},\"marker\":{\"size\":10,\"symbol\":\"circle\"},\"mode\":\"markers\",\"name\":\"B\",\"text\":\"\",\"x\":[0.7705234898774278,-0.5896478916206093,0.17835405438999646,0.5963611453123362,1.7274565609395005,1.5421780537811438,1.628061239074311,-1.6996003095351457,0.4530517140462203,-0.05010402209357444,-0.6730349573592179,-0.505925008907118,1.5217444998825644,0.7830218517512779,0.2136415311917148,-0.5068968787431705,0.7238227873155504,-1.0524166058242228,0.5914587161087208,-2.148676705320432,-0.7343466366308768,-0.5943623139561683,-1.0583740994274637,0.7201107462148718,0.6603549547370541,0.8696266362093719,0.929244746991931,-0.47497605125261894,0.15404582729617616,-0.5917878555453583,0.3905984525454246,-0.4713030598853919,0.8700933287407903,-0.3415262616728389,-1.6728016113390374,0.2671229944566014,1.7640424596098119,0.07097350671730723,-0.19742298132391986,0.1702612515042837,-1.6394584554670721,-0.30406088152150856,-0.5416069186215873,-0.8513178826391808,-2.290646822512884,1.165929862213416,0.6878892903436499,-0.9795878322314134,0.211058793073966,0.7525561644401494,0.9141292435934405,1.0731670376288232,1.928115539184313,-1.0586469160156335,0.2493133435375463,1.0004543896878182,1.0654255989836823,1.514703842271405,-0.37229630884852305,1.4976291737398033,1.6088231464521767,0.1477979916712005,0.3398750970819321,-0.46002824476166554,-0.5551918306725362,-1.6155560991907183,-1.9556880291233207,0.7295946389464798,1.7254124803382753,1.7148315559047616,-0.10266094978445155,0.941879392537153,-1.8244418332264318,-0.13984057595098215,-1.4001826184089927,-0.6613228720419397,0.35870788958066135,-0.17741833189552075,1.4662471983332244,-1.6385294535708028,0.3379690245178709,0.22867327506198257,-0.21706300077687582,0.8480575702567326,-0.4687634196997417,-1.1569707233646864,-0.20439184269921234,0.6484691681289205,0.8247922039779939,0.7566534076986263,-0.47802065920583475,-0.37539515591956796,-0.19480019887372732,-0.8903694266829668,-1.158895906986244,-0.5966010935224592,-1.5444232357563994,1.1777548236526936,0.7616182066614193,0.5047518552082003],\"y\":[-1.936991487963092,-0.11569126822480842,-0.9675486848312903,-0.03570748738154921,1.152026157314478,-0.12020911095310927,0.9502929244024161,0.7776727947455804,-0.924013142703625,0.32050791426337977,-1.7597516309042502,-0.4491586351842661,0.290894990735173,-0.9770054854340499,-0.43590308062626865,-1.0944993413852326,-0.4916500092535971,-0.5123894614624396,-0.8467633894763315,-0.826901448085367,-1.4764740605909894,0.11068008983495835,0.28978668069622404,1.0992213648166544,0.7782339040585375,0.5465000218976769,0.3199898087610177,-0.18808464624135388,1.0568366529165245,0.1659244958695554,1.399625046098209,-0.5953007591936754,-0.5206373924693855,0.5801829129702887,0.6832679470816938,1.336260254421983,0.3015855846803247,2.6333464798146022,1.0731127971508758,1.7754932668329395,-2.0385225989590827,0.700761045294904,-0.20299627576017767,-0.020437457335589805,-0.4288836539011838,-0.13226991819424455,0.08764900440910976,-0.674794617002996,0.54043210088352,-0.4860642591960618,0.01366339696631474,1.3753034053891933,0.9162504634564674,-0.32492474812705857,-0.8736821112850072,-0.9934167604855684,-0.34446953444598993,-0.5349924240902536,-0.17457797518128212,-0.6100819152367105,-0.8044402168629541,-1.3249140922986007,-0.4794668006590733,-0.23943261051912887,0.8509726207184295,-0.06513782081526151,0.46049993220238744,1.3352421073022125,-1.870558997580458,0.5559619107977536,0.20130397456112806,0.6883136283856667,0.9348624859768491,0.7897466383010999,-0.11616726146529319,-0.6054411993072186,0.10644067632075262,-0.4346088114743291,-0.12828473246656533,-0.9665313520782338,1.151325789207208,2.201941374624922,-0.19188876859711448,-1.4442447516855943,-2.4301440173709588,0.46959226759189954,-0.27329631691061235,-0.01905773855042531,-0.8807242909845279,0.31128548580138216,-0.4314795761239597,0.26737467979074336,-0.44413081879029187,0.9075101453753525,-0.5403558802549625,0.4024911278983956,-0.08641759945373886,0.12791519183490496,-0.7033907085796087,-0.7884005843835954],\"type\":\"scatter\"}],                        {\"legend\":{\"bgcolor\":\"#F5F6F9\",\"font\":{\"color\":\"#4D5663\"}},\"paper_bgcolor\":\"#F5F6F9\",\"plot_bgcolor\":\"#F5F6F9\",\"template\":{\"data\":{\"barpolar\":[{\"marker\":{\"line\":{\"color\":\"#E5ECF6\",\"width\":0.5},\"pattern\":{\"fillmode\":\"overlay\",\"size\":10,\"solidity\":0.2}},\"type\":\"barpolar\"}],\"bar\":[{\"error_x\":{\"color\":\"#2a3f5f\"},\"error_y\":{\"color\":\"#2a3f5f\"},\"marker\":{\"line\":{\"color\":\"#E5ECF6\",\"width\":0.5},\"pattern\":{\"fillmode\":\"overlay\",\"size\":10,\"solidity\":0.2}},\"type\":\"bar\"}],\"carpet\":[{\"aaxis\":{\"endlinecolor\":\"#2a3f5f\",\"gridcolor\":\"white\",\"linecolor\":\"white\",\"minorgridcolor\":\"white\",\"startlinecolor\":\"#2a3f5f\"},\"baxis\":{\"endlinecolor\":\"#2a3f5f\",\"gridcolor\":\"white\",\"linecolor\":\"white\",\"minorgridcolor\":\"white\",\"startlinecolor\":\"#2a3f5f\"},\"type\":\"carpet\"}],\"choropleth\":[{\"colorbar\":{\"outlinewidth\":0,\"ticks\":\"\"},\"type\":\"choropleth\"}],\"contourcarpet\":[{\"colorbar\":{\"outlinewidth\":0,\"ticks\":\"\"},\"type\":\"contourcarpet\"}],\"contour\":[{\"colorbar\":{\"outlinewidth\":0,\"ticks\":\"\"},\"colorscale\":[[0.0,\"#0d0887\"],[0.1111111111111111,\"#46039f\"],[0.2222222222222222,\"#7201a8\"],[0.3333333333333333,\"#9c179e\"],[0.4444444444444444,\"#bd3786\"],[0.5555555555555556,\"#d8576b\"],[0.6666666666666666,\"#ed7953\"],[0.7777777777777778,\"#fb9f3a\"],[0.8888888888888888,\"#fdca26\"],[1.0,\"#f0f921\"]],\"type\":\"contour\"}],\"heatmapgl\":[{\"colorbar\":{\"outlinewidth\":0,\"ticks\":\"\"},\"colorscale\":[[0.0,\"#0d0887\"],[0.1111111111111111,\"#46039f\"],[0.2222222222222222,\"#7201a8\"],[0.3333333333333333,\"#9c179e\"],[0.4444444444444444,\"#bd3786\"],[0.5555555555555556,\"#d8576b\"],[0.6666666666666666,\"#ed7953\"],[0.7777777777777778,\"#fb9f3a\"],[0.8888888888888888,\"#fdca26\"],[1.0,\"#f0f921\"]],\"type\":\"heatmapgl\"}],\"heatmap\":[{\"colorbar\":{\"outlinewidth\":0,\"ticks\":\"\"},\"colorscale\":[[0.0,\"#0d0887\"],[0.1111111111111111,\"#46039f\"],[0.2222222222222222,\"#7201a8\"],[0.3333333333333333,\"#9c179e\"],[0.4444444444444444,\"#bd3786\"],[0.5555555555555556,\"#d8576b\"],[0.6666666666666666,\"#ed7953\"],[0.7777777777777778,\"#fb9f3a\"],[0.8888888888888888,\"#fdca26\"],[1.0,\"#f0f921\"]],\"type\":\"heatmap\"}],\"histogram2dcontour\":[{\"colorbar\":{\"outlinewidth\":0,\"ticks\":\"\"},\"colorscale\":[[0.0,\"#0d0887\"],[0.1111111111111111,\"#46039f\"],[0.2222222222222222,\"#7201a8\"],[0.3333333333333333,\"#9c179e\"],[0.4444444444444444,\"#bd3786\"],[0.5555555555555556,\"#d8576b\"],[0.6666666666666666,\"#ed7953\"],[0.7777777777777778,\"#fb9f3a\"],[0.8888888888888888,\"#fdca26\"],[1.0,\"#f0f921\"]],\"type\":\"histogram2dcontour\"}],\"histogram2d\":[{\"colorbar\":{\"outlinewidth\":0,\"ticks\":\"\"},\"colorscale\":[[0.0,\"#0d0887\"],[0.1111111111111111,\"#46039f\"],[0.2222222222222222,\"#7201a8\"],[0.3333333333333333,\"#9c179e\"],[0.4444444444444444,\"#bd3786\"],[0.5555555555555556,\"#d8576b\"],[0.6666666666666666,\"#ed7953\"],[0.7777777777777778,\"#fb9f3a\"],[0.8888888888888888,\"#fdca26\"],[1.0,\"#f0f921\"]],\"type\":\"histogram2d\"}],\"histogram\":[{\"marker\":{\"pattern\":{\"fillmode\":\"overlay\",\"size\":10,\"solidity\":0.2}},\"type\":\"histogram\"}],\"mesh3d\":[{\"colorbar\":{\"outlinewidth\":0,\"ticks\":\"\"},\"type\":\"mesh3d\"}],\"parcoords\":[{\"line\":{\"colorbar\":{\"outlinewidth\":0,\"ticks\":\"\"}},\"type\":\"parcoords\"}],\"pie\":[{\"automargin\":true,\"type\":\"pie\"}],\"scatter3d\":[{\"line\":{\"colorbar\":{\"outlinewidth\":0,\"ticks\":\"\"}},\"marker\":{\"colorbar\":{\"outlinewidth\":0,\"ticks\":\"\"}},\"type\":\"scatter3d\"}],\"scattercarpet\":[{\"marker\":{\"colorbar\":{\"outlinewidth\":0,\"ticks\":\"\"}},\"type\":\"scattercarpet\"}],\"scattergeo\":[{\"marker\":{\"colorbar\":{\"outlinewidth\":0,\"ticks\":\"\"}},\"type\":\"scattergeo\"}],\"scattergl\":[{\"marker\":{\"colorbar\":{\"outlinewidth\":0,\"ticks\":\"\"}},\"type\":\"scattergl\"}],\"scattermapbox\":[{\"marker\":{\"colorbar\":{\"outlinewidth\":0,\"ticks\":\"\"}},\"type\":\"scattermapbox\"}],\"scatterpolargl\":[{\"marker\":{\"colorbar\":{\"outlinewidth\":0,\"ticks\":\"\"}},\"type\":\"scatterpolargl\"}],\"scatterpolar\":[{\"marker\":{\"colorbar\":{\"outlinewidth\":0,\"ticks\":\"\"}},\"type\":\"scatterpolar\"}],\"scatter\":[{\"fillpattern\":{\"fillmode\":\"overlay\",\"size\":10,\"solidity\":0.2},\"type\":\"scatter\"}],\"scatterternary\":[{\"marker\":{\"colorbar\":{\"outlinewidth\":0,\"ticks\":\"\"}},\"type\":\"scatterternary\"}],\"surface\":[{\"colorbar\":{\"outlinewidth\":0,\"ticks\":\"\"},\"colorscale\":[[0.0,\"#0d0887\"],[0.1111111111111111,\"#46039f\"],[0.2222222222222222,\"#7201a8\"],[0.3333333333333333,\"#9c179e\"],[0.4444444444444444,\"#bd3786\"],[0.5555555555555556,\"#d8576b\"],[0.6666666666666666,\"#ed7953\"],[0.7777777777777778,\"#fb9f3a\"],[0.8888888888888888,\"#fdca26\"],[1.0,\"#f0f921\"]],\"type\":\"surface\"}],\"table\":[{\"cells\":{\"fill\":{\"color\":\"#EBF0F8\"},\"line\":{\"color\":\"white\"}},\"header\":{\"fill\":{\"color\":\"#C8D4E3\"},\"line\":{\"color\":\"white\"}},\"type\":\"table\"}]},\"layout\":{\"annotationdefaults\":{\"arrowcolor\":\"#2a3f5f\",\"arrowhead\":0,\"arrowwidth\":1},\"autotypenumbers\":\"strict\",\"coloraxis\":{\"colorbar\":{\"outlinewidth\":0,\"ticks\":\"\"}},\"colorscale\":{\"diverging\":[[0,\"#8e0152\"],[0.1,\"#c51b7d\"],[0.2,\"#de77ae\"],[0.3,\"#f1b6da\"],[0.4,\"#fde0ef\"],[0.5,\"#f7f7f7\"],[0.6,\"#e6f5d0\"],[0.7,\"#b8e186\"],[0.8,\"#7fbc41\"],[0.9,\"#4d9221\"],[1,\"#276419\"]],\"sequential\":[[0.0,\"#0d0887\"],[0.1111111111111111,\"#46039f\"],[0.2222222222222222,\"#7201a8\"],[0.3333333333333333,\"#9c179e\"],[0.4444444444444444,\"#bd3786\"],[0.5555555555555556,\"#d8576b\"],[0.6666666666666666,\"#ed7953\"],[0.7777777777777778,\"#fb9f3a\"],[0.8888888888888888,\"#fdca26\"],[1.0,\"#f0f921\"]],\"sequentialminus\":[[0.0,\"#0d0887\"],[0.1111111111111111,\"#46039f\"],[0.2222222222222222,\"#7201a8\"],[0.3333333333333333,\"#9c179e\"],[0.4444444444444444,\"#bd3786\"],[0.5555555555555556,\"#d8576b\"],[0.6666666666666666,\"#ed7953\"],[0.7777777777777778,\"#fb9f3a\"],[0.8888888888888888,\"#fdca26\"],[1.0,\"#f0f921\"]]},\"colorway\":[\"#636efa\",\"#EF553B\",\"#00cc96\",\"#ab63fa\",\"#FFA15A\",\"#19d3f3\",\"#FF6692\",\"#B6E880\",\"#FF97FF\",\"#FECB52\"],\"font\":{\"color\":\"#2a3f5f\"},\"geo\":{\"bgcolor\":\"white\",\"lakecolor\":\"white\",\"landcolor\":\"#E5ECF6\",\"showlakes\":true,\"showland\":true,\"subunitcolor\":\"white\"},\"hoverlabel\":{\"align\":\"left\"},\"hovermode\":\"closest\",\"mapbox\":{\"style\":\"light\"},\"paper_bgcolor\":\"white\",\"plot_bgcolor\":\"#E5ECF6\",\"polar\":{\"angularaxis\":{\"gridcolor\":\"white\",\"linecolor\":\"white\",\"ticks\":\"\"},\"bgcolor\":\"#E5ECF6\",\"radialaxis\":{\"gridcolor\":\"white\",\"linecolor\":\"white\",\"ticks\":\"\"}},\"scene\":{\"xaxis\":{\"backgroundcolor\":\"#E5ECF6\",\"gridcolor\":\"white\",\"gridwidth\":2,\"linecolor\":\"white\",\"showbackground\":true,\"ticks\":\"\",\"zerolinecolor\":\"white\"},\"yaxis\":{\"backgroundcolor\":\"#E5ECF6\",\"gridcolor\":\"white\",\"gridwidth\":2,\"linecolor\":\"white\",\"showbackground\":true,\"ticks\":\"\",\"zerolinecolor\":\"white\"},\"zaxis\":{\"backgroundcolor\":\"#E5ECF6\",\"gridcolor\":\"white\",\"gridwidth\":2,\"linecolor\":\"white\",\"showbackground\":true,\"ticks\":\"\",\"zerolinecolor\":\"white\"}},\"shapedefaults\":{\"line\":{\"color\":\"#2a3f5f\"}},\"ternary\":{\"aaxis\":{\"gridcolor\":\"white\",\"linecolor\":\"white\",\"ticks\":\"\"},\"baxis\":{\"gridcolor\":\"white\",\"linecolor\":\"white\",\"ticks\":\"\"},\"bgcolor\":\"#E5ECF6\",\"caxis\":{\"gridcolor\":\"white\",\"linecolor\":\"white\",\"ticks\":\"\"}},\"title\":{\"x\":0.05},\"xaxis\":{\"automargin\":true,\"gridcolor\":\"white\",\"linecolor\":\"white\",\"ticks\":\"\",\"title\":{\"standoff\":15},\"zerolinecolor\":\"white\",\"zerolinewidth\":2},\"yaxis\":{\"automargin\":true,\"gridcolor\":\"white\",\"linecolor\":\"white\",\"ticks\":\"\",\"title\":{\"standoff\":15},\"zerolinecolor\":\"white\",\"zerolinewidth\":2}}},\"title\":{\"font\":{\"color\":\"#4D5663\"}},\"xaxis\":{\"gridcolor\":\"#E1E5ED\",\"showgrid\":true,\"tickfont\":{\"color\":\"#4D5663\"},\"title\":{\"font\":{\"color\":\"#4D5663\"},\"text\":\"\"},\"zerolinecolor\":\"#E1E5ED\"},\"yaxis\":{\"gridcolor\":\"#E1E5ED\",\"showgrid\":true,\"tickfont\":{\"color\":\"#4D5663\"},\"title\":{\"font\":{\"color\":\"#4D5663\"},\"text\":\"\"},\"zerolinecolor\":\"#E1E5ED\"}},                        {\"showLink\": true, \"linkText\": \"Export to plot.ly\", \"plotlyServerURL\": \"https://plot.ly\", \"responsive\": true}                    ).then(function(){\n",
       "                            \n",
       "var gd = document.getElementById('c60963f7-2546-4a51-81fe-246cdb9393c9');\n",
       "var x = new MutationObserver(function (mutations, observer) {{\n",
       "        var display = window.getComputedStyle(gd).display;\n",
       "        if (!display || display === 'none') {{\n",
       "            console.log([gd, 'removed!']);\n",
       "            Plotly.purge(gd);\n",
       "            observer.disconnect();\n",
       "        }}\n",
       "}});\n",
       "\n",
       "// Listen for the removal of the full notebook cells\n",
       "var notebookContainer = gd.closest('#notebook-container');\n",
       "if (notebookContainer) {{\n",
       "    x.observe(notebookContainer, {childList: true});\n",
       "}}\n",
       "\n",
       "// Listen for the clearing of the current output cell\n",
       "var outputEl = gd.closest('.output');\n",
       "if (outputEl) {{\n",
       "    x.observe(outputEl, {childList: true});\n",
       "}}\n",
       "\n",
       "                        })                };                });            </script>        </div>"
      ]
     },
     "metadata": {},
     "output_type": "display_data"
    }
   ],
   "source": [
    "df.iplot(kind='scatter',x='A',y='B',mode='markers',size=10)"
   ]
  },
  {
   "cell_type": "markdown",
   "metadata": {},
   "source": [
    "## Bar Plots"
   ]
  },
  {
   "cell_type": "code",
   "execution_count": 12,
   "metadata": {},
   "outputs": [
    {
     "data": {
      "application/vnd.plotly.v1+json": {
       "config": {
        "linkText": "Export to plot.ly",
        "plotlyServerURL": "https://plot.ly",
        "showLink": true
       },
       "data": [
        {
         "marker": {
          "color": "rgba(255, 153, 51, 0.6)",
          "line": {
           "color": "rgba(255, 153, 51, 1.0)",
           "width": 1
          }
         },
         "name": "Values",
         "orientation": "v",
         "text": "",
         "type": "bar",
         "x": [
          "A",
          "B",
          "C"
         ],
         "y": [
          32,
          43,
          50
         ]
        }
       ],
       "layout": {
        "legend": {
         "bgcolor": "#F5F6F9",
         "font": {
          "color": "#4D5663"
         }
        },
        "paper_bgcolor": "#F5F6F9",
        "plot_bgcolor": "#F5F6F9",
        "template": {
         "data": {
          "bar": [
           {
            "error_x": {
             "color": "#2a3f5f"
            },
            "error_y": {
             "color": "#2a3f5f"
            },
            "marker": {
             "line": {
              "color": "#E5ECF6",
              "width": 0.5
             },
             "pattern": {
              "fillmode": "overlay",
              "size": 10,
              "solidity": 0.2
             }
            },
            "type": "bar"
           }
          ],
          "barpolar": [
           {
            "marker": {
             "line": {
              "color": "#E5ECF6",
              "width": 0.5
             },
             "pattern": {
              "fillmode": "overlay",
              "size": 10,
              "solidity": 0.2
             }
            },
            "type": "barpolar"
           }
          ],
          "carpet": [
           {
            "aaxis": {
             "endlinecolor": "#2a3f5f",
             "gridcolor": "white",
             "linecolor": "white",
             "minorgridcolor": "white",
             "startlinecolor": "#2a3f5f"
            },
            "baxis": {
             "endlinecolor": "#2a3f5f",
             "gridcolor": "white",
             "linecolor": "white",
             "minorgridcolor": "white",
             "startlinecolor": "#2a3f5f"
            },
            "type": "carpet"
           }
          ],
          "choropleth": [
           {
            "colorbar": {
             "outlinewidth": 0,
             "ticks": ""
            },
            "type": "choropleth"
           }
          ],
          "contour": [
           {
            "colorbar": {
             "outlinewidth": 0,
             "ticks": ""
            },
            "colorscale": [
             [
              0,
              "#0d0887"
             ],
             [
              0.1111111111111111,
              "#46039f"
             ],
             [
              0.2222222222222222,
              "#7201a8"
             ],
             [
              0.3333333333333333,
              "#9c179e"
             ],
             [
              0.4444444444444444,
              "#bd3786"
             ],
             [
              0.5555555555555556,
              "#d8576b"
             ],
             [
              0.6666666666666666,
              "#ed7953"
             ],
             [
              0.7777777777777778,
              "#fb9f3a"
             ],
             [
              0.8888888888888888,
              "#fdca26"
             ],
             [
              1,
              "#f0f921"
             ]
            ],
            "type": "contour"
           }
          ],
          "contourcarpet": [
           {
            "colorbar": {
             "outlinewidth": 0,
             "ticks": ""
            },
            "type": "contourcarpet"
           }
          ],
          "heatmap": [
           {
            "colorbar": {
             "outlinewidth": 0,
             "ticks": ""
            },
            "colorscale": [
             [
              0,
              "#0d0887"
             ],
             [
              0.1111111111111111,
              "#46039f"
             ],
             [
              0.2222222222222222,
              "#7201a8"
             ],
             [
              0.3333333333333333,
              "#9c179e"
             ],
             [
              0.4444444444444444,
              "#bd3786"
             ],
             [
              0.5555555555555556,
              "#d8576b"
             ],
             [
              0.6666666666666666,
              "#ed7953"
             ],
             [
              0.7777777777777778,
              "#fb9f3a"
             ],
             [
              0.8888888888888888,
              "#fdca26"
             ],
             [
              1,
              "#f0f921"
             ]
            ],
            "type": "heatmap"
           }
          ],
          "heatmapgl": [
           {
            "colorbar": {
             "outlinewidth": 0,
             "ticks": ""
            },
            "colorscale": [
             [
              0,
              "#0d0887"
             ],
             [
              0.1111111111111111,
              "#46039f"
             ],
             [
              0.2222222222222222,
              "#7201a8"
             ],
             [
              0.3333333333333333,
              "#9c179e"
             ],
             [
              0.4444444444444444,
              "#bd3786"
             ],
             [
              0.5555555555555556,
              "#d8576b"
             ],
             [
              0.6666666666666666,
              "#ed7953"
             ],
             [
              0.7777777777777778,
              "#fb9f3a"
             ],
             [
              0.8888888888888888,
              "#fdca26"
             ],
             [
              1,
              "#f0f921"
             ]
            ],
            "type": "heatmapgl"
           }
          ],
          "histogram": [
           {
            "marker": {
             "pattern": {
              "fillmode": "overlay",
              "size": 10,
              "solidity": 0.2
             }
            },
            "type": "histogram"
           }
          ],
          "histogram2d": [
           {
            "colorbar": {
             "outlinewidth": 0,
             "ticks": ""
            },
            "colorscale": [
             [
              0,
              "#0d0887"
             ],
             [
              0.1111111111111111,
              "#46039f"
             ],
             [
              0.2222222222222222,
              "#7201a8"
             ],
             [
              0.3333333333333333,
              "#9c179e"
             ],
             [
              0.4444444444444444,
              "#bd3786"
             ],
             [
              0.5555555555555556,
              "#d8576b"
             ],
             [
              0.6666666666666666,
              "#ed7953"
             ],
             [
              0.7777777777777778,
              "#fb9f3a"
             ],
             [
              0.8888888888888888,
              "#fdca26"
             ],
             [
              1,
              "#f0f921"
             ]
            ],
            "type": "histogram2d"
           }
          ],
          "histogram2dcontour": [
           {
            "colorbar": {
             "outlinewidth": 0,
             "ticks": ""
            },
            "colorscale": [
             [
              0,
              "#0d0887"
             ],
             [
              0.1111111111111111,
              "#46039f"
             ],
             [
              0.2222222222222222,
              "#7201a8"
             ],
             [
              0.3333333333333333,
              "#9c179e"
             ],
             [
              0.4444444444444444,
              "#bd3786"
             ],
             [
              0.5555555555555556,
              "#d8576b"
             ],
             [
              0.6666666666666666,
              "#ed7953"
             ],
             [
              0.7777777777777778,
              "#fb9f3a"
             ],
             [
              0.8888888888888888,
              "#fdca26"
             ],
             [
              1,
              "#f0f921"
             ]
            ],
            "type": "histogram2dcontour"
           }
          ],
          "mesh3d": [
           {
            "colorbar": {
             "outlinewidth": 0,
             "ticks": ""
            },
            "type": "mesh3d"
           }
          ],
          "parcoords": [
           {
            "line": {
             "colorbar": {
              "outlinewidth": 0,
              "ticks": ""
             }
            },
            "type": "parcoords"
           }
          ],
          "pie": [
           {
            "automargin": true,
            "type": "pie"
           }
          ],
          "scatter": [
           {
            "fillpattern": {
             "fillmode": "overlay",
             "size": 10,
             "solidity": 0.2
            },
            "type": "scatter"
           }
          ],
          "scatter3d": [
           {
            "line": {
             "colorbar": {
              "outlinewidth": 0,
              "ticks": ""
             }
            },
            "marker": {
             "colorbar": {
              "outlinewidth": 0,
              "ticks": ""
             }
            },
            "type": "scatter3d"
           }
          ],
          "scattercarpet": [
           {
            "marker": {
             "colorbar": {
              "outlinewidth": 0,
              "ticks": ""
             }
            },
            "type": "scattercarpet"
           }
          ],
          "scattergeo": [
           {
            "marker": {
             "colorbar": {
              "outlinewidth": 0,
              "ticks": ""
             }
            },
            "type": "scattergeo"
           }
          ],
          "scattergl": [
           {
            "marker": {
             "colorbar": {
              "outlinewidth": 0,
              "ticks": ""
             }
            },
            "type": "scattergl"
           }
          ],
          "scattermapbox": [
           {
            "marker": {
             "colorbar": {
              "outlinewidth": 0,
              "ticks": ""
             }
            },
            "type": "scattermapbox"
           }
          ],
          "scatterpolar": [
           {
            "marker": {
             "colorbar": {
              "outlinewidth": 0,
              "ticks": ""
             }
            },
            "type": "scatterpolar"
           }
          ],
          "scatterpolargl": [
           {
            "marker": {
             "colorbar": {
              "outlinewidth": 0,
              "ticks": ""
             }
            },
            "type": "scatterpolargl"
           }
          ],
          "scatterternary": [
           {
            "marker": {
             "colorbar": {
              "outlinewidth": 0,
              "ticks": ""
             }
            },
            "type": "scatterternary"
           }
          ],
          "surface": [
           {
            "colorbar": {
             "outlinewidth": 0,
             "ticks": ""
            },
            "colorscale": [
             [
              0,
              "#0d0887"
             ],
             [
              0.1111111111111111,
              "#46039f"
             ],
             [
              0.2222222222222222,
              "#7201a8"
             ],
             [
              0.3333333333333333,
              "#9c179e"
             ],
             [
              0.4444444444444444,
              "#bd3786"
             ],
             [
              0.5555555555555556,
              "#d8576b"
             ],
             [
              0.6666666666666666,
              "#ed7953"
             ],
             [
              0.7777777777777778,
              "#fb9f3a"
             ],
             [
              0.8888888888888888,
              "#fdca26"
             ],
             [
              1,
              "#f0f921"
             ]
            ],
            "type": "surface"
           }
          ],
          "table": [
           {
            "cells": {
             "fill": {
              "color": "#EBF0F8"
             },
             "line": {
              "color": "white"
             }
            },
            "header": {
             "fill": {
              "color": "#C8D4E3"
             },
             "line": {
              "color": "white"
             }
            },
            "type": "table"
           }
          ]
         },
         "layout": {
          "annotationdefaults": {
           "arrowcolor": "#2a3f5f",
           "arrowhead": 0,
           "arrowwidth": 1
          },
          "autotypenumbers": "strict",
          "coloraxis": {
           "colorbar": {
            "outlinewidth": 0,
            "ticks": ""
           }
          },
          "colorscale": {
           "diverging": [
            [
             0,
             "#8e0152"
            ],
            [
             0.1,
             "#c51b7d"
            ],
            [
             0.2,
             "#de77ae"
            ],
            [
             0.3,
             "#f1b6da"
            ],
            [
             0.4,
             "#fde0ef"
            ],
            [
             0.5,
             "#f7f7f7"
            ],
            [
             0.6,
             "#e6f5d0"
            ],
            [
             0.7,
             "#b8e186"
            ],
            [
             0.8,
             "#7fbc41"
            ],
            [
             0.9,
             "#4d9221"
            ],
            [
             1,
             "#276419"
            ]
           ],
           "sequential": [
            [
             0,
             "#0d0887"
            ],
            [
             0.1111111111111111,
             "#46039f"
            ],
            [
             0.2222222222222222,
             "#7201a8"
            ],
            [
             0.3333333333333333,
             "#9c179e"
            ],
            [
             0.4444444444444444,
             "#bd3786"
            ],
            [
             0.5555555555555556,
             "#d8576b"
            ],
            [
             0.6666666666666666,
             "#ed7953"
            ],
            [
             0.7777777777777778,
             "#fb9f3a"
            ],
            [
             0.8888888888888888,
             "#fdca26"
            ],
            [
             1,
             "#f0f921"
            ]
           ],
           "sequentialminus": [
            [
             0,
             "#0d0887"
            ],
            [
             0.1111111111111111,
             "#46039f"
            ],
            [
             0.2222222222222222,
             "#7201a8"
            ],
            [
             0.3333333333333333,
             "#9c179e"
            ],
            [
             0.4444444444444444,
             "#bd3786"
            ],
            [
             0.5555555555555556,
             "#d8576b"
            ],
            [
             0.6666666666666666,
             "#ed7953"
            ],
            [
             0.7777777777777778,
             "#fb9f3a"
            ],
            [
             0.8888888888888888,
             "#fdca26"
            ],
            [
             1,
             "#f0f921"
            ]
           ]
          },
          "colorway": [
           "#636efa",
           "#EF553B",
           "#00cc96",
           "#ab63fa",
           "#FFA15A",
           "#19d3f3",
           "#FF6692",
           "#B6E880",
           "#FF97FF",
           "#FECB52"
          ],
          "font": {
           "color": "#2a3f5f"
          },
          "geo": {
           "bgcolor": "white",
           "lakecolor": "white",
           "landcolor": "#E5ECF6",
           "showlakes": true,
           "showland": true,
           "subunitcolor": "white"
          },
          "hoverlabel": {
           "align": "left"
          },
          "hovermode": "closest",
          "mapbox": {
           "style": "light"
          },
          "paper_bgcolor": "white",
          "plot_bgcolor": "#E5ECF6",
          "polar": {
           "angularaxis": {
            "gridcolor": "white",
            "linecolor": "white",
            "ticks": ""
           },
           "bgcolor": "#E5ECF6",
           "radialaxis": {
            "gridcolor": "white",
            "linecolor": "white",
            "ticks": ""
           }
          },
          "scene": {
           "xaxis": {
            "backgroundcolor": "#E5ECF6",
            "gridcolor": "white",
            "gridwidth": 2,
            "linecolor": "white",
            "showbackground": true,
            "ticks": "",
            "zerolinecolor": "white"
           },
           "yaxis": {
            "backgroundcolor": "#E5ECF6",
            "gridcolor": "white",
            "gridwidth": 2,
            "linecolor": "white",
            "showbackground": true,
            "ticks": "",
            "zerolinecolor": "white"
           },
           "zaxis": {
            "backgroundcolor": "#E5ECF6",
            "gridcolor": "white",
            "gridwidth": 2,
            "linecolor": "white",
            "showbackground": true,
            "ticks": "",
            "zerolinecolor": "white"
           }
          },
          "shapedefaults": {
           "line": {
            "color": "#2a3f5f"
           }
          },
          "ternary": {
           "aaxis": {
            "gridcolor": "white",
            "linecolor": "white",
            "ticks": ""
           },
           "baxis": {
            "gridcolor": "white",
            "linecolor": "white",
            "ticks": ""
           },
           "bgcolor": "#E5ECF6",
           "caxis": {
            "gridcolor": "white",
            "linecolor": "white",
            "ticks": ""
           }
          },
          "title": {
           "x": 0.05
          },
          "xaxis": {
           "automargin": true,
           "gridcolor": "white",
           "linecolor": "white",
           "ticks": "",
           "title": {
            "standoff": 15
           },
           "zerolinecolor": "white",
           "zerolinewidth": 2
          },
          "yaxis": {
           "automargin": true,
           "gridcolor": "white",
           "linecolor": "white",
           "ticks": "",
           "title": {
            "standoff": 15
           },
           "zerolinecolor": "white",
           "zerolinewidth": 2
          }
         }
        },
        "title": {
         "font": {
          "color": "#4D5663"
         }
        },
        "xaxis": {
         "gridcolor": "#E1E5ED",
         "showgrid": true,
         "tickfont": {
          "color": "#4D5663"
         },
         "title": {
          "font": {
           "color": "#4D5663"
          },
          "text": ""
         },
         "zerolinecolor": "#E1E5ED"
        },
        "yaxis": {
         "gridcolor": "#E1E5ED",
         "showgrid": true,
         "tickfont": {
          "color": "#4D5663"
         },
         "title": {
          "font": {
           "color": "#4D5663"
          },
          "text": ""
         },
         "zerolinecolor": "#E1E5ED"
        }
       }
      },
      "text/html": [
       "<div>                            <div id=\"b9bec897-53fb-40ea-ad2d-002828a029fb\" class=\"plotly-graph-div\" style=\"height:525px; width:100%;\"></div>            <script type=\"text/javascript\">                require([\"plotly\"], function(Plotly) {                    window.PLOTLYENV=window.PLOTLYENV || {};\n",
       "                    window.PLOTLYENV.BASE_URL='https://plot.ly';                                    if (document.getElementById(\"b9bec897-53fb-40ea-ad2d-002828a029fb\")) {                    Plotly.newPlot(                        \"b9bec897-53fb-40ea-ad2d-002828a029fb\",                        [{\"marker\":{\"color\":\"rgba(255, 153, 51, 0.6)\",\"line\":{\"color\":\"rgba(255, 153, 51, 1.0)\",\"width\":1}},\"name\":\"Values\",\"orientation\":\"v\",\"text\":\"\",\"x\":[\"A\",\"B\",\"C\"],\"y\":[32,43,50],\"type\":\"bar\"}],                        {\"legend\":{\"bgcolor\":\"#F5F6F9\",\"font\":{\"color\":\"#4D5663\"}},\"paper_bgcolor\":\"#F5F6F9\",\"plot_bgcolor\":\"#F5F6F9\",\"template\":{\"data\":{\"barpolar\":[{\"marker\":{\"line\":{\"color\":\"#E5ECF6\",\"width\":0.5},\"pattern\":{\"fillmode\":\"overlay\",\"size\":10,\"solidity\":0.2}},\"type\":\"barpolar\"}],\"bar\":[{\"error_x\":{\"color\":\"#2a3f5f\"},\"error_y\":{\"color\":\"#2a3f5f\"},\"marker\":{\"line\":{\"color\":\"#E5ECF6\",\"width\":0.5},\"pattern\":{\"fillmode\":\"overlay\",\"size\":10,\"solidity\":0.2}},\"type\":\"bar\"}],\"carpet\":[{\"aaxis\":{\"endlinecolor\":\"#2a3f5f\",\"gridcolor\":\"white\",\"linecolor\":\"white\",\"minorgridcolor\":\"white\",\"startlinecolor\":\"#2a3f5f\"},\"baxis\":{\"endlinecolor\":\"#2a3f5f\",\"gridcolor\":\"white\",\"linecolor\":\"white\",\"minorgridcolor\":\"white\",\"startlinecolor\":\"#2a3f5f\"},\"type\":\"carpet\"}],\"choropleth\":[{\"colorbar\":{\"outlinewidth\":0,\"ticks\":\"\"},\"type\":\"choropleth\"}],\"contourcarpet\":[{\"colorbar\":{\"outlinewidth\":0,\"ticks\":\"\"},\"type\":\"contourcarpet\"}],\"contour\":[{\"colorbar\":{\"outlinewidth\":0,\"ticks\":\"\"},\"colorscale\":[[0.0,\"#0d0887\"],[0.1111111111111111,\"#46039f\"],[0.2222222222222222,\"#7201a8\"],[0.3333333333333333,\"#9c179e\"],[0.4444444444444444,\"#bd3786\"],[0.5555555555555556,\"#d8576b\"],[0.6666666666666666,\"#ed7953\"],[0.7777777777777778,\"#fb9f3a\"],[0.8888888888888888,\"#fdca26\"],[1.0,\"#f0f921\"]],\"type\":\"contour\"}],\"heatmapgl\":[{\"colorbar\":{\"outlinewidth\":0,\"ticks\":\"\"},\"colorscale\":[[0.0,\"#0d0887\"],[0.1111111111111111,\"#46039f\"],[0.2222222222222222,\"#7201a8\"],[0.3333333333333333,\"#9c179e\"],[0.4444444444444444,\"#bd3786\"],[0.5555555555555556,\"#d8576b\"],[0.6666666666666666,\"#ed7953\"],[0.7777777777777778,\"#fb9f3a\"],[0.8888888888888888,\"#fdca26\"],[1.0,\"#f0f921\"]],\"type\":\"heatmapgl\"}],\"heatmap\":[{\"colorbar\":{\"outlinewidth\":0,\"ticks\":\"\"},\"colorscale\":[[0.0,\"#0d0887\"],[0.1111111111111111,\"#46039f\"],[0.2222222222222222,\"#7201a8\"],[0.3333333333333333,\"#9c179e\"],[0.4444444444444444,\"#bd3786\"],[0.5555555555555556,\"#d8576b\"],[0.6666666666666666,\"#ed7953\"],[0.7777777777777778,\"#fb9f3a\"],[0.8888888888888888,\"#fdca26\"],[1.0,\"#f0f921\"]],\"type\":\"heatmap\"}],\"histogram2dcontour\":[{\"colorbar\":{\"outlinewidth\":0,\"ticks\":\"\"},\"colorscale\":[[0.0,\"#0d0887\"],[0.1111111111111111,\"#46039f\"],[0.2222222222222222,\"#7201a8\"],[0.3333333333333333,\"#9c179e\"],[0.4444444444444444,\"#bd3786\"],[0.5555555555555556,\"#d8576b\"],[0.6666666666666666,\"#ed7953\"],[0.7777777777777778,\"#fb9f3a\"],[0.8888888888888888,\"#fdca26\"],[1.0,\"#f0f921\"]],\"type\":\"histogram2dcontour\"}],\"histogram2d\":[{\"colorbar\":{\"outlinewidth\":0,\"ticks\":\"\"},\"colorscale\":[[0.0,\"#0d0887\"],[0.1111111111111111,\"#46039f\"],[0.2222222222222222,\"#7201a8\"],[0.3333333333333333,\"#9c179e\"],[0.4444444444444444,\"#bd3786\"],[0.5555555555555556,\"#d8576b\"],[0.6666666666666666,\"#ed7953\"],[0.7777777777777778,\"#fb9f3a\"],[0.8888888888888888,\"#fdca26\"],[1.0,\"#f0f921\"]],\"type\":\"histogram2d\"}],\"histogram\":[{\"marker\":{\"pattern\":{\"fillmode\":\"overlay\",\"size\":10,\"solidity\":0.2}},\"type\":\"histogram\"}],\"mesh3d\":[{\"colorbar\":{\"outlinewidth\":0,\"ticks\":\"\"},\"type\":\"mesh3d\"}],\"parcoords\":[{\"line\":{\"colorbar\":{\"outlinewidth\":0,\"ticks\":\"\"}},\"type\":\"parcoords\"}],\"pie\":[{\"automargin\":true,\"type\":\"pie\"}],\"scatter3d\":[{\"line\":{\"colorbar\":{\"outlinewidth\":0,\"ticks\":\"\"}},\"marker\":{\"colorbar\":{\"outlinewidth\":0,\"ticks\":\"\"}},\"type\":\"scatter3d\"}],\"scattercarpet\":[{\"marker\":{\"colorbar\":{\"outlinewidth\":0,\"ticks\":\"\"}},\"type\":\"scattercarpet\"}],\"scattergeo\":[{\"marker\":{\"colorbar\":{\"outlinewidth\":0,\"ticks\":\"\"}},\"type\":\"scattergeo\"}],\"scattergl\":[{\"marker\":{\"colorbar\":{\"outlinewidth\":0,\"ticks\":\"\"}},\"type\":\"scattergl\"}],\"scattermapbox\":[{\"marker\":{\"colorbar\":{\"outlinewidth\":0,\"ticks\":\"\"}},\"type\":\"scattermapbox\"}],\"scatterpolargl\":[{\"marker\":{\"colorbar\":{\"outlinewidth\":0,\"ticks\":\"\"}},\"type\":\"scatterpolargl\"}],\"scatterpolar\":[{\"marker\":{\"colorbar\":{\"outlinewidth\":0,\"ticks\":\"\"}},\"type\":\"scatterpolar\"}],\"scatter\":[{\"fillpattern\":{\"fillmode\":\"overlay\",\"size\":10,\"solidity\":0.2},\"type\":\"scatter\"}],\"scatterternary\":[{\"marker\":{\"colorbar\":{\"outlinewidth\":0,\"ticks\":\"\"}},\"type\":\"scatterternary\"}],\"surface\":[{\"colorbar\":{\"outlinewidth\":0,\"ticks\":\"\"},\"colorscale\":[[0.0,\"#0d0887\"],[0.1111111111111111,\"#46039f\"],[0.2222222222222222,\"#7201a8\"],[0.3333333333333333,\"#9c179e\"],[0.4444444444444444,\"#bd3786\"],[0.5555555555555556,\"#d8576b\"],[0.6666666666666666,\"#ed7953\"],[0.7777777777777778,\"#fb9f3a\"],[0.8888888888888888,\"#fdca26\"],[1.0,\"#f0f921\"]],\"type\":\"surface\"}],\"table\":[{\"cells\":{\"fill\":{\"color\":\"#EBF0F8\"},\"line\":{\"color\":\"white\"}},\"header\":{\"fill\":{\"color\":\"#C8D4E3\"},\"line\":{\"color\":\"white\"}},\"type\":\"table\"}]},\"layout\":{\"annotationdefaults\":{\"arrowcolor\":\"#2a3f5f\",\"arrowhead\":0,\"arrowwidth\":1},\"autotypenumbers\":\"strict\",\"coloraxis\":{\"colorbar\":{\"outlinewidth\":0,\"ticks\":\"\"}},\"colorscale\":{\"diverging\":[[0,\"#8e0152\"],[0.1,\"#c51b7d\"],[0.2,\"#de77ae\"],[0.3,\"#f1b6da\"],[0.4,\"#fde0ef\"],[0.5,\"#f7f7f7\"],[0.6,\"#e6f5d0\"],[0.7,\"#b8e186\"],[0.8,\"#7fbc41\"],[0.9,\"#4d9221\"],[1,\"#276419\"]],\"sequential\":[[0.0,\"#0d0887\"],[0.1111111111111111,\"#46039f\"],[0.2222222222222222,\"#7201a8\"],[0.3333333333333333,\"#9c179e\"],[0.4444444444444444,\"#bd3786\"],[0.5555555555555556,\"#d8576b\"],[0.6666666666666666,\"#ed7953\"],[0.7777777777777778,\"#fb9f3a\"],[0.8888888888888888,\"#fdca26\"],[1.0,\"#f0f921\"]],\"sequentialminus\":[[0.0,\"#0d0887\"],[0.1111111111111111,\"#46039f\"],[0.2222222222222222,\"#7201a8\"],[0.3333333333333333,\"#9c179e\"],[0.4444444444444444,\"#bd3786\"],[0.5555555555555556,\"#d8576b\"],[0.6666666666666666,\"#ed7953\"],[0.7777777777777778,\"#fb9f3a\"],[0.8888888888888888,\"#fdca26\"],[1.0,\"#f0f921\"]]},\"colorway\":[\"#636efa\",\"#EF553B\",\"#00cc96\",\"#ab63fa\",\"#FFA15A\",\"#19d3f3\",\"#FF6692\",\"#B6E880\",\"#FF97FF\",\"#FECB52\"],\"font\":{\"color\":\"#2a3f5f\"},\"geo\":{\"bgcolor\":\"white\",\"lakecolor\":\"white\",\"landcolor\":\"#E5ECF6\",\"showlakes\":true,\"showland\":true,\"subunitcolor\":\"white\"},\"hoverlabel\":{\"align\":\"left\"},\"hovermode\":\"closest\",\"mapbox\":{\"style\":\"light\"},\"paper_bgcolor\":\"white\",\"plot_bgcolor\":\"#E5ECF6\",\"polar\":{\"angularaxis\":{\"gridcolor\":\"white\",\"linecolor\":\"white\",\"ticks\":\"\"},\"bgcolor\":\"#E5ECF6\",\"radialaxis\":{\"gridcolor\":\"white\",\"linecolor\":\"white\",\"ticks\":\"\"}},\"scene\":{\"xaxis\":{\"backgroundcolor\":\"#E5ECF6\",\"gridcolor\":\"white\",\"gridwidth\":2,\"linecolor\":\"white\",\"showbackground\":true,\"ticks\":\"\",\"zerolinecolor\":\"white\"},\"yaxis\":{\"backgroundcolor\":\"#E5ECF6\",\"gridcolor\":\"white\",\"gridwidth\":2,\"linecolor\":\"white\",\"showbackground\":true,\"ticks\":\"\",\"zerolinecolor\":\"white\"},\"zaxis\":{\"backgroundcolor\":\"#E5ECF6\",\"gridcolor\":\"white\",\"gridwidth\":2,\"linecolor\":\"white\",\"showbackground\":true,\"ticks\":\"\",\"zerolinecolor\":\"white\"}},\"shapedefaults\":{\"line\":{\"color\":\"#2a3f5f\"}},\"ternary\":{\"aaxis\":{\"gridcolor\":\"white\",\"linecolor\":\"white\",\"ticks\":\"\"},\"baxis\":{\"gridcolor\":\"white\",\"linecolor\":\"white\",\"ticks\":\"\"},\"bgcolor\":\"#E5ECF6\",\"caxis\":{\"gridcolor\":\"white\",\"linecolor\":\"white\",\"ticks\":\"\"}},\"title\":{\"x\":0.05},\"xaxis\":{\"automargin\":true,\"gridcolor\":\"white\",\"linecolor\":\"white\",\"ticks\":\"\",\"title\":{\"standoff\":15},\"zerolinecolor\":\"white\",\"zerolinewidth\":2},\"yaxis\":{\"automargin\":true,\"gridcolor\":\"white\",\"linecolor\":\"white\",\"ticks\":\"\",\"title\":{\"standoff\":15},\"zerolinecolor\":\"white\",\"zerolinewidth\":2}}},\"title\":{\"font\":{\"color\":\"#4D5663\"}},\"xaxis\":{\"gridcolor\":\"#E1E5ED\",\"showgrid\":true,\"tickfont\":{\"color\":\"#4D5663\"},\"title\":{\"font\":{\"color\":\"#4D5663\"},\"text\":\"\"},\"zerolinecolor\":\"#E1E5ED\"},\"yaxis\":{\"gridcolor\":\"#E1E5ED\",\"showgrid\":true,\"tickfont\":{\"color\":\"#4D5663\"},\"title\":{\"font\":{\"color\":\"#4D5663\"},\"text\":\"\"},\"zerolinecolor\":\"#E1E5ED\"}},                        {\"showLink\": true, \"linkText\": \"Export to plot.ly\", \"plotlyServerURL\": \"https://plot.ly\", \"responsive\": true}                    ).then(function(){\n",
       "                            \n",
       "var gd = document.getElementById('b9bec897-53fb-40ea-ad2d-002828a029fb');\n",
       "var x = new MutationObserver(function (mutations, observer) {{\n",
       "        var display = window.getComputedStyle(gd).display;\n",
       "        if (!display || display === 'none') {{\n",
       "            console.log([gd, 'removed!']);\n",
       "            Plotly.purge(gd);\n",
       "            observer.disconnect();\n",
       "        }}\n",
       "}});\n",
       "\n",
       "// Listen for the removal of the full notebook cells\n",
       "var notebookContainer = gd.closest('#notebook-container');\n",
       "if (notebookContainer) {{\n",
       "    x.observe(notebookContainer, {childList: true});\n",
       "}}\n",
       "\n",
       "// Listen for the clearing of the current output cell\n",
       "var outputEl = gd.closest('.output');\n",
       "if (outputEl) {{\n",
       "    x.observe(outputEl, {childList: true});\n",
       "}}\n",
       "\n",
       "                        })                };                });            </script>        </div>"
      ]
     },
     "metadata": {},
     "output_type": "display_data"
    }
   ],
   "source": [
    "df2.iplot(kind='bar',x='Category',y='Values')"
   ]
  },
  {
   "cell_type": "code",
   "execution_count": 14,
   "metadata": {},
   "outputs": [
    {
     "data": {
      "application/vnd.plotly.v1+json": {
       "config": {
        "linkText": "Export to plot.ly",
        "plotlyServerURL": "https://plot.ly",
        "showLink": true
       },
       "data": [
        {
         "marker": {
          "color": "rgba(255, 153, 51, 0.6)",
          "line": {
           "color": "rgba(255, 153, 51, 1.0)",
           "width": 1
          }
         },
         "name": "None",
         "orientation": "v",
         "text": "",
         "type": "bar",
         "x": [
          "A",
          "B",
          "C",
          "D"
         ],
         "y": [
          100,
          100,
          100,
          100
         ]
        }
       ],
       "layout": {
        "legend": {
         "bgcolor": "#F5F6F9",
         "font": {
          "color": "#4D5663"
         }
        },
        "paper_bgcolor": "#F5F6F9",
        "plot_bgcolor": "#F5F6F9",
        "template": {
         "data": {
          "bar": [
           {
            "error_x": {
             "color": "#2a3f5f"
            },
            "error_y": {
             "color": "#2a3f5f"
            },
            "marker": {
             "line": {
              "color": "#E5ECF6",
              "width": 0.5
             },
             "pattern": {
              "fillmode": "overlay",
              "size": 10,
              "solidity": 0.2
             }
            },
            "type": "bar"
           }
          ],
          "barpolar": [
           {
            "marker": {
             "line": {
              "color": "#E5ECF6",
              "width": 0.5
             },
             "pattern": {
              "fillmode": "overlay",
              "size": 10,
              "solidity": 0.2
             }
            },
            "type": "barpolar"
           }
          ],
          "carpet": [
           {
            "aaxis": {
             "endlinecolor": "#2a3f5f",
             "gridcolor": "white",
             "linecolor": "white",
             "minorgridcolor": "white",
             "startlinecolor": "#2a3f5f"
            },
            "baxis": {
             "endlinecolor": "#2a3f5f",
             "gridcolor": "white",
             "linecolor": "white",
             "minorgridcolor": "white",
             "startlinecolor": "#2a3f5f"
            },
            "type": "carpet"
           }
          ],
          "choropleth": [
           {
            "colorbar": {
             "outlinewidth": 0,
             "ticks": ""
            },
            "type": "choropleth"
           }
          ],
          "contour": [
           {
            "colorbar": {
             "outlinewidth": 0,
             "ticks": ""
            },
            "colorscale": [
             [
              0,
              "#0d0887"
             ],
             [
              0.1111111111111111,
              "#46039f"
             ],
             [
              0.2222222222222222,
              "#7201a8"
             ],
             [
              0.3333333333333333,
              "#9c179e"
             ],
             [
              0.4444444444444444,
              "#bd3786"
             ],
             [
              0.5555555555555556,
              "#d8576b"
             ],
             [
              0.6666666666666666,
              "#ed7953"
             ],
             [
              0.7777777777777778,
              "#fb9f3a"
             ],
             [
              0.8888888888888888,
              "#fdca26"
             ],
             [
              1,
              "#f0f921"
             ]
            ],
            "type": "contour"
           }
          ],
          "contourcarpet": [
           {
            "colorbar": {
             "outlinewidth": 0,
             "ticks": ""
            },
            "type": "contourcarpet"
           }
          ],
          "heatmap": [
           {
            "colorbar": {
             "outlinewidth": 0,
             "ticks": ""
            },
            "colorscale": [
             [
              0,
              "#0d0887"
             ],
             [
              0.1111111111111111,
              "#46039f"
             ],
             [
              0.2222222222222222,
              "#7201a8"
             ],
             [
              0.3333333333333333,
              "#9c179e"
             ],
             [
              0.4444444444444444,
              "#bd3786"
             ],
             [
              0.5555555555555556,
              "#d8576b"
             ],
             [
              0.6666666666666666,
              "#ed7953"
             ],
             [
              0.7777777777777778,
              "#fb9f3a"
             ],
             [
              0.8888888888888888,
              "#fdca26"
             ],
             [
              1,
              "#f0f921"
             ]
            ],
            "type": "heatmap"
           }
          ],
          "heatmapgl": [
           {
            "colorbar": {
             "outlinewidth": 0,
             "ticks": ""
            },
            "colorscale": [
             [
              0,
              "#0d0887"
             ],
             [
              0.1111111111111111,
              "#46039f"
             ],
             [
              0.2222222222222222,
              "#7201a8"
             ],
             [
              0.3333333333333333,
              "#9c179e"
             ],
             [
              0.4444444444444444,
              "#bd3786"
             ],
             [
              0.5555555555555556,
              "#d8576b"
             ],
             [
              0.6666666666666666,
              "#ed7953"
             ],
             [
              0.7777777777777778,
              "#fb9f3a"
             ],
             [
              0.8888888888888888,
              "#fdca26"
             ],
             [
              1,
              "#f0f921"
             ]
            ],
            "type": "heatmapgl"
           }
          ],
          "histogram": [
           {
            "marker": {
             "pattern": {
              "fillmode": "overlay",
              "size": 10,
              "solidity": 0.2
             }
            },
            "type": "histogram"
           }
          ],
          "histogram2d": [
           {
            "colorbar": {
             "outlinewidth": 0,
             "ticks": ""
            },
            "colorscale": [
             [
              0,
              "#0d0887"
             ],
             [
              0.1111111111111111,
              "#46039f"
             ],
             [
              0.2222222222222222,
              "#7201a8"
             ],
             [
              0.3333333333333333,
              "#9c179e"
             ],
             [
              0.4444444444444444,
              "#bd3786"
             ],
             [
              0.5555555555555556,
              "#d8576b"
             ],
             [
              0.6666666666666666,
              "#ed7953"
             ],
             [
              0.7777777777777778,
              "#fb9f3a"
             ],
             [
              0.8888888888888888,
              "#fdca26"
             ],
             [
              1,
              "#f0f921"
             ]
            ],
            "type": "histogram2d"
           }
          ],
          "histogram2dcontour": [
           {
            "colorbar": {
             "outlinewidth": 0,
             "ticks": ""
            },
            "colorscale": [
             [
              0,
              "#0d0887"
             ],
             [
              0.1111111111111111,
              "#46039f"
             ],
             [
              0.2222222222222222,
              "#7201a8"
             ],
             [
              0.3333333333333333,
              "#9c179e"
             ],
             [
              0.4444444444444444,
              "#bd3786"
             ],
             [
              0.5555555555555556,
              "#d8576b"
             ],
             [
              0.6666666666666666,
              "#ed7953"
             ],
             [
              0.7777777777777778,
              "#fb9f3a"
             ],
             [
              0.8888888888888888,
              "#fdca26"
             ],
             [
              1,
              "#f0f921"
             ]
            ],
            "type": "histogram2dcontour"
           }
          ],
          "mesh3d": [
           {
            "colorbar": {
             "outlinewidth": 0,
             "ticks": ""
            },
            "type": "mesh3d"
           }
          ],
          "parcoords": [
           {
            "line": {
             "colorbar": {
              "outlinewidth": 0,
              "ticks": ""
             }
            },
            "type": "parcoords"
           }
          ],
          "pie": [
           {
            "automargin": true,
            "type": "pie"
           }
          ],
          "scatter": [
           {
            "fillpattern": {
             "fillmode": "overlay",
             "size": 10,
             "solidity": 0.2
            },
            "type": "scatter"
           }
          ],
          "scatter3d": [
           {
            "line": {
             "colorbar": {
              "outlinewidth": 0,
              "ticks": ""
             }
            },
            "marker": {
             "colorbar": {
              "outlinewidth": 0,
              "ticks": ""
             }
            },
            "type": "scatter3d"
           }
          ],
          "scattercarpet": [
           {
            "marker": {
             "colorbar": {
              "outlinewidth": 0,
              "ticks": ""
             }
            },
            "type": "scattercarpet"
           }
          ],
          "scattergeo": [
           {
            "marker": {
             "colorbar": {
              "outlinewidth": 0,
              "ticks": ""
             }
            },
            "type": "scattergeo"
           }
          ],
          "scattergl": [
           {
            "marker": {
             "colorbar": {
              "outlinewidth": 0,
              "ticks": ""
             }
            },
            "type": "scattergl"
           }
          ],
          "scattermapbox": [
           {
            "marker": {
             "colorbar": {
              "outlinewidth": 0,
              "ticks": ""
             }
            },
            "type": "scattermapbox"
           }
          ],
          "scatterpolar": [
           {
            "marker": {
             "colorbar": {
              "outlinewidth": 0,
              "ticks": ""
             }
            },
            "type": "scatterpolar"
           }
          ],
          "scatterpolargl": [
           {
            "marker": {
             "colorbar": {
              "outlinewidth": 0,
              "ticks": ""
             }
            },
            "type": "scatterpolargl"
           }
          ],
          "scatterternary": [
           {
            "marker": {
             "colorbar": {
              "outlinewidth": 0,
              "ticks": ""
             }
            },
            "type": "scatterternary"
           }
          ],
          "surface": [
           {
            "colorbar": {
             "outlinewidth": 0,
             "ticks": ""
            },
            "colorscale": [
             [
              0,
              "#0d0887"
             ],
             [
              0.1111111111111111,
              "#46039f"
             ],
             [
              0.2222222222222222,
              "#7201a8"
             ],
             [
              0.3333333333333333,
              "#9c179e"
             ],
             [
              0.4444444444444444,
              "#bd3786"
             ],
             [
              0.5555555555555556,
              "#d8576b"
             ],
             [
              0.6666666666666666,
              "#ed7953"
             ],
             [
              0.7777777777777778,
              "#fb9f3a"
             ],
             [
              0.8888888888888888,
              "#fdca26"
             ],
             [
              1,
              "#f0f921"
             ]
            ],
            "type": "surface"
           }
          ],
          "table": [
           {
            "cells": {
             "fill": {
              "color": "#EBF0F8"
             },
             "line": {
              "color": "white"
             }
            },
            "header": {
             "fill": {
              "color": "#C8D4E3"
             },
             "line": {
              "color": "white"
             }
            },
            "type": "table"
           }
          ]
         },
         "layout": {
          "annotationdefaults": {
           "arrowcolor": "#2a3f5f",
           "arrowhead": 0,
           "arrowwidth": 1
          },
          "autotypenumbers": "strict",
          "coloraxis": {
           "colorbar": {
            "outlinewidth": 0,
            "ticks": ""
           }
          },
          "colorscale": {
           "diverging": [
            [
             0,
             "#8e0152"
            ],
            [
             0.1,
             "#c51b7d"
            ],
            [
             0.2,
             "#de77ae"
            ],
            [
             0.3,
             "#f1b6da"
            ],
            [
             0.4,
             "#fde0ef"
            ],
            [
             0.5,
             "#f7f7f7"
            ],
            [
             0.6,
             "#e6f5d0"
            ],
            [
             0.7,
             "#b8e186"
            ],
            [
             0.8,
             "#7fbc41"
            ],
            [
             0.9,
             "#4d9221"
            ],
            [
             1,
             "#276419"
            ]
           ],
           "sequential": [
            [
             0,
             "#0d0887"
            ],
            [
             0.1111111111111111,
             "#46039f"
            ],
            [
             0.2222222222222222,
             "#7201a8"
            ],
            [
             0.3333333333333333,
             "#9c179e"
            ],
            [
             0.4444444444444444,
             "#bd3786"
            ],
            [
             0.5555555555555556,
             "#d8576b"
            ],
            [
             0.6666666666666666,
             "#ed7953"
            ],
            [
             0.7777777777777778,
             "#fb9f3a"
            ],
            [
             0.8888888888888888,
             "#fdca26"
            ],
            [
             1,
             "#f0f921"
            ]
           ],
           "sequentialminus": [
            [
             0,
             "#0d0887"
            ],
            [
             0.1111111111111111,
             "#46039f"
            ],
            [
             0.2222222222222222,
             "#7201a8"
            ],
            [
             0.3333333333333333,
             "#9c179e"
            ],
            [
             0.4444444444444444,
             "#bd3786"
            ],
            [
             0.5555555555555556,
             "#d8576b"
            ],
            [
             0.6666666666666666,
             "#ed7953"
            ],
            [
             0.7777777777777778,
             "#fb9f3a"
            ],
            [
             0.8888888888888888,
             "#fdca26"
            ],
            [
             1,
             "#f0f921"
            ]
           ]
          },
          "colorway": [
           "#636efa",
           "#EF553B",
           "#00cc96",
           "#ab63fa",
           "#FFA15A",
           "#19d3f3",
           "#FF6692",
           "#B6E880",
           "#FF97FF",
           "#FECB52"
          ],
          "font": {
           "color": "#2a3f5f"
          },
          "geo": {
           "bgcolor": "white",
           "lakecolor": "white",
           "landcolor": "#E5ECF6",
           "showlakes": true,
           "showland": true,
           "subunitcolor": "white"
          },
          "hoverlabel": {
           "align": "left"
          },
          "hovermode": "closest",
          "mapbox": {
           "style": "light"
          },
          "paper_bgcolor": "white",
          "plot_bgcolor": "#E5ECF6",
          "polar": {
           "angularaxis": {
            "gridcolor": "white",
            "linecolor": "white",
            "ticks": ""
           },
           "bgcolor": "#E5ECF6",
           "radialaxis": {
            "gridcolor": "white",
            "linecolor": "white",
            "ticks": ""
           }
          },
          "scene": {
           "xaxis": {
            "backgroundcolor": "#E5ECF6",
            "gridcolor": "white",
            "gridwidth": 2,
            "linecolor": "white",
            "showbackground": true,
            "ticks": "",
            "zerolinecolor": "white"
           },
           "yaxis": {
            "backgroundcolor": "#E5ECF6",
            "gridcolor": "white",
            "gridwidth": 2,
            "linecolor": "white",
            "showbackground": true,
            "ticks": "",
            "zerolinecolor": "white"
           },
           "zaxis": {
            "backgroundcolor": "#E5ECF6",
            "gridcolor": "white",
            "gridwidth": 2,
            "linecolor": "white",
            "showbackground": true,
            "ticks": "",
            "zerolinecolor": "white"
           }
          },
          "shapedefaults": {
           "line": {
            "color": "#2a3f5f"
           }
          },
          "ternary": {
           "aaxis": {
            "gridcolor": "white",
            "linecolor": "white",
            "ticks": ""
           },
           "baxis": {
            "gridcolor": "white",
            "linecolor": "white",
            "ticks": ""
           },
           "bgcolor": "#E5ECF6",
           "caxis": {
            "gridcolor": "white",
            "linecolor": "white",
            "ticks": ""
           }
          },
          "title": {
           "x": 0.05
          },
          "xaxis": {
           "automargin": true,
           "gridcolor": "white",
           "linecolor": "white",
           "ticks": "",
           "title": {
            "standoff": 15
           },
           "zerolinecolor": "white",
           "zerolinewidth": 2
          },
          "yaxis": {
           "automargin": true,
           "gridcolor": "white",
           "linecolor": "white",
           "ticks": "",
           "title": {
            "standoff": 15
           },
           "zerolinecolor": "white",
           "zerolinewidth": 2
          }
         }
        },
        "title": {
         "font": {
          "color": "#4D5663"
         }
        },
        "xaxis": {
         "gridcolor": "#E1E5ED",
         "showgrid": true,
         "tickfont": {
          "color": "#4D5663"
         },
         "title": {
          "font": {
           "color": "#4D5663"
          },
          "text": ""
         },
         "zerolinecolor": "#E1E5ED"
        },
        "yaxis": {
         "gridcolor": "#E1E5ED",
         "showgrid": true,
         "tickfont": {
          "color": "#4D5663"
         },
         "title": {
          "font": {
           "color": "#4D5663"
          },
          "text": ""
         },
         "zerolinecolor": "#E1E5ED"
        }
       }
      },
      "text/html": [
       "<div>                            <div id=\"4f2d7033-5724-48e5-995d-ab756237c130\" class=\"plotly-graph-div\" style=\"height:525px; width:100%;\"></div>            <script type=\"text/javascript\">                require([\"plotly\"], function(Plotly) {                    window.PLOTLYENV=window.PLOTLYENV || {};\n",
       "                    window.PLOTLYENV.BASE_URL='https://plot.ly';                                    if (document.getElementById(\"4f2d7033-5724-48e5-995d-ab756237c130\")) {                    Plotly.newPlot(                        \"4f2d7033-5724-48e5-995d-ab756237c130\",                        [{\"marker\":{\"color\":\"rgba(255, 153, 51, 0.6)\",\"line\":{\"color\":\"rgba(255, 153, 51, 1.0)\",\"width\":1}},\"name\":\"None\",\"orientation\":\"v\",\"text\":\"\",\"x\":[\"A\",\"B\",\"C\",\"D\"],\"y\":[100,100,100,100],\"type\":\"bar\"}],                        {\"legend\":{\"bgcolor\":\"#F5F6F9\",\"font\":{\"color\":\"#4D5663\"}},\"paper_bgcolor\":\"#F5F6F9\",\"plot_bgcolor\":\"#F5F6F9\",\"template\":{\"data\":{\"barpolar\":[{\"marker\":{\"line\":{\"color\":\"#E5ECF6\",\"width\":0.5},\"pattern\":{\"fillmode\":\"overlay\",\"size\":10,\"solidity\":0.2}},\"type\":\"barpolar\"}],\"bar\":[{\"error_x\":{\"color\":\"#2a3f5f\"},\"error_y\":{\"color\":\"#2a3f5f\"},\"marker\":{\"line\":{\"color\":\"#E5ECF6\",\"width\":0.5},\"pattern\":{\"fillmode\":\"overlay\",\"size\":10,\"solidity\":0.2}},\"type\":\"bar\"}],\"carpet\":[{\"aaxis\":{\"endlinecolor\":\"#2a3f5f\",\"gridcolor\":\"white\",\"linecolor\":\"white\",\"minorgridcolor\":\"white\",\"startlinecolor\":\"#2a3f5f\"},\"baxis\":{\"endlinecolor\":\"#2a3f5f\",\"gridcolor\":\"white\",\"linecolor\":\"white\",\"minorgridcolor\":\"white\",\"startlinecolor\":\"#2a3f5f\"},\"type\":\"carpet\"}],\"choropleth\":[{\"colorbar\":{\"outlinewidth\":0,\"ticks\":\"\"},\"type\":\"choropleth\"}],\"contourcarpet\":[{\"colorbar\":{\"outlinewidth\":0,\"ticks\":\"\"},\"type\":\"contourcarpet\"}],\"contour\":[{\"colorbar\":{\"outlinewidth\":0,\"ticks\":\"\"},\"colorscale\":[[0.0,\"#0d0887\"],[0.1111111111111111,\"#46039f\"],[0.2222222222222222,\"#7201a8\"],[0.3333333333333333,\"#9c179e\"],[0.4444444444444444,\"#bd3786\"],[0.5555555555555556,\"#d8576b\"],[0.6666666666666666,\"#ed7953\"],[0.7777777777777778,\"#fb9f3a\"],[0.8888888888888888,\"#fdca26\"],[1.0,\"#f0f921\"]],\"type\":\"contour\"}],\"heatmapgl\":[{\"colorbar\":{\"outlinewidth\":0,\"ticks\":\"\"},\"colorscale\":[[0.0,\"#0d0887\"],[0.1111111111111111,\"#46039f\"],[0.2222222222222222,\"#7201a8\"],[0.3333333333333333,\"#9c179e\"],[0.4444444444444444,\"#bd3786\"],[0.5555555555555556,\"#d8576b\"],[0.6666666666666666,\"#ed7953\"],[0.7777777777777778,\"#fb9f3a\"],[0.8888888888888888,\"#fdca26\"],[1.0,\"#f0f921\"]],\"type\":\"heatmapgl\"}],\"heatmap\":[{\"colorbar\":{\"outlinewidth\":0,\"ticks\":\"\"},\"colorscale\":[[0.0,\"#0d0887\"],[0.1111111111111111,\"#46039f\"],[0.2222222222222222,\"#7201a8\"],[0.3333333333333333,\"#9c179e\"],[0.4444444444444444,\"#bd3786\"],[0.5555555555555556,\"#d8576b\"],[0.6666666666666666,\"#ed7953\"],[0.7777777777777778,\"#fb9f3a\"],[0.8888888888888888,\"#fdca26\"],[1.0,\"#f0f921\"]],\"type\":\"heatmap\"}],\"histogram2dcontour\":[{\"colorbar\":{\"outlinewidth\":0,\"ticks\":\"\"},\"colorscale\":[[0.0,\"#0d0887\"],[0.1111111111111111,\"#46039f\"],[0.2222222222222222,\"#7201a8\"],[0.3333333333333333,\"#9c179e\"],[0.4444444444444444,\"#bd3786\"],[0.5555555555555556,\"#d8576b\"],[0.6666666666666666,\"#ed7953\"],[0.7777777777777778,\"#fb9f3a\"],[0.8888888888888888,\"#fdca26\"],[1.0,\"#f0f921\"]],\"type\":\"histogram2dcontour\"}],\"histogram2d\":[{\"colorbar\":{\"outlinewidth\":0,\"ticks\":\"\"},\"colorscale\":[[0.0,\"#0d0887\"],[0.1111111111111111,\"#46039f\"],[0.2222222222222222,\"#7201a8\"],[0.3333333333333333,\"#9c179e\"],[0.4444444444444444,\"#bd3786\"],[0.5555555555555556,\"#d8576b\"],[0.6666666666666666,\"#ed7953\"],[0.7777777777777778,\"#fb9f3a\"],[0.8888888888888888,\"#fdca26\"],[1.0,\"#f0f921\"]],\"type\":\"histogram2d\"}],\"histogram\":[{\"marker\":{\"pattern\":{\"fillmode\":\"overlay\",\"size\":10,\"solidity\":0.2}},\"type\":\"histogram\"}],\"mesh3d\":[{\"colorbar\":{\"outlinewidth\":0,\"ticks\":\"\"},\"type\":\"mesh3d\"}],\"parcoords\":[{\"line\":{\"colorbar\":{\"outlinewidth\":0,\"ticks\":\"\"}},\"type\":\"parcoords\"}],\"pie\":[{\"automargin\":true,\"type\":\"pie\"}],\"scatter3d\":[{\"line\":{\"colorbar\":{\"outlinewidth\":0,\"ticks\":\"\"}},\"marker\":{\"colorbar\":{\"outlinewidth\":0,\"ticks\":\"\"}},\"type\":\"scatter3d\"}],\"scattercarpet\":[{\"marker\":{\"colorbar\":{\"outlinewidth\":0,\"ticks\":\"\"}},\"type\":\"scattercarpet\"}],\"scattergeo\":[{\"marker\":{\"colorbar\":{\"outlinewidth\":0,\"ticks\":\"\"}},\"type\":\"scattergeo\"}],\"scattergl\":[{\"marker\":{\"colorbar\":{\"outlinewidth\":0,\"ticks\":\"\"}},\"type\":\"scattergl\"}],\"scattermapbox\":[{\"marker\":{\"colorbar\":{\"outlinewidth\":0,\"ticks\":\"\"}},\"type\":\"scattermapbox\"}],\"scatterpolargl\":[{\"marker\":{\"colorbar\":{\"outlinewidth\":0,\"ticks\":\"\"}},\"type\":\"scatterpolargl\"}],\"scatterpolar\":[{\"marker\":{\"colorbar\":{\"outlinewidth\":0,\"ticks\":\"\"}},\"type\":\"scatterpolar\"}],\"scatter\":[{\"fillpattern\":{\"fillmode\":\"overlay\",\"size\":10,\"solidity\":0.2},\"type\":\"scatter\"}],\"scatterternary\":[{\"marker\":{\"colorbar\":{\"outlinewidth\":0,\"ticks\":\"\"}},\"type\":\"scatterternary\"}],\"surface\":[{\"colorbar\":{\"outlinewidth\":0,\"ticks\":\"\"},\"colorscale\":[[0.0,\"#0d0887\"],[0.1111111111111111,\"#46039f\"],[0.2222222222222222,\"#7201a8\"],[0.3333333333333333,\"#9c179e\"],[0.4444444444444444,\"#bd3786\"],[0.5555555555555556,\"#d8576b\"],[0.6666666666666666,\"#ed7953\"],[0.7777777777777778,\"#fb9f3a\"],[0.8888888888888888,\"#fdca26\"],[1.0,\"#f0f921\"]],\"type\":\"surface\"}],\"table\":[{\"cells\":{\"fill\":{\"color\":\"#EBF0F8\"},\"line\":{\"color\":\"white\"}},\"header\":{\"fill\":{\"color\":\"#C8D4E3\"},\"line\":{\"color\":\"white\"}},\"type\":\"table\"}]},\"layout\":{\"annotationdefaults\":{\"arrowcolor\":\"#2a3f5f\",\"arrowhead\":0,\"arrowwidth\":1},\"autotypenumbers\":\"strict\",\"coloraxis\":{\"colorbar\":{\"outlinewidth\":0,\"ticks\":\"\"}},\"colorscale\":{\"diverging\":[[0,\"#8e0152\"],[0.1,\"#c51b7d\"],[0.2,\"#de77ae\"],[0.3,\"#f1b6da\"],[0.4,\"#fde0ef\"],[0.5,\"#f7f7f7\"],[0.6,\"#e6f5d0\"],[0.7,\"#b8e186\"],[0.8,\"#7fbc41\"],[0.9,\"#4d9221\"],[1,\"#276419\"]],\"sequential\":[[0.0,\"#0d0887\"],[0.1111111111111111,\"#46039f\"],[0.2222222222222222,\"#7201a8\"],[0.3333333333333333,\"#9c179e\"],[0.4444444444444444,\"#bd3786\"],[0.5555555555555556,\"#d8576b\"],[0.6666666666666666,\"#ed7953\"],[0.7777777777777778,\"#fb9f3a\"],[0.8888888888888888,\"#fdca26\"],[1.0,\"#f0f921\"]],\"sequentialminus\":[[0.0,\"#0d0887\"],[0.1111111111111111,\"#46039f\"],[0.2222222222222222,\"#7201a8\"],[0.3333333333333333,\"#9c179e\"],[0.4444444444444444,\"#bd3786\"],[0.5555555555555556,\"#d8576b\"],[0.6666666666666666,\"#ed7953\"],[0.7777777777777778,\"#fb9f3a\"],[0.8888888888888888,\"#fdca26\"],[1.0,\"#f0f921\"]]},\"colorway\":[\"#636efa\",\"#EF553B\",\"#00cc96\",\"#ab63fa\",\"#FFA15A\",\"#19d3f3\",\"#FF6692\",\"#B6E880\",\"#FF97FF\",\"#FECB52\"],\"font\":{\"color\":\"#2a3f5f\"},\"geo\":{\"bgcolor\":\"white\",\"lakecolor\":\"white\",\"landcolor\":\"#E5ECF6\",\"showlakes\":true,\"showland\":true,\"subunitcolor\":\"white\"},\"hoverlabel\":{\"align\":\"left\"},\"hovermode\":\"closest\",\"mapbox\":{\"style\":\"light\"},\"paper_bgcolor\":\"white\",\"plot_bgcolor\":\"#E5ECF6\",\"polar\":{\"angularaxis\":{\"gridcolor\":\"white\",\"linecolor\":\"white\",\"ticks\":\"\"},\"bgcolor\":\"#E5ECF6\",\"radialaxis\":{\"gridcolor\":\"white\",\"linecolor\":\"white\",\"ticks\":\"\"}},\"scene\":{\"xaxis\":{\"backgroundcolor\":\"#E5ECF6\",\"gridcolor\":\"white\",\"gridwidth\":2,\"linecolor\":\"white\",\"showbackground\":true,\"ticks\":\"\",\"zerolinecolor\":\"white\"},\"yaxis\":{\"backgroundcolor\":\"#E5ECF6\",\"gridcolor\":\"white\",\"gridwidth\":2,\"linecolor\":\"white\",\"showbackground\":true,\"ticks\":\"\",\"zerolinecolor\":\"white\"},\"zaxis\":{\"backgroundcolor\":\"#E5ECF6\",\"gridcolor\":\"white\",\"gridwidth\":2,\"linecolor\":\"white\",\"showbackground\":true,\"ticks\":\"\",\"zerolinecolor\":\"white\"}},\"shapedefaults\":{\"line\":{\"color\":\"#2a3f5f\"}},\"ternary\":{\"aaxis\":{\"gridcolor\":\"white\",\"linecolor\":\"white\",\"ticks\":\"\"},\"baxis\":{\"gridcolor\":\"white\",\"linecolor\":\"white\",\"ticks\":\"\"},\"bgcolor\":\"#E5ECF6\",\"caxis\":{\"gridcolor\":\"white\",\"linecolor\":\"white\",\"ticks\":\"\"}},\"title\":{\"x\":0.05},\"xaxis\":{\"automargin\":true,\"gridcolor\":\"white\",\"linecolor\":\"white\",\"ticks\":\"\",\"title\":{\"standoff\":15},\"zerolinecolor\":\"white\",\"zerolinewidth\":2},\"yaxis\":{\"automargin\":true,\"gridcolor\":\"white\",\"linecolor\":\"white\",\"ticks\":\"\",\"title\":{\"standoff\":15},\"zerolinecolor\":\"white\",\"zerolinewidth\":2}}},\"title\":{\"font\":{\"color\":\"#4D5663\"}},\"xaxis\":{\"gridcolor\":\"#E1E5ED\",\"showgrid\":true,\"tickfont\":{\"color\":\"#4D5663\"},\"title\":{\"font\":{\"color\":\"#4D5663\"},\"text\":\"\"},\"zerolinecolor\":\"#E1E5ED\"},\"yaxis\":{\"gridcolor\":\"#E1E5ED\",\"showgrid\":true,\"tickfont\":{\"color\":\"#4D5663\"},\"title\":{\"font\":{\"color\":\"#4D5663\"},\"text\":\"\"},\"zerolinecolor\":\"#E1E5ED\"}},                        {\"showLink\": true, \"linkText\": \"Export to plot.ly\", \"plotlyServerURL\": \"https://plot.ly\", \"responsive\": true}                    ).then(function(){\n",
       "                            \n",
       "var gd = document.getElementById('4f2d7033-5724-48e5-995d-ab756237c130');\n",
       "var x = new MutationObserver(function (mutations, observer) {{\n",
       "        var display = window.getComputedStyle(gd).display;\n",
       "        if (!display || display === 'none') {{\n",
       "            console.log([gd, 'removed!']);\n",
       "            Plotly.purge(gd);\n",
       "            observer.disconnect();\n",
       "        }}\n",
       "}});\n",
       "\n",
       "// Listen for the removal of the full notebook cells\n",
       "var notebookContainer = gd.closest('#notebook-container');\n",
       "if (notebookContainer) {{\n",
       "    x.observe(notebookContainer, {childList: true});\n",
       "}}\n",
       "\n",
       "// Listen for the clearing of the current output cell\n",
       "var outputEl = gd.closest('.output');\n",
       "if (outputEl) {{\n",
       "    x.observe(outputEl, {childList: true});\n",
       "}}\n",
       "\n",
       "                        })                };                });            </script>        </div>"
      ]
     },
     "metadata": {},
     "output_type": "display_data"
    }
   ],
   "source": [
    "df.count().iplot(kind='bar')"
   ]
  },
  {
   "cell_type": "markdown",
   "metadata": {},
   "source": [
    "## Boxplots"
   ]
  },
  {
   "cell_type": "code",
   "execution_count": 15,
   "metadata": {},
   "outputs": [
    {
     "data": {
      "application/vnd.plotly.v1+json": {
       "config": {
        "linkText": "Export to plot.ly",
        "plotlyServerURL": "https://plot.ly",
        "showLink": true
       },
       "data": [
        {
         "boxpoints": false,
         "line": {
          "width": 1.3
         },
         "marker": {
          "color": "rgba(255, 153, 51, 1.0)"
         },
         "name": "A",
         "orientation": "v",
         "type": "box",
         "y": [
          -0.4045983139037852,
          0.5285735732289283,
          0.6022173950385732,
          -0.48268766327953333,
          0.7335072864359978,
          -0.40342915414283154,
          -0.17480320261520785,
          -0.46375048079718295,
          0.34072881612854433,
          -0.09869085377451314,
          -0.20800981966349852,
          2.2092913391122266,
          -0.6534293864012439,
          0.2955100233309861,
          -1.395929538623618,
          -0.304106306926648,
          -1.0523611747895298,
          -0.5862694806994424,
          0.06139536944716107,
          0.35990324789343364,
          -0.061537569980942924,
          -0.2686972276639932,
          -0.07435536968205278,
          1.1742138038141996,
          -1.7102421336762552,
          0.5591565634680695,
          0.6590676401744184,
          -0.2065267776130343,
          -0.27992265173570013,
          1.4258943709088623,
          0.1666908579247089,
          0.5835806807431808,
          0.43031506745529274,
          -1.251478186099782,
          0.09384448354259389,
          -0.22483581936612776,
          -1.2767373226254188,
          -0.4642903815219393,
          0.16666039805550212,
          0.29803848431211166,
          -1.710202798007207,
          1.9583549338278494,
          -1.5268682006883219,
          -0.055083998183566595,
          0.6785336793046308,
          1.3622578295729497,
          0.1057285705283933,
          -1.3316186125437108,
          0.0065291848958130335,
          -0.5224498023133258,
          -2.2543896169787017,
          0.0641640053528672,
          1.7445439355082553,
          0.16657761600810897,
          1.153288478193798,
          -0.3485560692319026,
          1.6723975308202748,
          -1.4928628322068755,
          -1.6181861633476398,
          -1.340466611826667,
          -1.9030891603088502,
          0.676297052944786,
          -0.7070735298365345,
          -1.2576915901107932,
          -0.8178093637634735,
          0.7244042275504166,
          1.1387575141886974,
          1.9304842065816488,
          -1.0762095399276679,
          0.6498091590069269,
          0.09232808825027074,
          0.8120530963930451,
          -0.06547362536090413,
          -0.26950140660406235,
          1.1799063944702664,
          -1.2903782869698577,
          1.6265025789312477,
          -0.6964064467883653,
          -1.0424265414424472,
          -1.0731381394579373,
          -1.3624828129692788,
          -1.7403256795722881,
          0.17707510187772527,
          0.5195739199081226,
          0.4952804190370265,
          -0.46473287120051465,
          0.14075145458915256,
          0.339714337182532,
          0.5737048374671936,
          1.5782214545698432,
          -0.6818051497239577,
          -1.279963212928249,
          -0.29629853056418315,
          -1.0933699811872881,
          -1.8778757105879695,
          0.10248862511625113,
          -0.8003921204890069,
          -0.3631402391252692,
          -0.7388594185896534,
          0.4657120667281838
         ]
        },
        {
         "boxpoints": false,
         "line": {
          "width": 1.3
         },
         "marker": {
          "color": "rgba(55, 128, 191, 1.0)"
         },
         "name": "B",
         "orientation": "v",
         "type": "box",
         "y": [
          0.4544377410856264,
          -0.1375870043576579,
          0.8156669055638456,
          -0.489796491062756,
          -0.00905295198424795,
          0.40704674765912113,
          0.31482605279780135,
          0.9059133115070056,
          -0.4879553472060321,
          1.2288516575823671,
          0.054800164950592437,
          -0.3509035239911853,
          0.030154993198753897,
          0.270366638958861,
          0.07926286234339848,
          -1.672611163017983,
          -0.763464775099433,
          -0.8223781707439133,
          0.7707501206589744,
          0.4327999304086911,
          0.0076067641932170615,
          -0.3990484620837755,
          -1.2907911037656161,
          0.5427170484041779,
          -1.0482748824488082,
          1.004652051988947,
          0.3461676467107137,
          0.3756211827055624,
          0.20681719777218535,
          -0.6364334362862925,
          -1.5781273426167646,
          -0.609718528331411,
          1.0883590667275753,
          0.1850840690170461,
          -0.6941326458569426,
          0.32749287552189277,
          -0.003459850947804814,
          0.4302040984711942,
          0.07018875243996506,
          -2.085119580056327,
          1.3850313622663697,
          -0.6817058619001582,
          0.37083761085052147,
          0.29890552295856776,
          -0.27525918843164304,
          -0.3042247925529244,
          0.9196670695044822,
          -0.23722035705530817,
          -1.3829923810111424,
          -1.561136557911276,
          -0.8585513216683399,
          0.3510497137412686,
          2.0123576363288675,
          -1.054279431840698,
          -1.2991553623960792,
          1.1653560076934681,
          1.9288671781251132,
          1.7386684779309682,
          1.1494859317424329,
          0.9933364862729432,
          1.147571945436017,
          -0.8972362625186938,
          0.04964679206805566,
          0.7860026188327001,
          -1.1429778559574573,
          0.9008205365299733,
          -0.649490216770433,
          1.9433224141655365,
          -0.0326739426972613,
          1.3892347004905574,
          -0.8525617890706202,
          1.4008384529373903,
          0.8835085160538176,
          -0.921068906163779,
          2.08553213425308,
          -0.5908389677638602,
          0.20056625761184052,
          -0.6425805018786173,
          -1.0348089164830356,
          0.7018571167285269,
          -0.9856490337253748,
          0.8532283975807009,
          -0.10154786903238316,
          0.5808642683381148,
          -0.5170917040642805,
          0.319990444732878,
          -1.7760635302207668,
          1.1504741024080762,
          -0.827248412516675,
          -0.14613819915286025,
          0.6448229763659613,
          1.4711659854864312,
          -1.0426563809525402,
          0.6842862468436529,
          -1.083691932715964,
          0.8548829105688805,
          0.36883859590091994,
          0.9375445910135839,
          -2.253115110906904,
          0.1291613384656027
         ]
        },
        {
         "boxpoints": false,
         "line": {
          "width": 1.3
         },
         "marker": {
          "color": "rgba(50, 171, 96, 1.0)"
         },
         "name": "C",
         "orientation": "v",
         "type": "box",
         "y": [
          1.657857041978962,
          0.39076381520820996,
          -0.5155034287405204,
          -0.43445040279501684,
          1.1337005517316454,
          -0.3272393290231717,
          1.7623697857748708,
          2.010351527767487,
          -0.19177578854812782,
          0.5733565801803565,
          -0.23302702021593796,
          0.01749197295371273,
          -0.7635817551066185,
          0.19351562450774795,
          0.8626446194516036,
          1.08308197060395,
          0.14879962803220712,
          -0.569018416697145,
          -1.0038545074933107,
          -0.7629906423651932,
          1.0359307619198,
          -2.2238535168762077,
          1.10048946590373,
          0.8624542847975779,
          -0.11279217661622384,
          -1.609128233943269,
          -1.3605336463952997,
          0.36418711880094534,
          0.544128186718478,
          -0.06858883350565796,
          1.1835420968142574,
          -1.5480712300279538,
          -0.9999096479194888,
          -0.027928375120816983,
          1.2461122038915546,
          -0.325528436680524,
          0.5129115240370162,
          -0.7044121369897092,
          -0.07126392432583276,
          -0.3544684664233206,
          2.3212153924870775,
          0.6234439480744467,
          -0.299443703958466,
          0.27552303522503807,
          1.295997474753949,
          1.605105503418999,
          -1.2570512652650787,
          0.5154314631016939,
          0.019439090072104242,
          0.6890074842993653,
          -0.7446046468830955,
          0.15822711565326616,
          -0.43785246947939954,
          0.3850194156138424,
          1.8212626364845261,
          1.1537406377523753,
          0.3403297802581537,
          -0.8450867851453279,
          0.2664450847871828,
          -0.3334281588563714,
          -1.91212575158581,
          0.017125749057377578,
          0.4739128014086982,
          -0.6282227486999669,
          -0.26199946675727337,
          -1.3587094332248681,
          0.9783002313800563,
          0.09362645943669422,
          0.023323234320433827,
          -0.7516274730667765,
          -0.2959620962271495,
          -1.0646365990896625,
          1.0159046870237638,
          -0.09905192358611867,
          1.9363964135476517,
          0.8938823241043444,
          1.100556321121381,
          -1.3499688271721482,
          0.280279354433701,
          0.7256185257848558,
          0.9766185669769128,
          1.537424575660381,
          1.0476835409552252,
          -0.03472286117941366,
          -0.6342216763834966,
          -0.42342741991553656,
          -0.07508037873906036,
          0.8348937962413467,
          1.3697415879285555,
          -0.7116131875130965,
          0.18479133105590836,
          0.6967548785655009,
          -0.257000533954322,
          0.822844137287367,
          0.3612938249951666,
          0.43464209474341164,
          -2.248944659818248,
          -0.25103101353619783,
          -0.3808142478680725,
          -1.3952878018736588
         ]
        },
        {
         "boxpoints": false,
         "line": {
          "width": 1.3
         },
         "marker": {
          "color": "rgba(128, 0, 128, 1.0)"
         },
         "name": "D",
         "orientation": "v",
         "type": "box",
         "y": [
          0.48159664924209344,
          -1.494899170240708,
          -2.695214861920816,
          -0.11376091129125801,
          -0.2687985264754661,
          -0.6450583314208733,
          -1.6065434708326156,
          1.6972480069876228,
          -1.1883102271911812,
          0.8717060552889668,
          -1.1429473843313935,
          -1.0486634198235076,
          0.7051944123923963,
          -0.05546138435631694,
          0.17447366552864144,
          -0.03781902917194652,
          2.0419034238257474,
          0.5943474478511892,
          -0.2574707548347274,
          -0.44717644829172676,
          -1.1734879976164674,
          -0.13264237348452182,
          0.5906035931257633,
          0.30323314168599325,
          0.18487996829408884,
          0.011309053480811591,
          -0.7681071927283063,
          -0.34869879496825285,
          -1.7989856637815356,
          -0.19482973734905434,
          0.6026883198922537,
          0.263468342801554,
          0.08249604282037369,
          0.28855532865865324,
          0.835984423090216,
          -2.225850543245584,
          1.41397316251639,
          0.12825388231821627,
          2.727512808175896,
          -0.5140785837787424,
          1.2202854579806688,
          -1.0366845853612594,
          1.6066043620832164,
          1.914383864382709,
          -0.7071426470298235,
          -0.2786417967707874,
          0.8330114074655275,
          1.4276669538831164,
          1.0795389419209482,
          -0.12603511312486484,
          0.7874779495219066,
          -0.8785063229799386,
          0.6960203289334285,
          -0.08534299050249547,
          -1.3632588174355618,
          -0.6098614537589439,
          1.174841578714827,
          -0.10573632904505641,
          -0.059126000246235794,
          0.003237773227892786,
          1.8376473663784754,
          0.8970724159737544,
          -0.6138459737355685,
          0.09008889854650924,
          -0.5153217020675772,
          -0.6443172269291257,
          -0.46983234051452394,
          2.5389740877391347,
          -1.450001877062961,
          -0.6407735377399877,
          -0.5928421707220279,
          -0.06981536433265376,
          -0.42859035833715525,
          1.8828725143437184,
          1.0758139751245803,
          1.6457534903555895,
          -1.048915025046709,
          -0.06361822585173464,
          1.3216226922365608,
          0.19305339840725647,
          0.6108761220095699,
          -1.5996699081719226,
          2.091566545424985,
          -0.5006986451163165,
          0.8562576846147126,
          0.10450722718309659,
          -0.14050584043050782,
          0.30302432493677395,
          -0.022420954059679435,
          -0.4199092812915915,
          -1.1655710325261168,
          -1.7421058056320526,
          1.3652467710816292,
          1.0143965523186196,
          0.0023486574752683326,
          2.7159918170494173,
          0.6385784789544899,
          -0.10689280866440759,
          0.5087790233387879,
          -1.0743567235970564
         ]
        }
       ],
       "layout": {
        "legend": {
         "bgcolor": "#F5F6F9",
         "font": {
          "color": "#4D5663"
         }
        },
        "paper_bgcolor": "#F5F6F9",
        "plot_bgcolor": "#F5F6F9",
        "template": {
         "data": {
          "bar": [
           {
            "error_x": {
             "color": "#2a3f5f"
            },
            "error_y": {
             "color": "#2a3f5f"
            },
            "marker": {
             "line": {
              "color": "#E5ECF6",
              "width": 0.5
             },
             "pattern": {
              "fillmode": "overlay",
              "size": 10,
              "solidity": 0.2
             }
            },
            "type": "bar"
           }
          ],
          "barpolar": [
           {
            "marker": {
             "line": {
              "color": "#E5ECF6",
              "width": 0.5
             },
             "pattern": {
              "fillmode": "overlay",
              "size": 10,
              "solidity": 0.2
             }
            },
            "type": "barpolar"
           }
          ],
          "carpet": [
           {
            "aaxis": {
             "endlinecolor": "#2a3f5f",
             "gridcolor": "white",
             "linecolor": "white",
             "minorgridcolor": "white",
             "startlinecolor": "#2a3f5f"
            },
            "baxis": {
             "endlinecolor": "#2a3f5f",
             "gridcolor": "white",
             "linecolor": "white",
             "minorgridcolor": "white",
             "startlinecolor": "#2a3f5f"
            },
            "type": "carpet"
           }
          ],
          "choropleth": [
           {
            "colorbar": {
             "outlinewidth": 0,
             "ticks": ""
            },
            "type": "choropleth"
           }
          ],
          "contour": [
           {
            "colorbar": {
             "outlinewidth": 0,
             "ticks": ""
            },
            "colorscale": [
             [
              0,
              "#0d0887"
             ],
             [
              0.1111111111111111,
              "#46039f"
             ],
             [
              0.2222222222222222,
              "#7201a8"
             ],
             [
              0.3333333333333333,
              "#9c179e"
             ],
             [
              0.4444444444444444,
              "#bd3786"
             ],
             [
              0.5555555555555556,
              "#d8576b"
             ],
             [
              0.6666666666666666,
              "#ed7953"
             ],
             [
              0.7777777777777778,
              "#fb9f3a"
             ],
             [
              0.8888888888888888,
              "#fdca26"
             ],
             [
              1,
              "#f0f921"
             ]
            ],
            "type": "contour"
           }
          ],
          "contourcarpet": [
           {
            "colorbar": {
             "outlinewidth": 0,
             "ticks": ""
            },
            "type": "contourcarpet"
           }
          ],
          "heatmap": [
           {
            "colorbar": {
             "outlinewidth": 0,
             "ticks": ""
            },
            "colorscale": [
             [
              0,
              "#0d0887"
             ],
             [
              0.1111111111111111,
              "#46039f"
             ],
             [
              0.2222222222222222,
              "#7201a8"
             ],
             [
              0.3333333333333333,
              "#9c179e"
             ],
             [
              0.4444444444444444,
              "#bd3786"
             ],
             [
              0.5555555555555556,
              "#d8576b"
             ],
             [
              0.6666666666666666,
              "#ed7953"
             ],
             [
              0.7777777777777778,
              "#fb9f3a"
             ],
             [
              0.8888888888888888,
              "#fdca26"
             ],
             [
              1,
              "#f0f921"
             ]
            ],
            "type": "heatmap"
           }
          ],
          "heatmapgl": [
           {
            "colorbar": {
             "outlinewidth": 0,
             "ticks": ""
            },
            "colorscale": [
             [
              0,
              "#0d0887"
             ],
             [
              0.1111111111111111,
              "#46039f"
             ],
             [
              0.2222222222222222,
              "#7201a8"
             ],
             [
              0.3333333333333333,
              "#9c179e"
             ],
             [
              0.4444444444444444,
              "#bd3786"
             ],
             [
              0.5555555555555556,
              "#d8576b"
             ],
             [
              0.6666666666666666,
              "#ed7953"
             ],
             [
              0.7777777777777778,
              "#fb9f3a"
             ],
             [
              0.8888888888888888,
              "#fdca26"
             ],
             [
              1,
              "#f0f921"
             ]
            ],
            "type": "heatmapgl"
           }
          ],
          "histogram": [
           {
            "marker": {
             "pattern": {
              "fillmode": "overlay",
              "size": 10,
              "solidity": 0.2
             }
            },
            "type": "histogram"
           }
          ],
          "histogram2d": [
           {
            "colorbar": {
             "outlinewidth": 0,
             "ticks": ""
            },
            "colorscale": [
             [
              0,
              "#0d0887"
             ],
             [
              0.1111111111111111,
              "#46039f"
             ],
             [
              0.2222222222222222,
              "#7201a8"
             ],
             [
              0.3333333333333333,
              "#9c179e"
             ],
             [
              0.4444444444444444,
              "#bd3786"
             ],
             [
              0.5555555555555556,
              "#d8576b"
             ],
             [
              0.6666666666666666,
              "#ed7953"
             ],
             [
              0.7777777777777778,
              "#fb9f3a"
             ],
             [
              0.8888888888888888,
              "#fdca26"
             ],
             [
              1,
              "#f0f921"
             ]
            ],
            "type": "histogram2d"
           }
          ],
          "histogram2dcontour": [
           {
            "colorbar": {
             "outlinewidth": 0,
             "ticks": ""
            },
            "colorscale": [
             [
              0,
              "#0d0887"
             ],
             [
              0.1111111111111111,
              "#46039f"
             ],
             [
              0.2222222222222222,
              "#7201a8"
             ],
             [
              0.3333333333333333,
              "#9c179e"
             ],
             [
              0.4444444444444444,
              "#bd3786"
             ],
             [
              0.5555555555555556,
              "#d8576b"
             ],
             [
              0.6666666666666666,
              "#ed7953"
             ],
             [
              0.7777777777777778,
              "#fb9f3a"
             ],
             [
              0.8888888888888888,
              "#fdca26"
             ],
             [
              1,
              "#f0f921"
             ]
            ],
            "type": "histogram2dcontour"
           }
          ],
          "mesh3d": [
           {
            "colorbar": {
             "outlinewidth": 0,
             "ticks": ""
            },
            "type": "mesh3d"
           }
          ],
          "parcoords": [
           {
            "line": {
             "colorbar": {
              "outlinewidth": 0,
              "ticks": ""
             }
            },
            "type": "parcoords"
           }
          ],
          "pie": [
           {
            "automargin": true,
            "type": "pie"
           }
          ],
          "scatter": [
           {
            "fillpattern": {
             "fillmode": "overlay",
             "size": 10,
             "solidity": 0.2
            },
            "type": "scatter"
           }
          ],
          "scatter3d": [
           {
            "line": {
             "colorbar": {
              "outlinewidth": 0,
              "ticks": ""
             }
            },
            "marker": {
             "colorbar": {
              "outlinewidth": 0,
              "ticks": ""
             }
            },
            "type": "scatter3d"
           }
          ],
          "scattercarpet": [
           {
            "marker": {
             "colorbar": {
              "outlinewidth": 0,
              "ticks": ""
             }
            },
            "type": "scattercarpet"
           }
          ],
          "scattergeo": [
           {
            "marker": {
             "colorbar": {
              "outlinewidth": 0,
              "ticks": ""
             }
            },
            "type": "scattergeo"
           }
          ],
          "scattergl": [
           {
            "marker": {
             "colorbar": {
              "outlinewidth": 0,
              "ticks": ""
             }
            },
            "type": "scattergl"
           }
          ],
          "scattermapbox": [
           {
            "marker": {
             "colorbar": {
              "outlinewidth": 0,
              "ticks": ""
             }
            },
            "type": "scattermapbox"
           }
          ],
          "scatterpolar": [
           {
            "marker": {
             "colorbar": {
              "outlinewidth": 0,
              "ticks": ""
             }
            },
            "type": "scatterpolar"
           }
          ],
          "scatterpolargl": [
           {
            "marker": {
             "colorbar": {
              "outlinewidth": 0,
              "ticks": ""
             }
            },
            "type": "scatterpolargl"
           }
          ],
          "scatterternary": [
           {
            "marker": {
             "colorbar": {
              "outlinewidth": 0,
              "ticks": ""
             }
            },
            "type": "scatterternary"
           }
          ],
          "surface": [
           {
            "colorbar": {
             "outlinewidth": 0,
             "ticks": ""
            },
            "colorscale": [
             [
              0,
              "#0d0887"
             ],
             [
              0.1111111111111111,
              "#46039f"
             ],
             [
              0.2222222222222222,
              "#7201a8"
             ],
             [
              0.3333333333333333,
              "#9c179e"
             ],
             [
              0.4444444444444444,
              "#bd3786"
             ],
             [
              0.5555555555555556,
              "#d8576b"
             ],
             [
              0.6666666666666666,
              "#ed7953"
             ],
             [
              0.7777777777777778,
              "#fb9f3a"
             ],
             [
              0.8888888888888888,
              "#fdca26"
             ],
             [
              1,
              "#f0f921"
             ]
            ],
            "type": "surface"
           }
          ],
          "table": [
           {
            "cells": {
             "fill": {
              "color": "#EBF0F8"
             },
             "line": {
              "color": "white"
             }
            },
            "header": {
             "fill": {
              "color": "#C8D4E3"
             },
             "line": {
              "color": "white"
             }
            },
            "type": "table"
           }
          ]
         },
         "layout": {
          "annotationdefaults": {
           "arrowcolor": "#2a3f5f",
           "arrowhead": 0,
           "arrowwidth": 1
          },
          "autotypenumbers": "strict",
          "coloraxis": {
           "colorbar": {
            "outlinewidth": 0,
            "ticks": ""
           }
          },
          "colorscale": {
           "diverging": [
            [
             0,
             "#8e0152"
            ],
            [
             0.1,
             "#c51b7d"
            ],
            [
             0.2,
             "#de77ae"
            ],
            [
             0.3,
             "#f1b6da"
            ],
            [
             0.4,
             "#fde0ef"
            ],
            [
             0.5,
             "#f7f7f7"
            ],
            [
             0.6,
             "#e6f5d0"
            ],
            [
             0.7,
             "#b8e186"
            ],
            [
             0.8,
             "#7fbc41"
            ],
            [
             0.9,
             "#4d9221"
            ],
            [
             1,
             "#276419"
            ]
           ],
           "sequential": [
            [
             0,
             "#0d0887"
            ],
            [
             0.1111111111111111,
             "#46039f"
            ],
            [
             0.2222222222222222,
             "#7201a8"
            ],
            [
             0.3333333333333333,
             "#9c179e"
            ],
            [
             0.4444444444444444,
             "#bd3786"
            ],
            [
             0.5555555555555556,
             "#d8576b"
            ],
            [
             0.6666666666666666,
             "#ed7953"
            ],
            [
             0.7777777777777778,
             "#fb9f3a"
            ],
            [
             0.8888888888888888,
             "#fdca26"
            ],
            [
             1,
             "#f0f921"
            ]
           ],
           "sequentialminus": [
            [
             0,
             "#0d0887"
            ],
            [
             0.1111111111111111,
             "#46039f"
            ],
            [
             0.2222222222222222,
             "#7201a8"
            ],
            [
             0.3333333333333333,
             "#9c179e"
            ],
            [
             0.4444444444444444,
             "#bd3786"
            ],
            [
             0.5555555555555556,
             "#d8576b"
            ],
            [
             0.6666666666666666,
             "#ed7953"
            ],
            [
             0.7777777777777778,
             "#fb9f3a"
            ],
            [
             0.8888888888888888,
             "#fdca26"
            ],
            [
             1,
             "#f0f921"
            ]
           ]
          },
          "colorway": [
           "#636efa",
           "#EF553B",
           "#00cc96",
           "#ab63fa",
           "#FFA15A",
           "#19d3f3",
           "#FF6692",
           "#B6E880",
           "#FF97FF",
           "#FECB52"
          ],
          "font": {
           "color": "#2a3f5f"
          },
          "geo": {
           "bgcolor": "white",
           "lakecolor": "white",
           "landcolor": "#E5ECF6",
           "showlakes": true,
           "showland": true,
           "subunitcolor": "white"
          },
          "hoverlabel": {
           "align": "left"
          },
          "hovermode": "closest",
          "mapbox": {
           "style": "light"
          },
          "paper_bgcolor": "white",
          "plot_bgcolor": "#E5ECF6",
          "polar": {
           "angularaxis": {
            "gridcolor": "white",
            "linecolor": "white",
            "ticks": ""
           },
           "bgcolor": "#E5ECF6",
           "radialaxis": {
            "gridcolor": "white",
            "linecolor": "white",
            "ticks": ""
           }
          },
          "scene": {
           "xaxis": {
            "backgroundcolor": "#E5ECF6",
            "gridcolor": "white",
            "gridwidth": 2,
            "linecolor": "white",
            "showbackground": true,
            "ticks": "",
            "zerolinecolor": "white"
           },
           "yaxis": {
            "backgroundcolor": "#E5ECF6",
            "gridcolor": "white",
            "gridwidth": 2,
            "linecolor": "white",
            "showbackground": true,
            "ticks": "",
            "zerolinecolor": "white"
           },
           "zaxis": {
            "backgroundcolor": "#E5ECF6",
            "gridcolor": "white",
            "gridwidth": 2,
            "linecolor": "white",
            "showbackground": true,
            "ticks": "",
            "zerolinecolor": "white"
           }
          },
          "shapedefaults": {
           "line": {
            "color": "#2a3f5f"
           }
          },
          "ternary": {
           "aaxis": {
            "gridcolor": "white",
            "linecolor": "white",
            "ticks": ""
           },
           "baxis": {
            "gridcolor": "white",
            "linecolor": "white",
            "ticks": ""
           },
           "bgcolor": "#E5ECF6",
           "caxis": {
            "gridcolor": "white",
            "linecolor": "white",
            "ticks": ""
           }
          },
          "title": {
           "x": 0.05
          },
          "xaxis": {
           "automargin": true,
           "gridcolor": "white",
           "linecolor": "white",
           "ticks": "",
           "title": {
            "standoff": 15
           },
           "zerolinecolor": "white",
           "zerolinewidth": 2
          },
          "yaxis": {
           "automargin": true,
           "gridcolor": "white",
           "linecolor": "white",
           "ticks": "",
           "title": {
            "standoff": 15
           },
           "zerolinecolor": "white",
           "zerolinewidth": 2
          }
         }
        },
        "title": {
         "font": {
          "color": "#4D5663"
         }
        },
        "xaxis": {
         "gridcolor": "#E1E5ED",
         "showgrid": true,
         "tickfont": {
          "color": "#4D5663"
         },
         "title": {
          "font": {
           "color": "#4D5663"
          },
          "text": ""
         },
         "zerolinecolor": "#E1E5ED"
        },
        "yaxis": {
         "gridcolor": "#E1E5ED",
         "showgrid": true,
         "tickfont": {
          "color": "#4D5663"
         },
         "title": {
          "font": {
           "color": "#4D5663"
          },
          "text": ""
         },
         "zerolinecolor": "#E1E5ED"
        }
       }
      },
      "text/html": [
       "<div>                            <div id=\"7e34efc0-3a9f-4094-bec2-8e4d37418845\" class=\"plotly-graph-div\" style=\"height:525px; width:100%;\"></div>            <script type=\"text/javascript\">                require([\"plotly\"], function(Plotly) {                    window.PLOTLYENV=window.PLOTLYENV || {};\n",
       "                    window.PLOTLYENV.BASE_URL='https://plot.ly';                                    if (document.getElementById(\"7e34efc0-3a9f-4094-bec2-8e4d37418845\")) {                    Plotly.newPlot(                        \"7e34efc0-3a9f-4094-bec2-8e4d37418845\",                        [{\"boxpoints\":false,\"line\":{\"width\":1.3},\"marker\":{\"color\":\"rgba(255, 153, 51, 1.0)\"},\"name\":\"A\",\"orientation\":\"v\",\"y\":[-0.4045983139037852,0.5285735732289283,0.6022173950385732,-0.48268766327953333,0.7335072864359978,-0.40342915414283154,-0.17480320261520785,-0.46375048079718295,0.34072881612854433,-0.09869085377451314,-0.20800981966349852,2.2092913391122266,-0.6534293864012439,0.2955100233309861,-1.395929538623618,-0.304106306926648,-1.0523611747895298,-0.5862694806994424,0.06139536944716107,0.35990324789343364,-0.061537569980942924,-0.2686972276639932,-0.07435536968205278,1.1742138038141996,-1.7102421336762552,0.5591565634680695,0.6590676401744184,-0.2065267776130343,-0.27992265173570013,1.4258943709088623,0.1666908579247089,0.5835806807431808,0.43031506745529274,-1.251478186099782,0.09384448354259389,-0.22483581936612776,-1.2767373226254188,-0.4642903815219393,0.16666039805550212,0.29803848431211166,-1.710202798007207,1.9583549338278494,-1.5268682006883219,-0.055083998183566595,0.6785336793046308,1.3622578295729497,0.1057285705283933,-1.3316186125437108,0.0065291848958130335,-0.5224498023133258,-2.2543896169787017,0.0641640053528672,1.7445439355082553,0.16657761600810897,1.153288478193798,-0.3485560692319026,1.6723975308202748,-1.4928628322068755,-1.6181861633476398,-1.340466611826667,-1.9030891603088502,0.676297052944786,-0.7070735298365345,-1.2576915901107932,-0.8178093637634735,0.7244042275504166,1.1387575141886974,1.9304842065816488,-1.0762095399276679,0.6498091590069269,0.09232808825027074,0.8120530963930451,-0.06547362536090413,-0.26950140660406235,1.1799063944702664,-1.2903782869698577,1.6265025789312477,-0.6964064467883653,-1.0424265414424472,-1.0731381394579373,-1.3624828129692788,-1.7403256795722881,0.17707510187772527,0.5195739199081226,0.4952804190370265,-0.46473287120051465,0.14075145458915256,0.339714337182532,0.5737048374671936,1.5782214545698432,-0.6818051497239577,-1.279963212928249,-0.29629853056418315,-1.0933699811872881,-1.8778757105879695,0.10248862511625113,-0.8003921204890069,-0.3631402391252692,-0.7388594185896534,0.4657120667281838],\"type\":\"box\"},{\"boxpoints\":false,\"line\":{\"width\":1.3},\"marker\":{\"color\":\"rgba(55, 128, 191, 1.0)\"},\"name\":\"B\",\"orientation\":\"v\",\"y\":[0.4544377410856264,-0.1375870043576579,0.8156669055638456,-0.489796491062756,-0.00905295198424795,0.40704674765912113,0.31482605279780135,0.9059133115070056,-0.4879553472060321,1.2288516575823671,0.054800164950592437,-0.3509035239911853,0.030154993198753897,0.270366638958861,0.07926286234339848,-1.672611163017983,-0.763464775099433,-0.8223781707439133,0.7707501206589744,0.4327999304086911,0.0076067641932170615,-0.3990484620837755,-1.2907911037656161,0.5427170484041779,-1.0482748824488082,1.004652051988947,0.3461676467107137,0.3756211827055624,0.20681719777218535,-0.6364334362862925,-1.5781273426167646,-0.609718528331411,1.0883590667275753,0.1850840690170461,-0.6941326458569426,0.32749287552189277,-0.003459850947804814,0.4302040984711942,0.07018875243996506,-2.085119580056327,1.3850313622663697,-0.6817058619001582,0.37083761085052147,0.29890552295856776,-0.27525918843164304,-0.3042247925529244,0.9196670695044822,-0.23722035705530817,-1.3829923810111424,-1.561136557911276,-0.8585513216683399,0.3510497137412686,2.0123576363288675,-1.054279431840698,-1.2991553623960792,1.1653560076934681,1.9288671781251132,1.7386684779309682,1.1494859317424329,0.9933364862729432,1.147571945436017,-0.8972362625186938,0.04964679206805566,0.7860026188327001,-1.1429778559574573,0.9008205365299733,-0.649490216770433,1.9433224141655365,-0.0326739426972613,1.3892347004905574,-0.8525617890706202,1.4008384529373903,0.8835085160538176,-0.921068906163779,2.08553213425308,-0.5908389677638602,0.20056625761184052,-0.6425805018786173,-1.0348089164830356,0.7018571167285269,-0.9856490337253748,0.8532283975807009,-0.10154786903238316,0.5808642683381148,-0.5170917040642805,0.319990444732878,-1.7760635302207668,1.1504741024080762,-0.827248412516675,-0.14613819915286025,0.6448229763659613,1.4711659854864312,-1.0426563809525402,0.6842862468436529,-1.083691932715964,0.8548829105688805,0.36883859590091994,0.9375445910135839,-2.253115110906904,0.1291613384656027],\"type\":\"box\"},{\"boxpoints\":false,\"line\":{\"width\":1.3},\"marker\":{\"color\":\"rgba(50, 171, 96, 1.0)\"},\"name\":\"C\",\"orientation\":\"v\",\"y\":[1.657857041978962,0.39076381520820996,-0.5155034287405204,-0.43445040279501684,1.1337005517316454,-0.3272393290231717,1.7623697857748708,2.010351527767487,-0.19177578854812782,0.5733565801803565,-0.23302702021593796,0.01749197295371273,-0.7635817551066185,0.19351562450774795,0.8626446194516036,1.08308197060395,0.14879962803220712,-0.569018416697145,-1.0038545074933107,-0.7629906423651932,1.0359307619198,-2.2238535168762077,1.10048946590373,0.8624542847975779,-0.11279217661622384,-1.609128233943269,-1.3605336463952997,0.36418711880094534,0.544128186718478,-0.06858883350565796,1.1835420968142574,-1.5480712300279538,-0.9999096479194888,-0.027928375120816983,1.2461122038915546,-0.325528436680524,0.5129115240370162,-0.7044121369897092,-0.07126392432583276,-0.3544684664233206,2.3212153924870775,0.6234439480744467,-0.299443703958466,0.27552303522503807,1.295997474753949,1.605105503418999,-1.2570512652650787,0.5154314631016939,0.019439090072104242,0.6890074842993653,-0.7446046468830955,0.15822711565326616,-0.43785246947939954,0.3850194156138424,1.8212626364845261,1.1537406377523753,0.3403297802581537,-0.8450867851453279,0.2664450847871828,-0.3334281588563714,-1.91212575158581,0.017125749057377578,0.4739128014086982,-0.6282227486999669,-0.26199946675727337,-1.3587094332248681,0.9783002313800563,0.09362645943669422,0.023323234320433827,-0.7516274730667765,-0.2959620962271495,-1.0646365990896625,1.0159046870237638,-0.09905192358611867,1.9363964135476517,0.8938823241043444,1.100556321121381,-1.3499688271721482,0.280279354433701,0.7256185257848558,0.9766185669769128,1.537424575660381,1.0476835409552252,-0.03472286117941366,-0.6342216763834966,-0.42342741991553656,-0.07508037873906036,0.8348937962413467,1.3697415879285555,-0.7116131875130965,0.18479133105590836,0.6967548785655009,-0.257000533954322,0.822844137287367,0.3612938249951666,0.43464209474341164,-2.248944659818248,-0.25103101353619783,-0.3808142478680725,-1.3952878018736588],\"type\":\"box\"},{\"boxpoints\":false,\"line\":{\"width\":1.3},\"marker\":{\"color\":\"rgba(128, 0, 128, 1.0)\"},\"name\":\"D\",\"orientation\":\"v\",\"y\":[0.48159664924209344,-1.494899170240708,-2.695214861920816,-0.11376091129125801,-0.2687985264754661,-0.6450583314208733,-1.6065434708326156,1.6972480069876228,-1.1883102271911812,0.8717060552889668,-1.1429473843313935,-1.0486634198235076,0.7051944123923963,-0.05546138435631694,0.17447366552864144,-0.03781902917194652,2.0419034238257474,0.5943474478511892,-0.2574707548347274,-0.44717644829172676,-1.1734879976164674,-0.13264237348452182,0.5906035931257633,0.30323314168599325,0.18487996829408884,0.011309053480811591,-0.7681071927283063,-0.34869879496825285,-1.7989856637815356,-0.19482973734905434,0.6026883198922537,0.263468342801554,0.08249604282037369,0.28855532865865324,0.835984423090216,-2.225850543245584,1.41397316251639,0.12825388231821627,2.727512808175896,-0.5140785837787424,1.2202854579806688,-1.0366845853612594,1.6066043620832164,1.914383864382709,-0.7071426470298235,-0.2786417967707874,0.8330114074655275,1.4276669538831164,1.0795389419209482,-0.12603511312486484,0.7874779495219066,-0.8785063229799386,0.6960203289334285,-0.08534299050249547,-1.3632588174355618,-0.6098614537589439,1.174841578714827,-0.10573632904505641,-0.059126000246235794,0.003237773227892786,1.8376473663784754,0.8970724159737544,-0.6138459737355685,0.09008889854650924,-0.5153217020675772,-0.6443172269291257,-0.46983234051452394,2.5389740877391347,-1.450001877062961,-0.6407735377399877,-0.5928421707220279,-0.06981536433265376,-0.42859035833715525,1.8828725143437184,1.0758139751245803,1.6457534903555895,-1.048915025046709,-0.06361822585173464,1.3216226922365608,0.19305339840725647,0.6108761220095699,-1.5996699081719226,2.091566545424985,-0.5006986451163165,0.8562576846147126,0.10450722718309659,-0.14050584043050782,0.30302432493677395,-0.022420954059679435,-0.4199092812915915,-1.1655710325261168,-1.7421058056320526,1.3652467710816292,1.0143965523186196,0.0023486574752683326,2.7159918170494173,0.6385784789544899,-0.10689280866440759,0.5087790233387879,-1.0743567235970564],\"type\":\"box\"}],                        {\"legend\":{\"bgcolor\":\"#F5F6F9\",\"font\":{\"color\":\"#4D5663\"}},\"paper_bgcolor\":\"#F5F6F9\",\"plot_bgcolor\":\"#F5F6F9\",\"template\":{\"data\":{\"barpolar\":[{\"marker\":{\"line\":{\"color\":\"#E5ECF6\",\"width\":0.5},\"pattern\":{\"fillmode\":\"overlay\",\"size\":10,\"solidity\":0.2}},\"type\":\"barpolar\"}],\"bar\":[{\"error_x\":{\"color\":\"#2a3f5f\"},\"error_y\":{\"color\":\"#2a3f5f\"},\"marker\":{\"line\":{\"color\":\"#E5ECF6\",\"width\":0.5},\"pattern\":{\"fillmode\":\"overlay\",\"size\":10,\"solidity\":0.2}},\"type\":\"bar\"}],\"carpet\":[{\"aaxis\":{\"endlinecolor\":\"#2a3f5f\",\"gridcolor\":\"white\",\"linecolor\":\"white\",\"minorgridcolor\":\"white\",\"startlinecolor\":\"#2a3f5f\"},\"baxis\":{\"endlinecolor\":\"#2a3f5f\",\"gridcolor\":\"white\",\"linecolor\":\"white\",\"minorgridcolor\":\"white\",\"startlinecolor\":\"#2a3f5f\"},\"type\":\"carpet\"}],\"choropleth\":[{\"colorbar\":{\"outlinewidth\":0,\"ticks\":\"\"},\"type\":\"choropleth\"}],\"contourcarpet\":[{\"colorbar\":{\"outlinewidth\":0,\"ticks\":\"\"},\"type\":\"contourcarpet\"}],\"contour\":[{\"colorbar\":{\"outlinewidth\":0,\"ticks\":\"\"},\"colorscale\":[[0.0,\"#0d0887\"],[0.1111111111111111,\"#46039f\"],[0.2222222222222222,\"#7201a8\"],[0.3333333333333333,\"#9c179e\"],[0.4444444444444444,\"#bd3786\"],[0.5555555555555556,\"#d8576b\"],[0.6666666666666666,\"#ed7953\"],[0.7777777777777778,\"#fb9f3a\"],[0.8888888888888888,\"#fdca26\"],[1.0,\"#f0f921\"]],\"type\":\"contour\"}],\"heatmapgl\":[{\"colorbar\":{\"outlinewidth\":0,\"ticks\":\"\"},\"colorscale\":[[0.0,\"#0d0887\"],[0.1111111111111111,\"#46039f\"],[0.2222222222222222,\"#7201a8\"],[0.3333333333333333,\"#9c179e\"],[0.4444444444444444,\"#bd3786\"],[0.5555555555555556,\"#d8576b\"],[0.6666666666666666,\"#ed7953\"],[0.7777777777777778,\"#fb9f3a\"],[0.8888888888888888,\"#fdca26\"],[1.0,\"#f0f921\"]],\"type\":\"heatmapgl\"}],\"heatmap\":[{\"colorbar\":{\"outlinewidth\":0,\"ticks\":\"\"},\"colorscale\":[[0.0,\"#0d0887\"],[0.1111111111111111,\"#46039f\"],[0.2222222222222222,\"#7201a8\"],[0.3333333333333333,\"#9c179e\"],[0.4444444444444444,\"#bd3786\"],[0.5555555555555556,\"#d8576b\"],[0.6666666666666666,\"#ed7953\"],[0.7777777777777778,\"#fb9f3a\"],[0.8888888888888888,\"#fdca26\"],[1.0,\"#f0f921\"]],\"type\":\"heatmap\"}],\"histogram2dcontour\":[{\"colorbar\":{\"outlinewidth\":0,\"ticks\":\"\"},\"colorscale\":[[0.0,\"#0d0887\"],[0.1111111111111111,\"#46039f\"],[0.2222222222222222,\"#7201a8\"],[0.3333333333333333,\"#9c179e\"],[0.4444444444444444,\"#bd3786\"],[0.5555555555555556,\"#d8576b\"],[0.6666666666666666,\"#ed7953\"],[0.7777777777777778,\"#fb9f3a\"],[0.8888888888888888,\"#fdca26\"],[1.0,\"#f0f921\"]],\"type\":\"histogram2dcontour\"}],\"histogram2d\":[{\"colorbar\":{\"outlinewidth\":0,\"ticks\":\"\"},\"colorscale\":[[0.0,\"#0d0887\"],[0.1111111111111111,\"#46039f\"],[0.2222222222222222,\"#7201a8\"],[0.3333333333333333,\"#9c179e\"],[0.4444444444444444,\"#bd3786\"],[0.5555555555555556,\"#d8576b\"],[0.6666666666666666,\"#ed7953\"],[0.7777777777777778,\"#fb9f3a\"],[0.8888888888888888,\"#fdca26\"],[1.0,\"#f0f921\"]],\"type\":\"histogram2d\"}],\"histogram\":[{\"marker\":{\"pattern\":{\"fillmode\":\"overlay\",\"size\":10,\"solidity\":0.2}},\"type\":\"histogram\"}],\"mesh3d\":[{\"colorbar\":{\"outlinewidth\":0,\"ticks\":\"\"},\"type\":\"mesh3d\"}],\"parcoords\":[{\"line\":{\"colorbar\":{\"outlinewidth\":0,\"ticks\":\"\"}},\"type\":\"parcoords\"}],\"pie\":[{\"automargin\":true,\"type\":\"pie\"}],\"scatter3d\":[{\"line\":{\"colorbar\":{\"outlinewidth\":0,\"ticks\":\"\"}},\"marker\":{\"colorbar\":{\"outlinewidth\":0,\"ticks\":\"\"}},\"type\":\"scatter3d\"}],\"scattercarpet\":[{\"marker\":{\"colorbar\":{\"outlinewidth\":0,\"ticks\":\"\"}},\"type\":\"scattercarpet\"}],\"scattergeo\":[{\"marker\":{\"colorbar\":{\"outlinewidth\":0,\"ticks\":\"\"}},\"type\":\"scattergeo\"}],\"scattergl\":[{\"marker\":{\"colorbar\":{\"outlinewidth\":0,\"ticks\":\"\"}},\"type\":\"scattergl\"}],\"scattermapbox\":[{\"marker\":{\"colorbar\":{\"outlinewidth\":0,\"ticks\":\"\"}},\"type\":\"scattermapbox\"}],\"scatterpolargl\":[{\"marker\":{\"colorbar\":{\"outlinewidth\":0,\"ticks\":\"\"}},\"type\":\"scatterpolargl\"}],\"scatterpolar\":[{\"marker\":{\"colorbar\":{\"outlinewidth\":0,\"ticks\":\"\"}},\"type\":\"scatterpolar\"}],\"scatter\":[{\"fillpattern\":{\"fillmode\":\"overlay\",\"size\":10,\"solidity\":0.2},\"type\":\"scatter\"}],\"scatterternary\":[{\"marker\":{\"colorbar\":{\"outlinewidth\":0,\"ticks\":\"\"}},\"type\":\"scatterternary\"}],\"surface\":[{\"colorbar\":{\"outlinewidth\":0,\"ticks\":\"\"},\"colorscale\":[[0.0,\"#0d0887\"],[0.1111111111111111,\"#46039f\"],[0.2222222222222222,\"#7201a8\"],[0.3333333333333333,\"#9c179e\"],[0.4444444444444444,\"#bd3786\"],[0.5555555555555556,\"#d8576b\"],[0.6666666666666666,\"#ed7953\"],[0.7777777777777778,\"#fb9f3a\"],[0.8888888888888888,\"#fdca26\"],[1.0,\"#f0f921\"]],\"type\":\"surface\"}],\"table\":[{\"cells\":{\"fill\":{\"color\":\"#EBF0F8\"},\"line\":{\"color\":\"white\"}},\"header\":{\"fill\":{\"color\":\"#C8D4E3\"},\"line\":{\"color\":\"white\"}},\"type\":\"table\"}]},\"layout\":{\"annotationdefaults\":{\"arrowcolor\":\"#2a3f5f\",\"arrowhead\":0,\"arrowwidth\":1},\"autotypenumbers\":\"strict\",\"coloraxis\":{\"colorbar\":{\"outlinewidth\":0,\"ticks\":\"\"}},\"colorscale\":{\"diverging\":[[0,\"#8e0152\"],[0.1,\"#c51b7d\"],[0.2,\"#de77ae\"],[0.3,\"#f1b6da\"],[0.4,\"#fde0ef\"],[0.5,\"#f7f7f7\"],[0.6,\"#e6f5d0\"],[0.7,\"#b8e186\"],[0.8,\"#7fbc41\"],[0.9,\"#4d9221\"],[1,\"#276419\"]],\"sequential\":[[0.0,\"#0d0887\"],[0.1111111111111111,\"#46039f\"],[0.2222222222222222,\"#7201a8\"],[0.3333333333333333,\"#9c179e\"],[0.4444444444444444,\"#bd3786\"],[0.5555555555555556,\"#d8576b\"],[0.6666666666666666,\"#ed7953\"],[0.7777777777777778,\"#fb9f3a\"],[0.8888888888888888,\"#fdca26\"],[1.0,\"#f0f921\"]],\"sequentialminus\":[[0.0,\"#0d0887\"],[0.1111111111111111,\"#46039f\"],[0.2222222222222222,\"#7201a8\"],[0.3333333333333333,\"#9c179e\"],[0.4444444444444444,\"#bd3786\"],[0.5555555555555556,\"#d8576b\"],[0.6666666666666666,\"#ed7953\"],[0.7777777777777778,\"#fb9f3a\"],[0.8888888888888888,\"#fdca26\"],[1.0,\"#f0f921\"]]},\"colorway\":[\"#636efa\",\"#EF553B\",\"#00cc96\",\"#ab63fa\",\"#FFA15A\",\"#19d3f3\",\"#FF6692\",\"#B6E880\",\"#FF97FF\",\"#FECB52\"],\"font\":{\"color\":\"#2a3f5f\"},\"geo\":{\"bgcolor\":\"white\",\"lakecolor\":\"white\",\"landcolor\":\"#E5ECF6\",\"showlakes\":true,\"showland\":true,\"subunitcolor\":\"white\"},\"hoverlabel\":{\"align\":\"left\"},\"hovermode\":\"closest\",\"mapbox\":{\"style\":\"light\"},\"paper_bgcolor\":\"white\",\"plot_bgcolor\":\"#E5ECF6\",\"polar\":{\"angularaxis\":{\"gridcolor\":\"white\",\"linecolor\":\"white\",\"ticks\":\"\"},\"bgcolor\":\"#E5ECF6\",\"radialaxis\":{\"gridcolor\":\"white\",\"linecolor\":\"white\",\"ticks\":\"\"}},\"scene\":{\"xaxis\":{\"backgroundcolor\":\"#E5ECF6\",\"gridcolor\":\"white\",\"gridwidth\":2,\"linecolor\":\"white\",\"showbackground\":true,\"ticks\":\"\",\"zerolinecolor\":\"white\"},\"yaxis\":{\"backgroundcolor\":\"#E5ECF6\",\"gridcolor\":\"white\",\"gridwidth\":2,\"linecolor\":\"white\",\"showbackground\":true,\"ticks\":\"\",\"zerolinecolor\":\"white\"},\"zaxis\":{\"backgroundcolor\":\"#E5ECF6\",\"gridcolor\":\"white\",\"gridwidth\":2,\"linecolor\":\"white\",\"showbackground\":true,\"ticks\":\"\",\"zerolinecolor\":\"white\"}},\"shapedefaults\":{\"line\":{\"color\":\"#2a3f5f\"}},\"ternary\":{\"aaxis\":{\"gridcolor\":\"white\",\"linecolor\":\"white\",\"ticks\":\"\"},\"baxis\":{\"gridcolor\":\"white\",\"linecolor\":\"white\",\"ticks\":\"\"},\"bgcolor\":\"#E5ECF6\",\"caxis\":{\"gridcolor\":\"white\",\"linecolor\":\"white\",\"ticks\":\"\"}},\"title\":{\"x\":0.05},\"xaxis\":{\"automargin\":true,\"gridcolor\":\"white\",\"linecolor\":\"white\",\"ticks\":\"\",\"title\":{\"standoff\":15},\"zerolinecolor\":\"white\",\"zerolinewidth\":2},\"yaxis\":{\"automargin\":true,\"gridcolor\":\"white\",\"linecolor\":\"white\",\"ticks\":\"\",\"title\":{\"standoff\":15},\"zerolinecolor\":\"white\",\"zerolinewidth\":2}}},\"title\":{\"font\":{\"color\":\"#4D5663\"}},\"xaxis\":{\"gridcolor\":\"#E1E5ED\",\"showgrid\":true,\"tickfont\":{\"color\":\"#4D5663\"},\"title\":{\"font\":{\"color\":\"#4D5663\"},\"text\":\"\"},\"zerolinecolor\":\"#E1E5ED\"},\"yaxis\":{\"gridcolor\":\"#E1E5ED\",\"showgrid\":true,\"tickfont\":{\"color\":\"#4D5663\"},\"title\":{\"font\":{\"color\":\"#4D5663\"},\"text\":\"\"},\"zerolinecolor\":\"#E1E5ED\"}},                        {\"showLink\": true, \"linkText\": \"Export to plot.ly\", \"plotlyServerURL\": \"https://plot.ly\", \"responsive\": true}                    ).then(function(){\n",
       "                            \n",
       "var gd = document.getElementById('7e34efc0-3a9f-4094-bec2-8e4d37418845');\n",
       "var x = new MutationObserver(function (mutations, observer) {{\n",
       "        var display = window.getComputedStyle(gd).display;\n",
       "        if (!display || display === 'none') {{\n",
       "            console.log([gd, 'removed!']);\n",
       "            Plotly.purge(gd);\n",
       "            observer.disconnect();\n",
       "        }}\n",
       "}});\n",
       "\n",
       "// Listen for the removal of the full notebook cells\n",
       "var notebookContainer = gd.closest('#notebook-container');\n",
       "if (notebookContainer) {{\n",
       "    x.observe(notebookContainer, {childList: true});\n",
       "}}\n",
       "\n",
       "// Listen for the clearing of the current output cell\n",
       "var outputEl = gd.closest('.output');\n",
       "if (outputEl) {{\n",
       "    x.observe(outputEl, {childList: true});\n",
       "}}\n",
       "\n",
       "                        })                };                });            </script>        </div>"
      ]
     },
     "metadata": {},
     "output_type": "display_data"
    }
   ],
   "source": [
    "df.iplot(kind='box')"
   ]
  },
  {
   "cell_type": "markdown",
   "metadata": {},
   "source": [
    "## 3d Surface"
   ]
  },
  {
   "cell_type": "code",
   "execution_count": 13,
   "metadata": {},
   "outputs": [
    {
     "data": {
      "application/vnd.plotly.v1+json": {
       "config": {
        "linkText": "Export to plot.ly",
        "plotlyServerURL": "https://plot.ly",
        "showLink": true
       },
       "data": [
        {
         "colorscale": [
          [
           0,
           "rgb(165,0,38)"
          ],
          [
           0.1,
           "rgb(215,48,39)"
          ],
          [
           0.2,
           "rgb(244,109,67)"
          ],
          [
           0.3,
           "rgb(253,174,97)"
          ],
          [
           0.4,
           "rgb(254,224,144)"
          ],
          [
           0.5,
           "rgb(255,255,191)"
          ],
          [
           0.6,
           "rgb(224,243,248)"
          ],
          [
           0.7,
           "rgb(171,217,233)"
          ],
          [
           0.8,
           "rgb(116,173,209)"
          ],
          [
           0.9,
           "rgb(69,117,180)"
          ],
          [
           1,
           "rgb(49,54,149)"
          ]
         ],
         "type": "surface",
         "x": [
          0,
          1,
          2,
          3,
          4
         ],
         "y": [
          "x",
          "y",
          "z"
         ],
         "z": [
          [
           1,
           2,
           3,
           4,
           5
          ],
          [
           10,
           20,
           30,
           20,
           10
          ],
          [
           5,
           4,
           3,
           2,
           1
          ]
         ]
        }
       ],
       "layout": {
        "legend": {
         "bgcolor": "#F5F6F9",
         "font": {
          "color": "#4D5663"
         }
        },
        "paper_bgcolor": "#F5F6F9",
        "plot_bgcolor": "#F5F6F9",
        "template": {
         "data": {
          "bar": [
           {
            "error_x": {
             "color": "#2a3f5f"
            },
            "error_y": {
             "color": "#2a3f5f"
            },
            "marker": {
             "line": {
              "color": "#E5ECF6",
              "width": 0.5
             },
             "pattern": {
              "fillmode": "overlay",
              "size": 10,
              "solidity": 0.2
             }
            },
            "type": "bar"
           }
          ],
          "barpolar": [
           {
            "marker": {
             "line": {
              "color": "#E5ECF6",
              "width": 0.5
             },
             "pattern": {
              "fillmode": "overlay",
              "size": 10,
              "solidity": 0.2
             }
            },
            "type": "barpolar"
           }
          ],
          "carpet": [
           {
            "aaxis": {
             "endlinecolor": "#2a3f5f",
             "gridcolor": "white",
             "linecolor": "white",
             "minorgridcolor": "white",
             "startlinecolor": "#2a3f5f"
            },
            "baxis": {
             "endlinecolor": "#2a3f5f",
             "gridcolor": "white",
             "linecolor": "white",
             "minorgridcolor": "white",
             "startlinecolor": "#2a3f5f"
            },
            "type": "carpet"
           }
          ],
          "choropleth": [
           {
            "colorbar": {
             "outlinewidth": 0,
             "ticks": ""
            },
            "type": "choropleth"
           }
          ],
          "contour": [
           {
            "colorbar": {
             "outlinewidth": 0,
             "ticks": ""
            },
            "colorscale": [
             [
              0,
              "#0d0887"
             ],
             [
              0.1111111111111111,
              "#46039f"
             ],
             [
              0.2222222222222222,
              "#7201a8"
             ],
             [
              0.3333333333333333,
              "#9c179e"
             ],
             [
              0.4444444444444444,
              "#bd3786"
             ],
             [
              0.5555555555555556,
              "#d8576b"
             ],
             [
              0.6666666666666666,
              "#ed7953"
             ],
             [
              0.7777777777777778,
              "#fb9f3a"
             ],
             [
              0.8888888888888888,
              "#fdca26"
             ],
             [
              1,
              "#f0f921"
             ]
            ],
            "type": "contour"
           }
          ],
          "contourcarpet": [
           {
            "colorbar": {
             "outlinewidth": 0,
             "ticks": ""
            },
            "type": "contourcarpet"
           }
          ],
          "heatmap": [
           {
            "colorbar": {
             "outlinewidth": 0,
             "ticks": ""
            },
            "colorscale": [
             [
              0,
              "#0d0887"
             ],
             [
              0.1111111111111111,
              "#46039f"
             ],
             [
              0.2222222222222222,
              "#7201a8"
             ],
             [
              0.3333333333333333,
              "#9c179e"
             ],
             [
              0.4444444444444444,
              "#bd3786"
             ],
             [
              0.5555555555555556,
              "#d8576b"
             ],
             [
              0.6666666666666666,
              "#ed7953"
             ],
             [
              0.7777777777777778,
              "#fb9f3a"
             ],
             [
              0.8888888888888888,
              "#fdca26"
             ],
             [
              1,
              "#f0f921"
             ]
            ],
            "type": "heatmap"
           }
          ],
          "heatmapgl": [
           {
            "colorbar": {
             "outlinewidth": 0,
             "ticks": ""
            },
            "colorscale": [
             [
              0,
              "#0d0887"
             ],
             [
              0.1111111111111111,
              "#46039f"
             ],
             [
              0.2222222222222222,
              "#7201a8"
             ],
             [
              0.3333333333333333,
              "#9c179e"
             ],
             [
              0.4444444444444444,
              "#bd3786"
             ],
             [
              0.5555555555555556,
              "#d8576b"
             ],
             [
              0.6666666666666666,
              "#ed7953"
             ],
             [
              0.7777777777777778,
              "#fb9f3a"
             ],
             [
              0.8888888888888888,
              "#fdca26"
             ],
             [
              1,
              "#f0f921"
             ]
            ],
            "type": "heatmapgl"
           }
          ],
          "histogram": [
           {
            "marker": {
             "pattern": {
              "fillmode": "overlay",
              "size": 10,
              "solidity": 0.2
             }
            },
            "type": "histogram"
           }
          ],
          "histogram2d": [
           {
            "colorbar": {
             "outlinewidth": 0,
             "ticks": ""
            },
            "colorscale": [
             [
              0,
              "#0d0887"
             ],
             [
              0.1111111111111111,
              "#46039f"
             ],
             [
              0.2222222222222222,
              "#7201a8"
             ],
             [
              0.3333333333333333,
              "#9c179e"
             ],
             [
              0.4444444444444444,
              "#bd3786"
             ],
             [
              0.5555555555555556,
              "#d8576b"
             ],
             [
              0.6666666666666666,
              "#ed7953"
             ],
             [
              0.7777777777777778,
              "#fb9f3a"
             ],
             [
              0.8888888888888888,
              "#fdca26"
             ],
             [
              1,
              "#f0f921"
             ]
            ],
            "type": "histogram2d"
           }
          ],
          "histogram2dcontour": [
           {
            "colorbar": {
             "outlinewidth": 0,
             "ticks": ""
            },
            "colorscale": [
             [
              0,
              "#0d0887"
             ],
             [
              0.1111111111111111,
              "#46039f"
             ],
             [
              0.2222222222222222,
              "#7201a8"
             ],
             [
              0.3333333333333333,
              "#9c179e"
             ],
             [
              0.4444444444444444,
              "#bd3786"
             ],
             [
              0.5555555555555556,
              "#d8576b"
             ],
             [
              0.6666666666666666,
              "#ed7953"
             ],
             [
              0.7777777777777778,
              "#fb9f3a"
             ],
             [
              0.8888888888888888,
              "#fdca26"
             ],
             [
              1,
              "#f0f921"
             ]
            ],
            "type": "histogram2dcontour"
           }
          ],
          "mesh3d": [
           {
            "colorbar": {
             "outlinewidth": 0,
             "ticks": ""
            },
            "type": "mesh3d"
           }
          ],
          "parcoords": [
           {
            "line": {
             "colorbar": {
              "outlinewidth": 0,
              "ticks": ""
             }
            },
            "type": "parcoords"
           }
          ],
          "pie": [
           {
            "automargin": true,
            "type": "pie"
           }
          ],
          "scatter": [
           {
            "fillpattern": {
             "fillmode": "overlay",
             "size": 10,
             "solidity": 0.2
            },
            "type": "scatter"
           }
          ],
          "scatter3d": [
           {
            "line": {
             "colorbar": {
              "outlinewidth": 0,
              "ticks": ""
             }
            },
            "marker": {
             "colorbar": {
              "outlinewidth": 0,
              "ticks": ""
             }
            },
            "type": "scatter3d"
           }
          ],
          "scattercarpet": [
           {
            "marker": {
             "colorbar": {
              "outlinewidth": 0,
              "ticks": ""
             }
            },
            "type": "scattercarpet"
           }
          ],
          "scattergeo": [
           {
            "marker": {
             "colorbar": {
              "outlinewidth": 0,
              "ticks": ""
             }
            },
            "type": "scattergeo"
           }
          ],
          "scattergl": [
           {
            "marker": {
             "colorbar": {
              "outlinewidth": 0,
              "ticks": ""
             }
            },
            "type": "scattergl"
           }
          ],
          "scattermapbox": [
           {
            "marker": {
             "colorbar": {
              "outlinewidth": 0,
              "ticks": ""
             }
            },
            "type": "scattermapbox"
           }
          ],
          "scatterpolar": [
           {
            "marker": {
             "colorbar": {
              "outlinewidth": 0,
              "ticks": ""
             }
            },
            "type": "scatterpolar"
           }
          ],
          "scatterpolargl": [
           {
            "marker": {
             "colorbar": {
              "outlinewidth": 0,
              "ticks": ""
             }
            },
            "type": "scatterpolargl"
           }
          ],
          "scatterternary": [
           {
            "marker": {
             "colorbar": {
              "outlinewidth": 0,
              "ticks": ""
             }
            },
            "type": "scatterternary"
           }
          ],
          "surface": [
           {
            "colorbar": {
             "outlinewidth": 0,
             "ticks": ""
            },
            "colorscale": [
             [
              0,
              "#0d0887"
             ],
             [
              0.1111111111111111,
              "#46039f"
             ],
             [
              0.2222222222222222,
              "#7201a8"
             ],
             [
              0.3333333333333333,
              "#9c179e"
             ],
             [
              0.4444444444444444,
              "#bd3786"
             ],
             [
              0.5555555555555556,
              "#d8576b"
             ],
             [
              0.6666666666666666,
              "#ed7953"
             ],
             [
              0.7777777777777778,
              "#fb9f3a"
             ],
             [
              0.8888888888888888,
              "#fdca26"
             ],
             [
              1,
              "#f0f921"
             ]
            ],
            "type": "surface"
           }
          ],
          "table": [
           {
            "cells": {
             "fill": {
              "color": "#EBF0F8"
             },
             "line": {
              "color": "white"
             }
            },
            "header": {
             "fill": {
              "color": "#C8D4E3"
             },
             "line": {
              "color": "white"
             }
            },
            "type": "table"
           }
          ]
         },
         "layout": {
          "annotationdefaults": {
           "arrowcolor": "#2a3f5f",
           "arrowhead": 0,
           "arrowwidth": 1
          },
          "autotypenumbers": "strict",
          "coloraxis": {
           "colorbar": {
            "outlinewidth": 0,
            "ticks": ""
           }
          },
          "colorscale": {
           "diverging": [
            [
             0,
             "#8e0152"
            ],
            [
             0.1,
             "#c51b7d"
            ],
            [
             0.2,
             "#de77ae"
            ],
            [
             0.3,
             "#f1b6da"
            ],
            [
             0.4,
             "#fde0ef"
            ],
            [
             0.5,
             "#f7f7f7"
            ],
            [
             0.6,
             "#e6f5d0"
            ],
            [
             0.7,
             "#b8e186"
            ],
            [
             0.8,
             "#7fbc41"
            ],
            [
             0.9,
             "#4d9221"
            ],
            [
             1,
             "#276419"
            ]
           ],
           "sequential": [
            [
             0,
             "#0d0887"
            ],
            [
             0.1111111111111111,
             "#46039f"
            ],
            [
             0.2222222222222222,
             "#7201a8"
            ],
            [
             0.3333333333333333,
             "#9c179e"
            ],
            [
             0.4444444444444444,
             "#bd3786"
            ],
            [
             0.5555555555555556,
             "#d8576b"
            ],
            [
             0.6666666666666666,
             "#ed7953"
            ],
            [
             0.7777777777777778,
             "#fb9f3a"
            ],
            [
             0.8888888888888888,
             "#fdca26"
            ],
            [
             1,
             "#f0f921"
            ]
           ],
           "sequentialminus": [
            [
             0,
             "#0d0887"
            ],
            [
             0.1111111111111111,
             "#46039f"
            ],
            [
             0.2222222222222222,
             "#7201a8"
            ],
            [
             0.3333333333333333,
             "#9c179e"
            ],
            [
             0.4444444444444444,
             "#bd3786"
            ],
            [
             0.5555555555555556,
             "#d8576b"
            ],
            [
             0.6666666666666666,
             "#ed7953"
            ],
            [
             0.7777777777777778,
             "#fb9f3a"
            ],
            [
             0.8888888888888888,
             "#fdca26"
            ],
            [
             1,
             "#f0f921"
            ]
           ]
          },
          "colorway": [
           "#636efa",
           "#EF553B",
           "#00cc96",
           "#ab63fa",
           "#FFA15A",
           "#19d3f3",
           "#FF6692",
           "#B6E880",
           "#FF97FF",
           "#FECB52"
          ],
          "font": {
           "color": "#2a3f5f"
          },
          "geo": {
           "bgcolor": "white",
           "lakecolor": "white",
           "landcolor": "#E5ECF6",
           "showlakes": true,
           "showland": true,
           "subunitcolor": "white"
          },
          "hoverlabel": {
           "align": "left"
          },
          "hovermode": "closest",
          "mapbox": {
           "style": "light"
          },
          "paper_bgcolor": "white",
          "plot_bgcolor": "#E5ECF6",
          "polar": {
           "angularaxis": {
            "gridcolor": "white",
            "linecolor": "white",
            "ticks": ""
           },
           "bgcolor": "#E5ECF6",
           "radialaxis": {
            "gridcolor": "white",
            "linecolor": "white",
            "ticks": ""
           }
          },
          "scene": {
           "xaxis": {
            "backgroundcolor": "#E5ECF6",
            "gridcolor": "white",
            "gridwidth": 2,
            "linecolor": "white",
            "showbackground": true,
            "ticks": "",
            "zerolinecolor": "white"
           },
           "yaxis": {
            "backgroundcolor": "#E5ECF6",
            "gridcolor": "white",
            "gridwidth": 2,
            "linecolor": "white",
            "showbackground": true,
            "ticks": "",
            "zerolinecolor": "white"
           },
           "zaxis": {
            "backgroundcolor": "#E5ECF6",
            "gridcolor": "white",
            "gridwidth": 2,
            "linecolor": "white",
            "showbackground": true,
            "ticks": "",
            "zerolinecolor": "white"
           }
          },
          "shapedefaults": {
           "line": {
            "color": "#2a3f5f"
           }
          },
          "ternary": {
           "aaxis": {
            "gridcolor": "white",
            "linecolor": "white",
            "ticks": ""
           },
           "baxis": {
            "gridcolor": "white",
            "linecolor": "white",
            "ticks": ""
           },
           "bgcolor": "#E5ECF6",
           "caxis": {
            "gridcolor": "white",
            "linecolor": "white",
            "ticks": ""
           }
          },
          "title": {
           "x": 0.05
          },
          "xaxis": {
           "automargin": true,
           "gridcolor": "white",
           "linecolor": "white",
           "ticks": "",
           "title": {
            "standoff": 15
           },
           "zerolinecolor": "white",
           "zerolinewidth": 2
          },
          "yaxis": {
           "automargin": true,
           "gridcolor": "white",
           "linecolor": "white",
           "ticks": "",
           "title": {
            "standoff": 15
           },
           "zerolinecolor": "white",
           "zerolinewidth": 2
          }
         }
        },
        "title": {
         "font": {
          "color": "#4D5663"
         }
        },
        "xaxis": {
         "gridcolor": "#E1E5ED",
         "showgrid": true,
         "tickfont": {
          "color": "#4D5663"
         },
         "title": {
          "font": {
           "color": "#4D5663"
          },
          "text": ""
         },
         "zerolinecolor": "#E1E5ED"
        },
        "yaxis": {
         "gridcolor": "#E1E5ED",
         "showgrid": true,
         "tickfont": {
          "color": "#4D5663"
         },
         "title": {
          "font": {
           "color": "#4D5663"
          },
          "text": ""
         },
         "zerolinecolor": "#E1E5ED"
        }
       }
      },
      "text/html": [
       "<div>                            <div id=\"ecf2c28f-a016-4435-b944-15e14b64eeb6\" class=\"plotly-graph-div\" style=\"height:525px; width:100%;\"></div>            <script type=\"text/javascript\">                require([\"plotly\"], function(Plotly) {                    window.PLOTLYENV=window.PLOTLYENV || {};\n",
       "                    window.PLOTLYENV.BASE_URL='https://plot.ly';                                    if (document.getElementById(\"ecf2c28f-a016-4435-b944-15e14b64eeb6\")) {                    Plotly.newPlot(                        \"ecf2c28f-a016-4435-b944-15e14b64eeb6\",                        [{\"colorscale\":[[0.0,\"rgb(165,0,38)\"],[0.1,\"rgb(215,48,39)\"],[0.2,\"rgb(244,109,67)\"],[0.3,\"rgb(253,174,97)\"],[0.4,\"rgb(254,224,144)\"],[0.5,\"rgb(255,255,191)\"],[0.6,\"rgb(224,243,248)\"],[0.7,\"rgb(171,217,233)\"],[0.8,\"rgb(116,173,209)\"],[0.9,\"rgb(69,117,180)\"],[1.0,\"rgb(49,54,149)\"]],\"x\":[0,1,2,3,4],\"y\":[\"x\",\"y\",\"z\"],\"z\":[[1,2,3,4,5],[10,20,30,20,10],[5,4,3,2,1]],\"type\":\"surface\"}],                        {\"legend\":{\"bgcolor\":\"#F5F6F9\",\"font\":{\"color\":\"#4D5663\"}},\"paper_bgcolor\":\"#F5F6F9\",\"plot_bgcolor\":\"#F5F6F9\",\"template\":{\"data\":{\"barpolar\":[{\"marker\":{\"line\":{\"color\":\"#E5ECF6\",\"width\":0.5},\"pattern\":{\"fillmode\":\"overlay\",\"size\":10,\"solidity\":0.2}},\"type\":\"barpolar\"}],\"bar\":[{\"error_x\":{\"color\":\"#2a3f5f\"},\"error_y\":{\"color\":\"#2a3f5f\"},\"marker\":{\"line\":{\"color\":\"#E5ECF6\",\"width\":0.5},\"pattern\":{\"fillmode\":\"overlay\",\"size\":10,\"solidity\":0.2}},\"type\":\"bar\"}],\"carpet\":[{\"aaxis\":{\"endlinecolor\":\"#2a3f5f\",\"gridcolor\":\"white\",\"linecolor\":\"white\",\"minorgridcolor\":\"white\",\"startlinecolor\":\"#2a3f5f\"},\"baxis\":{\"endlinecolor\":\"#2a3f5f\",\"gridcolor\":\"white\",\"linecolor\":\"white\",\"minorgridcolor\":\"white\",\"startlinecolor\":\"#2a3f5f\"},\"type\":\"carpet\"}],\"choropleth\":[{\"colorbar\":{\"outlinewidth\":0,\"ticks\":\"\"},\"type\":\"choropleth\"}],\"contourcarpet\":[{\"colorbar\":{\"outlinewidth\":0,\"ticks\":\"\"},\"type\":\"contourcarpet\"}],\"contour\":[{\"colorbar\":{\"outlinewidth\":0,\"ticks\":\"\"},\"colorscale\":[[0.0,\"#0d0887\"],[0.1111111111111111,\"#46039f\"],[0.2222222222222222,\"#7201a8\"],[0.3333333333333333,\"#9c179e\"],[0.4444444444444444,\"#bd3786\"],[0.5555555555555556,\"#d8576b\"],[0.6666666666666666,\"#ed7953\"],[0.7777777777777778,\"#fb9f3a\"],[0.8888888888888888,\"#fdca26\"],[1.0,\"#f0f921\"]],\"type\":\"contour\"}],\"heatmapgl\":[{\"colorbar\":{\"outlinewidth\":0,\"ticks\":\"\"},\"colorscale\":[[0.0,\"#0d0887\"],[0.1111111111111111,\"#46039f\"],[0.2222222222222222,\"#7201a8\"],[0.3333333333333333,\"#9c179e\"],[0.4444444444444444,\"#bd3786\"],[0.5555555555555556,\"#d8576b\"],[0.6666666666666666,\"#ed7953\"],[0.7777777777777778,\"#fb9f3a\"],[0.8888888888888888,\"#fdca26\"],[1.0,\"#f0f921\"]],\"type\":\"heatmapgl\"}],\"heatmap\":[{\"colorbar\":{\"outlinewidth\":0,\"ticks\":\"\"},\"colorscale\":[[0.0,\"#0d0887\"],[0.1111111111111111,\"#46039f\"],[0.2222222222222222,\"#7201a8\"],[0.3333333333333333,\"#9c179e\"],[0.4444444444444444,\"#bd3786\"],[0.5555555555555556,\"#d8576b\"],[0.6666666666666666,\"#ed7953\"],[0.7777777777777778,\"#fb9f3a\"],[0.8888888888888888,\"#fdca26\"],[1.0,\"#f0f921\"]],\"type\":\"heatmap\"}],\"histogram2dcontour\":[{\"colorbar\":{\"outlinewidth\":0,\"ticks\":\"\"},\"colorscale\":[[0.0,\"#0d0887\"],[0.1111111111111111,\"#46039f\"],[0.2222222222222222,\"#7201a8\"],[0.3333333333333333,\"#9c179e\"],[0.4444444444444444,\"#bd3786\"],[0.5555555555555556,\"#d8576b\"],[0.6666666666666666,\"#ed7953\"],[0.7777777777777778,\"#fb9f3a\"],[0.8888888888888888,\"#fdca26\"],[1.0,\"#f0f921\"]],\"type\":\"histogram2dcontour\"}],\"histogram2d\":[{\"colorbar\":{\"outlinewidth\":0,\"ticks\":\"\"},\"colorscale\":[[0.0,\"#0d0887\"],[0.1111111111111111,\"#46039f\"],[0.2222222222222222,\"#7201a8\"],[0.3333333333333333,\"#9c179e\"],[0.4444444444444444,\"#bd3786\"],[0.5555555555555556,\"#d8576b\"],[0.6666666666666666,\"#ed7953\"],[0.7777777777777778,\"#fb9f3a\"],[0.8888888888888888,\"#fdca26\"],[1.0,\"#f0f921\"]],\"type\":\"histogram2d\"}],\"histogram\":[{\"marker\":{\"pattern\":{\"fillmode\":\"overlay\",\"size\":10,\"solidity\":0.2}},\"type\":\"histogram\"}],\"mesh3d\":[{\"colorbar\":{\"outlinewidth\":0,\"ticks\":\"\"},\"type\":\"mesh3d\"}],\"parcoords\":[{\"line\":{\"colorbar\":{\"outlinewidth\":0,\"ticks\":\"\"}},\"type\":\"parcoords\"}],\"pie\":[{\"automargin\":true,\"type\":\"pie\"}],\"scatter3d\":[{\"line\":{\"colorbar\":{\"outlinewidth\":0,\"ticks\":\"\"}},\"marker\":{\"colorbar\":{\"outlinewidth\":0,\"ticks\":\"\"}},\"type\":\"scatter3d\"}],\"scattercarpet\":[{\"marker\":{\"colorbar\":{\"outlinewidth\":0,\"ticks\":\"\"}},\"type\":\"scattercarpet\"}],\"scattergeo\":[{\"marker\":{\"colorbar\":{\"outlinewidth\":0,\"ticks\":\"\"}},\"type\":\"scattergeo\"}],\"scattergl\":[{\"marker\":{\"colorbar\":{\"outlinewidth\":0,\"ticks\":\"\"}},\"type\":\"scattergl\"}],\"scattermapbox\":[{\"marker\":{\"colorbar\":{\"outlinewidth\":0,\"ticks\":\"\"}},\"type\":\"scattermapbox\"}],\"scatterpolargl\":[{\"marker\":{\"colorbar\":{\"outlinewidth\":0,\"ticks\":\"\"}},\"type\":\"scatterpolargl\"}],\"scatterpolar\":[{\"marker\":{\"colorbar\":{\"outlinewidth\":0,\"ticks\":\"\"}},\"type\":\"scatterpolar\"}],\"scatter\":[{\"fillpattern\":{\"fillmode\":\"overlay\",\"size\":10,\"solidity\":0.2},\"type\":\"scatter\"}],\"scatterternary\":[{\"marker\":{\"colorbar\":{\"outlinewidth\":0,\"ticks\":\"\"}},\"type\":\"scatterternary\"}],\"surface\":[{\"colorbar\":{\"outlinewidth\":0,\"ticks\":\"\"},\"colorscale\":[[0.0,\"#0d0887\"],[0.1111111111111111,\"#46039f\"],[0.2222222222222222,\"#7201a8\"],[0.3333333333333333,\"#9c179e\"],[0.4444444444444444,\"#bd3786\"],[0.5555555555555556,\"#d8576b\"],[0.6666666666666666,\"#ed7953\"],[0.7777777777777778,\"#fb9f3a\"],[0.8888888888888888,\"#fdca26\"],[1.0,\"#f0f921\"]],\"type\":\"surface\"}],\"table\":[{\"cells\":{\"fill\":{\"color\":\"#EBF0F8\"},\"line\":{\"color\":\"white\"}},\"header\":{\"fill\":{\"color\":\"#C8D4E3\"},\"line\":{\"color\":\"white\"}},\"type\":\"table\"}]},\"layout\":{\"annotationdefaults\":{\"arrowcolor\":\"#2a3f5f\",\"arrowhead\":0,\"arrowwidth\":1},\"autotypenumbers\":\"strict\",\"coloraxis\":{\"colorbar\":{\"outlinewidth\":0,\"ticks\":\"\"}},\"colorscale\":{\"diverging\":[[0,\"#8e0152\"],[0.1,\"#c51b7d\"],[0.2,\"#de77ae\"],[0.3,\"#f1b6da\"],[0.4,\"#fde0ef\"],[0.5,\"#f7f7f7\"],[0.6,\"#e6f5d0\"],[0.7,\"#b8e186\"],[0.8,\"#7fbc41\"],[0.9,\"#4d9221\"],[1,\"#276419\"]],\"sequential\":[[0.0,\"#0d0887\"],[0.1111111111111111,\"#46039f\"],[0.2222222222222222,\"#7201a8\"],[0.3333333333333333,\"#9c179e\"],[0.4444444444444444,\"#bd3786\"],[0.5555555555555556,\"#d8576b\"],[0.6666666666666666,\"#ed7953\"],[0.7777777777777778,\"#fb9f3a\"],[0.8888888888888888,\"#fdca26\"],[1.0,\"#f0f921\"]],\"sequentialminus\":[[0.0,\"#0d0887\"],[0.1111111111111111,\"#46039f\"],[0.2222222222222222,\"#7201a8\"],[0.3333333333333333,\"#9c179e\"],[0.4444444444444444,\"#bd3786\"],[0.5555555555555556,\"#d8576b\"],[0.6666666666666666,\"#ed7953\"],[0.7777777777777778,\"#fb9f3a\"],[0.8888888888888888,\"#fdca26\"],[1.0,\"#f0f921\"]]},\"colorway\":[\"#636efa\",\"#EF553B\",\"#00cc96\",\"#ab63fa\",\"#FFA15A\",\"#19d3f3\",\"#FF6692\",\"#B6E880\",\"#FF97FF\",\"#FECB52\"],\"font\":{\"color\":\"#2a3f5f\"},\"geo\":{\"bgcolor\":\"white\",\"lakecolor\":\"white\",\"landcolor\":\"#E5ECF6\",\"showlakes\":true,\"showland\":true,\"subunitcolor\":\"white\"},\"hoverlabel\":{\"align\":\"left\"},\"hovermode\":\"closest\",\"mapbox\":{\"style\":\"light\"},\"paper_bgcolor\":\"white\",\"plot_bgcolor\":\"#E5ECF6\",\"polar\":{\"angularaxis\":{\"gridcolor\":\"white\",\"linecolor\":\"white\",\"ticks\":\"\"},\"bgcolor\":\"#E5ECF6\",\"radialaxis\":{\"gridcolor\":\"white\",\"linecolor\":\"white\",\"ticks\":\"\"}},\"scene\":{\"xaxis\":{\"backgroundcolor\":\"#E5ECF6\",\"gridcolor\":\"white\",\"gridwidth\":2,\"linecolor\":\"white\",\"showbackground\":true,\"ticks\":\"\",\"zerolinecolor\":\"white\"},\"yaxis\":{\"backgroundcolor\":\"#E5ECF6\",\"gridcolor\":\"white\",\"gridwidth\":2,\"linecolor\":\"white\",\"showbackground\":true,\"ticks\":\"\",\"zerolinecolor\":\"white\"},\"zaxis\":{\"backgroundcolor\":\"#E5ECF6\",\"gridcolor\":\"white\",\"gridwidth\":2,\"linecolor\":\"white\",\"showbackground\":true,\"ticks\":\"\",\"zerolinecolor\":\"white\"}},\"shapedefaults\":{\"line\":{\"color\":\"#2a3f5f\"}},\"ternary\":{\"aaxis\":{\"gridcolor\":\"white\",\"linecolor\":\"white\",\"ticks\":\"\"},\"baxis\":{\"gridcolor\":\"white\",\"linecolor\":\"white\",\"ticks\":\"\"},\"bgcolor\":\"#E5ECF6\",\"caxis\":{\"gridcolor\":\"white\",\"linecolor\":\"white\",\"ticks\":\"\"}},\"title\":{\"x\":0.05},\"xaxis\":{\"automargin\":true,\"gridcolor\":\"white\",\"linecolor\":\"white\",\"ticks\":\"\",\"title\":{\"standoff\":15},\"zerolinecolor\":\"white\",\"zerolinewidth\":2},\"yaxis\":{\"automargin\":true,\"gridcolor\":\"white\",\"linecolor\":\"white\",\"ticks\":\"\",\"title\":{\"standoff\":15},\"zerolinecolor\":\"white\",\"zerolinewidth\":2}}},\"title\":{\"font\":{\"color\":\"#4D5663\"}},\"xaxis\":{\"gridcolor\":\"#E1E5ED\",\"showgrid\":true,\"tickfont\":{\"color\":\"#4D5663\"},\"title\":{\"font\":{\"color\":\"#4D5663\"},\"text\":\"\"},\"zerolinecolor\":\"#E1E5ED\"},\"yaxis\":{\"gridcolor\":\"#E1E5ED\",\"showgrid\":true,\"tickfont\":{\"color\":\"#4D5663\"},\"title\":{\"font\":{\"color\":\"#4D5663\"},\"text\":\"\"},\"zerolinecolor\":\"#E1E5ED\"}},                        {\"showLink\": true, \"linkText\": \"Export to plot.ly\", \"plotlyServerURL\": \"https://plot.ly\", \"responsive\": true}                    ).then(function(){\n",
       "                            \n",
       "var gd = document.getElementById('ecf2c28f-a016-4435-b944-15e14b64eeb6');\n",
       "var x = new MutationObserver(function (mutations, observer) {{\n",
       "        var display = window.getComputedStyle(gd).display;\n",
       "        if (!display || display === 'none') {{\n",
       "            console.log([gd, 'removed!']);\n",
       "            Plotly.purge(gd);\n",
       "            observer.disconnect();\n",
       "        }}\n",
       "}});\n",
       "\n",
       "// Listen for the removal of the full notebook cells\n",
       "var notebookContainer = gd.closest('#notebook-container');\n",
       "if (notebookContainer) {{\n",
       "    x.observe(notebookContainer, {childList: true});\n",
       "}}\n",
       "\n",
       "// Listen for the clearing of the current output cell\n",
       "var outputEl = gd.closest('.output');\n",
       "if (outputEl) {{\n",
       "    x.observe(outputEl, {childList: true});\n",
       "}}\n",
       "\n",
       "                        })                };                });            </script>        </div>"
      ]
     },
     "metadata": {},
     "output_type": "display_data"
    }
   ],
   "source": [
    "df3 = pd.DataFrame({'x':[1,2,3,4,5],'y':[10,20,30,20,10],'z':[5,4,3,2,1]})\n",
    "df3.iplot(kind='surface',colorscale='rdylbu')"
   ]
  },
  {
   "cell_type": "code",
   "execution_count": 14,
   "metadata": {},
   "outputs": [],
   "source": [
    "#import chart_studio.plotly as py\n",
    "import plotly.figure_factory as ff\n",
    "import plotly.graph_objects as go"
   ]
  },
  {
   "cell_type": "code",
   "execution_count": 15,
   "metadata": {},
   "outputs": [
    {
     "data": {
      "text/plain": [
       "array([[-1.94576236, -0.92250569,  2.17836325,  0.89082187],\n",
       "       [-1.26625223,  0.85154669, -1.00162046, -0.91794167],\n",
       "       [-0.12196357,  1.43699775,  0.62131092,  1.6522107 ],\n",
       "       [-0.49964379, -0.04244522, -1.83070887,  0.75322916],\n",
       "       [ 1.72231898,  0.40658414,  1.3421768 , -0.35676807],\n",
       "       [-1.34740545,  0.7975746 , -0.11133994,  0.66068798],\n",
       "       [ 0.2855484 ,  0.63879149, -1.05287519,  1.00465652],\n",
       "       [ 1.62443189, -0.77055671,  0.03212236, -1.25766972],\n",
       "       [-1.01407462, -0.30767638, -0.12102629,  0.0224246 ],\n",
       "       [ 0.52259668,  0.09183951,  1.07324249,  0.78814801],\n",
       "       [ 0.51142384, -0.92029431,  0.35937439, -1.18637189],\n",
       "       [-1.26768672,  0.82270008, -0.9716451 ,  0.88746513],\n",
       "       [-0.44321029,  0.03069351, -0.75482136, -0.01651831],\n",
       "       [-0.33793402,  0.60513765, -1.57344148, -0.87437398],\n",
       "       [ 0.29296816, -0.67962949, -1.62213301,  0.33616515],\n",
       "       [-0.95266174, -0.52385248,  0.22986032, -0.78957357],\n",
       "       [ 1.1746378 ,  0.99310359,  0.11329302, -0.0659737 ],\n",
       "       [-0.19479439,  1.63249733,  0.45288075,  0.40350775],\n",
       "       [ 0.30269886,  1.47112141, -1.14655171,  0.97043735],\n",
       "       [-1.9862209 , -0.53363165,  1.25118848, -0.55767023],\n",
       "       [ 0.84316621, -0.15030259, -0.04203681, -0.31114357],\n",
       "       [-0.07765905,  1.02166228,  1.08234866,  0.75102282],\n",
       "       [ 1.29618447,  1.56363833,  1.407461  , -0.3398522 ],\n",
       "       [-1.71204876, -0.44047709, -1.56954603, -0.36501327],\n",
       "       [-1.13801701, -0.43952678,  0.61480126, -1.09665318],\n",
       "       [ 0.93441432,  0.32968767, -2.25021643, -1.19659416],\n",
       "       [-0.69497573, -1.03093746,  1.52597091,  0.30336275],\n",
       "       [ 0.40495926, -0.22126056,  0.83952785, -0.06130981],\n",
       "       [-0.07344612, -0.26115836,  1.23873335,  1.44897007],\n",
       "       [-0.62669318, -0.49512033, -0.92901928,  1.88863965],\n",
       "       [ 0.70735389, -0.0585345 ,  0.48735552,  0.45843343],\n",
       "       [ 1.13690336, -0.98353263,  0.94114259, -1.86751968],\n",
       "       [ 0.16256388, -1.78057108,  0.94072261, -1.82979727],\n",
       "       [ 0.88604282,  0.91074918,  2.20540256, -0.8254287 ],\n",
       "       [ 1.34360296, -0.23368613,  0.79391463, -0.15456577],\n",
       "       [ 0.09451359, -0.58728667, -1.61025234, -0.92711871],\n",
       "       [-0.21341846,  0.46855948,  1.23477729,  1.35442375],\n",
       "       [-0.12330832,  2.92093014,  1.46926124,  0.12950259],\n",
       "       [ 1.91556846,  0.37626534,  0.22457095,  0.00414832],\n",
       "       [ 0.11937789,  1.25321578,  0.66301673,  0.46313937],\n",
       "       [-0.21775658, -2.09110556, -0.27212461, -0.06891629],\n",
       "       [-0.71929575, -0.3829865 , -0.82129112, -0.05418032],\n",
       "       [-0.06575075,  0.39481435, -1.13654314, -1.39310095],\n",
       "       [-0.777293  ,  0.94275753, -0.07086321, -0.51478791],\n",
       "       [ 0.44625239,  1.17776053, -1.40765594,  0.77847379],\n",
       "       [-1.42334806, -0.41752571,  0.69886362,  3.93794635],\n",
       "       [-1.54553999, -0.68557495,  1.2359451 , -0.34666592],\n",
       "       [ 1.4312507 , -0.11471948,  0.02072256,  0.06609965],\n",
       "       [ 0.91303678, -0.47036173,  1.33248132, -0.27804062],\n",
       "       [ 0.73503696, -1.06503719,  1.39201301, -0.42189548],\n",
       "       [-1.34683361, -0.52692938, -1.59922723, -0.27130899],\n",
       "       [ 1.46857482, -1.7513523 ,  0.36165627, -0.38547885],\n",
       "       [ 0.91302169, -1.17733736,  0.30426296,  0.206038  ],\n",
       "       [ 0.87368023, -0.03929476,  0.5870954 , -0.80763002],\n",
       "       [-0.21231181, -2.28771349, -1.84379438,  0.67710224],\n",
       "       [-1.09323456, -1.07399429, -0.34081674, -0.2647049 ],\n",
       "       [ 0.04035441, -0.91902517, -1.7095253 ,  0.32182104],\n",
       "       [-0.69181281, -1.21309588, -2.36069956,  0.67588795],\n",
       "       [-0.4530015 ,  0.69272897, -0.31064073, -1.21844215],\n",
       "       [-1.21105359,  0.21693585,  0.41337082,  0.46555347],\n",
       "       [-0.14382505,  0.89989938,  1.22623086, -0.89226423],\n",
       "       [-0.378119  , -0.55969548,  0.40325704, -1.47661536],\n",
       "       [-1.04731707, -1.14950878,  0.45676811,  1.01051987],\n",
       "       [-1.20239741, -0.82483018,  0.81998157,  0.98211029],\n",
       "       [ 1.15055561,  1.90606014, -0.07460377, -0.45143004],\n",
       "       [-0.32832125, -0.07232474,  0.90981317, -0.25795826],\n",
       "       [-1.01503336, -1.79346647,  1.0724598 , -0.14711613],\n",
       "       [ 0.45709045, -0.40225255, -0.48014341,  1.92060922],\n",
       "       [ 0.40869391, -0.30181769,  1.69417501,  0.40370297],\n",
       "       [ 0.45207338, -0.6876272 ,  0.82017802, -0.44531084],\n",
       "       [-0.36540645, -2.02270689, -0.32905788,  0.31904219],\n",
       "       [-1.32603673,  0.49554805,  1.28240886,  1.7874722 ],\n",
       "       [-0.14100304,  0.82011673,  1.20620009,  0.28103887],\n",
       "       [ 1.4906333 , -0.32371377, -1.19978007,  0.08589096],\n",
       "       [ 0.37397639,  1.41448374,  0.99401716, -0.38924861],\n",
       "       [-0.8988899 ,  0.44667492, -0.19445189,  1.16343888],\n",
       "       [ 0.19737263,  0.86746084, -0.78366334, -1.20395787],\n",
       "       [ 1.70168288,  0.503855  ,  0.47183658, -0.4885454 ],\n",
       "       [ 0.06419945, -1.26636695,  0.48688082, -0.55828996],\n",
       "       [-1.38132015, -0.39347042,  0.04144032,  0.91363689],\n",
       "       [-1.40790966, -0.68890264, -0.66757699,  0.03792011],\n",
       "       [-0.65393262, -0.65799806, -1.05130432,  1.0353276 ],\n",
       "       [ 0.67993286, -0.26957103, -0.70703279, -0.37379464],\n",
       "       [-0.75542073,  1.16335719, -0.77851511, -2.61664596],\n",
       "       [ 0.76166426, -1.27093727, -0.56683158, -0.6640034 ],\n",
       "       [-0.00994066, -0.18570857,  0.56132681,  0.59996111],\n",
       "       [-0.24613071, -1.18982437, -0.3576681 ,  0.9285576 ],\n",
       "       [-0.49984763, -1.3807107 , -0.69273724, -1.63932316],\n",
       "       [ 1.74392659, -0.97032389,  0.21608668, -0.05522244],\n",
       "       [-1.26312339,  0.77748305, -1.53871747, -0.54437328],\n",
       "       [ 0.0138514 ,  0.02554095, -0.1550585 , -0.73177396],\n",
       "       [-0.25191259, -2.23236214, -0.08867323,  0.1625266 ],\n",
       "       [ 0.38600014, -0.82424422, -1.07954663, -1.66307774],\n",
       "       [-0.37323729,  0.22174125,  0.79903898, -1.60728452],\n",
       "       [-0.34479356,  0.46096427, -0.0728764 ,  0.82530808],\n",
       "       [ 0.00507083, -1.45132645,  0.85167013,  1.40159475],\n",
       "       [ 0.87771943,  0.08430701, -0.58485646, -0.69681381],\n",
       "       [ 0.78418631, -0.21989177,  0.76355743,  0.09993902],\n",
       "       [-0.01981386, -0.21520997,  1.65601222,  0.89048998],\n",
       "       [ 1.2425655 , -0.62417333,  0.38555119, -1.47129058]])"
      ]
     },
     "execution_count": 15,
     "metadata": {},
     "output_type": "execute_result"
    }
   ],
   "source": [
    "a=np.random.randn(100,4)\n",
    "a"
   ]
  },
  {
   "cell_type": "code",
   "execution_count": 16,
   "metadata": {},
   "outputs": [
    {
     "data": {
      "application/vnd.plotly.v1+json": {
       "config": {
        "linkText": "Export to plot.ly",
        "plotlyServerURL": "https://plot.ly",
        "showLink": true
       },
       "data": [
        {
         "line": {
          "color": "rgba(255, 153, 51, 1.0)",
          "dash": "solid",
          "shape": "linear",
          "width": 1.3
         },
         "mode": "lines",
         "name": "A",
         "text": "",
         "type": "scatter",
         "x": [
          0,
          1,
          2,
          3,
          4,
          5,
          6,
          7,
          8,
          9,
          10,
          11,
          12,
          13,
          14,
          15,
          16,
          17,
          18,
          19,
          20,
          21,
          22,
          23,
          24,
          25,
          26,
          27,
          28,
          29,
          30,
          31,
          32,
          33,
          34,
          35,
          36,
          37,
          38,
          39,
          40,
          41,
          42,
          43,
          44,
          45,
          46,
          47,
          48,
          49,
          50,
          51,
          52,
          53,
          54,
          55,
          56,
          57,
          58,
          59,
          60,
          61,
          62,
          63,
          64,
          65,
          66,
          67,
          68,
          69,
          70,
          71,
          72,
          73,
          74,
          75,
          76,
          77,
          78,
          79,
          80,
          81,
          82,
          83,
          84,
          85,
          86,
          87,
          88,
          89,
          90,
          91,
          92,
          93,
          94,
          95,
          96,
          97,
          98,
          99
         ],
         "y": [
          -1.945762356416283,
          -1.2662522268974044,
          -0.12196357343700474,
          -0.49964378798654197,
          1.722318984830316,
          -1.3474054518323235,
          0.2855484039298779,
          1.6244318884200912,
          -1.014074615494736,
          0.5225966831476722,
          0.5114238425974713,
          -1.2676867175483977,
          -0.4432102888646865,
          -0.3379340246851145,
          0.29296816164929224,
          -0.9526617393588086,
          1.1746378031124354,
          -0.19479438915162012,
          0.30269886098051657,
          -1.9862209018069925,
          0.8431662059823879,
          -0.07765904995547225,
          1.296184465782235,
          -1.7120487577151853,
          -1.138017007910904,
          0.934414323622975,
          -0.6949757339564897,
          0.4049592568802737,
          -0.07344612255599456,
          -0.6266931771177001,
          0.7073538877197588,
          1.1369033624993825,
          0.16256388379297676,
          0.8860428192424057,
          1.3436029560801797,
          0.09451359005031,
          -0.21341846000861228,
          -0.12330832370876753,
          1.9155684639115431,
          0.11937788635436504,
          -0.21775657992255665,
          -0.7192957458773083,
          -0.06575074846015,
          -0.7772930041998906,
          0.4462523943722449,
          -1.4233480600727206,
          -1.5455399874418367,
          1.431250702914117,
          0.9130367777003991,
          0.735036960505608,
          -1.3468336093453255,
          1.4685748156583953,
          0.9130216854720828,
          0.8736802269222149,
          -0.2123118050354631,
          -1.0932345641523493,
          0.040354410564158665,
          -0.6918128137933938,
          -0.4530015029668788,
          -1.2110535899625186,
          -0.14382504866657003,
          -0.3781189995698723,
          -1.0473170739884061,
          -1.2023974112193845,
          1.150555609392365,
          -0.32832124639400606,
          -1.015033361632971,
          0.45709044678571453,
          0.4086939112714217,
          0.45207338342816594,
          -0.3654064472741851,
          -1.3260367267055027,
          -0.14100303777297546,
          1.4906333011957775,
          0.3739763899657429,
          -0.8988899015713716,
          0.19737263087177215,
          1.7016828787955474,
          0.0641994481804138,
          -1.3813201512438902,
          -1.4079096615784044,
          -0.6539326248766338,
          0.6799328601986624,
          -0.7554207291354526,
          0.7616642637076193,
          -0.009940661227981274,
          -0.24613070996724487,
          -0.4998476301566642,
          1.7439265872508254,
          -1.2631233905903456,
          0.013851401294439361,
          -0.2519125850473923,
          0.38600014248628334,
          -0.37323728708506465,
          -0.3447935626783415,
          0.005070832872473581,
          0.8777194261645346,
          0.7841863109302561,
          -0.019813858324717503,
          1.242565497487049
         ]
        },
        {
         "line": {
          "color": "rgba(55, 128, 191, 1.0)",
          "dash": "solid",
          "shape": "linear",
          "width": 1.3
         },
         "mode": "lines",
         "name": "B",
         "text": "",
         "type": "scatter",
         "x": [
          0,
          1,
          2,
          3,
          4,
          5,
          6,
          7,
          8,
          9,
          10,
          11,
          12,
          13,
          14,
          15,
          16,
          17,
          18,
          19,
          20,
          21,
          22,
          23,
          24,
          25,
          26,
          27,
          28,
          29,
          30,
          31,
          32,
          33,
          34,
          35,
          36,
          37,
          38,
          39,
          40,
          41,
          42,
          43,
          44,
          45,
          46,
          47,
          48,
          49,
          50,
          51,
          52,
          53,
          54,
          55,
          56,
          57,
          58,
          59,
          60,
          61,
          62,
          63,
          64,
          65,
          66,
          67,
          68,
          69,
          70,
          71,
          72,
          73,
          74,
          75,
          76,
          77,
          78,
          79,
          80,
          81,
          82,
          83,
          84,
          85,
          86,
          87,
          88,
          89,
          90,
          91,
          92,
          93,
          94,
          95,
          96,
          97,
          98,
          99
         ],
         "y": [
          -0.9225056878736034,
          0.8515466881666953,
          1.4369977516585946,
          -0.04244522118016887,
          0.40658414153108435,
          0.797574603211279,
          0.6387914881606056,
          -0.7705567089759549,
          -0.3076763765617453,
          0.09183950761730177,
          -0.9202943095470957,
          0.8227000752778292,
          0.03069350804372059,
          0.6051376466951695,
          -0.6796294927523927,
          -0.523852475495425,
          0.9931035880079209,
          1.6324973260249347,
          1.4711214106502626,
          -0.53363165382289,
          -0.15030259464509418,
          1.021662282100847,
          1.5636383260051203,
          -0.4404770868479464,
          -0.43952677873378115,
          0.32968766912207126,
          -1.0309374621894662,
          -0.22126056148710055,
          -0.2611583552805762,
          -0.49512033379168313,
          -0.0585345046942111,
          -0.9835326332606334,
          -1.7805710832196355,
          0.9107491827515675,
          -0.23368612818114196,
          -0.5872866682220442,
          0.46855947631692363,
          2.920930135283293,
          0.37626534220696084,
          1.2532157755118634,
          -2.0911055582878584,
          -0.3829864960792221,
          0.3948143455223594,
          0.9427575299544371,
          1.1777605264994822,
          -0.4175257064715953,
          -0.685574945113332,
          -0.11471947634267499,
          -0.47036173158923006,
          -1.0650371880348874,
          -0.5269293754809325,
          -1.7513522966809836,
          -1.1773373603671564,
          -0.03929475807303597,
          -2.287713485645009,
          -1.073994289902829,
          -0.9190251745081188,
          -1.2130958813444486,
          0.6927289692877789,
          0.2169358512577107,
          0.8998993821317387,
          -0.5596954834586744,
          -1.1495087811673999,
          -0.8248301779368528,
          1.9060601410686677,
          -0.07232474032166893,
          -1.793466468993369,
          -0.4022525468803771,
          -0.3018176876447171,
          -0.6876272002906931,
          -2.0227068919924243,
          0.49554804705157696,
          0.8201167287929365,
          -0.32371376790632006,
          1.41448374134397,
          0.4466749192075379,
          0.8674608422840258,
          0.5038550045869195,
          -1.2663669528797001,
          -0.3934704181523384,
          -0.6889026353689949,
          -0.6579980598931644,
          -0.26957103060917564,
          1.1633571938998166,
          -1.2709372651180209,
          -0.18570856875901506,
          -1.189824366471305,
          -1.3807106991163187,
          -0.9703238852097824,
          0.7774830503527941,
          0.025540948972595963,
          -2.232362138144403,
          -0.8242442165220977,
          0.22174124806285092,
          0.46096427061792133,
          -1.4513264541587285,
          0.08430701029327475,
          -0.21989176899308796,
          -0.21520997218604399,
          -0.6241733292469455
         ]
        }
       ],
       "layout": {
        "legend": {
         "bgcolor": "#F5F6F9",
         "font": {
          "color": "#4D5663"
         }
        },
        "paper_bgcolor": "#F5F6F9",
        "plot_bgcolor": "#F5F6F9",
        "template": {
         "data": {
          "bar": [
           {
            "error_x": {
             "color": "#2a3f5f"
            },
            "error_y": {
             "color": "#2a3f5f"
            },
            "marker": {
             "line": {
              "color": "#E5ECF6",
              "width": 0.5
             },
             "pattern": {
              "fillmode": "overlay",
              "size": 10,
              "solidity": 0.2
             }
            },
            "type": "bar"
           }
          ],
          "barpolar": [
           {
            "marker": {
             "line": {
              "color": "#E5ECF6",
              "width": 0.5
             },
             "pattern": {
              "fillmode": "overlay",
              "size": 10,
              "solidity": 0.2
             }
            },
            "type": "barpolar"
           }
          ],
          "carpet": [
           {
            "aaxis": {
             "endlinecolor": "#2a3f5f",
             "gridcolor": "white",
             "linecolor": "white",
             "minorgridcolor": "white",
             "startlinecolor": "#2a3f5f"
            },
            "baxis": {
             "endlinecolor": "#2a3f5f",
             "gridcolor": "white",
             "linecolor": "white",
             "minorgridcolor": "white",
             "startlinecolor": "#2a3f5f"
            },
            "type": "carpet"
           }
          ],
          "choropleth": [
           {
            "colorbar": {
             "outlinewidth": 0,
             "ticks": ""
            },
            "type": "choropleth"
           }
          ],
          "contour": [
           {
            "colorbar": {
             "outlinewidth": 0,
             "ticks": ""
            },
            "colorscale": [
             [
              0,
              "#0d0887"
             ],
             [
              0.1111111111111111,
              "#46039f"
             ],
             [
              0.2222222222222222,
              "#7201a8"
             ],
             [
              0.3333333333333333,
              "#9c179e"
             ],
             [
              0.4444444444444444,
              "#bd3786"
             ],
             [
              0.5555555555555556,
              "#d8576b"
             ],
             [
              0.6666666666666666,
              "#ed7953"
             ],
             [
              0.7777777777777778,
              "#fb9f3a"
             ],
             [
              0.8888888888888888,
              "#fdca26"
             ],
             [
              1,
              "#f0f921"
             ]
            ],
            "type": "contour"
           }
          ],
          "contourcarpet": [
           {
            "colorbar": {
             "outlinewidth": 0,
             "ticks": ""
            },
            "type": "contourcarpet"
           }
          ],
          "heatmap": [
           {
            "colorbar": {
             "outlinewidth": 0,
             "ticks": ""
            },
            "colorscale": [
             [
              0,
              "#0d0887"
             ],
             [
              0.1111111111111111,
              "#46039f"
             ],
             [
              0.2222222222222222,
              "#7201a8"
             ],
             [
              0.3333333333333333,
              "#9c179e"
             ],
             [
              0.4444444444444444,
              "#bd3786"
             ],
             [
              0.5555555555555556,
              "#d8576b"
             ],
             [
              0.6666666666666666,
              "#ed7953"
             ],
             [
              0.7777777777777778,
              "#fb9f3a"
             ],
             [
              0.8888888888888888,
              "#fdca26"
             ],
             [
              1,
              "#f0f921"
             ]
            ],
            "type": "heatmap"
           }
          ],
          "heatmapgl": [
           {
            "colorbar": {
             "outlinewidth": 0,
             "ticks": ""
            },
            "colorscale": [
             [
              0,
              "#0d0887"
             ],
             [
              0.1111111111111111,
              "#46039f"
             ],
             [
              0.2222222222222222,
              "#7201a8"
             ],
             [
              0.3333333333333333,
              "#9c179e"
             ],
             [
              0.4444444444444444,
              "#bd3786"
             ],
             [
              0.5555555555555556,
              "#d8576b"
             ],
             [
              0.6666666666666666,
              "#ed7953"
             ],
             [
              0.7777777777777778,
              "#fb9f3a"
             ],
             [
              0.8888888888888888,
              "#fdca26"
             ],
             [
              1,
              "#f0f921"
             ]
            ],
            "type": "heatmapgl"
           }
          ],
          "histogram": [
           {
            "marker": {
             "pattern": {
              "fillmode": "overlay",
              "size": 10,
              "solidity": 0.2
             }
            },
            "type": "histogram"
           }
          ],
          "histogram2d": [
           {
            "colorbar": {
             "outlinewidth": 0,
             "ticks": ""
            },
            "colorscale": [
             [
              0,
              "#0d0887"
             ],
             [
              0.1111111111111111,
              "#46039f"
             ],
             [
              0.2222222222222222,
              "#7201a8"
             ],
             [
              0.3333333333333333,
              "#9c179e"
             ],
             [
              0.4444444444444444,
              "#bd3786"
             ],
             [
              0.5555555555555556,
              "#d8576b"
             ],
             [
              0.6666666666666666,
              "#ed7953"
             ],
             [
              0.7777777777777778,
              "#fb9f3a"
             ],
             [
              0.8888888888888888,
              "#fdca26"
             ],
             [
              1,
              "#f0f921"
             ]
            ],
            "type": "histogram2d"
           }
          ],
          "histogram2dcontour": [
           {
            "colorbar": {
             "outlinewidth": 0,
             "ticks": ""
            },
            "colorscale": [
             [
              0,
              "#0d0887"
             ],
             [
              0.1111111111111111,
              "#46039f"
             ],
             [
              0.2222222222222222,
              "#7201a8"
             ],
             [
              0.3333333333333333,
              "#9c179e"
             ],
             [
              0.4444444444444444,
              "#bd3786"
             ],
             [
              0.5555555555555556,
              "#d8576b"
             ],
             [
              0.6666666666666666,
              "#ed7953"
             ],
             [
              0.7777777777777778,
              "#fb9f3a"
             ],
             [
              0.8888888888888888,
              "#fdca26"
             ],
             [
              1,
              "#f0f921"
             ]
            ],
            "type": "histogram2dcontour"
           }
          ],
          "mesh3d": [
           {
            "colorbar": {
             "outlinewidth": 0,
             "ticks": ""
            },
            "type": "mesh3d"
           }
          ],
          "parcoords": [
           {
            "line": {
             "colorbar": {
              "outlinewidth": 0,
              "ticks": ""
             }
            },
            "type": "parcoords"
           }
          ],
          "pie": [
           {
            "automargin": true,
            "type": "pie"
           }
          ],
          "scatter": [
           {
            "fillpattern": {
             "fillmode": "overlay",
             "size": 10,
             "solidity": 0.2
            },
            "type": "scatter"
           }
          ],
          "scatter3d": [
           {
            "line": {
             "colorbar": {
              "outlinewidth": 0,
              "ticks": ""
             }
            },
            "marker": {
             "colorbar": {
              "outlinewidth": 0,
              "ticks": ""
             }
            },
            "type": "scatter3d"
           }
          ],
          "scattercarpet": [
           {
            "marker": {
             "colorbar": {
              "outlinewidth": 0,
              "ticks": ""
             }
            },
            "type": "scattercarpet"
           }
          ],
          "scattergeo": [
           {
            "marker": {
             "colorbar": {
              "outlinewidth": 0,
              "ticks": ""
             }
            },
            "type": "scattergeo"
           }
          ],
          "scattergl": [
           {
            "marker": {
             "colorbar": {
              "outlinewidth": 0,
              "ticks": ""
             }
            },
            "type": "scattergl"
           }
          ],
          "scattermapbox": [
           {
            "marker": {
             "colorbar": {
              "outlinewidth": 0,
              "ticks": ""
             }
            },
            "type": "scattermapbox"
           }
          ],
          "scatterpolar": [
           {
            "marker": {
             "colorbar": {
              "outlinewidth": 0,
              "ticks": ""
             }
            },
            "type": "scatterpolar"
           }
          ],
          "scatterpolargl": [
           {
            "marker": {
             "colorbar": {
              "outlinewidth": 0,
              "ticks": ""
             }
            },
            "type": "scatterpolargl"
           }
          ],
          "scatterternary": [
           {
            "marker": {
             "colorbar": {
              "outlinewidth": 0,
              "ticks": ""
             }
            },
            "type": "scatterternary"
           }
          ],
          "surface": [
           {
            "colorbar": {
             "outlinewidth": 0,
             "ticks": ""
            },
            "colorscale": [
             [
              0,
              "#0d0887"
             ],
             [
              0.1111111111111111,
              "#46039f"
             ],
             [
              0.2222222222222222,
              "#7201a8"
             ],
             [
              0.3333333333333333,
              "#9c179e"
             ],
             [
              0.4444444444444444,
              "#bd3786"
             ],
             [
              0.5555555555555556,
              "#d8576b"
             ],
             [
              0.6666666666666666,
              "#ed7953"
             ],
             [
              0.7777777777777778,
              "#fb9f3a"
             ],
             [
              0.8888888888888888,
              "#fdca26"
             ],
             [
              1,
              "#f0f921"
             ]
            ],
            "type": "surface"
           }
          ],
          "table": [
           {
            "cells": {
             "fill": {
              "color": "#EBF0F8"
             },
             "line": {
              "color": "white"
             }
            },
            "header": {
             "fill": {
              "color": "#C8D4E3"
             },
             "line": {
              "color": "white"
             }
            },
            "type": "table"
           }
          ]
         },
         "layout": {
          "annotationdefaults": {
           "arrowcolor": "#2a3f5f",
           "arrowhead": 0,
           "arrowwidth": 1
          },
          "autotypenumbers": "strict",
          "coloraxis": {
           "colorbar": {
            "outlinewidth": 0,
            "ticks": ""
           }
          },
          "colorscale": {
           "diverging": [
            [
             0,
             "#8e0152"
            ],
            [
             0.1,
             "#c51b7d"
            ],
            [
             0.2,
             "#de77ae"
            ],
            [
             0.3,
             "#f1b6da"
            ],
            [
             0.4,
             "#fde0ef"
            ],
            [
             0.5,
             "#f7f7f7"
            ],
            [
             0.6,
             "#e6f5d0"
            ],
            [
             0.7,
             "#b8e186"
            ],
            [
             0.8,
             "#7fbc41"
            ],
            [
             0.9,
             "#4d9221"
            ],
            [
             1,
             "#276419"
            ]
           ],
           "sequential": [
            [
             0,
             "#0d0887"
            ],
            [
             0.1111111111111111,
             "#46039f"
            ],
            [
             0.2222222222222222,
             "#7201a8"
            ],
            [
             0.3333333333333333,
             "#9c179e"
            ],
            [
             0.4444444444444444,
             "#bd3786"
            ],
            [
             0.5555555555555556,
             "#d8576b"
            ],
            [
             0.6666666666666666,
             "#ed7953"
            ],
            [
             0.7777777777777778,
             "#fb9f3a"
            ],
            [
             0.8888888888888888,
             "#fdca26"
            ],
            [
             1,
             "#f0f921"
            ]
           ],
           "sequentialminus": [
            [
             0,
             "#0d0887"
            ],
            [
             0.1111111111111111,
             "#46039f"
            ],
            [
             0.2222222222222222,
             "#7201a8"
            ],
            [
             0.3333333333333333,
             "#9c179e"
            ],
            [
             0.4444444444444444,
             "#bd3786"
            ],
            [
             0.5555555555555556,
             "#d8576b"
            ],
            [
             0.6666666666666666,
             "#ed7953"
            ],
            [
             0.7777777777777778,
             "#fb9f3a"
            ],
            [
             0.8888888888888888,
             "#fdca26"
            ],
            [
             1,
             "#f0f921"
            ]
           ]
          },
          "colorway": [
           "#636efa",
           "#EF553B",
           "#00cc96",
           "#ab63fa",
           "#FFA15A",
           "#19d3f3",
           "#FF6692",
           "#B6E880",
           "#FF97FF",
           "#FECB52"
          ],
          "font": {
           "color": "#2a3f5f"
          },
          "geo": {
           "bgcolor": "white",
           "lakecolor": "white",
           "landcolor": "#E5ECF6",
           "showlakes": true,
           "showland": true,
           "subunitcolor": "white"
          },
          "hoverlabel": {
           "align": "left"
          },
          "hovermode": "closest",
          "mapbox": {
           "style": "light"
          },
          "paper_bgcolor": "white",
          "plot_bgcolor": "#E5ECF6",
          "polar": {
           "angularaxis": {
            "gridcolor": "white",
            "linecolor": "white",
            "ticks": ""
           },
           "bgcolor": "#E5ECF6",
           "radialaxis": {
            "gridcolor": "white",
            "linecolor": "white",
            "ticks": ""
           }
          },
          "scene": {
           "xaxis": {
            "backgroundcolor": "#E5ECF6",
            "gridcolor": "white",
            "gridwidth": 2,
            "linecolor": "white",
            "showbackground": true,
            "ticks": "",
            "zerolinecolor": "white"
           },
           "yaxis": {
            "backgroundcolor": "#E5ECF6",
            "gridcolor": "white",
            "gridwidth": 2,
            "linecolor": "white",
            "showbackground": true,
            "ticks": "",
            "zerolinecolor": "white"
           },
           "zaxis": {
            "backgroundcolor": "#E5ECF6",
            "gridcolor": "white",
            "gridwidth": 2,
            "linecolor": "white",
            "showbackground": true,
            "ticks": "",
            "zerolinecolor": "white"
           }
          },
          "shapedefaults": {
           "line": {
            "color": "#2a3f5f"
           }
          },
          "ternary": {
           "aaxis": {
            "gridcolor": "white",
            "linecolor": "white",
            "ticks": ""
           },
           "baxis": {
            "gridcolor": "white",
            "linecolor": "white",
            "ticks": ""
           },
           "bgcolor": "#E5ECF6",
           "caxis": {
            "gridcolor": "white",
            "linecolor": "white",
            "ticks": ""
           }
          },
          "title": {
           "x": 0.05
          },
          "xaxis": {
           "automargin": true,
           "gridcolor": "white",
           "linecolor": "white",
           "ticks": "",
           "title": {
            "standoff": 15
           },
           "zerolinecolor": "white",
           "zerolinewidth": 2
          },
          "yaxis": {
           "automargin": true,
           "gridcolor": "white",
           "linecolor": "white",
           "ticks": "",
           "title": {
            "standoff": 15
           },
           "zerolinecolor": "white",
           "zerolinewidth": 2
          }
         }
        },
        "title": {
         "font": {
          "color": "#4D5663"
         }
        },
        "xaxis": {
         "gridcolor": "#E1E5ED",
         "showgrid": true,
         "tickfont": {
          "color": "#4D5663"
         },
         "title": {
          "font": {
           "color": "#4D5663"
          },
          "text": ""
         },
         "zerolinecolor": "#E1E5ED"
        },
        "yaxis": {
         "gridcolor": "#E1E5ED",
         "showgrid": true,
         "tickfont": {
          "color": "#4D5663"
         },
         "title": {
          "font": {
           "color": "#4D5663"
          },
          "text": ""
         },
         "zerolinecolor": "#E1E5ED"
        }
       }
      },
      "text/html": [
       "<div>                            <div id=\"4733bd2e-09e9-4e3c-8764-22209192dfd5\" class=\"plotly-graph-div\" style=\"height:525px; width:100%;\"></div>            <script type=\"text/javascript\">                require([\"plotly\"], function(Plotly) {                    window.PLOTLYENV=window.PLOTLYENV || {};\n",
       "                    window.PLOTLYENV.BASE_URL='https://plot.ly';                                    if (document.getElementById(\"4733bd2e-09e9-4e3c-8764-22209192dfd5\")) {                    Plotly.newPlot(                        \"4733bd2e-09e9-4e3c-8764-22209192dfd5\",                        [{\"line\":{\"color\":\"rgba(255, 153, 51, 1.0)\",\"dash\":\"solid\",\"shape\":\"linear\",\"width\":1.3},\"mode\":\"lines\",\"name\":\"A\",\"text\":\"\",\"x\":[0,1,2,3,4,5,6,7,8,9,10,11,12,13,14,15,16,17,18,19,20,21,22,23,24,25,26,27,28,29,30,31,32,33,34,35,36,37,38,39,40,41,42,43,44,45,46,47,48,49,50,51,52,53,54,55,56,57,58,59,60,61,62,63,64,65,66,67,68,69,70,71,72,73,74,75,76,77,78,79,80,81,82,83,84,85,86,87,88,89,90,91,92,93,94,95,96,97,98,99],\"y\":[-1.945762356416283,-1.2662522268974044,-0.12196357343700474,-0.49964378798654197,1.722318984830316,-1.3474054518323235,0.2855484039298779,1.6244318884200912,-1.014074615494736,0.5225966831476722,0.5114238425974713,-1.2676867175483977,-0.4432102888646865,-0.3379340246851145,0.29296816164929224,-0.9526617393588086,1.1746378031124354,-0.19479438915162012,0.30269886098051657,-1.9862209018069925,0.8431662059823879,-0.07765904995547225,1.296184465782235,-1.7120487577151853,-1.138017007910904,0.934414323622975,-0.6949757339564897,0.4049592568802737,-0.07344612255599456,-0.6266931771177001,0.7073538877197588,1.1369033624993825,0.16256388379297676,0.8860428192424057,1.3436029560801797,0.09451359005031,-0.21341846000861228,-0.12330832370876753,1.9155684639115431,0.11937788635436504,-0.21775657992255665,-0.7192957458773083,-0.06575074846015,-0.7772930041998906,0.4462523943722449,-1.4233480600727206,-1.5455399874418367,1.431250702914117,0.9130367777003991,0.735036960505608,-1.3468336093453255,1.4685748156583953,0.9130216854720828,0.8736802269222149,-0.2123118050354631,-1.0932345641523493,0.040354410564158665,-0.6918128137933938,-0.4530015029668788,-1.2110535899625186,-0.14382504866657003,-0.3781189995698723,-1.0473170739884061,-1.2023974112193845,1.150555609392365,-0.32832124639400606,-1.015033361632971,0.45709044678571453,0.4086939112714217,0.45207338342816594,-0.3654064472741851,-1.3260367267055027,-0.14100303777297546,1.4906333011957775,0.3739763899657429,-0.8988899015713716,0.19737263087177215,1.7016828787955474,0.0641994481804138,-1.3813201512438902,-1.4079096615784044,-0.6539326248766338,0.6799328601986624,-0.7554207291354526,0.7616642637076193,-0.009940661227981274,-0.24613070996724487,-0.4998476301566642,1.7439265872508254,-1.2631233905903456,0.013851401294439361,-0.2519125850473923,0.38600014248628334,-0.37323728708506465,-0.3447935626783415,0.005070832872473581,0.8777194261645346,0.7841863109302561,-0.019813858324717503,1.242565497487049],\"type\":\"scatter\"},{\"line\":{\"color\":\"rgba(55, 128, 191, 1.0)\",\"dash\":\"solid\",\"shape\":\"linear\",\"width\":1.3},\"mode\":\"lines\",\"name\":\"B\",\"text\":\"\",\"x\":[0,1,2,3,4,5,6,7,8,9,10,11,12,13,14,15,16,17,18,19,20,21,22,23,24,25,26,27,28,29,30,31,32,33,34,35,36,37,38,39,40,41,42,43,44,45,46,47,48,49,50,51,52,53,54,55,56,57,58,59,60,61,62,63,64,65,66,67,68,69,70,71,72,73,74,75,76,77,78,79,80,81,82,83,84,85,86,87,88,89,90,91,92,93,94,95,96,97,98,99],\"y\":[-0.9225056878736034,0.8515466881666953,1.4369977516585946,-0.04244522118016887,0.40658414153108435,0.797574603211279,0.6387914881606056,-0.7705567089759549,-0.3076763765617453,0.09183950761730177,-0.9202943095470957,0.8227000752778292,0.03069350804372059,0.6051376466951695,-0.6796294927523927,-0.523852475495425,0.9931035880079209,1.6324973260249347,1.4711214106502626,-0.53363165382289,-0.15030259464509418,1.021662282100847,1.5636383260051203,-0.4404770868479464,-0.43952677873378115,0.32968766912207126,-1.0309374621894662,-0.22126056148710055,-0.2611583552805762,-0.49512033379168313,-0.0585345046942111,-0.9835326332606334,-1.7805710832196355,0.9107491827515675,-0.23368612818114196,-0.5872866682220442,0.46855947631692363,2.920930135283293,0.37626534220696084,1.2532157755118634,-2.0911055582878584,-0.3829864960792221,0.3948143455223594,0.9427575299544371,1.1777605264994822,-0.4175257064715953,-0.685574945113332,-0.11471947634267499,-0.47036173158923006,-1.0650371880348874,-0.5269293754809325,-1.7513522966809836,-1.1773373603671564,-0.03929475807303597,-2.287713485645009,-1.073994289902829,-0.9190251745081188,-1.2130958813444486,0.6927289692877789,0.2169358512577107,0.8998993821317387,-0.5596954834586744,-1.1495087811673999,-0.8248301779368528,1.9060601410686677,-0.07232474032166893,-1.793466468993369,-0.4022525468803771,-0.3018176876447171,-0.6876272002906931,-2.0227068919924243,0.49554804705157696,0.8201167287929365,-0.32371376790632006,1.41448374134397,0.4466749192075379,0.8674608422840258,0.5038550045869195,-1.2663669528797001,-0.3934704181523384,-0.6889026353689949,-0.6579980598931644,-0.26957103060917564,1.1633571938998166,-1.2709372651180209,-0.18570856875901506,-1.189824366471305,-1.3807106991163187,-0.9703238852097824,0.7774830503527941,0.025540948972595963,-2.232362138144403,-0.8242442165220977,0.22174124806285092,0.46096427061792133,-1.4513264541587285,0.08430701029327475,-0.21989176899308796,-0.21520997218604399,-0.6241733292469455],\"type\":\"scatter\"}],                        {\"legend\":{\"bgcolor\":\"#F5F6F9\",\"font\":{\"color\":\"#4D5663\"}},\"paper_bgcolor\":\"#F5F6F9\",\"plot_bgcolor\":\"#F5F6F9\",\"template\":{\"data\":{\"barpolar\":[{\"marker\":{\"line\":{\"color\":\"#E5ECF6\",\"width\":0.5},\"pattern\":{\"fillmode\":\"overlay\",\"size\":10,\"solidity\":0.2}},\"type\":\"barpolar\"}],\"bar\":[{\"error_x\":{\"color\":\"#2a3f5f\"},\"error_y\":{\"color\":\"#2a3f5f\"},\"marker\":{\"line\":{\"color\":\"#E5ECF6\",\"width\":0.5},\"pattern\":{\"fillmode\":\"overlay\",\"size\":10,\"solidity\":0.2}},\"type\":\"bar\"}],\"carpet\":[{\"aaxis\":{\"endlinecolor\":\"#2a3f5f\",\"gridcolor\":\"white\",\"linecolor\":\"white\",\"minorgridcolor\":\"white\",\"startlinecolor\":\"#2a3f5f\"},\"baxis\":{\"endlinecolor\":\"#2a3f5f\",\"gridcolor\":\"white\",\"linecolor\":\"white\",\"minorgridcolor\":\"white\",\"startlinecolor\":\"#2a3f5f\"},\"type\":\"carpet\"}],\"choropleth\":[{\"colorbar\":{\"outlinewidth\":0,\"ticks\":\"\"},\"type\":\"choropleth\"}],\"contourcarpet\":[{\"colorbar\":{\"outlinewidth\":0,\"ticks\":\"\"},\"type\":\"contourcarpet\"}],\"contour\":[{\"colorbar\":{\"outlinewidth\":0,\"ticks\":\"\"},\"colorscale\":[[0.0,\"#0d0887\"],[0.1111111111111111,\"#46039f\"],[0.2222222222222222,\"#7201a8\"],[0.3333333333333333,\"#9c179e\"],[0.4444444444444444,\"#bd3786\"],[0.5555555555555556,\"#d8576b\"],[0.6666666666666666,\"#ed7953\"],[0.7777777777777778,\"#fb9f3a\"],[0.8888888888888888,\"#fdca26\"],[1.0,\"#f0f921\"]],\"type\":\"contour\"}],\"heatmapgl\":[{\"colorbar\":{\"outlinewidth\":0,\"ticks\":\"\"},\"colorscale\":[[0.0,\"#0d0887\"],[0.1111111111111111,\"#46039f\"],[0.2222222222222222,\"#7201a8\"],[0.3333333333333333,\"#9c179e\"],[0.4444444444444444,\"#bd3786\"],[0.5555555555555556,\"#d8576b\"],[0.6666666666666666,\"#ed7953\"],[0.7777777777777778,\"#fb9f3a\"],[0.8888888888888888,\"#fdca26\"],[1.0,\"#f0f921\"]],\"type\":\"heatmapgl\"}],\"heatmap\":[{\"colorbar\":{\"outlinewidth\":0,\"ticks\":\"\"},\"colorscale\":[[0.0,\"#0d0887\"],[0.1111111111111111,\"#46039f\"],[0.2222222222222222,\"#7201a8\"],[0.3333333333333333,\"#9c179e\"],[0.4444444444444444,\"#bd3786\"],[0.5555555555555556,\"#d8576b\"],[0.6666666666666666,\"#ed7953\"],[0.7777777777777778,\"#fb9f3a\"],[0.8888888888888888,\"#fdca26\"],[1.0,\"#f0f921\"]],\"type\":\"heatmap\"}],\"histogram2dcontour\":[{\"colorbar\":{\"outlinewidth\":0,\"ticks\":\"\"},\"colorscale\":[[0.0,\"#0d0887\"],[0.1111111111111111,\"#46039f\"],[0.2222222222222222,\"#7201a8\"],[0.3333333333333333,\"#9c179e\"],[0.4444444444444444,\"#bd3786\"],[0.5555555555555556,\"#d8576b\"],[0.6666666666666666,\"#ed7953\"],[0.7777777777777778,\"#fb9f3a\"],[0.8888888888888888,\"#fdca26\"],[1.0,\"#f0f921\"]],\"type\":\"histogram2dcontour\"}],\"histogram2d\":[{\"colorbar\":{\"outlinewidth\":0,\"ticks\":\"\"},\"colorscale\":[[0.0,\"#0d0887\"],[0.1111111111111111,\"#46039f\"],[0.2222222222222222,\"#7201a8\"],[0.3333333333333333,\"#9c179e\"],[0.4444444444444444,\"#bd3786\"],[0.5555555555555556,\"#d8576b\"],[0.6666666666666666,\"#ed7953\"],[0.7777777777777778,\"#fb9f3a\"],[0.8888888888888888,\"#fdca26\"],[1.0,\"#f0f921\"]],\"type\":\"histogram2d\"}],\"histogram\":[{\"marker\":{\"pattern\":{\"fillmode\":\"overlay\",\"size\":10,\"solidity\":0.2}},\"type\":\"histogram\"}],\"mesh3d\":[{\"colorbar\":{\"outlinewidth\":0,\"ticks\":\"\"},\"type\":\"mesh3d\"}],\"parcoords\":[{\"line\":{\"colorbar\":{\"outlinewidth\":0,\"ticks\":\"\"}},\"type\":\"parcoords\"}],\"pie\":[{\"automargin\":true,\"type\":\"pie\"}],\"scatter3d\":[{\"line\":{\"colorbar\":{\"outlinewidth\":0,\"ticks\":\"\"}},\"marker\":{\"colorbar\":{\"outlinewidth\":0,\"ticks\":\"\"}},\"type\":\"scatter3d\"}],\"scattercarpet\":[{\"marker\":{\"colorbar\":{\"outlinewidth\":0,\"ticks\":\"\"}},\"type\":\"scattercarpet\"}],\"scattergeo\":[{\"marker\":{\"colorbar\":{\"outlinewidth\":0,\"ticks\":\"\"}},\"type\":\"scattergeo\"}],\"scattergl\":[{\"marker\":{\"colorbar\":{\"outlinewidth\":0,\"ticks\":\"\"}},\"type\":\"scattergl\"}],\"scattermapbox\":[{\"marker\":{\"colorbar\":{\"outlinewidth\":0,\"ticks\":\"\"}},\"type\":\"scattermapbox\"}],\"scatterpolargl\":[{\"marker\":{\"colorbar\":{\"outlinewidth\":0,\"ticks\":\"\"}},\"type\":\"scatterpolargl\"}],\"scatterpolar\":[{\"marker\":{\"colorbar\":{\"outlinewidth\":0,\"ticks\":\"\"}},\"type\":\"scatterpolar\"}],\"scatter\":[{\"fillpattern\":{\"fillmode\":\"overlay\",\"size\":10,\"solidity\":0.2},\"type\":\"scatter\"}],\"scatterternary\":[{\"marker\":{\"colorbar\":{\"outlinewidth\":0,\"ticks\":\"\"}},\"type\":\"scatterternary\"}],\"surface\":[{\"colorbar\":{\"outlinewidth\":0,\"ticks\":\"\"},\"colorscale\":[[0.0,\"#0d0887\"],[0.1111111111111111,\"#46039f\"],[0.2222222222222222,\"#7201a8\"],[0.3333333333333333,\"#9c179e\"],[0.4444444444444444,\"#bd3786\"],[0.5555555555555556,\"#d8576b\"],[0.6666666666666666,\"#ed7953\"],[0.7777777777777778,\"#fb9f3a\"],[0.8888888888888888,\"#fdca26\"],[1.0,\"#f0f921\"]],\"type\":\"surface\"}],\"table\":[{\"cells\":{\"fill\":{\"color\":\"#EBF0F8\"},\"line\":{\"color\":\"white\"}},\"header\":{\"fill\":{\"color\":\"#C8D4E3\"},\"line\":{\"color\":\"white\"}},\"type\":\"table\"}]},\"layout\":{\"annotationdefaults\":{\"arrowcolor\":\"#2a3f5f\",\"arrowhead\":0,\"arrowwidth\":1},\"autotypenumbers\":\"strict\",\"coloraxis\":{\"colorbar\":{\"outlinewidth\":0,\"ticks\":\"\"}},\"colorscale\":{\"diverging\":[[0,\"#8e0152\"],[0.1,\"#c51b7d\"],[0.2,\"#de77ae\"],[0.3,\"#f1b6da\"],[0.4,\"#fde0ef\"],[0.5,\"#f7f7f7\"],[0.6,\"#e6f5d0\"],[0.7,\"#b8e186\"],[0.8,\"#7fbc41\"],[0.9,\"#4d9221\"],[1,\"#276419\"]],\"sequential\":[[0.0,\"#0d0887\"],[0.1111111111111111,\"#46039f\"],[0.2222222222222222,\"#7201a8\"],[0.3333333333333333,\"#9c179e\"],[0.4444444444444444,\"#bd3786\"],[0.5555555555555556,\"#d8576b\"],[0.6666666666666666,\"#ed7953\"],[0.7777777777777778,\"#fb9f3a\"],[0.8888888888888888,\"#fdca26\"],[1.0,\"#f0f921\"]],\"sequentialminus\":[[0.0,\"#0d0887\"],[0.1111111111111111,\"#46039f\"],[0.2222222222222222,\"#7201a8\"],[0.3333333333333333,\"#9c179e\"],[0.4444444444444444,\"#bd3786\"],[0.5555555555555556,\"#d8576b\"],[0.6666666666666666,\"#ed7953\"],[0.7777777777777778,\"#fb9f3a\"],[0.8888888888888888,\"#fdca26\"],[1.0,\"#f0f921\"]]},\"colorway\":[\"#636efa\",\"#EF553B\",\"#00cc96\",\"#ab63fa\",\"#FFA15A\",\"#19d3f3\",\"#FF6692\",\"#B6E880\",\"#FF97FF\",\"#FECB52\"],\"font\":{\"color\":\"#2a3f5f\"},\"geo\":{\"bgcolor\":\"white\",\"lakecolor\":\"white\",\"landcolor\":\"#E5ECF6\",\"showlakes\":true,\"showland\":true,\"subunitcolor\":\"white\"},\"hoverlabel\":{\"align\":\"left\"},\"hovermode\":\"closest\",\"mapbox\":{\"style\":\"light\"},\"paper_bgcolor\":\"white\",\"plot_bgcolor\":\"#E5ECF6\",\"polar\":{\"angularaxis\":{\"gridcolor\":\"white\",\"linecolor\":\"white\",\"ticks\":\"\"},\"bgcolor\":\"#E5ECF6\",\"radialaxis\":{\"gridcolor\":\"white\",\"linecolor\":\"white\",\"ticks\":\"\"}},\"scene\":{\"xaxis\":{\"backgroundcolor\":\"#E5ECF6\",\"gridcolor\":\"white\",\"gridwidth\":2,\"linecolor\":\"white\",\"showbackground\":true,\"ticks\":\"\",\"zerolinecolor\":\"white\"},\"yaxis\":{\"backgroundcolor\":\"#E5ECF6\",\"gridcolor\":\"white\",\"gridwidth\":2,\"linecolor\":\"white\",\"showbackground\":true,\"ticks\":\"\",\"zerolinecolor\":\"white\"},\"zaxis\":{\"backgroundcolor\":\"#E5ECF6\",\"gridcolor\":\"white\",\"gridwidth\":2,\"linecolor\":\"white\",\"showbackground\":true,\"ticks\":\"\",\"zerolinecolor\":\"white\"}},\"shapedefaults\":{\"line\":{\"color\":\"#2a3f5f\"}},\"ternary\":{\"aaxis\":{\"gridcolor\":\"white\",\"linecolor\":\"white\",\"ticks\":\"\"},\"baxis\":{\"gridcolor\":\"white\",\"linecolor\":\"white\",\"ticks\":\"\"},\"bgcolor\":\"#E5ECF6\",\"caxis\":{\"gridcolor\":\"white\",\"linecolor\":\"white\",\"ticks\":\"\"}},\"title\":{\"x\":0.05},\"xaxis\":{\"automargin\":true,\"gridcolor\":\"white\",\"linecolor\":\"white\",\"ticks\":\"\",\"title\":{\"standoff\":15},\"zerolinecolor\":\"white\",\"zerolinewidth\":2},\"yaxis\":{\"automargin\":true,\"gridcolor\":\"white\",\"linecolor\":\"white\",\"ticks\":\"\",\"title\":{\"standoff\":15},\"zerolinecolor\":\"white\",\"zerolinewidth\":2}}},\"title\":{\"font\":{\"color\":\"#4D5663\"}},\"xaxis\":{\"gridcolor\":\"#E1E5ED\",\"showgrid\":true,\"tickfont\":{\"color\":\"#4D5663\"},\"title\":{\"font\":{\"color\":\"#4D5663\"},\"text\":\"\"},\"zerolinecolor\":\"#E1E5ED\"},\"yaxis\":{\"gridcolor\":\"#E1E5ED\",\"showgrid\":true,\"tickfont\":{\"color\":\"#4D5663\"},\"title\":{\"font\":{\"color\":\"#4D5663\"},\"text\":\"\"},\"zerolinecolor\":\"#E1E5ED\"}},                        {\"showLink\": true, \"linkText\": \"Export to plot.ly\", \"plotlyServerURL\": \"https://plot.ly\", \"responsive\": true}                    ).then(function(){\n",
       "                            \n",
       "var gd = document.getElementById('4733bd2e-09e9-4e3c-8764-22209192dfd5');\n",
       "var x = new MutationObserver(function (mutations, observer) {{\n",
       "        var display = window.getComputedStyle(gd).display;\n",
       "        if (!display || display === 'none') {{\n",
       "            console.log([gd, 'removed!']);\n",
       "            Plotly.purge(gd);\n",
       "            observer.disconnect();\n",
       "        }}\n",
       "}});\n",
       "\n",
       "// Listen for the removal of the full notebook cells\n",
       "var notebookContainer = gd.closest('#notebook-container');\n",
       "if (notebookContainer) {{\n",
       "    x.observe(notebookContainer, {childList: true});\n",
       "}}\n",
       "\n",
       "// Listen for the clearing of the current output cell\n",
       "var outputEl = gd.closest('.output');\n",
       "if (outputEl) {{\n",
       "    x.observe(outputEl, {childList: true});\n",
       "}}\n",
       "\n",
       "                        })                };                });            </script>        </div>"
      ]
     },
     "metadata": {},
     "output_type": "display_data"
    }
   ],
   "source": [
    "df4 = pd.DataFrame(a,columns='A B C D'.split())\n",
    "df4[['A','B']].iplot()"
   ]
  },
  {
   "cell_type": "markdown",
   "metadata": {},
   "source": [
    "## histogram"
   ]
  },
  {
   "cell_type": "code",
   "execution_count": 17,
   "metadata": {},
   "outputs": [
    {
     "data": {
      "application/vnd.plotly.v1+json": {
       "config": {
        "linkText": "Export to plot.ly",
        "plotlyServerURL": "https://plot.ly",
        "showLink": true
       },
       "data": [
        {
         "histfunc": "count",
         "histnorm": "",
         "marker": {
          "color": "rgba(255, 153, 51, 1.0)",
          "line": {
           "color": "#4D5663",
           "width": 1.3
          }
         },
         "name": "A",
         "nbinsx": 25,
         "opacity": 0.8,
         "orientation": "v",
         "type": "histogram",
         "x": [
          0.7705234898774278,
          -0.5896478916206093,
          0.17835405438999646,
          0.5963611453123362,
          1.7274565609395005,
          1.5421780537811438,
          1.628061239074311,
          -1.6996003095351457,
          0.4530517140462203,
          -0.05010402209357444,
          -0.6730349573592179,
          -0.505925008907118,
          1.5217444998825644,
          0.7830218517512779,
          0.2136415311917148,
          -0.5068968787431705,
          0.7238227873155504,
          -1.0524166058242228,
          0.5914587161087208,
          -2.148676705320432,
          -0.7343466366308768,
          -0.5943623139561683,
          -1.0583740994274637,
          0.7201107462148718,
          0.6603549547370541,
          0.8696266362093719,
          0.929244746991931,
          -0.47497605125261894,
          0.15404582729617616,
          -0.5917878555453583,
          0.3905984525454246,
          -0.4713030598853919,
          0.8700933287407903,
          -0.3415262616728389,
          -1.6728016113390374,
          0.2671229944566014,
          1.7640424596098119,
          0.07097350671730723,
          -0.19742298132391986,
          0.1702612515042837,
          -1.6394584554670721,
          -0.30406088152150856,
          -0.5416069186215873,
          -0.8513178826391808,
          -2.290646822512884,
          1.165929862213416,
          0.6878892903436499,
          -0.9795878322314134,
          0.211058793073966,
          0.7525561644401494,
          0.9141292435934405,
          1.0731670376288232,
          1.928115539184313,
          -1.0586469160156335,
          0.2493133435375463,
          1.0004543896878182,
          1.0654255989836823,
          1.514703842271405,
          -0.37229630884852305,
          1.4976291737398033,
          1.6088231464521767,
          0.1477979916712005,
          0.3398750970819321,
          -0.46002824476166554,
          -0.5551918306725362,
          -1.6155560991907183,
          -1.9556880291233207,
          0.7295946389464798,
          1.7254124803382753,
          1.7148315559047616,
          -0.10266094978445155,
          0.941879392537153,
          -1.8244418332264318,
          -0.13984057595098215,
          -1.4001826184089927,
          -0.6613228720419397,
          0.35870788958066135,
          -0.17741833189552075,
          1.4662471983332244,
          -1.6385294535708028,
          0.3379690245178709,
          0.22867327506198257,
          -0.21706300077687582,
          0.8480575702567326,
          -0.4687634196997417,
          -1.1569707233646864,
          -0.20439184269921234,
          0.6484691681289205,
          0.8247922039779939,
          0.7566534076986263,
          -0.47802065920583475,
          -0.37539515591956796,
          -0.19480019887372732,
          -0.8903694266829668,
          -1.158895906986244,
          -0.5966010935224592,
          -1.5444232357563994,
          1.1777548236526936,
          0.7616182066614193,
          0.5047518552082003
         ]
        }
       ],
       "layout": {
        "barmode": "overlay",
        "legend": {
         "bgcolor": "#F5F6F9",
         "font": {
          "color": "#4D5663"
         }
        },
        "paper_bgcolor": "#F5F6F9",
        "plot_bgcolor": "#F5F6F9",
        "template": {
         "data": {
          "bar": [
           {
            "error_x": {
             "color": "#2a3f5f"
            },
            "error_y": {
             "color": "#2a3f5f"
            },
            "marker": {
             "line": {
              "color": "#E5ECF6",
              "width": 0.5
             },
             "pattern": {
              "fillmode": "overlay",
              "size": 10,
              "solidity": 0.2
             }
            },
            "type": "bar"
           }
          ],
          "barpolar": [
           {
            "marker": {
             "line": {
              "color": "#E5ECF6",
              "width": 0.5
             },
             "pattern": {
              "fillmode": "overlay",
              "size": 10,
              "solidity": 0.2
             }
            },
            "type": "barpolar"
           }
          ],
          "carpet": [
           {
            "aaxis": {
             "endlinecolor": "#2a3f5f",
             "gridcolor": "white",
             "linecolor": "white",
             "minorgridcolor": "white",
             "startlinecolor": "#2a3f5f"
            },
            "baxis": {
             "endlinecolor": "#2a3f5f",
             "gridcolor": "white",
             "linecolor": "white",
             "minorgridcolor": "white",
             "startlinecolor": "#2a3f5f"
            },
            "type": "carpet"
           }
          ],
          "choropleth": [
           {
            "colorbar": {
             "outlinewidth": 0,
             "ticks": ""
            },
            "type": "choropleth"
           }
          ],
          "contour": [
           {
            "colorbar": {
             "outlinewidth": 0,
             "ticks": ""
            },
            "colorscale": [
             [
              0,
              "#0d0887"
             ],
             [
              0.1111111111111111,
              "#46039f"
             ],
             [
              0.2222222222222222,
              "#7201a8"
             ],
             [
              0.3333333333333333,
              "#9c179e"
             ],
             [
              0.4444444444444444,
              "#bd3786"
             ],
             [
              0.5555555555555556,
              "#d8576b"
             ],
             [
              0.6666666666666666,
              "#ed7953"
             ],
             [
              0.7777777777777778,
              "#fb9f3a"
             ],
             [
              0.8888888888888888,
              "#fdca26"
             ],
             [
              1,
              "#f0f921"
             ]
            ],
            "type": "contour"
           }
          ],
          "contourcarpet": [
           {
            "colorbar": {
             "outlinewidth": 0,
             "ticks": ""
            },
            "type": "contourcarpet"
           }
          ],
          "heatmap": [
           {
            "colorbar": {
             "outlinewidth": 0,
             "ticks": ""
            },
            "colorscale": [
             [
              0,
              "#0d0887"
             ],
             [
              0.1111111111111111,
              "#46039f"
             ],
             [
              0.2222222222222222,
              "#7201a8"
             ],
             [
              0.3333333333333333,
              "#9c179e"
             ],
             [
              0.4444444444444444,
              "#bd3786"
             ],
             [
              0.5555555555555556,
              "#d8576b"
             ],
             [
              0.6666666666666666,
              "#ed7953"
             ],
             [
              0.7777777777777778,
              "#fb9f3a"
             ],
             [
              0.8888888888888888,
              "#fdca26"
             ],
             [
              1,
              "#f0f921"
             ]
            ],
            "type": "heatmap"
           }
          ],
          "heatmapgl": [
           {
            "colorbar": {
             "outlinewidth": 0,
             "ticks": ""
            },
            "colorscale": [
             [
              0,
              "#0d0887"
             ],
             [
              0.1111111111111111,
              "#46039f"
             ],
             [
              0.2222222222222222,
              "#7201a8"
             ],
             [
              0.3333333333333333,
              "#9c179e"
             ],
             [
              0.4444444444444444,
              "#bd3786"
             ],
             [
              0.5555555555555556,
              "#d8576b"
             ],
             [
              0.6666666666666666,
              "#ed7953"
             ],
             [
              0.7777777777777778,
              "#fb9f3a"
             ],
             [
              0.8888888888888888,
              "#fdca26"
             ],
             [
              1,
              "#f0f921"
             ]
            ],
            "type": "heatmapgl"
           }
          ],
          "histogram": [
           {
            "marker": {
             "pattern": {
              "fillmode": "overlay",
              "size": 10,
              "solidity": 0.2
             }
            },
            "type": "histogram"
           }
          ],
          "histogram2d": [
           {
            "colorbar": {
             "outlinewidth": 0,
             "ticks": ""
            },
            "colorscale": [
             [
              0,
              "#0d0887"
             ],
             [
              0.1111111111111111,
              "#46039f"
             ],
             [
              0.2222222222222222,
              "#7201a8"
             ],
             [
              0.3333333333333333,
              "#9c179e"
             ],
             [
              0.4444444444444444,
              "#bd3786"
             ],
             [
              0.5555555555555556,
              "#d8576b"
             ],
             [
              0.6666666666666666,
              "#ed7953"
             ],
             [
              0.7777777777777778,
              "#fb9f3a"
             ],
             [
              0.8888888888888888,
              "#fdca26"
             ],
             [
              1,
              "#f0f921"
             ]
            ],
            "type": "histogram2d"
           }
          ],
          "histogram2dcontour": [
           {
            "colorbar": {
             "outlinewidth": 0,
             "ticks": ""
            },
            "colorscale": [
             [
              0,
              "#0d0887"
             ],
             [
              0.1111111111111111,
              "#46039f"
             ],
             [
              0.2222222222222222,
              "#7201a8"
             ],
             [
              0.3333333333333333,
              "#9c179e"
             ],
             [
              0.4444444444444444,
              "#bd3786"
             ],
             [
              0.5555555555555556,
              "#d8576b"
             ],
             [
              0.6666666666666666,
              "#ed7953"
             ],
             [
              0.7777777777777778,
              "#fb9f3a"
             ],
             [
              0.8888888888888888,
              "#fdca26"
             ],
             [
              1,
              "#f0f921"
             ]
            ],
            "type": "histogram2dcontour"
           }
          ],
          "mesh3d": [
           {
            "colorbar": {
             "outlinewidth": 0,
             "ticks": ""
            },
            "type": "mesh3d"
           }
          ],
          "parcoords": [
           {
            "line": {
             "colorbar": {
              "outlinewidth": 0,
              "ticks": ""
             }
            },
            "type": "parcoords"
           }
          ],
          "pie": [
           {
            "automargin": true,
            "type": "pie"
           }
          ],
          "scatter": [
           {
            "fillpattern": {
             "fillmode": "overlay",
             "size": 10,
             "solidity": 0.2
            },
            "type": "scatter"
           }
          ],
          "scatter3d": [
           {
            "line": {
             "colorbar": {
              "outlinewidth": 0,
              "ticks": ""
             }
            },
            "marker": {
             "colorbar": {
              "outlinewidth": 0,
              "ticks": ""
             }
            },
            "type": "scatter3d"
           }
          ],
          "scattercarpet": [
           {
            "marker": {
             "colorbar": {
              "outlinewidth": 0,
              "ticks": ""
             }
            },
            "type": "scattercarpet"
           }
          ],
          "scattergeo": [
           {
            "marker": {
             "colorbar": {
              "outlinewidth": 0,
              "ticks": ""
             }
            },
            "type": "scattergeo"
           }
          ],
          "scattergl": [
           {
            "marker": {
             "colorbar": {
              "outlinewidth": 0,
              "ticks": ""
             }
            },
            "type": "scattergl"
           }
          ],
          "scattermapbox": [
           {
            "marker": {
             "colorbar": {
              "outlinewidth": 0,
              "ticks": ""
             }
            },
            "type": "scattermapbox"
           }
          ],
          "scatterpolar": [
           {
            "marker": {
             "colorbar": {
              "outlinewidth": 0,
              "ticks": ""
             }
            },
            "type": "scatterpolar"
           }
          ],
          "scatterpolargl": [
           {
            "marker": {
             "colorbar": {
              "outlinewidth": 0,
              "ticks": ""
             }
            },
            "type": "scatterpolargl"
           }
          ],
          "scatterternary": [
           {
            "marker": {
             "colorbar": {
              "outlinewidth": 0,
              "ticks": ""
             }
            },
            "type": "scatterternary"
           }
          ],
          "surface": [
           {
            "colorbar": {
             "outlinewidth": 0,
             "ticks": ""
            },
            "colorscale": [
             [
              0,
              "#0d0887"
             ],
             [
              0.1111111111111111,
              "#46039f"
             ],
             [
              0.2222222222222222,
              "#7201a8"
             ],
             [
              0.3333333333333333,
              "#9c179e"
             ],
             [
              0.4444444444444444,
              "#bd3786"
             ],
             [
              0.5555555555555556,
              "#d8576b"
             ],
             [
              0.6666666666666666,
              "#ed7953"
             ],
             [
              0.7777777777777778,
              "#fb9f3a"
             ],
             [
              0.8888888888888888,
              "#fdca26"
             ],
             [
              1,
              "#f0f921"
             ]
            ],
            "type": "surface"
           }
          ],
          "table": [
           {
            "cells": {
             "fill": {
              "color": "#EBF0F8"
             },
             "line": {
              "color": "white"
             }
            },
            "header": {
             "fill": {
              "color": "#C8D4E3"
             },
             "line": {
              "color": "white"
             }
            },
            "type": "table"
           }
          ]
         },
         "layout": {
          "annotationdefaults": {
           "arrowcolor": "#2a3f5f",
           "arrowhead": 0,
           "arrowwidth": 1
          },
          "autotypenumbers": "strict",
          "coloraxis": {
           "colorbar": {
            "outlinewidth": 0,
            "ticks": ""
           }
          },
          "colorscale": {
           "diverging": [
            [
             0,
             "#8e0152"
            ],
            [
             0.1,
             "#c51b7d"
            ],
            [
             0.2,
             "#de77ae"
            ],
            [
             0.3,
             "#f1b6da"
            ],
            [
             0.4,
             "#fde0ef"
            ],
            [
             0.5,
             "#f7f7f7"
            ],
            [
             0.6,
             "#e6f5d0"
            ],
            [
             0.7,
             "#b8e186"
            ],
            [
             0.8,
             "#7fbc41"
            ],
            [
             0.9,
             "#4d9221"
            ],
            [
             1,
             "#276419"
            ]
           ],
           "sequential": [
            [
             0,
             "#0d0887"
            ],
            [
             0.1111111111111111,
             "#46039f"
            ],
            [
             0.2222222222222222,
             "#7201a8"
            ],
            [
             0.3333333333333333,
             "#9c179e"
            ],
            [
             0.4444444444444444,
             "#bd3786"
            ],
            [
             0.5555555555555556,
             "#d8576b"
            ],
            [
             0.6666666666666666,
             "#ed7953"
            ],
            [
             0.7777777777777778,
             "#fb9f3a"
            ],
            [
             0.8888888888888888,
             "#fdca26"
            ],
            [
             1,
             "#f0f921"
            ]
           ],
           "sequentialminus": [
            [
             0,
             "#0d0887"
            ],
            [
             0.1111111111111111,
             "#46039f"
            ],
            [
             0.2222222222222222,
             "#7201a8"
            ],
            [
             0.3333333333333333,
             "#9c179e"
            ],
            [
             0.4444444444444444,
             "#bd3786"
            ],
            [
             0.5555555555555556,
             "#d8576b"
            ],
            [
             0.6666666666666666,
             "#ed7953"
            ],
            [
             0.7777777777777778,
             "#fb9f3a"
            ],
            [
             0.8888888888888888,
             "#fdca26"
            ],
            [
             1,
             "#f0f921"
            ]
           ]
          },
          "colorway": [
           "#636efa",
           "#EF553B",
           "#00cc96",
           "#ab63fa",
           "#FFA15A",
           "#19d3f3",
           "#FF6692",
           "#B6E880",
           "#FF97FF",
           "#FECB52"
          ],
          "font": {
           "color": "#2a3f5f"
          },
          "geo": {
           "bgcolor": "white",
           "lakecolor": "white",
           "landcolor": "#E5ECF6",
           "showlakes": true,
           "showland": true,
           "subunitcolor": "white"
          },
          "hoverlabel": {
           "align": "left"
          },
          "hovermode": "closest",
          "mapbox": {
           "style": "light"
          },
          "paper_bgcolor": "white",
          "plot_bgcolor": "#E5ECF6",
          "polar": {
           "angularaxis": {
            "gridcolor": "white",
            "linecolor": "white",
            "ticks": ""
           },
           "bgcolor": "#E5ECF6",
           "radialaxis": {
            "gridcolor": "white",
            "linecolor": "white",
            "ticks": ""
           }
          },
          "scene": {
           "xaxis": {
            "backgroundcolor": "#E5ECF6",
            "gridcolor": "white",
            "gridwidth": 2,
            "linecolor": "white",
            "showbackground": true,
            "ticks": "",
            "zerolinecolor": "white"
           },
           "yaxis": {
            "backgroundcolor": "#E5ECF6",
            "gridcolor": "white",
            "gridwidth": 2,
            "linecolor": "white",
            "showbackground": true,
            "ticks": "",
            "zerolinecolor": "white"
           },
           "zaxis": {
            "backgroundcolor": "#E5ECF6",
            "gridcolor": "white",
            "gridwidth": 2,
            "linecolor": "white",
            "showbackground": true,
            "ticks": "",
            "zerolinecolor": "white"
           }
          },
          "shapedefaults": {
           "line": {
            "color": "#2a3f5f"
           }
          },
          "ternary": {
           "aaxis": {
            "gridcolor": "white",
            "linecolor": "white",
            "ticks": ""
           },
           "baxis": {
            "gridcolor": "white",
            "linecolor": "white",
            "ticks": ""
           },
           "bgcolor": "#E5ECF6",
           "caxis": {
            "gridcolor": "white",
            "linecolor": "white",
            "ticks": ""
           }
          },
          "title": {
           "x": 0.05
          },
          "xaxis": {
           "automargin": true,
           "gridcolor": "white",
           "linecolor": "white",
           "ticks": "",
           "title": {
            "standoff": 15
           },
           "zerolinecolor": "white",
           "zerolinewidth": 2
          },
          "yaxis": {
           "automargin": true,
           "gridcolor": "white",
           "linecolor": "white",
           "ticks": "",
           "title": {
            "standoff": 15
           },
           "zerolinecolor": "white",
           "zerolinewidth": 2
          }
         }
        },
        "title": {
         "font": {
          "color": "#4D5663"
         }
        },
        "xaxis": {
         "gridcolor": "#E1E5ED",
         "showgrid": true,
         "tickfont": {
          "color": "#4D5663"
         },
         "title": {
          "font": {
           "color": "#4D5663"
          },
          "text": ""
         },
         "zerolinecolor": "#E1E5ED"
        },
        "yaxis": {
         "gridcolor": "#E1E5ED",
         "showgrid": true,
         "tickfont": {
          "color": "#4D5663"
         },
         "title": {
          "font": {
           "color": "#4D5663"
          },
          "text": ""
         },
         "zerolinecolor": "#E1E5ED"
        }
       }
      },
      "text/html": [
       "<div>                            <div id=\"b7ee1beb-c95e-4e5c-b0c0-e90e90ed0a21\" class=\"plotly-graph-div\" style=\"height:525px; width:100%;\"></div>            <script type=\"text/javascript\">                require([\"plotly\"], function(Plotly) {                    window.PLOTLYENV=window.PLOTLYENV || {};\n",
       "                    window.PLOTLYENV.BASE_URL='https://plot.ly';                                    if (document.getElementById(\"b7ee1beb-c95e-4e5c-b0c0-e90e90ed0a21\")) {                    Plotly.newPlot(                        \"b7ee1beb-c95e-4e5c-b0c0-e90e90ed0a21\",                        [{\"histfunc\":\"count\",\"histnorm\":\"\",\"marker\":{\"color\":\"rgba(255, 153, 51, 1.0)\",\"line\":{\"color\":\"#4D5663\",\"width\":1.3}},\"name\":\"A\",\"nbinsx\":25,\"opacity\":0.8,\"orientation\":\"v\",\"x\":[0.7705234898774278,-0.5896478916206093,0.17835405438999646,0.5963611453123362,1.7274565609395005,1.5421780537811438,1.628061239074311,-1.6996003095351457,0.4530517140462203,-0.05010402209357444,-0.6730349573592179,-0.505925008907118,1.5217444998825644,0.7830218517512779,0.2136415311917148,-0.5068968787431705,0.7238227873155504,-1.0524166058242228,0.5914587161087208,-2.148676705320432,-0.7343466366308768,-0.5943623139561683,-1.0583740994274637,0.7201107462148718,0.6603549547370541,0.8696266362093719,0.929244746991931,-0.47497605125261894,0.15404582729617616,-0.5917878555453583,0.3905984525454246,-0.4713030598853919,0.8700933287407903,-0.3415262616728389,-1.6728016113390374,0.2671229944566014,1.7640424596098119,0.07097350671730723,-0.19742298132391986,0.1702612515042837,-1.6394584554670721,-0.30406088152150856,-0.5416069186215873,-0.8513178826391808,-2.290646822512884,1.165929862213416,0.6878892903436499,-0.9795878322314134,0.211058793073966,0.7525561644401494,0.9141292435934405,1.0731670376288232,1.928115539184313,-1.0586469160156335,0.2493133435375463,1.0004543896878182,1.0654255989836823,1.514703842271405,-0.37229630884852305,1.4976291737398033,1.6088231464521767,0.1477979916712005,0.3398750970819321,-0.46002824476166554,-0.5551918306725362,-1.6155560991907183,-1.9556880291233207,0.7295946389464798,1.7254124803382753,1.7148315559047616,-0.10266094978445155,0.941879392537153,-1.8244418332264318,-0.13984057595098215,-1.4001826184089927,-0.6613228720419397,0.35870788958066135,-0.17741833189552075,1.4662471983332244,-1.6385294535708028,0.3379690245178709,0.22867327506198257,-0.21706300077687582,0.8480575702567326,-0.4687634196997417,-1.1569707233646864,-0.20439184269921234,0.6484691681289205,0.8247922039779939,0.7566534076986263,-0.47802065920583475,-0.37539515591956796,-0.19480019887372732,-0.8903694266829668,-1.158895906986244,-0.5966010935224592,-1.5444232357563994,1.1777548236526936,0.7616182066614193,0.5047518552082003],\"type\":\"histogram\"}],                        {\"barmode\":\"overlay\",\"legend\":{\"bgcolor\":\"#F5F6F9\",\"font\":{\"color\":\"#4D5663\"}},\"paper_bgcolor\":\"#F5F6F9\",\"plot_bgcolor\":\"#F5F6F9\",\"template\":{\"data\":{\"barpolar\":[{\"marker\":{\"line\":{\"color\":\"#E5ECF6\",\"width\":0.5},\"pattern\":{\"fillmode\":\"overlay\",\"size\":10,\"solidity\":0.2}},\"type\":\"barpolar\"}],\"bar\":[{\"error_x\":{\"color\":\"#2a3f5f\"},\"error_y\":{\"color\":\"#2a3f5f\"},\"marker\":{\"line\":{\"color\":\"#E5ECF6\",\"width\":0.5},\"pattern\":{\"fillmode\":\"overlay\",\"size\":10,\"solidity\":0.2}},\"type\":\"bar\"}],\"carpet\":[{\"aaxis\":{\"endlinecolor\":\"#2a3f5f\",\"gridcolor\":\"white\",\"linecolor\":\"white\",\"minorgridcolor\":\"white\",\"startlinecolor\":\"#2a3f5f\"},\"baxis\":{\"endlinecolor\":\"#2a3f5f\",\"gridcolor\":\"white\",\"linecolor\":\"white\",\"minorgridcolor\":\"white\",\"startlinecolor\":\"#2a3f5f\"},\"type\":\"carpet\"}],\"choropleth\":[{\"colorbar\":{\"outlinewidth\":0,\"ticks\":\"\"},\"type\":\"choropleth\"}],\"contourcarpet\":[{\"colorbar\":{\"outlinewidth\":0,\"ticks\":\"\"},\"type\":\"contourcarpet\"}],\"contour\":[{\"colorbar\":{\"outlinewidth\":0,\"ticks\":\"\"},\"colorscale\":[[0.0,\"#0d0887\"],[0.1111111111111111,\"#46039f\"],[0.2222222222222222,\"#7201a8\"],[0.3333333333333333,\"#9c179e\"],[0.4444444444444444,\"#bd3786\"],[0.5555555555555556,\"#d8576b\"],[0.6666666666666666,\"#ed7953\"],[0.7777777777777778,\"#fb9f3a\"],[0.8888888888888888,\"#fdca26\"],[1.0,\"#f0f921\"]],\"type\":\"contour\"}],\"heatmapgl\":[{\"colorbar\":{\"outlinewidth\":0,\"ticks\":\"\"},\"colorscale\":[[0.0,\"#0d0887\"],[0.1111111111111111,\"#46039f\"],[0.2222222222222222,\"#7201a8\"],[0.3333333333333333,\"#9c179e\"],[0.4444444444444444,\"#bd3786\"],[0.5555555555555556,\"#d8576b\"],[0.6666666666666666,\"#ed7953\"],[0.7777777777777778,\"#fb9f3a\"],[0.8888888888888888,\"#fdca26\"],[1.0,\"#f0f921\"]],\"type\":\"heatmapgl\"}],\"heatmap\":[{\"colorbar\":{\"outlinewidth\":0,\"ticks\":\"\"},\"colorscale\":[[0.0,\"#0d0887\"],[0.1111111111111111,\"#46039f\"],[0.2222222222222222,\"#7201a8\"],[0.3333333333333333,\"#9c179e\"],[0.4444444444444444,\"#bd3786\"],[0.5555555555555556,\"#d8576b\"],[0.6666666666666666,\"#ed7953\"],[0.7777777777777778,\"#fb9f3a\"],[0.8888888888888888,\"#fdca26\"],[1.0,\"#f0f921\"]],\"type\":\"heatmap\"}],\"histogram2dcontour\":[{\"colorbar\":{\"outlinewidth\":0,\"ticks\":\"\"},\"colorscale\":[[0.0,\"#0d0887\"],[0.1111111111111111,\"#46039f\"],[0.2222222222222222,\"#7201a8\"],[0.3333333333333333,\"#9c179e\"],[0.4444444444444444,\"#bd3786\"],[0.5555555555555556,\"#d8576b\"],[0.6666666666666666,\"#ed7953\"],[0.7777777777777778,\"#fb9f3a\"],[0.8888888888888888,\"#fdca26\"],[1.0,\"#f0f921\"]],\"type\":\"histogram2dcontour\"}],\"histogram2d\":[{\"colorbar\":{\"outlinewidth\":0,\"ticks\":\"\"},\"colorscale\":[[0.0,\"#0d0887\"],[0.1111111111111111,\"#46039f\"],[0.2222222222222222,\"#7201a8\"],[0.3333333333333333,\"#9c179e\"],[0.4444444444444444,\"#bd3786\"],[0.5555555555555556,\"#d8576b\"],[0.6666666666666666,\"#ed7953\"],[0.7777777777777778,\"#fb9f3a\"],[0.8888888888888888,\"#fdca26\"],[1.0,\"#f0f921\"]],\"type\":\"histogram2d\"}],\"histogram\":[{\"marker\":{\"pattern\":{\"fillmode\":\"overlay\",\"size\":10,\"solidity\":0.2}},\"type\":\"histogram\"}],\"mesh3d\":[{\"colorbar\":{\"outlinewidth\":0,\"ticks\":\"\"},\"type\":\"mesh3d\"}],\"parcoords\":[{\"line\":{\"colorbar\":{\"outlinewidth\":0,\"ticks\":\"\"}},\"type\":\"parcoords\"}],\"pie\":[{\"automargin\":true,\"type\":\"pie\"}],\"scatter3d\":[{\"line\":{\"colorbar\":{\"outlinewidth\":0,\"ticks\":\"\"}},\"marker\":{\"colorbar\":{\"outlinewidth\":0,\"ticks\":\"\"}},\"type\":\"scatter3d\"}],\"scattercarpet\":[{\"marker\":{\"colorbar\":{\"outlinewidth\":0,\"ticks\":\"\"}},\"type\":\"scattercarpet\"}],\"scattergeo\":[{\"marker\":{\"colorbar\":{\"outlinewidth\":0,\"ticks\":\"\"}},\"type\":\"scattergeo\"}],\"scattergl\":[{\"marker\":{\"colorbar\":{\"outlinewidth\":0,\"ticks\":\"\"}},\"type\":\"scattergl\"}],\"scattermapbox\":[{\"marker\":{\"colorbar\":{\"outlinewidth\":0,\"ticks\":\"\"}},\"type\":\"scattermapbox\"}],\"scatterpolargl\":[{\"marker\":{\"colorbar\":{\"outlinewidth\":0,\"ticks\":\"\"}},\"type\":\"scatterpolargl\"}],\"scatterpolar\":[{\"marker\":{\"colorbar\":{\"outlinewidth\":0,\"ticks\":\"\"}},\"type\":\"scatterpolar\"}],\"scatter\":[{\"fillpattern\":{\"fillmode\":\"overlay\",\"size\":10,\"solidity\":0.2},\"type\":\"scatter\"}],\"scatterternary\":[{\"marker\":{\"colorbar\":{\"outlinewidth\":0,\"ticks\":\"\"}},\"type\":\"scatterternary\"}],\"surface\":[{\"colorbar\":{\"outlinewidth\":0,\"ticks\":\"\"},\"colorscale\":[[0.0,\"#0d0887\"],[0.1111111111111111,\"#46039f\"],[0.2222222222222222,\"#7201a8\"],[0.3333333333333333,\"#9c179e\"],[0.4444444444444444,\"#bd3786\"],[0.5555555555555556,\"#d8576b\"],[0.6666666666666666,\"#ed7953\"],[0.7777777777777778,\"#fb9f3a\"],[0.8888888888888888,\"#fdca26\"],[1.0,\"#f0f921\"]],\"type\":\"surface\"}],\"table\":[{\"cells\":{\"fill\":{\"color\":\"#EBF0F8\"},\"line\":{\"color\":\"white\"}},\"header\":{\"fill\":{\"color\":\"#C8D4E3\"},\"line\":{\"color\":\"white\"}},\"type\":\"table\"}]},\"layout\":{\"annotationdefaults\":{\"arrowcolor\":\"#2a3f5f\",\"arrowhead\":0,\"arrowwidth\":1},\"autotypenumbers\":\"strict\",\"coloraxis\":{\"colorbar\":{\"outlinewidth\":0,\"ticks\":\"\"}},\"colorscale\":{\"diverging\":[[0,\"#8e0152\"],[0.1,\"#c51b7d\"],[0.2,\"#de77ae\"],[0.3,\"#f1b6da\"],[0.4,\"#fde0ef\"],[0.5,\"#f7f7f7\"],[0.6,\"#e6f5d0\"],[0.7,\"#b8e186\"],[0.8,\"#7fbc41\"],[0.9,\"#4d9221\"],[1,\"#276419\"]],\"sequential\":[[0.0,\"#0d0887\"],[0.1111111111111111,\"#46039f\"],[0.2222222222222222,\"#7201a8\"],[0.3333333333333333,\"#9c179e\"],[0.4444444444444444,\"#bd3786\"],[0.5555555555555556,\"#d8576b\"],[0.6666666666666666,\"#ed7953\"],[0.7777777777777778,\"#fb9f3a\"],[0.8888888888888888,\"#fdca26\"],[1.0,\"#f0f921\"]],\"sequentialminus\":[[0.0,\"#0d0887\"],[0.1111111111111111,\"#46039f\"],[0.2222222222222222,\"#7201a8\"],[0.3333333333333333,\"#9c179e\"],[0.4444444444444444,\"#bd3786\"],[0.5555555555555556,\"#d8576b\"],[0.6666666666666666,\"#ed7953\"],[0.7777777777777778,\"#fb9f3a\"],[0.8888888888888888,\"#fdca26\"],[1.0,\"#f0f921\"]]},\"colorway\":[\"#636efa\",\"#EF553B\",\"#00cc96\",\"#ab63fa\",\"#FFA15A\",\"#19d3f3\",\"#FF6692\",\"#B6E880\",\"#FF97FF\",\"#FECB52\"],\"font\":{\"color\":\"#2a3f5f\"},\"geo\":{\"bgcolor\":\"white\",\"lakecolor\":\"white\",\"landcolor\":\"#E5ECF6\",\"showlakes\":true,\"showland\":true,\"subunitcolor\":\"white\"},\"hoverlabel\":{\"align\":\"left\"},\"hovermode\":\"closest\",\"mapbox\":{\"style\":\"light\"},\"paper_bgcolor\":\"white\",\"plot_bgcolor\":\"#E5ECF6\",\"polar\":{\"angularaxis\":{\"gridcolor\":\"white\",\"linecolor\":\"white\",\"ticks\":\"\"},\"bgcolor\":\"#E5ECF6\",\"radialaxis\":{\"gridcolor\":\"white\",\"linecolor\":\"white\",\"ticks\":\"\"}},\"scene\":{\"xaxis\":{\"backgroundcolor\":\"#E5ECF6\",\"gridcolor\":\"white\",\"gridwidth\":2,\"linecolor\":\"white\",\"showbackground\":true,\"ticks\":\"\",\"zerolinecolor\":\"white\"},\"yaxis\":{\"backgroundcolor\":\"#E5ECF6\",\"gridcolor\":\"white\",\"gridwidth\":2,\"linecolor\":\"white\",\"showbackground\":true,\"ticks\":\"\",\"zerolinecolor\":\"white\"},\"zaxis\":{\"backgroundcolor\":\"#E5ECF6\",\"gridcolor\":\"white\",\"gridwidth\":2,\"linecolor\":\"white\",\"showbackground\":true,\"ticks\":\"\",\"zerolinecolor\":\"white\"}},\"shapedefaults\":{\"line\":{\"color\":\"#2a3f5f\"}},\"ternary\":{\"aaxis\":{\"gridcolor\":\"white\",\"linecolor\":\"white\",\"ticks\":\"\"},\"baxis\":{\"gridcolor\":\"white\",\"linecolor\":\"white\",\"ticks\":\"\"},\"bgcolor\":\"#E5ECF6\",\"caxis\":{\"gridcolor\":\"white\",\"linecolor\":\"white\",\"ticks\":\"\"}},\"title\":{\"x\":0.05},\"xaxis\":{\"automargin\":true,\"gridcolor\":\"white\",\"linecolor\":\"white\",\"ticks\":\"\",\"title\":{\"standoff\":15},\"zerolinecolor\":\"white\",\"zerolinewidth\":2},\"yaxis\":{\"automargin\":true,\"gridcolor\":\"white\",\"linecolor\":\"white\",\"ticks\":\"\",\"title\":{\"standoff\":15},\"zerolinecolor\":\"white\",\"zerolinewidth\":2}}},\"title\":{\"font\":{\"color\":\"#4D5663\"}},\"xaxis\":{\"gridcolor\":\"#E1E5ED\",\"showgrid\":true,\"tickfont\":{\"color\":\"#4D5663\"},\"title\":{\"font\":{\"color\":\"#4D5663\"},\"text\":\"\"},\"zerolinecolor\":\"#E1E5ED\"},\"yaxis\":{\"gridcolor\":\"#E1E5ED\",\"showgrid\":true,\"tickfont\":{\"color\":\"#4D5663\"},\"title\":{\"font\":{\"color\":\"#4D5663\"},\"text\":\"\"},\"zerolinecolor\":\"#E1E5ED\"}},                        {\"showLink\": true, \"linkText\": \"Export to plot.ly\", \"plotlyServerURL\": \"https://plot.ly\", \"responsive\": true}                    ).then(function(){\n",
       "                            \n",
       "var gd = document.getElementById('b7ee1beb-c95e-4e5c-b0c0-e90e90ed0a21');\n",
       "var x = new MutationObserver(function (mutations, observer) {{\n",
       "        var display = window.getComputedStyle(gd).display;\n",
       "        if (!display || display === 'none') {{\n",
       "            console.log([gd, 'removed!']);\n",
       "            Plotly.purge(gd);\n",
       "            observer.disconnect();\n",
       "        }}\n",
       "}});\n",
       "\n",
       "// Listen for the removal of the full notebook cells\n",
       "var notebookContainer = gd.closest('#notebook-container');\n",
       "if (notebookContainer) {{\n",
       "    x.observe(notebookContainer, {childList: true});\n",
       "}}\n",
       "\n",
       "// Listen for the clearing of the current output cell\n",
       "var outputEl = gd.closest('.output');\n",
       "if (outputEl) {{\n",
       "    x.observe(outputEl, {childList: true});\n",
       "}}\n",
       "\n",
       "                        })                };                });            </script>        </div>"
      ]
     },
     "metadata": {},
     "output_type": "display_data"
    }
   ],
   "source": [
    "df['A'].iplot(kind='hist',bins=25)"
   ]
  },
  {
   "cell_type": "code",
   "execution_count": 18,
   "metadata": {},
   "outputs": [
    {
     "data": {
      "application/vnd.plotly.v1+json": {
       "config": {
        "linkText": "Export to plot.ly",
        "plotlyServerURL": "https://plot.ly",
        "showLink": true
       },
       "data": [
        {
         "marker": {
          "color": [
           "rgb(255, 153, 51)",
           "rgb(55, 128, 191)",
           "rgb(50, 171, 96)",
           "rgb(128, 0, 128)",
           "rgb(219, 64, 82)",
           "rgb(0, 128, 128)",
           "rgb(255, 255, 51)",
           "rgb(128, 128, 0)",
           "rgb(251, 128, 114)",
           "rgb(128, 177, 211)"
          ],
          "line": {
           "width": 1.3
          },
          "size": [
           33,
           41,
           66,
           60,
           25,
           50,
           43,
           52,
           73,
           74,
           67,
           72,
           28,
           15,
           36,
           96,
           58,
           21,
           79,
           72,
           49,
           36,
           37,
           27,
           75,
           56,
           47,
           42,
           71,
           43,
           59,
           12,
           65,
           33,
           48,
           73,
           24,
           66,
           55,
           31,
           51,
           29,
           86,
           38,
           60,
           83,
           78,
           38,
           42,
           41,
           43,
           64,
           58,
           57,
           38,
           35,
           65,
           58,
           54,
           51,
           55,
           97,
           19,
           22,
           50,
           56,
           27,
           62,
           102,
           34,
           72,
           77,
           51,
           52,
           55,
           61,
           55,
           86,
           42,
           43,
           59,
           38,
           45,
           111,
           20,
           17,
           40,
           47,
           34,
           65,
           38,
           46,
           65,
           71,
           28,
           25,
           59,
           34,
           85,
           77
          ],
          "symbol": "circle"
         },
         "mode": "markers",
         "text": "",
         "type": "scatter",
         "x": [
          0.7705234898774278,
          -0.5896478916206093,
          0.17835405438999646,
          0.5963611453123362,
          1.7274565609395005,
          1.5421780537811438,
          1.628061239074311,
          -1.6996003095351457,
          0.4530517140462203,
          -0.05010402209357444,
          -0.6730349573592179,
          -0.505925008907118,
          1.5217444998825644,
          0.7830218517512779,
          0.2136415311917148,
          -0.5068968787431705,
          0.7238227873155504,
          -1.0524166058242228,
          0.5914587161087208,
          -2.148676705320432,
          -0.7343466366308768,
          -0.5943623139561683,
          -1.0583740994274637,
          0.7201107462148718,
          0.6603549547370541,
          0.8696266362093719,
          0.929244746991931,
          -0.47497605125261894,
          0.15404582729617616,
          -0.5917878555453583,
          0.3905984525454246,
          -0.4713030598853919,
          0.8700933287407903,
          -0.3415262616728389,
          -1.6728016113390374,
          0.2671229944566014,
          1.7640424596098119,
          0.07097350671730723,
          -0.19742298132391986,
          0.1702612515042837,
          -1.6394584554670721,
          -0.30406088152150856,
          -0.5416069186215873,
          -0.8513178826391808,
          -2.290646822512884,
          1.165929862213416,
          0.6878892903436499,
          -0.9795878322314134,
          0.211058793073966,
          0.7525561644401494,
          0.9141292435934405,
          1.0731670376288232,
          1.928115539184313,
          -1.0586469160156335,
          0.2493133435375463,
          1.0004543896878182,
          1.0654255989836823,
          1.514703842271405,
          -0.37229630884852305,
          1.4976291737398033,
          1.6088231464521767,
          0.1477979916712005,
          0.3398750970819321,
          -0.46002824476166554,
          -0.5551918306725362,
          -1.6155560991907183,
          -1.9556880291233207,
          0.7295946389464798,
          1.7254124803382753,
          1.7148315559047616,
          -0.10266094978445155,
          0.941879392537153,
          -1.8244418332264318,
          -0.13984057595098215,
          -1.4001826184089927,
          -0.6613228720419397,
          0.35870788958066135,
          -0.17741833189552075,
          1.4662471983332244,
          -1.6385294535708028,
          0.3379690245178709,
          0.22867327506198257,
          -0.21706300077687582,
          0.8480575702567326,
          -0.4687634196997417,
          -1.1569707233646864,
          -0.20439184269921234,
          0.6484691681289205,
          0.8247922039779939,
          0.7566534076986263,
          -0.47802065920583475,
          -0.37539515591956796,
          -0.19480019887372732,
          -0.8903694266829668,
          -1.158895906986244,
          -0.5966010935224592,
          -1.5444232357563994,
          1.1777548236526936,
          0.7616182066614193,
          0.5047518552082003
         ],
         "y": [
          -1.936991487963092,
          -0.11569126822480842,
          -0.9675486848312903,
          -0.03570748738154921,
          1.152026157314478,
          -0.12020911095310927,
          0.9502929244024161,
          0.7776727947455804,
          -0.924013142703625,
          0.32050791426337977,
          -1.7597516309042502,
          -0.4491586351842661,
          0.290894990735173,
          -0.9770054854340499,
          -0.43590308062626865,
          -1.0944993413852326,
          -0.4916500092535971,
          -0.5123894614624396,
          -0.8467633894763315,
          -0.826901448085367,
          -1.4764740605909894,
          0.11068008983495835,
          0.28978668069622404,
          1.0992213648166544,
          0.7782339040585375,
          0.5465000218976769,
          0.3199898087610177,
          -0.18808464624135388,
          1.0568366529165245,
          0.1659244958695554,
          1.399625046098209,
          -0.5953007591936754,
          -0.5206373924693855,
          0.5801829129702887,
          0.6832679470816938,
          1.336260254421983,
          0.3015855846803247,
          2.6333464798146022,
          1.0731127971508758,
          1.7754932668329395,
          -2.0385225989590827,
          0.700761045294904,
          -0.20299627576017767,
          -0.020437457335589805,
          -0.4288836539011838,
          -0.13226991819424455,
          0.08764900440910976,
          -0.674794617002996,
          0.54043210088352,
          -0.4860642591960618,
          0.01366339696631474,
          1.3753034053891933,
          0.9162504634564674,
          -0.32492474812705857,
          -0.8736821112850072,
          -0.9934167604855684,
          -0.34446953444598993,
          -0.5349924240902536,
          -0.17457797518128212,
          -0.6100819152367105,
          -0.8044402168629541,
          -1.3249140922986007,
          -0.4794668006590733,
          -0.23943261051912887,
          0.8509726207184295,
          -0.06513782081526151,
          0.46049993220238744,
          1.3352421073022125,
          -1.870558997580458,
          0.5559619107977536,
          0.20130397456112806,
          0.6883136283856667,
          0.9348624859768491,
          0.7897466383010999,
          -0.11616726146529319,
          -0.6054411993072186,
          0.10644067632075262,
          -0.4346088114743291,
          -0.12828473246656533,
          -0.9665313520782338,
          1.151325789207208,
          2.201941374624922,
          -0.19188876859711448,
          -1.4442447516855943,
          -2.4301440173709588,
          0.46959226759189954,
          -0.27329631691061235,
          -0.01905773855042531,
          -0.8807242909845279,
          0.31128548580138216,
          -0.4314795761239597,
          0.26737467979074336,
          -0.44413081879029187,
          0.9075101453753525,
          -0.5403558802549625,
          0.4024911278983956,
          -0.08641759945373886,
          0.12791519183490496,
          -0.7033907085796087,
          -0.7884005843835954
         ]
        }
       ],
       "layout": {
        "legend": {
         "bgcolor": "#F5F6F9",
         "font": {
          "color": "#4D5663"
         }
        },
        "paper_bgcolor": "#F5F6F9",
        "plot_bgcolor": "#F5F6F9",
        "template": {
         "data": {
          "bar": [
           {
            "error_x": {
             "color": "#2a3f5f"
            },
            "error_y": {
             "color": "#2a3f5f"
            },
            "marker": {
             "line": {
              "color": "#E5ECF6",
              "width": 0.5
             },
             "pattern": {
              "fillmode": "overlay",
              "size": 10,
              "solidity": 0.2
             }
            },
            "type": "bar"
           }
          ],
          "barpolar": [
           {
            "marker": {
             "line": {
              "color": "#E5ECF6",
              "width": 0.5
             },
             "pattern": {
              "fillmode": "overlay",
              "size": 10,
              "solidity": 0.2
             }
            },
            "type": "barpolar"
           }
          ],
          "carpet": [
           {
            "aaxis": {
             "endlinecolor": "#2a3f5f",
             "gridcolor": "white",
             "linecolor": "white",
             "minorgridcolor": "white",
             "startlinecolor": "#2a3f5f"
            },
            "baxis": {
             "endlinecolor": "#2a3f5f",
             "gridcolor": "white",
             "linecolor": "white",
             "minorgridcolor": "white",
             "startlinecolor": "#2a3f5f"
            },
            "type": "carpet"
           }
          ],
          "choropleth": [
           {
            "colorbar": {
             "outlinewidth": 0,
             "ticks": ""
            },
            "type": "choropleth"
           }
          ],
          "contour": [
           {
            "colorbar": {
             "outlinewidth": 0,
             "ticks": ""
            },
            "colorscale": [
             [
              0,
              "#0d0887"
             ],
             [
              0.1111111111111111,
              "#46039f"
             ],
             [
              0.2222222222222222,
              "#7201a8"
             ],
             [
              0.3333333333333333,
              "#9c179e"
             ],
             [
              0.4444444444444444,
              "#bd3786"
             ],
             [
              0.5555555555555556,
              "#d8576b"
             ],
             [
              0.6666666666666666,
              "#ed7953"
             ],
             [
              0.7777777777777778,
              "#fb9f3a"
             ],
             [
              0.8888888888888888,
              "#fdca26"
             ],
             [
              1,
              "#f0f921"
             ]
            ],
            "type": "contour"
           }
          ],
          "contourcarpet": [
           {
            "colorbar": {
             "outlinewidth": 0,
             "ticks": ""
            },
            "type": "contourcarpet"
           }
          ],
          "heatmap": [
           {
            "colorbar": {
             "outlinewidth": 0,
             "ticks": ""
            },
            "colorscale": [
             [
              0,
              "#0d0887"
             ],
             [
              0.1111111111111111,
              "#46039f"
             ],
             [
              0.2222222222222222,
              "#7201a8"
             ],
             [
              0.3333333333333333,
              "#9c179e"
             ],
             [
              0.4444444444444444,
              "#bd3786"
             ],
             [
              0.5555555555555556,
              "#d8576b"
             ],
             [
              0.6666666666666666,
              "#ed7953"
             ],
             [
              0.7777777777777778,
              "#fb9f3a"
             ],
             [
              0.8888888888888888,
              "#fdca26"
             ],
             [
              1,
              "#f0f921"
             ]
            ],
            "type": "heatmap"
           }
          ],
          "heatmapgl": [
           {
            "colorbar": {
             "outlinewidth": 0,
             "ticks": ""
            },
            "colorscale": [
             [
              0,
              "#0d0887"
             ],
             [
              0.1111111111111111,
              "#46039f"
             ],
             [
              0.2222222222222222,
              "#7201a8"
             ],
             [
              0.3333333333333333,
              "#9c179e"
             ],
             [
              0.4444444444444444,
              "#bd3786"
             ],
             [
              0.5555555555555556,
              "#d8576b"
             ],
             [
              0.6666666666666666,
              "#ed7953"
             ],
             [
              0.7777777777777778,
              "#fb9f3a"
             ],
             [
              0.8888888888888888,
              "#fdca26"
             ],
             [
              1,
              "#f0f921"
             ]
            ],
            "type": "heatmapgl"
           }
          ],
          "histogram": [
           {
            "marker": {
             "pattern": {
              "fillmode": "overlay",
              "size": 10,
              "solidity": 0.2
             }
            },
            "type": "histogram"
           }
          ],
          "histogram2d": [
           {
            "colorbar": {
             "outlinewidth": 0,
             "ticks": ""
            },
            "colorscale": [
             [
              0,
              "#0d0887"
             ],
             [
              0.1111111111111111,
              "#46039f"
             ],
             [
              0.2222222222222222,
              "#7201a8"
             ],
             [
              0.3333333333333333,
              "#9c179e"
             ],
             [
              0.4444444444444444,
              "#bd3786"
             ],
             [
              0.5555555555555556,
              "#d8576b"
             ],
             [
              0.6666666666666666,
              "#ed7953"
             ],
             [
              0.7777777777777778,
              "#fb9f3a"
             ],
             [
              0.8888888888888888,
              "#fdca26"
             ],
             [
              1,
              "#f0f921"
             ]
            ],
            "type": "histogram2d"
           }
          ],
          "histogram2dcontour": [
           {
            "colorbar": {
             "outlinewidth": 0,
             "ticks": ""
            },
            "colorscale": [
             [
              0,
              "#0d0887"
             ],
             [
              0.1111111111111111,
              "#46039f"
             ],
             [
              0.2222222222222222,
              "#7201a8"
             ],
             [
              0.3333333333333333,
              "#9c179e"
             ],
             [
              0.4444444444444444,
              "#bd3786"
             ],
             [
              0.5555555555555556,
              "#d8576b"
             ],
             [
              0.6666666666666666,
              "#ed7953"
             ],
             [
              0.7777777777777778,
              "#fb9f3a"
             ],
             [
              0.8888888888888888,
              "#fdca26"
             ],
             [
              1,
              "#f0f921"
             ]
            ],
            "type": "histogram2dcontour"
           }
          ],
          "mesh3d": [
           {
            "colorbar": {
             "outlinewidth": 0,
             "ticks": ""
            },
            "type": "mesh3d"
           }
          ],
          "parcoords": [
           {
            "line": {
             "colorbar": {
              "outlinewidth": 0,
              "ticks": ""
             }
            },
            "type": "parcoords"
           }
          ],
          "pie": [
           {
            "automargin": true,
            "type": "pie"
           }
          ],
          "scatter": [
           {
            "fillpattern": {
             "fillmode": "overlay",
             "size": 10,
             "solidity": 0.2
            },
            "type": "scatter"
           }
          ],
          "scatter3d": [
           {
            "line": {
             "colorbar": {
              "outlinewidth": 0,
              "ticks": ""
             }
            },
            "marker": {
             "colorbar": {
              "outlinewidth": 0,
              "ticks": ""
             }
            },
            "type": "scatter3d"
           }
          ],
          "scattercarpet": [
           {
            "marker": {
             "colorbar": {
              "outlinewidth": 0,
              "ticks": ""
             }
            },
            "type": "scattercarpet"
           }
          ],
          "scattergeo": [
           {
            "marker": {
             "colorbar": {
              "outlinewidth": 0,
              "ticks": ""
             }
            },
            "type": "scattergeo"
           }
          ],
          "scattergl": [
           {
            "marker": {
             "colorbar": {
              "outlinewidth": 0,
              "ticks": ""
             }
            },
            "type": "scattergl"
           }
          ],
          "scattermapbox": [
           {
            "marker": {
             "colorbar": {
              "outlinewidth": 0,
              "ticks": ""
             }
            },
            "type": "scattermapbox"
           }
          ],
          "scatterpolar": [
           {
            "marker": {
             "colorbar": {
              "outlinewidth": 0,
              "ticks": ""
             }
            },
            "type": "scatterpolar"
           }
          ],
          "scatterpolargl": [
           {
            "marker": {
             "colorbar": {
              "outlinewidth": 0,
              "ticks": ""
             }
            },
            "type": "scatterpolargl"
           }
          ],
          "scatterternary": [
           {
            "marker": {
             "colorbar": {
              "outlinewidth": 0,
              "ticks": ""
             }
            },
            "type": "scatterternary"
           }
          ],
          "surface": [
           {
            "colorbar": {
             "outlinewidth": 0,
             "ticks": ""
            },
            "colorscale": [
             [
              0,
              "#0d0887"
             ],
             [
              0.1111111111111111,
              "#46039f"
             ],
             [
              0.2222222222222222,
              "#7201a8"
             ],
             [
              0.3333333333333333,
              "#9c179e"
             ],
             [
              0.4444444444444444,
              "#bd3786"
             ],
             [
              0.5555555555555556,
              "#d8576b"
             ],
             [
              0.6666666666666666,
              "#ed7953"
             ],
             [
              0.7777777777777778,
              "#fb9f3a"
             ],
             [
              0.8888888888888888,
              "#fdca26"
             ],
             [
              1,
              "#f0f921"
             ]
            ],
            "type": "surface"
           }
          ],
          "table": [
           {
            "cells": {
             "fill": {
              "color": "#EBF0F8"
             },
             "line": {
              "color": "white"
             }
            },
            "header": {
             "fill": {
              "color": "#C8D4E3"
             },
             "line": {
              "color": "white"
             }
            },
            "type": "table"
           }
          ]
         },
         "layout": {
          "annotationdefaults": {
           "arrowcolor": "#2a3f5f",
           "arrowhead": 0,
           "arrowwidth": 1
          },
          "autotypenumbers": "strict",
          "coloraxis": {
           "colorbar": {
            "outlinewidth": 0,
            "ticks": ""
           }
          },
          "colorscale": {
           "diverging": [
            [
             0,
             "#8e0152"
            ],
            [
             0.1,
             "#c51b7d"
            ],
            [
             0.2,
             "#de77ae"
            ],
            [
             0.3,
             "#f1b6da"
            ],
            [
             0.4,
             "#fde0ef"
            ],
            [
             0.5,
             "#f7f7f7"
            ],
            [
             0.6,
             "#e6f5d0"
            ],
            [
             0.7,
             "#b8e186"
            ],
            [
             0.8,
             "#7fbc41"
            ],
            [
             0.9,
             "#4d9221"
            ],
            [
             1,
             "#276419"
            ]
           ],
           "sequential": [
            [
             0,
             "#0d0887"
            ],
            [
             0.1111111111111111,
             "#46039f"
            ],
            [
             0.2222222222222222,
             "#7201a8"
            ],
            [
             0.3333333333333333,
             "#9c179e"
            ],
            [
             0.4444444444444444,
             "#bd3786"
            ],
            [
             0.5555555555555556,
             "#d8576b"
            ],
            [
             0.6666666666666666,
             "#ed7953"
            ],
            [
             0.7777777777777778,
             "#fb9f3a"
            ],
            [
             0.8888888888888888,
             "#fdca26"
            ],
            [
             1,
             "#f0f921"
            ]
           ],
           "sequentialminus": [
            [
             0,
             "#0d0887"
            ],
            [
             0.1111111111111111,
             "#46039f"
            ],
            [
             0.2222222222222222,
             "#7201a8"
            ],
            [
             0.3333333333333333,
             "#9c179e"
            ],
            [
             0.4444444444444444,
             "#bd3786"
            ],
            [
             0.5555555555555556,
             "#d8576b"
            ],
            [
             0.6666666666666666,
             "#ed7953"
            ],
            [
             0.7777777777777778,
             "#fb9f3a"
            ],
            [
             0.8888888888888888,
             "#fdca26"
            ],
            [
             1,
             "#f0f921"
            ]
           ]
          },
          "colorway": [
           "#636efa",
           "#EF553B",
           "#00cc96",
           "#ab63fa",
           "#FFA15A",
           "#19d3f3",
           "#FF6692",
           "#B6E880",
           "#FF97FF",
           "#FECB52"
          ],
          "font": {
           "color": "#2a3f5f"
          },
          "geo": {
           "bgcolor": "white",
           "lakecolor": "white",
           "landcolor": "#E5ECF6",
           "showlakes": true,
           "showland": true,
           "subunitcolor": "white"
          },
          "hoverlabel": {
           "align": "left"
          },
          "hovermode": "closest",
          "mapbox": {
           "style": "light"
          },
          "paper_bgcolor": "white",
          "plot_bgcolor": "#E5ECF6",
          "polar": {
           "angularaxis": {
            "gridcolor": "white",
            "linecolor": "white",
            "ticks": ""
           },
           "bgcolor": "#E5ECF6",
           "radialaxis": {
            "gridcolor": "white",
            "linecolor": "white",
            "ticks": ""
           }
          },
          "scene": {
           "xaxis": {
            "backgroundcolor": "#E5ECF6",
            "gridcolor": "white",
            "gridwidth": 2,
            "linecolor": "white",
            "showbackground": true,
            "ticks": "",
            "zerolinecolor": "white"
           },
           "yaxis": {
            "backgroundcolor": "#E5ECF6",
            "gridcolor": "white",
            "gridwidth": 2,
            "linecolor": "white",
            "showbackground": true,
            "ticks": "",
            "zerolinecolor": "white"
           },
           "zaxis": {
            "backgroundcolor": "#E5ECF6",
            "gridcolor": "white",
            "gridwidth": 2,
            "linecolor": "white",
            "showbackground": true,
            "ticks": "",
            "zerolinecolor": "white"
           }
          },
          "shapedefaults": {
           "line": {
            "color": "#2a3f5f"
           }
          },
          "ternary": {
           "aaxis": {
            "gridcolor": "white",
            "linecolor": "white",
            "ticks": ""
           },
           "baxis": {
            "gridcolor": "white",
            "linecolor": "white",
            "ticks": ""
           },
           "bgcolor": "#E5ECF6",
           "caxis": {
            "gridcolor": "white",
            "linecolor": "white",
            "ticks": ""
           }
          },
          "title": {
           "x": 0.05
          },
          "xaxis": {
           "automargin": true,
           "gridcolor": "white",
           "linecolor": "white",
           "ticks": "",
           "title": {
            "standoff": 15
           },
           "zerolinecolor": "white",
           "zerolinewidth": 2
          },
          "yaxis": {
           "automargin": true,
           "gridcolor": "white",
           "linecolor": "white",
           "ticks": "",
           "title": {
            "standoff": 15
           },
           "zerolinecolor": "white",
           "zerolinewidth": 2
          }
         }
        },
        "title": {
         "font": {
          "color": "#4D5663"
         }
        },
        "xaxis": {
         "gridcolor": "#E1E5ED",
         "showgrid": true,
         "tickfont": {
          "color": "#4D5663"
         },
         "title": {
          "font": {
           "color": "#4D5663"
          },
          "text": ""
         },
         "zerolinecolor": "#E1E5ED"
        },
        "yaxis": {
         "gridcolor": "#E1E5ED",
         "showgrid": true,
         "tickfont": {
          "color": "#4D5663"
         },
         "title": {
          "font": {
           "color": "#4D5663"
          },
          "text": ""
         },
         "zerolinecolor": "#E1E5ED"
        }
       }
      },
      "text/html": [
       "<div>                            <div id=\"a5482260-6cf9-44b9-a062-57a81d4bdf95\" class=\"plotly-graph-div\" style=\"height:525px; width:100%;\"></div>            <script type=\"text/javascript\">                require([\"plotly\"], function(Plotly) {                    window.PLOTLYENV=window.PLOTLYENV || {};\n",
       "                    window.PLOTLYENV.BASE_URL='https://plot.ly';                                    if (document.getElementById(\"a5482260-6cf9-44b9-a062-57a81d4bdf95\")) {                    Plotly.newPlot(                        \"a5482260-6cf9-44b9-a062-57a81d4bdf95\",                        [{\"marker\":{\"color\":[\"rgb(255, 153, 51)\",\"rgb(55, 128, 191)\",\"rgb(50, 171, 96)\",\"rgb(128, 0, 128)\",\"rgb(219, 64, 82)\",\"rgb(0, 128, 128)\",\"rgb(255, 255, 51)\",\"rgb(128, 128, 0)\",\"rgb(251, 128, 114)\",\"rgb(128, 177, 211)\"],\"line\":{\"width\":1.3},\"size\":[33,41,66,60,25,50,43,52,73,74,67,72,28,15,36,96,58,21,79,72,49,36,37,27,75,56,47,42,71,43,59,12,65,33,48,73,24,66,55,31,51,29,86,38,60,83,78,38,42,41,43,64,58,57,38,35,65,58,54,51,55,97,19,22,50,56,27,62,102,34,72,77,51,52,55,61,55,86,42,43,59,38,45,111,20,17,40,47,34,65,38,46,65,71,28,25,59,34,85,77],\"symbol\":\"circle\"},\"mode\":\"markers\",\"text\":\"\",\"x\":[0.7705234898774278,-0.5896478916206093,0.17835405438999646,0.5963611453123362,1.7274565609395005,1.5421780537811438,1.628061239074311,-1.6996003095351457,0.4530517140462203,-0.05010402209357444,-0.6730349573592179,-0.505925008907118,1.5217444998825644,0.7830218517512779,0.2136415311917148,-0.5068968787431705,0.7238227873155504,-1.0524166058242228,0.5914587161087208,-2.148676705320432,-0.7343466366308768,-0.5943623139561683,-1.0583740994274637,0.7201107462148718,0.6603549547370541,0.8696266362093719,0.929244746991931,-0.47497605125261894,0.15404582729617616,-0.5917878555453583,0.3905984525454246,-0.4713030598853919,0.8700933287407903,-0.3415262616728389,-1.6728016113390374,0.2671229944566014,1.7640424596098119,0.07097350671730723,-0.19742298132391986,0.1702612515042837,-1.6394584554670721,-0.30406088152150856,-0.5416069186215873,-0.8513178826391808,-2.290646822512884,1.165929862213416,0.6878892903436499,-0.9795878322314134,0.211058793073966,0.7525561644401494,0.9141292435934405,1.0731670376288232,1.928115539184313,-1.0586469160156335,0.2493133435375463,1.0004543896878182,1.0654255989836823,1.514703842271405,-0.37229630884852305,1.4976291737398033,1.6088231464521767,0.1477979916712005,0.3398750970819321,-0.46002824476166554,-0.5551918306725362,-1.6155560991907183,-1.9556880291233207,0.7295946389464798,1.7254124803382753,1.7148315559047616,-0.10266094978445155,0.941879392537153,-1.8244418332264318,-0.13984057595098215,-1.4001826184089927,-0.6613228720419397,0.35870788958066135,-0.17741833189552075,1.4662471983332244,-1.6385294535708028,0.3379690245178709,0.22867327506198257,-0.21706300077687582,0.8480575702567326,-0.4687634196997417,-1.1569707233646864,-0.20439184269921234,0.6484691681289205,0.8247922039779939,0.7566534076986263,-0.47802065920583475,-0.37539515591956796,-0.19480019887372732,-0.8903694266829668,-1.158895906986244,-0.5966010935224592,-1.5444232357563994,1.1777548236526936,0.7616182066614193,0.5047518552082003],\"y\":[-1.936991487963092,-0.11569126822480842,-0.9675486848312903,-0.03570748738154921,1.152026157314478,-0.12020911095310927,0.9502929244024161,0.7776727947455804,-0.924013142703625,0.32050791426337977,-1.7597516309042502,-0.4491586351842661,0.290894990735173,-0.9770054854340499,-0.43590308062626865,-1.0944993413852326,-0.4916500092535971,-0.5123894614624396,-0.8467633894763315,-0.826901448085367,-1.4764740605909894,0.11068008983495835,0.28978668069622404,1.0992213648166544,0.7782339040585375,0.5465000218976769,0.3199898087610177,-0.18808464624135388,1.0568366529165245,0.1659244958695554,1.399625046098209,-0.5953007591936754,-0.5206373924693855,0.5801829129702887,0.6832679470816938,1.336260254421983,0.3015855846803247,2.6333464798146022,1.0731127971508758,1.7754932668329395,-2.0385225989590827,0.700761045294904,-0.20299627576017767,-0.020437457335589805,-0.4288836539011838,-0.13226991819424455,0.08764900440910976,-0.674794617002996,0.54043210088352,-0.4860642591960618,0.01366339696631474,1.3753034053891933,0.9162504634564674,-0.32492474812705857,-0.8736821112850072,-0.9934167604855684,-0.34446953444598993,-0.5349924240902536,-0.17457797518128212,-0.6100819152367105,-0.8044402168629541,-1.3249140922986007,-0.4794668006590733,-0.23943261051912887,0.8509726207184295,-0.06513782081526151,0.46049993220238744,1.3352421073022125,-1.870558997580458,0.5559619107977536,0.20130397456112806,0.6883136283856667,0.9348624859768491,0.7897466383010999,-0.11616726146529319,-0.6054411993072186,0.10644067632075262,-0.4346088114743291,-0.12828473246656533,-0.9665313520782338,1.151325789207208,2.201941374624922,-0.19188876859711448,-1.4442447516855943,-2.4301440173709588,0.46959226759189954,-0.27329631691061235,-0.01905773855042531,-0.8807242909845279,0.31128548580138216,-0.4314795761239597,0.26737467979074336,-0.44413081879029187,0.9075101453753525,-0.5403558802549625,0.4024911278983956,-0.08641759945373886,0.12791519183490496,-0.7033907085796087,-0.7884005843835954],\"type\":\"scatter\"}],                        {\"legend\":{\"bgcolor\":\"#F5F6F9\",\"font\":{\"color\":\"#4D5663\"}},\"paper_bgcolor\":\"#F5F6F9\",\"plot_bgcolor\":\"#F5F6F9\",\"template\":{\"data\":{\"barpolar\":[{\"marker\":{\"line\":{\"color\":\"#E5ECF6\",\"width\":0.5},\"pattern\":{\"fillmode\":\"overlay\",\"size\":10,\"solidity\":0.2}},\"type\":\"barpolar\"}],\"bar\":[{\"error_x\":{\"color\":\"#2a3f5f\"},\"error_y\":{\"color\":\"#2a3f5f\"},\"marker\":{\"line\":{\"color\":\"#E5ECF6\",\"width\":0.5},\"pattern\":{\"fillmode\":\"overlay\",\"size\":10,\"solidity\":0.2}},\"type\":\"bar\"}],\"carpet\":[{\"aaxis\":{\"endlinecolor\":\"#2a3f5f\",\"gridcolor\":\"white\",\"linecolor\":\"white\",\"minorgridcolor\":\"white\",\"startlinecolor\":\"#2a3f5f\"},\"baxis\":{\"endlinecolor\":\"#2a3f5f\",\"gridcolor\":\"white\",\"linecolor\":\"white\",\"minorgridcolor\":\"white\",\"startlinecolor\":\"#2a3f5f\"},\"type\":\"carpet\"}],\"choropleth\":[{\"colorbar\":{\"outlinewidth\":0,\"ticks\":\"\"},\"type\":\"choropleth\"}],\"contourcarpet\":[{\"colorbar\":{\"outlinewidth\":0,\"ticks\":\"\"},\"type\":\"contourcarpet\"}],\"contour\":[{\"colorbar\":{\"outlinewidth\":0,\"ticks\":\"\"},\"colorscale\":[[0.0,\"#0d0887\"],[0.1111111111111111,\"#46039f\"],[0.2222222222222222,\"#7201a8\"],[0.3333333333333333,\"#9c179e\"],[0.4444444444444444,\"#bd3786\"],[0.5555555555555556,\"#d8576b\"],[0.6666666666666666,\"#ed7953\"],[0.7777777777777778,\"#fb9f3a\"],[0.8888888888888888,\"#fdca26\"],[1.0,\"#f0f921\"]],\"type\":\"contour\"}],\"heatmapgl\":[{\"colorbar\":{\"outlinewidth\":0,\"ticks\":\"\"},\"colorscale\":[[0.0,\"#0d0887\"],[0.1111111111111111,\"#46039f\"],[0.2222222222222222,\"#7201a8\"],[0.3333333333333333,\"#9c179e\"],[0.4444444444444444,\"#bd3786\"],[0.5555555555555556,\"#d8576b\"],[0.6666666666666666,\"#ed7953\"],[0.7777777777777778,\"#fb9f3a\"],[0.8888888888888888,\"#fdca26\"],[1.0,\"#f0f921\"]],\"type\":\"heatmapgl\"}],\"heatmap\":[{\"colorbar\":{\"outlinewidth\":0,\"ticks\":\"\"},\"colorscale\":[[0.0,\"#0d0887\"],[0.1111111111111111,\"#46039f\"],[0.2222222222222222,\"#7201a8\"],[0.3333333333333333,\"#9c179e\"],[0.4444444444444444,\"#bd3786\"],[0.5555555555555556,\"#d8576b\"],[0.6666666666666666,\"#ed7953\"],[0.7777777777777778,\"#fb9f3a\"],[0.8888888888888888,\"#fdca26\"],[1.0,\"#f0f921\"]],\"type\":\"heatmap\"}],\"histogram2dcontour\":[{\"colorbar\":{\"outlinewidth\":0,\"ticks\":\"\"},\"colorscale\":[[0.0,\"#0d0887\"],[0.1111111111111111,\"#46039f\"],[0.2222222222222222,\"#7201a8\"],[0.3333333333333333,\"#9c179e\"],[0.4444444444444444,\"#bd3786\"],[0.5555555555555556,\"#d8576b\"],[0.6666666666666666,\"#ed7953\"],[0.7777777777777778,\"#fb9f3a\"],[0.8888888888888888,\"#fdca26\"],[1.0,\"#f0f921\"]],\"type\":\"histogram2dcontour\"}],\"histogram2d\":[{\"colorbar\":{\"outlinewidth\":0,\"ticks\":\"\"},\"colorscale\":[[0.0,\"#0d0887\"],[0.1111111111111111,\"#46039f\"],[0.2222222222222222,\"#7201a8\"],[0.3333333333333333,\"#9c179e\"],[0.4444444444444444,\"#bd3786\"],[0.5555555555555556,\"#d8576b\"],[0.6666666666666666,\"#ed7953\"],[0.7777777777777778,\"#fb9f3a\"],[0.8888888888888888,\"#fdca26\"],[1.0,\"#f0f921\"]],\"type\":\"histogram2d\"}],\"histogram\":[{\"marker\":{\"pattern\":{\"fillmode\":\"overlay\",\"size\":10,\"solidity\":0.2}},\"type\":\"histogram\"}],\"mesh3d\":[{\"colorbar\":{\"outlinewidth\":0,\"ticks\":\"\"},\"type\":\"mesh3d\"}],\"parcoords\":[{\"line\":{\"colorbar\":{\"outlinewidth\":0,\"ticks\":\"\"}},\"type\":\"parcoords\"}],\"pie\":[{\"automargin\":true,\"type\":\"pie\"}],\"scatter3d\":[{\"line\":{\"colorbar\":{\"outlinewidth\":0,\"ticks\":\"\"}},\"marker\":{\"colorbar\":{\"outlinewidth\":0,\"ticks\":\"\"}},\"type\":\"scatter3d\"}],\"scattercarpet\":[{\"marker\":{\"colorbar\":{\"outlinewidth\":0,\"ticks\":\"\"}},\"type\":\"scattercarpet\"}],\"scattergeo\":[{\"marker\":{\"colorbar\":{\"outlinewidth\":0,\"ticks\":\"\"}},\"type\":\"scattergeo\"}],\"scattergl\":[{\"marker\":{\"colorbar\":{\"outlinewidth\":0,\"ticks\":\"\"}},\"type\":\"scattergl\"}],\"scattermapbox\":[{\"marker\":{\"colorbar\":{\"outlinewidth\":0,\"ticks\":\"\"}},\"type\":\"scattermapbox\"}],\"scatterpolargl\":[{\"marker\":{\"colorbar\":{\"outlinewidth\":0,\"ticks\":\"\"}},\"type\":\"scatterpolargl\"}],\"scatterpolar\":[{\"marker\":{\"colorbar\":{\"outlinewidth\":0,\"ticks\":\"\"}},\"type\":\"scatterpolar\"}],\"scatter\":[{\"fillpattern\":{\"fillmode\":\"overlay\",\"size\":10,\"solidity\":0.2},\"type\":\"scatter\"}],\"scatterternary\":[{\"marker\":{\"colorbar\":{\"outlinewidth\":0,\"ticks\":\"\"}},\"type\":\"scatterternary\"}],\"surface\":[{\"colorbar\":{\"outlinewidth\":0,\"ticks\":\"\"},\"colorscale\":[[0.0,\"#0d0887\"],[0.1111111111111111,\"#46039f\"],[0.2222222222222222,\"#7201a8\"],[0.3333333333333333,\"#9c179e\"],[0.4444444444444444,\"#bd3786\"],[0.5555555555555556,\"#d8576b\"],[0.6666666666666666,\"#ed7953\"],[0.7777777777777778,\"#fb9f3a\"],[0.8888888888888888,\"#fdca26\"],[1.0,\"#f0f921\"]],\"type\":\"surface\"}],\"table\":[{\"cells\":{\"fill\":{\"color\":\"#EBF0F8\"},\"line\":{\"color\":\"white\"}},\"header\":{\"fill\":{\"color\":\"#C8D4E3\"},\"line\":{\"color\":\"white\"}},\"type\":\"table\"}]},\"layout\":{\"annotationdefaults\":{\"arrowcolor\":\"#2a3f5f\",\"arrowhead\":0,\"arrowwidth\":1},\"autotypenumbers\":\"strict\",\"coloraxis\":{\"colorbar\":{\"outlinewidth\":0,\"ticks\":\"\"}},\"colorscale\":{\"diverging\":[[0,\"#8e0152\"],[0.1,\"#c51b7d\"],[0.2,\"#de77ae\"],[0.3,\"#f1b6da\"],[0.4,\"#fde0ef\"],[0.5,\"#f7f7f7\"],[0.6,\"#e6f5d0\"],[0.7,\"#b8e186\"],[0.8,\"#7fbc41\"],[0.9,\"#4d9221\"],[1,\"#276419\"]],\"sequential\":[[0.0,\"#0d0887\"],[0.1111111111111111,\"#46039f\"],[0.2222222222222222,\"#7201a8\"],[0.3333333333333333,\"#9c179e\"],[0.4444444444444444,\"#bd3786\"],[0.5555555555555556,\"#d8576b\"],[0.6666666666666666,\"#ed7953\"],[0.7777777777777778,\"#fb9f3a\"],[0.8888888888888888,\"#fdca26\"],[1.0,\"#f0f921\"]],\"sequentialminus\":[[0.0,\"#0d0887\"],[0.1111111111111111,\"#46039f\"],[0.2222222222222222,\"#7201a8\"],[0.3333333333333333,\"#9c179e\"],[0.4444444444444444,\"#bd3786\"],[0.5555555555555556,\"#d8576b\"],[0.6666666666666666,\"#ed7953\"],[0.7777777777777778,\"#fb9f3a\"],[0.8888888888888888,\"#fdca26\"],[1.0,\"#f0f921\"]]},\"colorway\":[\"#636efa\",\"#EF553B\",\"#00cc96\",\"#ab63fa\",\"#FFA15A\",\"#19d3f3\",\"#FF6692\",\"#B6E880\",\"#FF97FF\",\"#FECB52\"],\"font\":{\"color\":\"#2a3f5f\"},\"geo\":{\"bgcolor\":\"white\",\"lakecolor\":\"white\",\"landcolor\":\"#E5ECF6\",\"showlakes\":true,\"showland\":true,\"subunitcolor\":\"white\"},\"hoverlabel\":{\"align\":\"left\"},\"hovermode\":\"closest\",\"mapbox\":{\"style\":\"light\"},\"paper_bgcolor\":\"white\",\"plot_bgcolor\":\"#E5ECF6\",\"polar\":{\"angularaxis\":{\"gridcolor\":\"white\",\"linecolor\":\"white\",\"ticks\":\"\"},\"bgcolor\":\"#E5ECF6\",\"radialaxis\":{\"gridcolor\":\"white\",\"linecolor\":\"white\",\"ticks\":\"\"}},\"scene\":{\"xaxis\":{\"backgroundcolor\":\"#E5ECF6\",\"gridcolor\":\"white\",\"gridwidth\":2,\"linecolor\":\"white\",\"showbackground\":true,\"ticks\":\"\",\"zerolinecolor\":\"white\"},\"yaxis\":{\"backgroundcolor\":\"#E5ECF6\",\"gridcolor\":\"white\",\"gridwidth\":2,\"linecolor\":\"white\",\"showbackground\":true,\"ticks\":\"\",\"zerolinecolor\":\"white\"},\"zaxis\":{\"backgroundcolor\":\"#E5ECF6\",\"gridcolor\":\"white\",\"gridwidth\":2,\"linecolor\":\"white\",\"showbackground\":true,\"ticks\":\"\",\"zerolinecolor\":\"white\"}},\"shapedefaults\":{\"line\":{\"color\":\"#2a3f5f\"}},\"ternary\":{\"aaxis\":{\"gridcolor\":\"white\",\"linecolor\":\"white\",\"ticks\":\"\"},\"baxis\":{\"gridcolor\":\"white\",\"linecolor\":\"white\",\"ticks\":\"\"},\"bgcolor\":\"#E5ECF6\",\"caxis\":{\"gridcolor\":\"white\",\"linecolor\":\"white\",\"ticks\":\"\"}},\"title\":{\"x\":0.05},\"xaxis\":{\"automargin\":true,\"gridcolor\":\"white\",\"linecolor\":\"white\",\"ticks\":\"\",\"title\":{\"standoff\":15},\"zerolinecolor\":\"white\",\"zerolinewidth\":2},\"yaxis\":{\"automargin\":true,\"gridcolor\":\"white\",\"linecolor\":\"white\",\"ticks\":\"\",\"title\":{\"standoff\":15},\"zerolinecolor\":\"white\",\"zerolinewidth\":2}}},\"title\":{\"font\":{\"color\":\"#4D5663\"}},\"xaxis\":{\"gridcolor\":\"#E1E5ED\",\"showgrid\":true,\"tickfont\":{\"color\":\"#4D5663\"},\"title\":{\"font\":{\"color\":\"#4D5663\"},\"text\":\"\"},\"zerolinecolor\":\"#E1E5ED\"},\"yaxis\":{\"gridcolor\":\"#E1E5ED\",\"showgrid\":true,\"tickfont\":{\"color\":\"#4D5663\"},\"title\":{\"font\":{\"color\":\"#4D5663\"},\"text\":\"\"},\"zerolinecolor\":\"#E1E5ED\"}},                        {\"showLink\": true, \"linkText\": \"Export to plot.ly\", \"plotlyServerURL\": \"https://plot.ly\", \"responsive\": true}                    ).then(function(){\n",
       "                            \n",
       "var gd = document.getElementById('a5482260-6cf9-44b9-a062-57a81d4bdf95');\n",
       "var x = new MutationObserver(function (mutations, observer) {{\n",
       "        var display = window.getComputedStyle(gd).display;\n",
       "        if (!display || display === 'none') {{\n",
       "            console.log([gd, 'removed!']);\n",
       "            Plotly.purge(gd);\n",
       "            observer.disconnect();\n",
       "        }}\n",
       "}});\n",
       "\n",
       "// Listen for the removal of the full notebook cells\n",
       "var notebookContainer = gd.closest('#notebook-container');\n",
       "if (notebookContainer) {{\n",
       "    x.observe(notebookContainer, {childList: true});\n",
       "}}\n",
       "\n",
       "// Listen for the clearing of the current output cell\n",
       "var outputEl = gd.closest('.output');\n",
       "if (outputEl) {{\n",
       "    x.observe(outputEl, {childList: true});\n",
       "}}\n",
       "\n",
       "                        })                };                });            </script>        </div>"
      ]
     },
     "metadata": {},
     "output_type": "display_data"
    }
   ],
   "source": [
    "df.iplot(kind='bubble',x='A',y='B',size='C')"
   ]
  },
  {
   "cell_type": "markdown",
   "metadata": {},
   "source": [
    "## scatter_matrix()\n",
    "\n",
    "Similar to sns.pairplot()"
   ]
  },
  {
   "cell_type": "code",
   "execution_count": 19,
   "metadata": {},
   "outputs": [
    {
     "data": {
      "application/vnd.plotly.v1+json": {
       "config": {
        "linkText": "Export to plot.ly",
        "plotlyServerURL": "https://plot.ly",
        "showLink": true
       },
       "data": [
        {
         "histfunc": "count",
         "histnorm": "",
         "marker": {
          "color": "rgba(255, 153, 51, 1.0)",
          "line": {
           "color": "#4D5663",
           "width": 1.3
          }
         },
         "name": "A",
         "nbinsx": 10,
         "opacity": 0.8,
         "orientation": "v",
         "type": "histogram",
         "x": [
          0.7705234898774278,
          -0.5896478916206093,
          0.17835405438999646,
          0.5963611453123362,
          1.7274565609395005,
          1.5421780537811438,
          1.628061239074311,
          -1.6996003095351457,
          0.4530517140462203,
          -0.05010402209357444,
          -0.6730349573592179,
          -0.505925008907118,
          1.5217444998825644,
          0.7830218517512779,
          0.2136415311917148,
          -0.5068968787431705,
          0.7238227873155504,
          -1.0524166058242228,
          0.5914587161087208,
          -2.148676705320432,
          -0.7343466366308768,
          -0.5943623139561683,
          -1.0583740994274637,
          0.7201107462148718,
          0.6603549547370541,
          0.8696266362093719,
          0.929244746991931,
          -0.47497605125261894,
          0.15404582729617616,
          -0.5917878555453583,
          0.3905984525454246,
          -0.4713030598853919,
          0.8700933287407903,
          -0.3415262616728389,
          -1.6728016113390374,
          0.2671229944566014,
          1.7640424596098119,
          0.07097350671730723,
          -0.19742298132391986,
          0.1702612515042837,
          -1.6394584554670721,
          -0.30406088152150856,
          -0.5416069186215873,
          -0.8513178826391808,
          -2.290646822512884,
          1.165929862213416,
          0.6878892903436499,
          -0.9795878322314134,
          0.211058793073966,
          0.7525561644401494,
          0.9141292435934405,
          1.0731670376288232,
          1.928115539184313,
          -1.0586469160156335,
          0.2493133435375463,
          1.0004543896878182,
          1.0654255989836823,
          1.514703842271405,
          -0.37229630884852305,
          1.4976291737398033,
          1.6088231464521767,
          0.1477979916712005,
          0.3398750970819321,
          -0.46002824476166554,
          -0.5551918306725362,
          -1.6155560991907183,
          -1.9556880291233207,
          0.7295946389464798,
          1.7254124803382753,
          1.7148315559047616,
          -0.10266094978445155,
          0.941879392537153,
          -1.8244418332264318,
          -0.13984057595098215,
          -1.4001826184089927,
          -0.6613228720419397,
          0.35870788958066135,
          -0.17741833189552075,
          1.4662471983332244,
          -1.6385294535708028,
          0.3379690245178709,
          0.22867327506198257,
          -0.21706300077687582,
          0.8480575702567326,
          -0.4687634196997417,
          -1.1569707233646864,
          -0.20439184269921234,
          0.6484691681289205,
          0.8247922039779939,
          0.7566534076986263,
          -0.47802065920583475,
          -0.37539515591956796,
          -0.19480019887372732,
          -0.8903694266829668,
          -1.158895906986244,
          -0.5966010935224592,
          -1.5444232357563994,
          1.1777548236526936,
          0.7616182066614193,
          0.5047518552082003
         ],
         "xaxis": "x",
         "yaxis": "y"
        },
        {
         "line": {
          "color": "rgba(128, 128, 128, 1.0)",
          "dash": "solid",
          "shape": "linear",
          "width": 1.3
         },
         "marker": {
          "size": 2,
          "symbol": "circle"
         },
         "mode": "markers",
         "name": "A",
         "text": "",
         "type": "scatter",
         "x": [
          -1.936991487963092,
          -0.11569126822480842,
          -0.9675486848312903,
          -0.03570748738154921,
          1.152026157314478,
          -0.12020911095310927,
          0.9502929244024161,
          0.7776727947455804,
          -0.924013142703625,
          0.32050791426337977,
          -1.7597516309042502,
          -0.4491586351842661,
          0.290894990735173,
          -0.9770054854340499,
          -0.43590308062626865,
          -1.0944993413852326,
          -0.4916500092535971,
          -0.5123894614624396,
          -0.8467633894763315,
          -0.826901448085367,
          -1.4764740605909894,
          0.11068008983495835,
          0.28978668069622404,
          1.0992213648166544,
          0.7782339040585375,
          0.5465000218976769,
          0.3199898087610177,
          -0.18808464624135388,
          1.0568366529165245,
          0.1659244958695554,
          1.399625046098209,
          -0.5953007591936754,
          -0.5206373924693855,
          0.5801829129702887,
          0.6832679470816938,
          1.336260254421983,
          0.3015855846803247,
          2.6333464798146022,
          1.0731127971508758,
          1.7754932668329395,
          -2.0385225989590827,
          0.700761045294904,
          -0.20299627576017767,
          -0.020437457335589805,
          -0.4288836539011838,
          -0.13226991819424455,
          0.08764900440910976,
          -0.674794617002996,
          0.54043210088352,
          -0.4860642591960618,
          0.01366339696631474,
          1.3753034053891933,
          0.9162504634564674,
          -0.32492474812705857,
          -0.8736821112850072,
          -0.9934167604855684,
          -0.34446953444598993,
          -0.5349924240902536,
          -0.17457797518128212,
          -0.6100819152367105,
          -0.8044402168629541,
          -1.3249140922986007,
          -0.4794668006590733,
          -0.23943261051912887,
          0.8509726207184295,
          -0.06513782081526151,
          0.46049993220238744,
          1.3352421073022125,
          -1.870558997580458,
          0.5559619107977536,
          0.20130397456112806,
          0.6883136283856667,
          0.9348624859768491,
          0.7897466383010999,
          -0.11616726146529319,
          -0.6054411993072186,
          0.10644067632075262,
          -0.4346088114743291,
          -0.12828473246656533,
          -0.9665313520782338,
          1.151325789207208,
          2.201941374624922,
          -0.19188876859711448,
          -1.4442447516855943,
          -2.4301440173709588,
          0.46959226759189954,
          -0.27329631691061235,
          -0.01905773855042531,
          -0.8807242909845279,
          0.31128548580138216,
          -0.4314795761239597,
          0.26737467979074336,
          -0.44413081879029187,
          0.9075101453753525,
          -0.5403558802549625,
          0.4024911278983956,
          -0.08641759945373886,
          0.12791519183490496,
          -0.7033907085796087,
          -0.7884005843835954
         ],
         "xaxis": "x2",
         "y": [
          0.7705234898774278,
          -0.5896478916206093,
          0.17835405438999646,
          0.5963611453123362,
          1.7274565609395005,
          1.5421780537811438,
          1.628061239074311,
          -1.6996003095351457,
          0.4530517140462203,
          -0.05010402209357444,
          -0.6730349573592179,
          -0.505925008907118,
          1.5217444998825644,
          0.7830218517512779,
          0.2136415311917148,
          -0.5068968787431705,
          0.7238227873155504,
          -1.0524166058242228,
          0.5914587161087208,
          -2.148676705320432,
          -0.7343466366308768,
          -0.5943623139561683,
          -1.0583740994274637,
          0.7201107462148718,
          0.6603549547370541,
          0.8696266362093719,
          0.929244746991931,
          -0.47497605125261894,
          0.15404582729617616,
          -0.5917878555453583,
          0.3905984525454246,
          -0.4713030598853919,
          0.8700933287407903,
          -0.3415262616728389,
          -1.6728016113390374,
          0.2671229944566014,
          1.7640424596098119,
          0.07097350671730723,
          -0.19742298132391986,
          0.1702612515042837,
          -1.6394584554670721,
          -0.30406088152150856,
          -0.5416069186215873,
          -0.8513178826391808,
          -2.290646822512884,
          1.165929862213416,
          0.6878892903436499,
          -0.9795878322314134,
          0.211058793073966,
          0.7525561644401494,
          0.9141292435934405,
          1.0731670376288232,
          1.928115539184313,
          -1.0586469160156335,
          0.2493133435375463,
          1.0004543896878182,
          1.0654255989836823,
          1.514703842271405,
          -0.37229630884852305,
          1.4976291737398033,
          1.6088231464521767,
          0.1477979916712005,
          0.3398750970819321,
          -0.46002824476166554,
          -0.5551918306725362,
          -1.6155560991907183,
          -1.9556880291233207,
          0.7295946389464798,
          1.7254124803382753,
          1.7148315559047616,
          -0.10266094978445155,
          0.941879392537153,
          -1.8244418332264318,
          -0.13984057595098215,
          -1.4001826184089927,
          -0.6613228720419397,
          0.35870788958066135,
          -0.17741833189552075,
          1.4662471983332244,
          -1.6385294535708028,
          0.3379690245178709,
          0.22867327506198257,
          -0.21706300077687582,
          0.8480575702567326,
          -0.4687634196997417,
          -1.1569707233646864,
          -0.20439184269921234,
          0.6484691681289205,
          0.8247922039779939,
          0.7566534076986263,
          -0.47802065920583475,
          -0.37539515591956796,
          -0.19480019887372732,
          -0.8903694266829668,
          -1.158895906986244,
          -0.5966010935224592,
          -1.5444232357563994,
          1.1777548236526936,
          0.7616182066614193,
          0.5047518552082003
         ],
         "yaxis": "y2"
        },
        {
         "line": {
          "color": "rgba(128, 128, 128, 1.0)",
          "dash": "solid",
          "shape": "linear",
          "width": 1.3
         },
         "marker": {
          "size": 2,
          "symbol": "circle"
         },
         "mode": "markers",
         "name": "A",
         "text": "",
         "type": "scatter",
         "x": [
          -1.0530784046234432,
          -0.5998828525246954,
          0.6823394736694053,
          0.39154844138397654,
          -1.4777559005196188,
          -0.17957819724080418,
          -0.49546806226955015,
          -0.03417677960283049,
          1.0347613869510441,
          1.0799609381259707,
          0.7451801785572333,
          0.9730888944898628,
          -1.3019376377797687,
          -1.9657915547564373,
          -0.870066654359202,
          2.2559773726913344,
          0.2885706276295685,
          -1.6910049820803512,
          1.357552776496664,
          1.0029552839044396,
          -0.21693148932201317,
          -0.8841730419634529,
          -0.8113318199507564,
          -1.3632044957069864,
          1.1737063458025767,
          0.17893747159057952,
          -0.29813181713258186,
          -0.5763832771031352,
          0.9242110949417373,
          -0.5079370686565353,
          0.2933808766969281,
          -2.1679992137214095,
          0.6217215884139936,
          -1.021758639966795,
          -0.2560773812211148,
          1.0595458843720178,
          -1.518219887885119,
          0.6816340473089165,
          0.10731128180675693,
          -1.1475973355287767,
          -0.10385105387906973,
          -1.2684312877153545,
          1.719844550237913,
          -0.7581785004384675,
          0.3841485671271159,
          1.5469529582376156,
          1.3272051983404904,
          -0.7626176485414343,
          -0.5574002558924317,
          -0.6226398165697349,
          -0.529344110988253,
          0.5776480272337935,
          0.23965864418308097,
          0.23123888115013844,
          -0.7677448090071148,
          -0.9405940135946458,
          0.644477074950686,
          0.27835432726066134,
          0.05122390242802615,
          -0.09429130631244215,
          0.08989403240645649,
          2.281992722311357,
          -1.792734526780254,
          -1.600479070121444,
          -0.15547847759276393,
          0.13773518964345685,
          -1.3715213636621988,
          0.4610607419023082,
          2.5757296527396014,
          -0.9889934472264842,
          0.9744658553018318,
          1.2796847790946488,
          -0.09856461240780492,
          -0.026284734994786108,
          0.09559567063454737,
          0.42256261579730414,
          0.10452615902512712,
          1.7483881135714812,
          -0.5972683954527638,
          -0.5199775463225929,
          0.3237357914953983,
          -0.784322091622033,
          -0.441690957377831,
          3.0632314470891338,
          -1.7079099270243534,
          -1.883849760005292,
          -0.676239956124565,
          -0.3051619621600872,
          -0.9980426186136298,
          0.608160336738181,
          -0.7834567597292276,
          -0.37191194476714395,
          0.6413319899545503,
          0.9373011439114821,
          -1.287901342341771,
          -1.472193760695295,
          0.3411666985779841,
          -0.9944489415680196,
          1.6965643906356584,
          1.2704513652712195
         ],
         "xaxis": "x3",
         "y": [
          0.7705234898774278,
          -0.5896478916206093,
          0.17835405438999646,
          0.5963611453123362,
          1.7274565609395005,
          1.5421780537811438,
          1.628061239074311,
          -1.6996003095351457,
          0.4530517140462203,
          -0.05010402209357444,
          -0.6730349573592179,
          -0.505925008907118,
          1.5217444998825644,
          0.7830218517512779,
          0.2136415311917148,
          -0.5068968787431705,
          0.7238227873155504,
          -1.0524166058242228,
          0.5914587161087208,
          -2.148676705320432,
          -0.7343466366308768,
          -0.5943623139561683,
          -1.0583740994274637,
          0.7201107462148718,
          0.6603549547370541,
          0.8696266362093719,
          0.929244746991931,
          -0.47497605125261894,
          0.15404582729617616,
          -0.5917878555453583,
          0.3905984525454246,
          -0.4713030598853919,
          0.8700933287407903,
          -0.3415262616728389,
          -1.6728016113390374,
          0.2671229944566014,
          1.7640424596098119,
          0.07097350671730723,
          -0.19742298132391986,
          0.1702612515042837,
          -1.6394584554670721,
          -0.30406088152150856,
          -0.5416069186215873,
          -0.8513178826391808,
          -2.290646822512884,
          1.165929862213416,
          0.6878892903436499,
          -0.9795878322314134,
          0.211058793073966,
          0.7525561644401494,
          0.9141292435934405,
          1.0731670376288232,
          1.928115539184313,
          -1.0586469160156335,
          0.2493133435375463,
          1.0004543896878182,
          1.0654255989836823,
          1.514703842271405,
          -0.37229630884852305,
          1.4976291737398033,
          1.6088231464521767,
          0.1477979916712005,
          0.3398750970819321,
          -0.46002824476166554,
          -0.5551918306725362,
          -1.6155560991907183,
          -1.9556880291233207,
          0.7295946389464798,
          1.7254124803382753,
          1.7148315559047616,
          -0.10266094978445155,
          0.941879392537153,
          -1.8244418332264318,
          -0.13984057595098215,
          -1.4001826184089927,
          -0.6613228720419397,
          0.35870788958066135,
          -0.17741833189552075,
          1.4662471983332244,
          -1.6385294535708028,
          0.3379690245178709,
          0.22867327506198257,
          -0.21706300077687582,
          0.8480575702567326,
          -0.4687634196997417,
          -1.1569707233646864,
          -0.20439184269921234,
          0.6484691681289205,
          0.8247922039779939,
          0.7566534076986263,
          -0.47802065920583475,
          -0.37539515591956796,
          -0.19480019887372732,
          -0.8903694266829668,
          -1.158895906986244,
          -0.5966010935224592,
          -1.5444232357563994,
          1.1777548236526936,
          0.7616182066614193,
          0.5047518552082003
         ],
         "yaxis": "y3"
        },
        {
         "line": {
          "color": "rgba(128, 128, 128, 1.0)",
          "dash": "solid",
          "shape": "linear",
          "width": 1.3
         },
         "marker": {
          "size": 2,
          "symbol": "circle"
         },
         "mode": "markers",
         "name": "A",
         "text": "",
         "type": "scatter",
         "x": [
          0.8646413499069018,
          -0.2552281674137794,
          0.26811843883347297,
          -0.05620719260251065,
          0.608342730014287,
          -2.256742050699274,
          0.20863292342878495,
          -0.3686736158874111,
          0.4890915253487885,
          -0.7660163000766769,
          -1.0416449917165311,
          0.4806582458712171,
          -0.4114702750364706,
          0.5204670498913053,
          0.8221428149264973,
          -0.4492091311960765,
          0.20711343906592006,
          1.8614968160790308,
          0.500780513105085,
          0.7743038045339257,
          -0.8737176351867867,
          0.6039583039825533,
          0.918443752665162,
          0.8535050575774797,
          1.0763748311105066,
          -0.8419136921837637,
          0.48160211456198027,
          0.3478897279703216,
          0.9685946434483648,
          -2.083276296418463,
          0.45149660079847936,
          0.6619071635166061,
          1.4181560825234245,
          0.771324956250657,
          -0.14530416649451658,
          0.3976651171123839,
          0.9097113297509332,
          1.1847865608699824,
          -0.6593625759218309,
          0.6063633800482321,
          -0.8241662343593859,
          -0.12772546192840956,
          0.7148164695124857,
          -0.24942187496075405,
          -0.9027445697381894,
          1.8406892568230273,
          1.535826820285057,
          0.5447966621621687,
          0.9062058717674921,
          -0.42337476638976546,
          -0.9625853744750459,
          0.012321355476298982,
          0.7820001818025489,
          1.6668604004234198,
          -1.1406377909082492,
          0.01252864120674704,
          2.4945244557662867,
          -0.36863232278118596,
          2.105501475153067,
          -0.6604465682866272,
          1.441867694392154,
          0.21658236094602748,
          -0.0962298020043322,
          0.9483220550499809,
          -0.4763879231568212,
          0.43088325233755626,
          -2.7808120528625597,
          -0.23247531036345054,
          0.36084335483646746,
          -1.2089322822921906,
          -0.24890461011327844,
          -0.8600402238497193,
          -0.1537178103039477,
          -0.8126122194166278,
          0.06500256700747642,
          -1.2782007194448137,
          1.3537224338145164,
          1.1604141316798053,
          -0.2441372217689482,
          0.5410938929946172,
          -0.8566872529766918,
          -1.2478278597223393,
          0.37737044908776896,
          0.29405781918803214,
          0.4233528157322542,
          1.8706118533171237,
          -0.924684455884149,
          0.22070722366373066,
          -2.4586292759209427,
          -0.22400430312705338,
          0.25890765257504844,
          -0.027752998619231247,
          0.6927331168229386,
          -0.44531744308082827,
          0.49316863052720616,
          1.4475888554971592,
          -1.326978368217466,
          -0.6001675855943368,
          -0.09965240439827666,
          0.18642732850013347
         ],
         "xaxis": "x4",
         "y": [
          0.7705234898774278,
          -0.5896478916206093,
          0.17835405438999646,
          0.5963611453123362,
          1.7274565609395005,
          1.5421780537811438,
          1.628061239074311,
          -1.6996003095351457,
          0.4530517140462203,
          -0.05010402209357444,
          -0.6730349573592179,
          -0.505925008907118,
          1.5217444998825644,
          0.7830218517512779,
          0.2136415311917148,
          -0.5068968787431705,
          0.7238227873155504,
          -1.0524166058242228,
          0.5914587161087208,
          -2.148676705320432,
          -0.7343466366308768,
          -0.5943623139561683,
          -1.0583740994274637,
          0.7201107462148718,
          0.6603549547370541,
          0.8696266362093719,
          0.929244746991931,
          -0.47497605125261894,
          0.15404582729617616,
          -0.5917878555453583,
          0.3905984525454246,
          -0.4713030598853919,
          0.8700933287407903,
          -0.3415262616728389,
          -1.6728016113390374,
          0.2671229944566014,
          1.7640424596098119,
          0.07097350671730723,
          -0.19742298132391986,
          0.1702612515042837,
          -1.6394584554670721,
          -0.30406088152150856,
          -0.5416069186215873,
          -0.8513178826391808,
          -2.290646822512884,
          1.165929862213416,
          0.6878892903436499,
          -0.9795878322314134,
          0.211058793073966,
          0.7525561644401494,
          0.9141292435934405,
          1.0731670376288232,
          1.928115539184313,
          -1.0586469160156335,
          0.2493133435375463,
          1.0004543896878182,
          1.0654255989836823,
          1.514703842271405,
          -0.37229630884852305,
          1.4976291737398033,
          1.6088231464521767,
          0.1477979916712005,
          0.3398750970819321,
          -0.46002824476166554,
          -0.5551918306725362,
          -1.6155560991907183,
          -1.9556880291233207,
          0.7295946389464798,
          1.7254124803382753,
          1.7148315559047616,
          -0.10266094978445155,
          0.941879392537153,
          -1.8244418332264318,
          -0.13984057595098215,
          -1.4001826184089927,
          -0.6613228720419397,
          0.35870788958066135,
          -0.17741833189552075,
          1.4662471983332244,
          -1.6385294535708028,
          0.3379690245178709,
          0.22867327506198257,
          -0.21706300077687582,
          0.8480575702567326,
          -0.4687634196997417,
          -1.1569707233646864,
          -0.20439184269921234,
          0.6484691681289205,
          0.8247922039779939,
          0.7566534076986263,
          -0.47802065920583475,
          -0.37539515591956796,
          -0.19480019887372732,
          -0.8903694266829668,
          -1.158895906986244,
          -0.5966010935224592,
          -1.5444232357563994,
          1.1777548236526936,
          0.7616182066614193,
          0.5047518552082003
         ],
         "yaxis": "y4"
        },
        {
         "line": {
          "color": "rgba(128, 128, 128, 1.0)",
          "dash": "solid",
          "shape": "linear",
          "width": 1.3
         },
         "marker": {
          "size": 2,
          "symbol": "circle"
         },
         "mode": "markers",
         "name": "B",
         "text": "",
         "type": "scatter",
         "x": [
          0.7705234898774278,
          -0.5896478916206093,
          0.17835405438999646,
          0.5963611453123362,
          1.7274565609395005,
          1.5421780537811438,
          1.628061239074311,
          -1.6996003095351457,
          0.4530517140462203,
          -0.05010402209357444,
          -0.6730349573592179,
          -0.505925008907118,
          1.5217444998825644,
          0.7830218517512779,
          0.2136415311917148,
          -0.5068968787431705,
          0.7238227873155504,
          -1.0524166058242228,
          0.5914587161087208,
          -2.148676705320432,
          -0.7343466366308768,
          -0.5943623139561683,
          -1.0583740994274637,
          0.7201107462148718,
          0.6603549547370541,
          0.8696266362093719,
          0.929244746991931,
          -0.47497605125261894,
          0.15404582729617616,
          -0.5917878555453583,
          0.3905984525454246,
          -0.4713030598853919,
          0.8700933287407903,
          -0.3415262616728389,
          -1.6728016113390374,
          0.2671229944566014,
          1.7640424596098119,
          0.07097350671730723,
          -0.19742298132391986,
          0.1702612515042837,
          -1.6394584554670721,
          -0.30406088152150856,
          -0.5416069186215873,
          -0.8513178826391808,
          -2.290646822512884,
          1.165929862213416,
          0.6878892903436499,
          -0.9795878322314134,
          0.211058793073966,
          0.7525561644401494,
          0.9141292435934405,
          1.0731670376288232,
          1.928115539184313,
          -1.0586469160156335,
          0.2493133435375463,
          1.0004543896878182,
          1.0654255989836823,
          1.514703842271405,
          -0.37229630884852305,
          1.4976291737398033,
          1.6088231464521767,
          0.1477979916712005,
          0.3398750970819321,
          -0.46002824476166554,
          -0.5551918306725362,
          -1.6155560991907183,
          -1.9556880291233207,
          0.7295946389464798,
          1.7254124803382753,
          1.7148315559047616,
          -0.10266094978445155,
          0.941879392537153,
          -1.8244418332264318,
          -0.13984057595098215,
          -1.4001826184089927,
          -0.6613228720419397,
          0.35870788958066135,
          -0.17741833189552075,
          1.4662471983332244,
          -1.6385294535708028,
          0.3379690245178709,
          0.22867327506198257,
          -0.21706300077687582,
          0.8480575702567326,
          -0.4687634196997417,
          -1.1569707233646864,
          -0.20439184269921234,
          0.6484691681289205,
          0.8247922039779939,
          0.7566534076986263,
          -0.47802065920583475,
          -0.37539515591956796,
          -0.19480019887372732,
          -0.8903694266829668,
          -1.158895906986244,
          -0.5966010935224592,
          -1.5444232357563994,
          1.1777548236526936,
          0.7616182066614193,
          0.5047518552082003
         ],
         "xaxis": "x5",
         "y": [
          -1.936991487963092,
          -0.11569126822480842,
          -0.9675486848312903,
          -0.03570748738154921,
          1.152026157314478,
          -0.12020911095310927,
          0.9502929244024161,
          0.7776727947455804,
          -0.924013142703625,
          0.32050791426337977,
          -1.7597516309042502,
          -0.4491586351842661,
          0.290894990735173,
          -0.9770054854340499,
          -0.43590308062626865,
          -1.0944993413852326,
          -0.4916500092535971,
          -0.5123894614624396,
          -0.8467633894763315,
          -0.826901448085367,
          -1.4764740605909894,
          0.11068008983495835,
          0.28978668069622404,
          1.0992213648166544,
          0.7782339040585375,
          0.5465000218976769,
          0.3199898087610177,
          -0.18808464624135388,
          1.0568366529165245,
          0.1659244958695554,
          1.399625046098209,
          -0.5953007591936754,
          -0.5206373924693855,
          0.5801829129702887,
          0.6832679470816938,
          1.336260254421983,
          0.3015855846803247,
          2.6333464798146022,
          1.0731127971508758,
          1.7754932668329395,
          -2.0385225989590827,
          0.700761045294904,
          -0.20299627576017767,
          -0.020437457335589805,
          -0.4288836539011838,
          -0.13226991819424455,
          0.08764900440910976,
          -0.674794617002996,
          0.54043210088352,
          -0.4860642591960618,
          0.01366339696631474,
          1.3753034053891933,
          0.9162504634564674,
          -0.32492474812705857,
          -0.8736821112850072,
          -0.9934167604855684,
          -0.34446953444598993,
          -0.5349924240902536,
          -0.17457797518128212,
          -0.6100819152367105,
          -0.8044402168629541,
          -1.3249140922986007,
          -0.4794668006590733,
          -0.23943261051912887,
          0.8509726207184295,
          -0.06513782081526151,
          0.46049993220238744,
          1.3352421073022125,
          -1.870558997580458,
          0.5559619107977536,
          0.20130397456112806,
          0.6883136283856667,
          0.9348624859768491,
          0.7897466383010999,
          -0.11616726146529319,
          -0.6054411993072186,
          0.10644067632075262,
          -0.4346088114743291,
          -0.12828473246656533,
          -0.9665313520782338,
          1.151325789207208,
          2.201941374624922,
          -0.19188876859711448,
          -1.4442447516855943,
          -2.4301440173709588,
          0.46959226759189954,
          -0.27329631691061235,
          -0.01905773855042531,
          -0.8807242909845279,
          0.31128548580138216,
          -0.4314795761239597,
          0.26737467979074336,
          -0.44413081879029187,
          0.9075101453753525,
          -0.5403558802549625,
          0.4024911278983956,
          -0.08641759945373886,
          0.12791519183490496,
          -0.7033907085796087,
          -0.7884005843835954
         ],
         "yaxis": "y5"
        },
        {
         "histfunc": "count",
         "histnorm": "",
         "marker": {
          "color": "rgba(55, 128, 191, 1.0)",
          "line": {
           "color": "#4D5663",
           "width": 1.3
          }
         },
         "name": "B",
         "nbinsx": 10,
         "opacity": 0.8,
         "orientation": "v",
         "type": "histogram",
         "x": [
          -1.936991487963092,
          -0.11569126822480842,
          -0.9675486848312903,
          -0.03570748738154921,
          1.152026157314478,
          -0.12020911095310927,
          0.9502929244024161,
          0.7776727947455804,
          -0.924013142703625,
          0.32050791426337977,
          -1.7597516309042502,
          -0.4491586351842661,
          0.290894990735173,
          -0.9770054854340499,
          -0.43590308062626865,
          -1.0944993413852326,
          -0.4916500092535971,
          -0.5123894614624396,
          -0.8467633894763315,
          -0.826901448085367,
          -1.4764740605909894,
          0.11068008983495835,
          0.28978668069622404,
          1.0992213648166544,
          0.7782339040585375,
          0.5465000218976769,
          0.3199898087610177,
          -0.18808464624135388,
          1.0568366529165245,
          0.1659244958695554,
          1.399625046098209,
          -0.5953007591936754,
          -0.5206373924693855,
          0.5801829129702887,
          0.6832679470816938,
          1.336260254421983,
          0.3015855846803247,
          2.6333464798146022,
          1.0731127971508758,
          1.7754932668329395,
          -2.0385225989590827,
          0.700761045294904,
          -0.20299627576017767,
          -0.020437457335589805,
          -0.4288836539011838,
          -0.13226991819424455,
          0.08764900440910976,
          -0.674794617002996,
          0.54043210088352,
          -0.4860642591960618,
          0.01366339696631474,
          1.3753034053891933,
          0.9162504634564674,
          -0.32492474812705857,
          -0.8736821112850072,
          -0.9934167604855684,
          -0.34446953444598993,
          -0.5349924240902536,
          -0.17457797518128212,
          -0.6100819152367105,
          -0.8044402168629541,
          -1.3249140922986007,
          -0.4794668006590733,
          -0.23943261051912887,
          0.8509726207184295,
          -0.06513782081526151,
          0.46049993220238744,
          1.3352421073022125,
          -1.870558997580458,
          0.5559619107977536,
          0.20130397456112806,
          0.6883136283856667,
          0.9348624859768491,
          0.7897466383010999,
          -0.11616726146529319,
          -0.6054411993072186,
          0.10644067632075262,
          -0.4346088114743291,
          -0.12828473246656533,
          -0.9665313520782338,
          1.151325789207208,
          2.201941374624922,
          -0.19188876859711448,
          -1.4442447516855943,
          -2.4301440173709588,
          0.46959226759189954,
          -0.27329631691061235,
          -0.01905773855042531,
          -0.8807242909845279,
          0.31128548580138216,
          -0.4314795761239597,
          0.26737467979074336,
          -0.44413081879029187,
          0.9075101453753525,
          -0.5403558802549625,
          0.4024911278983956,
          -0.08641759945373886,
          0.12791519183490496,
          -0.7033907085796087,
          -0.7884005843835954
         ],
         "xaxis": "x6",
         "yaxis": "y6"
        },
        {
         "line": {
          "color": "rgba(128, 128, 128, 1.0)",
          "dash": "solid",
          "shape": "linear",
          "width": 1.3
         },
         "marker": {
          "size": 2,
          "symbol": "circle"
         },
         "mode": "markers",
         "name": "B",
         "text": "",
         "type": "scatter",
         "x": [
          -1.0530784046234432,
          -0.5998828525246954,
          0.6823394736694053,
          0.39154844138397654,
          -1.4777559005196188,
          -0.17957819724080418,
          -0.49546806226955015,
          -0.03417677960283049,
          1.0347613869510441,
          1.0799609381259707,
          0.7451801785572333,
          0.9730888944898628,
          -1.3019376377797687,
          -1.9657915547564373,
          -0.870066654359202,
          2.2559773726913344,
          0.2885706276295685,
          -1.6910049820803512,
          1.357552776496664,
          1.0029552839044396,
          -0.21693148932201317,
          -0.8841730419634529,
          -0.8113318199507564,
          -1.3632044957069864,
          1.1737063458025767,
          0.17893747159057952,
          -0.29813181713258186,
          -0.5763832771031352,
          0.9242110949417373,
          -0.5079370686565353,
          0.2933808766969281,
          -2.1679992137214095,
          0.6217215884139936,
          -1.021758639966795,
          -0.2560773812211148,
          1.0595458843720178,
          -1.518219887885119,
          0.6816340473089165,
          0.10731128180675693,
          -1.1475973355287767,
          -0.10385105387906973,
          -1.2684312877153545,
          1.719844550237913,
          -0.7581785004384675,
          0.3841485671271159,
          1.5469529582376156,
          1.3272051983404904,
          -0.7626176485414343,
          -0.5574002558924317,
          -0.6226398165697349,
          -0.529344110988253,
          0.5776480272337935,
          0.23965864418308097,
          0.23123888115013844,
          -0.7677448090071148,
          -0.9405940135946458,
          0.644477074950686,
          0.27835432726066134,
          0.05122390242802615,
          -0.09429130631244215,
          0.08989403240645649,
          2.281992722311357,
          -1.792734526780254,
          -1.600479070121444,
          -0.15547847759276393,
          0.13773518964345685,
          -1.3715213636621988,
          0.4610607419023082,
          2.5757296527396014,
          -0.9889934472264842,
          0.9744658553018318,
          1.2796847790946488,
          -0.09856461240780492,
          -0.026284734994786108,
          0.09559567063454737,
          0.42256261579730414,
          0.10452615902512712,
          1.7483881135714812,
          -0.5972683954527638,
          -0.5199775463225929,
          0.3237357914953983,
          -0.784322091622033,
          -0.441690957377831,
          3.0632314470891338,
          -1.7079099270243534,
          -1.883849760005292,
          -0.676239956124565,
          -0.3051619621600872,
          -0.9980426186136298,
          0.608160336738181,
          -0.7834567597292276,
          -0.37191194476714395,
          0.6413319899545503,
          0.9373011439114821,
          -1.287901342341771,
          -1.472193760695295,
          0.3411666985779841,
          -0.9944489415680196,
          1.6965643906356584,
          1.2704513652712195
         ],
         "xaxis": "x7",
         "y": [
          -1.936991487963092,
          -0.11569126822480842,
          -0.9675486848312903,
          -0.03570748738154921,
          1.152026157314478,
          -0.12020911095310927,
          0.9502929244024161,
          0.7776727947455804,
          -0.924013142703625,
          0.32050791426337977,
          -1.7597516309042502,
          -0.4491586351842661,
          0.290894990735173,
          -0.9770054854340499,
          -0.43590308062626865,
          -1.0944993413852326,
          -0.4916500092535971,
          -0.5123894614624396,
          -0.8467633894763315,
          -0.826901448085367,
          -1.4764740605909894,
          0.11068008983495835,
          0.28978668069622404,
          1.0992213648166544,
          0.7782339040585375,
          0.5465000218976769,
          0.3199898087610177,
          -0.18808464624135388,
          1.0568366529165245,
          0.1659244958695554,
          1.399625046098209,
          -0.5953007591936754,
          -0.5206373924693855,
          0.5801829129702887,
          0.6832679470816938,
          1.336260254421983,
          0.3015855846803247,
          2.6333464798146022,
          1.0731127971508758,
          1.7754932668329395,
          -2.0385225989590827,
          0.700761045294904,
          -0.20299627576017767,
          -0.020437457335589805,
          -0.4288836539011838,
          -0.13226991819424455,
          0.08764900440910976,
          -0.674794617002996,
          0.54043210088352,
          -0.4860642591960618,
          0.01366339696631474,
          1.3753034053891933,
          0.9162504634564674,
          -0.32492474812705857,
          -0.8736821112850072,
          -0.9934167604855684,
          -0.34446953444598993,
          -0.5349924240902536,
          -0.17457797518128212,
          -0.6100819152367105,
          -0.8044402168629541,
          -1.3249140922986007,
          -0.4794668006590733,
          -0.23943261051912887,
          0.8509726207184295,
          -0.06513782081526151,
          0.46049993220238744,
          1.3352421073022125,
          -1.870558997580458,
          0.5559619107977536,
          0.20130397456112806,
          0.6883136283856667,
          0.9348624859768491,
          0.7897466383010999,
          -0.11616726146529319,
          -0.6054411993072186,
          0.10644067632075262,
          -0.4346088114743291,
          -0.12828473246656533,
          -0.9665313520782338,
          1.151325789207208,
          2.201941374624922,
          -0.19188876859711448,
          -1.4442447516855943,
          -2.4301440173709588,
          0.46959226759189954,
          -0.27329631691061235,
          -0.01905773855042531,
          -0.8807242909845279,
          0.31128548580138216,
          -0.4314795761239597,
          0.26737467979074336,
          -0.44413081879029187,
          0.9075101453753525,
          -0.5403558802549625,
          0.4024911278983956,
          -0.08641759945373886,
          0.12791519183490496,
          -0.7033907085796087,
          -0.7884005843835954
         ],
         "yaxis": "y7"
        },
        {
         "line": {
          "color": "rgba(128, 128, 128, 1.0)",
          "dash": "solid",
          "shape": "linear",
          "width": 1.3
         },
         "marker": {
          "size": 2,
          "symbol": "circle"
         },
         "mode": "markers",
         "name": "B",
         "text": "",
         "type": "scatter",
         "x": [
          0.8646413499069018,
          -0.2552281674137794,
          0.26811843883347297,
          -0.05620719260251065,
          0.608342730014287,
          -2.256742050699274,
          0.20863292342878495,
          -0.3686736158874111,
          0.4890915253487885,
          -0.7660163000766769,
          -1.0416449917165311,
          0.4806582458712171,
          -0.4114702750364706,
          0.5204670498913053,
          0.8221428149264973,
          -0.4492091311960765,
          0.20711343906592006,
          1.8614968160790308,
          0.500780513105085,
          0.7743038045339257,
          -0.8737176351867867,
          0.6039583039825533,
          0.918443752665162,
          0.8535050575774797,
          1.0763748311105066,
          -0.8419136921837637,
          0.48160211456198027,
          0.3478897279703216,
          0.9685946434483648,
          -2.083276296418463,
          0.45149660079847936,
          0.6619071635166061,
          1.4181560825234245,
          0.771324956250657,
          -0.14530416649451658,
          0.3976651171123839,
          0.9097113297509332,
          1.1847865608699824,
          -0.6593625759218309,
          0.6063633800482321,
          -0.8241662343593859,
          -0.12772546192840956,
          0.7148164695124857,
          -0.24942187496075405,
          -0.9027445697381894,
          1.8406892568230273,
          1.535826820285057,
          0.5447966621621687,
          0.9062058717674921,
          -0.42337476638976546,
          -0.9625853744750459,
          0.012321355476298982,
          0.7820001818025489,
          1.6668604004234198,
          -1.1406377909082492,
          0.01252864120674704,
          2.4945244557662867,
          -0.36863232278118596,
          2.105501475153067,
          -0.6604465682866272,
          1.441867694392154,
          0.21658236094602748,
          -0.0962298020043322,
          0.9483220550499809,
          -0.4763879231568212,
          0.43088325233755626,
          -2.7808120528625597,
          -0.23247531036345054,
          0.36084335483646746,
          -1.2089322822921906,
          -0.24890461011327844,
          -0.8600402238497193,
          -0.1537178103039477,
          -0.8126122194166278,
          0.06500256700747642,
          -1.2782007194448137,
          1.3537224338145164,
          1.1604141316798053,
          -0.2441372217689482,
          0.5410938929946172,
          -0.8566872529766918,
          -1.2478278597223393,
          0.37737044908776896,
          0.29405781918803214,
          0.4233528157322542,
          1.8706118533171237,
          -0.924684455884149,
          0.22070722366373066,
          -2.4586292759209427,
          -0.22400430312705338,
          0.25890765257504844,
          -0.027752998619231247,
          0.6927331168229386,
          -0.44531744308082827,
          0.49316863052720616,
          1.4475888554971592,
          -1.326978368217466,
          -0.6001675855943368,
          -0.09965240439827666,
          0.18642732850013347
         ],
         "xaxis": "x8",
         "y": [
          -1.936991487963092,
          -0.11569126822480842,
          -0.9675486848312903,
          -0.03570748738154921,
          1.152026157314478,
          -0.12020911095310927,
          0.9502929244024161,
          0.7776727947455804,
          -0.924013142703625,
          0.32050791426337977,
          -1.7597516309042502,
          -0.4491586351842661,
          0.290894990735173,
          -0.9770054854340499,
          -0.43590308062626865,
          -1.0944993413852326,
          -0.4916500092535971,
          -0.5123894614624396,
          -0.8467633894763315,
          -0.826901448085367,
          -1.4764740605909894,
          0.11068008983495835,
          0.28978668069622404,
          1.0992213648166544,
          0.7782339040585375,
          0.5465000218976769,
          0.3199898087610177,
          -0.18808464624135388,
          1.0568366529165245,
          0.1659244958695554,
          1.399625046098209,
          -0.5953007591936754,
          -0.5206373924693855,
          0.5801829129702887,
          0.6832679470816938,
          1.336260254421983,
          0.3015855846803247,
          2.6333464798146022,
          1.0731127971508758,
          1.7754932668329395,
          -2.0385225989590827,
          0.700761045294904,
          -0.20299627576017767,
          -0.020437457335589805,
          -0.4288836539011838,
          -0.13226991819424455,
          0.08764900440910976,
          -0.674794617002996,
          0.54043210088352,
          -0.4860642591960618,
          0.01366339696631474,
          1.3753034053891933,
          0.9162504634564674,
          -0.32492474812705857,
          -0.8736821112850072,
          -0.9934167604855684,
          -0.34446953444598993,
          -0.5349924240902536,
          -0.17457797518128212,
          -0.6100819152367105,
          -0.8044402168629541,
          -1.3249140922986007,
          -0.4794668006590733,
          -0.23943261051912887,
          0.8509726207184295,
          -0.06513782081526151,
          0.46049993220238744,
          1.3352421073022125,
          -1.870558997580458,
          0.5559619107977536,
          0.20130397456112806,
          0.6883136283856667,
          0.9348624859768491,
          0.7897466383010999,
          -0.11616726146529319,
          -0.6054411993072186,
          0.10644067632075262,
          -0.4346088114743291,
          -0.12828473246656533,
          -0.9665313520782338,
          1.151325789207208,
          2.201941374624922,
          -0.19188876859711448,
          -1.4442447516855943,
          -2.4301440173709588,
          0.46959226759189954,
          -0.27329631691061235,
          -0.01905773855042531,
          -0.8807242909845279,
          0.31128548580138216,
          -0.4314795761239597,
          0.26737467979074336,
          -0.44413081879029187,
          0.9075101453753525,
          -0.5403558802549625,
          0.4024911278983956,
          -0.08641759945373886,
          0.12791519183490496,
          -0.7033907085796087,
          -0.7884005843835954
         ],
         "yaxis": "y8"
        },
        {
         "line": {
          "color": "rgba(128, 128, 128, 1.0)",
          "dash": "solid",
          "shape": "linear",
          "width": 1.3
         },
         "marker": {
          "size": 2,
          "symbol": "circle"
         },
         "mode": "markers",
         "name": "C",
         "text": "",
         "type": "scatter",
         "x": [
          0.7705234898774278,
          -0.5896478916206093,
          0.17835405438999646,
          0.5963611453123362,
          1.7274565609395005,
          1.5421780537811438,
          1.628061239074311,
          -1.6996003095351457,
          0.4530517140462203,
          -0.05010402209357444,
          -0.6730349573592179,
          -0.505925008907118,
          1.5217444998825644,
          0.7830218517512779,
          0.2136415311917148,
          -0.5068968787431705,
          0.7238227873155504,
          -1.0524166058242228,
          0.5914587161087208,
          -2.148676705320432,
          -0.7343466366308768,
          -0.5943623139561683,
          -1.0583740994274637,
          0.7201107462148718,
          0.6603549547370541,
          0.8696266362093719,
          0.929244746991931,
          -0.47497605125261894,
          0.15404582729617616,
          -0.5917878555453583,
          0.3905984525454246,
          -0.4713030598853919,
          0.8700933287407903,
          -0.3415262616728389,
          -1.6728016113390374,
          0.2671229944566014,
          1.7640424596098119,
          0.07097350671730723,
          -0.19742298132391986,
          0.1702612515042837,
          -1.6394584554670721,
          -0.30406088152150856,
          -0.5416069186215873,
          -0.8513178826391808,
          -2.290646822512884,
          1.165929862213416,
          0.6878892903436499,
          -0.9795878322314134,
          0.211058793073966,
          0.7525561644401494,
          0.9141292435934405,
          1.0731670376288232,
          1.928115539184313,
          -1.0586469160156335,
          0.2493133435375463,
          1.0004543896878182,
          1.0654255989836823,
          1.514703842271405,
          -0.37229630884852305,
          1.4976291737398033,
          1.6088231464521767,
          0.1477979916712005,
          0.3398750970819321,
          -0.46002824476166554,
          -0.5551918306725362,
          -1.6155560991907183,
          -1.9556880291233207,
          0.7295946389464798,
          1.7254124803382753,
          1.7148315559047616,
          -0.10266094978445155,
          0.941879392537153,
          -1.8244418332264318,
          -0.13984057595098215,
          -1.4001826184089927,
          -0.6613228720419397,
          0.35870788958066135,
          -0.17741833189552075,
          1.4662471983332244,
          -1.6385294535708028,
          0.3379690245178709,
          0.22867327506198257,
          -0.21706300077687582,
          0.8480575702567326,
          -0.4687634196997417,
          -1.1569707233646864,
          -0.20439184269921234,
          0.6484691681289205,
          0.8247922039779939,
          0.7566534076986263,
          -0.47802065920583475,
          -0.37539515591956796,
          -0.19480019887372732,
          -0.8903694266829668,
          -1.158895906986244,
          -0.5966010935224592,
          -1.5444232357563994,
          1.1777548236526936,
          0.7616182066614193,
          0.5047518552082003
         ],
         "xaxis": "x9",
         "y": [
          -1.0530784046234432,
          -0.5998828525246954,
          0.6823394736694053,
          0.39154844138397654,
          -1.4777559005196188,
          -0.17957819724080418,
          -0.49546806226955015,
          -0.03417677960283049,
          1.0347613869510441,
          1.0799609381259707,
          0.7451801785572333,
          0.9730888944898628,
          -1.3019376377797687,
          -1.9657915547564373,
          -0.870066654359202,
          2.2559773726913344,
          0.2885706276295685,
          -1.6910049820803512,
          1.357552776496664,
          1.0029552839044396,
          -0.21693148932201317,
          -0.8841730419634529,
          -0.8113318199507564,
          -1.3632044957069864,
          1.1737063458025767,
          0.17893747159057952,
          -0.29813181713258186,
          -0.5763832771031352,
          0.9242110949417373,
          -0.5079370686565353,
          0.2933808766969281,
          -2.1679992137214095,
          0.6217215884139936,
          -1.021758639966795,
          -0.2560773812211148,
          1.0595458843720178,
          -1.518219887885119,
          0.6816340473089165,
          0.10731128180675693,
          -1.1475973355287767,
          -0.10385105387906973,
          -1.2684312877153545,
          1.719844550237913,
          -0.7581785004384675,
          0.3841485671271159,
          1.5469529582376156,
          1.3272051983404904,
          -0.7626176485414343,
          -0.5574002558924317,
          -0.6226398165697349,
          -0.529344110988253,
          0.5776480272337935,
          0.23965864418308097,
          0.23123888115013844,
          -0.7677448090071148,
          -0.9405940135946458,
          0.644477074950686,
          0.27835432726066134,
          0.05122390242802615,
          -0.09429130631244215,
          0.08989403240645649,
          2.281992722311357,
          -1.792734526780254,
          -1.600479070121444,
          -0.15547847759276393,
          0.13773518964345685,
          -1.3715213636621988,
          0.4610607419023082,
          2.5757296527396014,
          -0.9889934472264842,
          0.9744658553018318,
          1.2796847790946488,
          -0.09856461240780492,
          -0.026284734994786108,
          0.09559567063454737,
          0.42256261579730414,
          0.10452615902512712,
          1.7483881135714812,
          -0.5972683954527638,
          -0.5199775463225929,
          0.3237357914953983,
          -0.784322091622033,
          -0.441690957377831,
          3.0632314470891338,
          -1.7079099270243534,
          -1.883849760005292,
          -0.676239956124565,
          -0.3051619621600872,
          -0.9980426186136298,
          0.608160336738181,
          -0.7834567597292276,
          -0.37191194476714395,
          0.6413319899545503,
          0.9373011439114821,
          -1.287901342341771,
          -1.472193760695295,
          0.3411666985779841,
          -0.9944489415680196,
          1.6965643906356584,
          1.2704513652712195
         ],
         "yaxis": "y9"
        },
        {
         "line": {
          "color": "rgba(128, 128, 128, 1.0)",
          "dash": "solid",
          "shape": "linear",
          "width": 1.3
         },
         "marker": {
          "size": 2,
          "symbol": "circle"
         },
         "mode": "markers",
         "name": "C",
         "text": "",
         "type": "scatter",
         "x": [
          -1.936991487963092,
          -0.11569126822480842,
          -0.9675486848312903,
          -0.03570748738154921,
          1.152026157314478,
          -0.12020911095310927,
          0.9502929244024161,
          0.7776727947455804,
          -0.924013142703625,
          0.32050791426337977,
          -1.7597516309042502,
          -0.4491586351842661,
          0.290894990735173,
          -0.9770054854340499,
          -0.43590308062626865,
          -1.0944993413852326,
          -0.4916500092535971,
          -0.5123894614624396,
          -0.8467633894763315,
          -0.826901448085367,
          -1.4764740605909894,
          0.11068008983495835,
          0.28978668069622404,
          1.0992213648166544,
          0.7782339040585375,
          0.5465000218976769,
          0.3199898087610177,
          -0.18808464624135388,
          1.0568366529165245,
          0.1659244958695554,
          1.399625046098209,
          -0.5953007591936754,
          -0.5206373924693855,
          0.5801829129702887,
          0.6832679470816938,
          1.336260254421983,
          0.3015855846803247,
          2.6333464798146022,
          1.0731127971508758,
          1.7754932668329395,
          -2.0385225989590827,
          0.700761045294904,
          -0.20299627576017767,
          -0.020437457335589805,
          -0.4288836539011838,
          -0.13226991819424455,
          0.08764900440910976,
          -0.674794617002996,
          0.54043210088352,
          -0.4860642591960618,
          0.01366339696631474,
          1.3753034053891933,
          0.9162504634564674,
          -0.32492474812705857,
          -0.8736821112850072,
          -0.9934167604855684,
          -0.34446953444598993,
          -0.5349924240902536,
          -0.17457797518128212,
          -0.6100819152367105,
          -0.8044402168629541,
          -1.3249140922986007,
          -0.4794668006590733,
          -0.23943261051912887,
          0.8509726207184295,
          -0.06513782081526151,
          0.46049993220238744,
          1.3352421073022125,
          -1.870558997580458,
          0.5559619107977536,
          0.20130397456112806,
          0.6883136283856667,
          0.9348624859768491,
          0.7897466383010999,
          -0.11616726146529319,
          -0.6054411993072186,
          0.10644067632075262,
          -0.4346088114743291,
          -0.12828473246656533,
          -0.9665313520782338,
          1.151325789207208,
          2.201941374624922,
          -0.19188876859711448,
          -1.4442447516855943,
          -2.4301440173709588,
          0.46959226759189954,
          -0.27329631691061235,
          -0.01905773855042531,
          -0.8807242909845279,
          0.31128548580138216,
          -0.4314795761239597,
          0.26737467979074336,
          -0.44413081879029187,
          0.9075101453753525,
          -0.5403558802549625,
          0.4024911278983956,
          -0.08641759945373886,
          0.12791519183490496,
          -0.7033907085796087,
          -0.7884005843835954
         ],
         "xaxis": "x10",
         "y": [
          -1.0530784046234432,
          -0.5998828525246954,
          0.6823394736694053,
          0.39154844138397654,
          -1.4777559005196188,
          -0.17957819724080418,
          -0.49546806226955015,
          -0.03417677960283049,
          1.0347613869510441,
          1.0799609381259707,
          0.7451801785572333,
          0.9730888944898628,
          -1.3019376377797687,
          -1.9657915547564373,
          -0.870066654359202,
          2.2559773726913344,
          0.2885706276295685,
          -1.6910049820803512,
          1.357552776496664,
          1.0029552839044396,
          -0.21693148932201317,
          -0.8841730419634529,
          -0.8113318199507564,
          -1.3632044957069864,
          1.1737063458025767,
          0.17893747159057952,
          -0.29813181713258186,
          -0.5763832771031352,
          0.9242110949417373,
          -0.5079370686565353,
          0.2933808766969281,
          -2.1679992137214095,
          0.6217215884139936,
          -1.021758639966795,
          -0.2560773812211148,
          1.0595458843720178,
          -1.518219887885119,
          0.6816340473089165,
          0.10731128180675693,
          -1.1475973355287767,
          -0.10385105387906973,
          -1.2684312877153545,
          1.719844550237913,
          -0.7581785004384675,
          0.3841485671271159,
          1.5469529582376156,
          1.3272051983404904,
          -0.7626176485414343,
          -0.5574002558924317,
          -0.6226398165697349,
          -0.529344110988253,
          0.5776480272337935,
          0.23965864418308097,
          0.23123888115013844,
          -0.7677448090071148,
          -0.9405940135946458,
          0.644477074950686,
          0.27835432726066134,
          0.05122390242802615,
          -0.09429130631244215,
          0.08989403240645649,
          2.281992722311357,
          -1.792734526780254,
          -1.600479070121444,
          -0.15547847759276393,
          0.13773518964345685,
          -1.3715213636621988,
          0.4610607419023082,
          2.5757296527396014,
          -0.9889934472264842,
          0.9744658553018318,
          1.2796847790946488,
          -0.09856461240780492,
          -0.026284734994786108,
          0.09559567063454737,
          0.42256261579730414,
          0.10452615902512712,
          1.7483881135714812,
          -0.5972683954527638,
          -0.5199775463225929,
          0.3237357914953983,
          -0.784322091622033,
          -0.441690957377831,
          3.0632314470891338,
          -1.7079099270243534,
          -1.883849760005292,
          -0.676239956124565,
          -0.3051619621600872,
          -0.9980426186136298,
          0.608160336738181,
          -0.7834567597292276,
          -0.37191194476714395,
          0.6413319899545503,
          0.9373011439114821,
          -1.287901342341771,
          -1.472193760695295,
          0.3411666985779841,
          -0.9944489415680196,
          1.6965643906356584,
          1.2704513652712195
         ],
         "yaxis": "y10"
        },
        {
         "histfunc": "count",
         "histnorm": "",
         "marker": {
          "color": "rgba(50, 171, 96, 1.0)",
          "line": {
           "color": "#4D5663",
           "width": 1.3
          }
         },
         "name": "C",
         "nbinsx": 10,
         "opacity": 0.8,
         "orientation": "v",
         "type": "histogram",
         "x": [
          -1.0530784046234432,
          -0.5998828525246954,
          0.6823394736694053,
          0.39154844138397654,
          -1.4777559005196188,
          -0.17957819724080418,
          -0.49546806226955015,
          -0.03417677960283049,
          1.0347613869510441,
          1.0799609381259707,
          0.7451801785572333,
          0.9730888944898628,
          -1.3019376377797687,
          -1.9657915547564373,
          -0.870066654359202,
          2.2559773726913344,
          0.2885706276295685,
          -1.6910049820803512,
          1.357552776496664,
          1.0029552839044396,
          -0.21693148932201317,
          -0.8841730419634529,
          -0.8113318199507564,
          -1.3632044957069864,
          1.1737063458025767,
          0.17893747159057952,
          -0.29813181713258186,
          -0.5763832771031352,
          0.9242110949417373,
          -0.5079370686565353,
          0.2933808766969281,
          -2.1679992137214095,
          0.6217215884139936,
          -1.021758639966795,
          -0.2560773812211148,
          1.0595458843720178,
          -1.518219887885119,
          0.6816340473089165,
          0.10731128180675693,
          -1.1475973355287767,
          -0.10385105387906973,
          -1.2684312877153545,
          1.719844550237913,
          -0.7581785004384675,
          0.3841485671271159,
          1.5469529582376156,
          1.3272051983404904,
          -0.7626176485414343,
          -0.5574002558924317,
          -0.6226398165697349,
          -0.529344110988253,
          0.5776480272337935,
          0.23965864418308097,
          0.23123888115013844,
          -0.7677448090071148,
          -0.9405940135946458,
          0.644477074950686,
          0.27835432726066134,
          0.05122390242802615,
          -0.09429130631244215,
          0.08989403240645649,
          2.281992722311357,
          -1.792734526780254,
          -1.600479070121444,
          -0.15547847759276393,
          0.13773518964345685,
          -1.3715213636621988,
          0.4610607419023082,
          2.5757296527396014,
          -0.9889934472264842,
          0.9744658553018318,
          1.2796847790946488,
          -0.09856461240780492,
          -0.026284734994786108,
          0.09559567063454737,
          0.42256261579730414,
          0.10452615902512712,
          1.7483881135714812,
          -0.5972683954527638,
          -0.5199775463225929,
          0.3237357914953983,
          -0.784322091622033,
          -0.441690957377831,
          3.0632314470891338,
          -1.7079099270243534,
          -1.883849760005292,
          -0.676239956124565,
          -0.3051619621600872,
          -0.9980426186136298,
          0.608160336738181,
          -0.7834567597292276,
          -0.37191194476714395,
          0.6413319899545503,
          0.9373011439114821,
          -1.287901342341771,
          -1.472193760695295,
          0.3411666985779841,
          -0.9944489415680196,
          1.6965643906356584,
          1.2704513652712195
         ],
         "xaxis": "x11",
         "yaxis": "y11"
        },
        {
         "line": {
          "color": "rgba(128, 128, 128, 1.0)",
          "dash": "solid",
          "shape": "linear",
          "width": 1.3
         },
         "marker": {
          "size": 2,
          "symbol": "circle"
         },
         "mode": "markers",
         "name": "C",
         "text": "",
         "type": "scatter",
         "x": [
          0.8646413499069018,
          -0.2552281674137794,
          0.26811843883347297,
          -0.05620719260251065,
          0.608342730014287,
          -2.256742050699274,
          0.20863292342878495,
          -0.3686736158874111,
          0.4890915253487885,
          -0.7660163000766769,
          -1.0416449917165311,
          0.4806582458712171,
          -0.4114702750364706,
          0.5204670498913053,
          0.8221428149264973,
          -0.4492091311960765,
          0.20711343906592006,
          1.8614968160790308,
          0.500780513105085,
          0.7743038045339257,
          -0.8737176351867867,
          0.6039583039825533,
          0.918443752665162,
          0.8535050575774797,
          1.0763748311105066,
          -0.8419136921837637,
          0.48160211456198027,
          0.3478897279703216,
          0.9685946434483648,
          -2.083276296418463,
          0.45149660079847936,
          0.6619071635166061,
          1.4181560825234245,
          0.771324956250657,
          -0.14530416649451658,
          0.3976651171123839,
          0.9097113297509332,
          1.1847865608699824,
          -0.6593625759218309,
          0.6063633800482321,
          -0.8241662343593859,
          -0.12772546192840956,
          0.7148164695124857,
          -0.24942187496075405,
          -0.9027445697381894,
          1.8406892568230273,
          1.535826820285057,
          0.5447966621621687,
          0.9062058717674921,
          -0.42337476638976546,
          -0.9625853744750459,
          0.012321355476298982,
          0.7820001818025489,
          1.6668604004234198,
          -1.1406377909082492,
          0.01252864120674704,
          2.4945244557662867,
          -0.36863232278118596,
          2.105501475153067,
          -0.6604465682866272,
          1.441867694392154,
          0.21658236094602748,
          -0.0962298020043322,
          0.9483220550499809,
          -0.4763879231568212,
          0.43088325233755626,
          -2.7808120528625597,
          -0.23247531036345054,
          0.36084335483646746,
          -1.2089322822921906,
          -0.24890461011327844,
          -0.8600402238497193,
          -0.1537178103039477,
          -0.8126122194166278,
          0.06500256700747642,
          -1.2782007194448137,
          1.3537224338145164,
          1.1604141316798053,
          -0.2441372217689482,
          0.5410938929946172,
          -0.8566872529766918,
          -1.2478278597223393,
          0.37737044908776896,
          0.29405781918803214,
          0.4233528157322542,
          1.8706118533171237,
          -0.924684455884149,
          0.22070722366373066,
          -2.4586292759209427,
          -0.22400430312705338,
          0.25890765257504844,
          -0.027752998619231247,
          0.6927331168229386,
          -0.44531744308082827,
          0.49316863052720616,
          1.4475888554971592,
          -1.326978368217466,
          -0.6001675855943368,
          -0.09965240439827666,
          0.18642732850013347
         ],
         "xaxis": "x12",
         "y": [
          -1.0530784046234432,
          -0.5998828525246954,
          0.6823394736694053,
          0.39154844138397654,
          -1.4777559005196188,
          -0.17957819724080418,
          -0.49546806226955015,
          -0.03417677960283049,
          1.0347613869510441,
          1.0799609381259707,
          0.7451801785572333,
          0.9730888944898628,
          -1.3019376377797687,
          -1.9657915547564373,
          -0.870066654359202,
          2.2559773726913344,
          0.2885706276295685,
          -1.6910049820803512,
          1.357552776496664,
          1.0029552839044396,
          -0.21693148932201317,
          -0.8841730419634529,
          -0.8113318199507564,
          -1.3632044957069864,
          1.1737063458025767,
          0.17893747159057952,
          -0.29813181713258186,
          -0.5763832771031352,
          0.9242110949417373,
          -0.5079370686565353,
          0.2933808766969281,
          -2.1679992137214095,
          0.6217215884139936,
          -1.021758639966795,
          -0.2560773812211148,
          1.0595458843720178,
          -1.518219887885119,
          0.6816340473089165,
          0.10731128180675693,
          -1.1475973355287767,
          -0.10385105387906973,
          -1.2684312877153545,
          1.719844550237913,
          -0.7581785004384675,
          0.3841485671271159,
          1.5469529582376156,
          1.3272051983404904,
          -0.7626176485414343,
          -0.5574002558924317,
          -0.6226398165697349,
          -0.529344110988253,
          0.5776480272337935,
          0.23965864418308097,
          0.23123888115013844,
          -0.7677448090071148,
          -0.9405940135946458,
          0.644477074950686,
          0.27835432726066134,
          0.05122390242802615,
          -0.09429130631244215,
          0.08989403240645649,
          2.281992722311357,
          -1.792734526780254,
          -1.600479070121444,
          -0.15547847759276393,
          0.13773518964345685,
          -1.3715213636621988,
          0.4610607419023082,
          2.5757296527396014,
          -0.9889934472264842,
          0.9744658553018318,
          1.2796847790946488,
          -0.09856461240780492,
          -0.026284734994786108,
          0.09559567063454737,
          0.42256261579730414,
          0.10452615902512712,
          1.7483881135714812,
          -0.5972683954527638,
          -0.5199775463225929,
          0.3237357914953983,
          -0.784322091622033,
          -0.441690957377831,
          3.0632314470891338,
          -1.7079099270243534,
          -1.883849760005292,
          -0.676239956124565,
          -0.3051619621600872,
          -0.9980426186136298,
          0.608160336738181,
          -0.7834567597292276,
          -0.37191194476714395,
          0.6413319899545503,
          0.9373011439114821,
          -1.287901342341771,
          -1.472193760695295,
          0.3411666985779841,
          -0.9944489415680196,
          1.6965643906356584,
          1.2704513652712195
         ],
         "yaxis": "y12"
        },
        {
         "line": {
          "color": "rgba(128, 128, 128, 1.0)",
          "dash": "solid",
          "shape": "linear",
          "width": 1.3
         },
         "marker": {
          "size": 2,
          "symbol": "circle"
         },
         "mode": "markers",
         "name": "D",
         "text": "",
         "type": "scatter",
         "x": [
          0.7705234898774278,
          -0.5896478916206093,
          0.17835405438999646,
          0.5963611453123362,
          1.7274565609395005,
          1.5421780537811438,
          1.628061239074311,
          -1.6996003095351457,
          0.4530517140462203,
          -0.05010402209357444,
          -0.6730349573592179,
          -0.505925008907118,
          1.5217444998825644,
          0.7830218517512779,
          0.2136415311917148,
          -0.5068968787431705,
          0.7238227873155504,
          -1.0524166058242228,
          0.5914587161087208,
          -2.148676705320432,
          -0.7343466366308768,
          -0.5943623139561683,
          -1.0583740994274637,
          0.7201107462148718,
          0.6603549547370541,
          0.8696266362093719,
          0.929244746991931,
          -0.47497605125261894,
          0.15404582729617616,
          -0.5917878555453583,
          0.3905984525454246,
          -0.4713030598853919,
          0.8700933287407903,
          -0.3415262616728389,
          -1.6728016113390374,
          0.2671229944566014,
          1.7640424596098119,
          0.07097350671730723,
          -0.19742298132391986,
          0.1702612515042837,
          -1.6394584554670721,
          -0.30406088152150856,
          -0.5416069186215873,
          -0.8513178826391808,
          -2.290646822512884,
          1.165929862213416,
          0.6878892903436499,
          -0.9795878322314134,
          0.211058793073966,
          0.7525561644401494,
          0.9141292435934405,
          1.0731670376288232,
          1.928115539184313,
          -1.0586469160156335,
          0.2493133435375463,
          1.0004543896878182,
          1.0654255989836823,
          1.514703842271405,
          -0.37229630884852305,
          1.4976291737398033,
          1.6088231464521767,
          0.1477979916712005,
          0.3398750970819321,
          -0.46002824476166554,
          -0.5551918306725362,
          -1.6155560991907183,
          -1.9556880291233207,
          0.7295946389464798,
          1.7254124803382753,
          1.7148315559047616,
          -0.10266094978445155,
          0.941879392537153,
          -1.8244418332264318,
          -0.13984057595098215,
          -1.4001826184089927,
          -0.6613228720419397,
          0.35870788958066135,
          -0.17741833189552075,
          1.4662471983332244,
          -1.6385294535708028,
          0.3379690245178709,
          0.22867327506198257,
          -0.21706300077687582,
          0.8480575702567326,
          -0.4687634196997417,
          -1.1569707233646864,
          -0.20439184269921234,
          0.6484691681289205,
          0.8247922039779939,
          0.7566534076986263,
          -0.47802065920583475,
          -0.37539515591956796,
          -0.19480019887372732,
          -0.8903694266829668,
          -1.158895906986244,
          -0.5966010935224592,
          -1.5444232357563994,
          1.1777548236526936,
          0.7616182066614193,
          0.5047518552082003
         ],
         "xaxis": "x13",
         "y": [
          0.8646413499069018,
          -0.2552281674137794,
          0.26811843883347297,
          -0.05620719260251065,
          0.608342730014287,
          -2.256742050699274,
          0.20863292342878495,
          -0.3686736158874111,
          0.4890915253487885,
          -0.7660163000766769,
          -1.0416449917165311,
          0.4806582458712171,
          -0.4114702750364706,
          0.5204670498913053,
          0.8221428149264973,
          -0.4492091311960765,
          0.20711343906592006,
          1.8614968160790308,
          0.500780513105085,
          0.7743038045339257,
          -0.8737176351867867,
          0.6039583039825533,
          0.918443752665162,
          0.8535050575774797,
          1.0763748311105066,
          -0.8419136921837637,
          0.48160211456198027,
          0.3478897279703216,
          0.9685946434483648,
          -2.083276296418463,
          0.45149660079847936,
          0.6619071635166061,
          1.4181560825234245,
          0.771324956250657,
          -0.14530416649451658,
          0.3976651171123839,
          0.9097113297509332,
          1.1847865608699824,
          -0.6593625759218309,
          0.6063633800482321,
          -0.8241662343593859,
          -0.12772546192840956,
          0.7148164695124857,
          -0.24942187496075405,
          -0.9027445697381894,
          1.8406892568230273,
          1.535826820285057,
          0.5447966621621687,
          0.9062058717674921,
          -0.42337476638976546,
          -0.9625853744750459,
          0.012321355476298982,
          0.7820001818025489,
          1.6668604004234198,
          -1.1406377909082492,
          0.01252864120674704,
          2.4945244557662867,
          -0.36863232278118596,
          2.105501475153067,
          -0.6604465682866272,
          1.441867694392154,
          0.21658236094602748,
          -0.0962298020043322,
          0.9483220550499809,
          -0.4763879231568212,
          0.43088325233755626,
          -2.7808120528625597,
          -0.23247531036345054,
          0.36084335483646746,
          -1.2089322822921906,
          -0.24890461011327844,
          -0.8600402238497193,
          -0.1537178103039477,
          -0.8126122194166278,
          0.06500256700747642,
          -1.2782007194448137,
          1.3537224338145164,
          1.1604141316798053,
          -0.2441372217689482,
          0.5410938929946172,
          -0.8566872529766918,
          -1.2478278597223393,
          0.37737044908776896,
          0.29405781918803214,
          0.4233528157322542,
          1.8706118533171237,
          -0.924684455884149,
          0.22070722366373066,
          -2.4586292759209427,
          -0.22400430312705338,
          0.25890765257504844,
          -0.027752998619231247,
          0.6927331168229386,
          -0.44531744308082827,
          0.49316863052720616,
          1.4475888554971592,
          -1.326978368217466,
          -0.6001675855943368,
          -0.09965240439827666,
          0.18642732850013347
         ],
         "yaxis": "y13"
        },
        {
         "line": {
          "color": "rgba(128, 128, 128, 1.0)",
          "dash": "solid",
          "shape": "linear",
          "width": 1.3
         },
         "marker": {
          "size": 2,
          "symbol": "circle"
         },
         "mode": "markers",
         "name": "D",
         "text": "",
         "type": "scatter",
         "x": [
          -1.936991487963092,
          -0.11569126822480842,
          -0.9675486848312903,
          -0.03570748738154921,
          1.152026157314478,
          -0.12020911095310927,
          0.9502929244024161,
          0.7776727947455804,
          -0.924013142703625,
          0.32050791426337977,
          -1.7597516309042502,
          -0.4491586351842661,
          0.290894990735173,
          -0.9770054854340499,
          -0.43590308062626865,
          -1.0944993413852326,
          -0.4916500092535971,
          -0.5123894614624396,
          -0.8467633894763315,
          -0.826901448085367,
          -1.4764740605909894,
          0.11068008983495835,
          0.28978668069622404,
          1.0992213648166544,
          0.7782339040585375,
          0.5465000218976769,
          0.3199898087610177,
          -0.18808464624135388,
          1.0568366529165245,
          0.1659244958695554,
          1.399625046098209,
          -0.5953007591936754,
          -0.5206373924693855,
          0.5801829129702887,
          0.6832679470816938,
          1.336260254421983,
          0.3015855846803247,
          2.6333464798146022,
          1.0731127971508758,
          1.7754932668329395,
          -2.0385225989590827,
          0.700761045294904,
          -0.20299627576017767,
          -0.020437457335589805,
          -0.4288836539011838,
          -0.13226991819424455,
          0.08764900440910976,
          -0.674794617002996,
          0.54043210088352,
          -0.4860642591960618,
          0.01366339696631474,
          1.3753034053891933,
          0.9162504634564674,
          -0.32492474812705857,
          -0.8736821112850072,
          -0.9934167604855684,
          -0.34446953444598993,
          -0.5349924240902536,
          -0.17457797518128212,
          -0.6100819152367105,
          -0.8044402168629541,
          -1.3249140922986007,
          -0.4794668006590733,
          -0.23943261051912887,
          0.8509726207184295,
          -0.06513782081526151,
          0.46049993220238744,
          1.3352421073022125,
          -1.870558997580458,
          0.5559619107977536,
          0.20130397456112806,
          0.6883136283856667,
          0.9348624859768491,
          0.7897466383010999,
          -0.11616726146529319,
          -0.6054411993072186,
          0.10644067632075262,
          -0.4346088114743291,
          -0.12828473246656533,
          -0.9665313520782338,
          1.151325789207208,
          2.201941374624922,
          -0.19188876859711448,
          -1.4442447516855943,
          -2.4301440173709588,
          0.46959226759189954,
          -0.27329631691061235,
          -0.01905773855042531,
          -0.8807242909845279,
          0.31128548580138216,
          -0.4314795761239597,
          0.26737467979074336,
          -0.44413081879029187,
          0.9075101453753525,
          -0.5403558802549625,
          0.4024911278983956,
          -0.08641759945373886,
          0.12791519183490496,
          -0.7033907085796087,
          -0.7884005843835954
         ],
         "xaxis": "x14",
         "y": [
          0.8646413499069018,
          -0.2552281674137794,
          0.26811843883347297,
          -0.05620719260251065,
          0.608342730014287,
          -2.256742050699274,
          0.20863292342878495,
          -0.3686736158874111,
          0.4890915253487885,
          -0.7660163000766769,
          -1.0416449917165311,
          0.4806582458712171,
          -0.4114702750364706,
          0.5204670498913053,
          0.8221428149264973,
          -0.4492091311960765,
          0.20711343906592006,
          1.8614968160790308,
          0.500780513105085,
          0.7743038045339257,
          -0.8737176351867867,
          0.6039583039825533,
          0.918443752665162,
          0.8535050575774797,
          1.0763748311105066,
          -0.8419136921837637,
          0.48160211456198027,
          0.3478897279703216,
          0.9685946434483648,
          -2.083276296418463,
          0.45149660079847936,
          0.6619071635166061,
          1.4181560825234245,
          0.771324956250657,
          -0.14530416649451658,
          0.3976651171123839,
          0.9097113297509332,
          1.1847865608699824,
          -0.6593625759218309,
          0.6063633800482321,
          -0.8241662343593859,
          -0.12772546192840956,
          0.7148164695124857,
          -0.24942187496075405,
          -0.9027445697381894,
          1.8406892568230273,
          1.535826820285057,
          0.5447966621621687,
          0.9062058717674921,
          -0.42337476638976546,
          -0.9625853744750459,
          0.012321355476298982,
          0.7820001818025489,
          1.6668604004234198,
          -1.1406377909082492,
          0.01252864120674704,
          2.4945244557662867,
          -0.36863232278118596,
          2.105501475153067,
          -0.6604465682866272,
          1.441867694392154,
          0.21658236094602748,
          -0.0962298020043322,
          0.9483220550499809,
          -0.4763879231568212,
          0.43088325233755626,
          -2.7808120528625597,
          -0.23247531036345054,
          0.36084335483646746,
          -1.2089322822921906,
          -0.24890461011327844,
          -0.8600402238497193,
          -0.1537178103039477,
          -0.8126122194166278,
          0.06500256700747642,
          -1.2782007194448137,
          1.3537224338145164,
          1.1604141316798053,
          -0.2441372217689482,
          0.5410938929946172,
          -0.8566872529766918,
          -1.2478278597223393,
          0.37737044908776896,
          0.29405781918803214,
          0.4233528157322542,
          1.8706118533171237,
          -0.924684455884149,
          0.22070722366373066,
          -2.4586292759209427,
          -0.22400430312705338,
          0.25890765257504844,
          -0.027752998619231247,
          0.6927331168229386,
          -0.44531744308082827,
          0.49316863052720616,
          1.4475888554971592,
          -1.326978368217466,
          -0.6001675855943368,
          -0.09965240439827666,
          0.18642732850013347
         ],
         "yaxis": "y14"
        },
        {
         "line": {
          "color": "rgba(128, 128, 128, 1.0)",
          "dash": "solid",
          "shape": "linear",
          "width": 1.3
         },
         "marker": {
          "size": 2,
          "symbol": "circle"
         },
         "mode": "markers",
         "name": "D",
         "text": "",
         "type": "scatter",
         "x": [
          -1.0530784046234432,
          -0.5998828525246954,
          0.6823394736694053,
          0.39154844138397654,
          -1.4777559005196188,
          -0.17957819724080418,
          -0.49546806226955015,
          -0.03417677960283049,
          1.0347613869510441,
          1.0799609381259707,
          0.7451801785572333,
          0.9730888944898628,
          -1.3019376377797687,
          -1.9657915547564373,
          -0.870066654359202,
          2.2559773726913344,
          0.2885706276295685,
          -1.6910049820803512,
          1.357552776496664,
          1.0029552839044396,
          -0.21693148932201317,
          -0.8841730419634529,
          -0.8113318199507564,
          -1.3632044957069864,
          1.1737063458025767,
          0.17893747159057952,
          -0.29813181713258186,
          -0.5763832771031352,
          0.9242110949417373,
          -0.5079370686565353,
          0.2933808766969281,
          -2.1679992137214095,
          0.6217215884139936,
          -1.021758639966795,
          -0.2560773812211148,
          1.0595458843720178,
          -1.518219887885119,
          0.6816340473089165,
          0.10731128180675693,
          -1.1475973355287767,
          -0.10385105387906973,
          -1.2684312877153545,
          1.719844550237913,
          -0.7581785004384675,
          0.3841485671271159,
          1.5469529582376156,
          1.3272051983404904,
          -0.7626176485414343,
          -0.5574002558924317,
          -0.6226398165697349,
          -0.529344110988253,
          0.5776480272337935,
          0.23965864418308097,
          0.23123888115013844,
          -0.7677448090071148,
          -0.9405940135946458,
          0.644477074950686,
          0.27835432726066134,
          0.05122390242802615,
          -0.09429130631244215,
          0.08989403240645649,
          2.281992722311357,
          -1.792734526780254,
          -1.600479070121444,
          -0.15547847759276393,
          0.13773518964345685,
          -1.3715213636621988,
          0.4610607419023082,
          2.5757296527396014,
          -0.9889934472264842,
          0.9744658553018318,
          1.2796847790946488,
          -0.09856461240780492,
          -0.026284734994786108,
          0.09559567063454737,
          0.42256261579730414,
          0.10452615902512712,
          1.7483881135714812,
          -0.5972683954527638,
          -0.5199775463225929,
          0.3237357914953983,
          -0.784322091622033,
          -0.441690957377831,
          3.0632314470891338,
          -1.7079099270243534,
          -1.883849760005292,
          -0.676239956124565,
          -0.3051619621600872,
          -0.9980426186136298,
          0.608160336738181,
          -0.7834567597292276,
          -0.37191194476714395,
          0.6413319899545503,
          0.9373011439114821,
          -1.287901342341771,
          -1.472193760695295,
          0.3411666985779841,
          -0.9944489415680196,
          1.6965643906356584,
          1.2704513652712195
         ],
         "xaxis": "x15",
         "y": [
          0.8646413499069018,
          -0.2552281674137794,
          0.26811843883347297,
          -0.05620719260251065,
          0.608342730014287,
          -2.256742050699274,
          0.20863292342878495,
          -0.3686736158874111,
          0.4890915253487885,
          -0.7660163000766769,
          -1.0416449917165311,
          0.4806582458712171,
          -0.4114702750364706,
          0.5204670498913053,
          0.8221428149264973,
          -0.4492091311960765,
          0.20711343906592006,
          1.8614968160790308,
          0.500780513105085,
          0.7743038045339257,
          -0.8737176351867867,
          0.6039583039825533,
          0.918443752665162,
          0.8535050575774797,
          1.0763748311105066,
          -0.8419136921837637,
          0.48160211456198027,
          0.3478897279703216,
          0.9685946434483648,
          -2.083276296418463,
          0.45149660079847936,
          0.6619071635166061,
          1.4181560825234245,
          0.771324956250657,
          -0.14530416649451658,
          0.3976651171123839,
          0.9097113297509332,
          1.1847865608699824,
          -0.6593625759218309,
          0.6063633800482321,
          -0.8241662343593859,
          -0.12772546192840956,
          0.7148164695124857,
          -0.24942187496075405,
          -0.9027445697381894,
          1.8406892568230273,
          1.535826820285057,
          0.5447966621621687,
          0.9062058717674921,
          -0.42337476638976546,
          -0.9625853744750459,
          0.012321355476298982,
          0.7820001818025489,
          1.6668604004234198,
          -1.1406377909082492,
          0.01252864120674704,
          2.4945244557662867,
          -0.36863232278118596,
          2.105501475153067,
          -0.6604465682866272,
          1.441867694392154,
          0.21658236094602748,
          -0.0962298020043322,
          0.9483220550499809,
          -0.4763879231568212,
          0.43088325233755626,
          -2.7808120528625597,
          -0.23247531036345054,
          0.36084335483646746,
          -1.2089322822921906,
          -0.24890461011327844,
          -0.8600402238497193,
          -0.1537178103039477,
          -0.8126122194166278,
          0.06500256700747642,
          -1.2782007194448137,
          1.3537224338145164,
          1.1604141316798053,
          -0.2441372217689482,
          0.5410938929946172,
          -0.8566872529766918,
          -1.2478278597223393,
          0.37737044908776896,
          0.29405781918803214,
          0.4233528157322542,
          1.8706118533171237,
          -0.924684455884149,
          0.22070722366373066,
          -2.4586292759209427,
          -0.22400430312705338,
          0.25890765257504844,
          -0.027752998619231247,
          0.6927331168229386,
          -0.44531744308082827,
          0.49316863052720616,
          1.4475888554971592,
          -1.326978368217466,
          -0.6001675855943368,
          -0.09965240439827666,
          0.18642732850013347
         ],
         "yaxis": "y15"
        },
        {
         "histfunc": "count",
         "histnorm": "",
         "marker": {
          "color": "rgba(128, 0, 128, 1.0)",
          "line": {
           "color": "#4D5663",
           "width": 1.3
          }
         },
         "name": "D",
         "nbinsx": 10,
         "opacity": 0.8,
         "orientation": "v",
         "type": "histogram",
         "x": [
          0.8646413499069018,
          -0.2552281674137794,
          0.26811843883347297,
          -0.05620719260251065,
          0.608342730014287,
          -2.256742050699274,
          0.20863292342878495,
          -0.3686736158874111,
          0.4890915253487885,
          -0.7660163000766769,
          -1.0416449917165311,
          0.4806582458712171,
          -0.4114702750364706,
          0.5204670498913053,
          0.8221428149264973,
          -0.4492091311960765,
          0.20711343906592006,
          1.8614968160790308,
          0.500780513105085,
          0.7743038045339257,
          -0.8737176351867867,
          0.6039583039825533,
          0.918443752665162,
          0.8535050575774797,
          1.0763748311105066,
          -0.8419136921837637,
          0.48160211456198027,
          0.3478897279703216,
          0.9685946434483648,
          -2.083276296418463,
          0.45149660079847936,
          0.6619071635166061,
          1.4181560825234245,
          0.771324956250657,
          -0.14530416649451658,
          0.3976651171123839,
          0.9097113297509332,
          1.1847865608699824,
          -0.6593625759218309,
          0.6063633800482321,
          -0.8241662343593859,
          -0.12772546192840956,
          0.7148164695124857,
          -0.24942187496075405,
          -0.9027445697381894,
          1.8406892568230273,
          1.535826820285057,
          0.5447966621621687,
          0.9062058717674921,
          -0.42337476638976546,
          -0.9625853744750459,
          0.012321355476298982,
          0.7820001818025489,
          1.6668604004234198,
          -1.1406377909082492,
          0.01252864120674704,
          2.4945244557662867,
          -0.36863232278118596,
          2.105501475153067,
          -0.6604465682866272,
          1.441867694392154,
          0.21658236094602748,
          -0.0962298020043322,
          0.9483220550499809,
          -0.4763879231568212,
          0.43088325233755626,
          -2.7808120528625597,
          -0.23247531036345054,
          0.36084335483646746,
          -1.2089322822921906,
          -0.24890461011327844,
          -0.8600402238497193,
          -0.1537178103039477,
          -0.8126122194166278,
          0.06500256700747642,
          -1.2782007194448137,
          1.3537224338145164,
          1.1604141316798053,
          -0.2441372217689482,
          0.5410938929946172,
          -0.8566872529766918,
          -1.2478278597223393,
          0.37737044908776896,
          0.29405781918803214,
          0.4233528157322542,
          1.8706118533171237,
          -0.924684455884149,
          0.22070722366373066,
          -2.4586292759209427,
          -0.22400430312705338,
          0.25890765257504844,
          -0.027752998619231247,
          0.6927331168229386,
          -0.44531744308082827,
          0.49316863052720616,
          1.4475888554971592,
          -1.326978368217466,
          -0.6001675855943368,
          -0.09965240439827666,
          0.18642732850013347
         ],
         "xaxis": "x16",
         "yaxis": "y16"
        }
       ],
       "layout": {
        "bargap": 0.02,
        "legend": {
         "bgcolor": "#F5F6F9",
         "font": {
          "color": "#4D5663"
         }
        },
        "paper_bgcolor": "#F5F6F9",
        "plot_bgcolor": "#F5F6F9",
        "showlegend": false,
        "template": {
         "data": {
          "bar": [
           {
            "error_x": {
             "color": "#2a3f5f"
            },
            "error_y": {
             "color": "#2a3f5f"
            },
            "marker": {
             "line": {
              "color": "#E5ECF6",
              "width": 0.5
             },
             "pattern": {
              "fillmode": "overlay",
              "size": 10,
              "solidity": 0.2
             }
            },
            "type": "bar"
           }
          ],
          "barpolar": [
           {
            "marker": {
             "line": {
              "color": "#E5ECF6",
              "width": 0.5
             },
             "pattern": {
              "fillmode": "overlay",
              "size": 10,
              "solidity": 0.2
             }
            },
            "type": "barpolar"
           }
          ],
          "carpet": [
           {
            "aaxis": {
             "endlinecolor": "#2a3f5f",
             "gridcolor": "white",
             "linecolor": "white",
             "minorgridcolor": "white",
             "startlinecolor": "#2a3f5f"
            },
            "baxis": {
             "endlinecolor": "#2a3f5f",
             "gridcolor": "white",
             "linecolor": "white",
             "minorgridcolor": "white",
             "startlinecolor": "#2a3f5f"
            },
            "type": "carpet"
           }
          ],
          "choropleth": [
           {
            "colorbar": {
             "outlinewidth": 0,
             "ticks": ""
            },
            "type": "choropleth"
           }
          ],
          "contour": [
           {
            "colorbar": {
             "outlinewidth": 0,
             "ticks": ""
            },
            "colorscale": [
             [
              0,
              "#0d0887"
             ],
             [
              0.1111111111111111,
              "#46039f"
             ],
             [
              0.2222222222222222,
              "#7201a8"
             ],
             [
              0.3333333333333333,
              "#9c179e"
             ],
             [
              0.4444444444444444,
              "#bd3786"
             ],
             [
              0.5555555555555556,
              "#d8576b"
             ],
             [
              0.6666666666666666,
              "#ed7953"
             ],
             [
              0.7777777777777778,
              "#fb9f3a"
             ],
             [
              0.8888888888888888,
              "#fdca26"
             ],
             [
              1,
              "#f0f921"
             ]
            ],
            "type": "contour"
           }
          ],
          "contourcarpet": [
           {
            "colorbar": {
             "outlinewidth": 0,
             "ticks": ""
            },
            "type": "contourcarpet"
           }
          ],
          "heatmap": [
           {
            "colorbar": {
             "outlinewidth": 0,
             "ticks": ""
            },
            "colorscale": [
             [
              0,
              "#0d0887"
             ],
             [
              0.1111111111111111,
              "#46039f"
             ],
             [
              0.2222222222222222,
              "#7201a8"
             ],
             [
              0.3333333333333333,
              "#9c179e"
             ],
             [
              0.4444444444444444,
              "#bd3786"
             ],
             [
              0.5555555555555556,
              "#d8576b"
             ],
             [
              0.6666666666666666,
              "#ed7953"
             ],
             [
              0.7777777777777778,
              "#fb9f3a"
             ],
             [
              0.8888888888888888,
              "#fdca26"
             ],
             [
              1,
              "#f0f921"
             ]
            ],
            "type": "heatmap"
           }
          ],
          "heatmapgl": [
           {
            "colorbar": {
             "outlinewidth": 0,
             "ticks": ""
            },
            "colorscale": [
             [
              0,
              "#0d0887"
             ],
             [
              0.1111111111111111,
              "#46039f"
             ],
             [
              0.2222222222222222,
              "#7201a8"
             ],
             [
              0.3333333333333333,
              "#9c179e"
             ],
             [
              0.4444444444444444,
              "#bd3786"
             ],
             [
              0.5555555555555556,
              "#d8576b"
             ],
             [
              0.6666666666666666,
              "#ed7953"
             ],
             [
              0.7777777777777778,
              "#fb9f3a"
             ],
             [
              0.8888888888888888,
              "#fdca26"
             ],
             [
              1,
              "#f0f921"
             ]
            ],
            "type": "heatmapgl"
           }
          ],
          "histogram": [
           {
            "marker": {
             "pattern": {
              "fillmode": "overlay",
              "size": 10,
              "solidity": 0.2
             }
            },
            "type": "histogram"
           }
          ],
          "histogram2d": [
           {
            "colorbar": {
             "outlinewidth": 0,
             "ticks": ""
            },
            "colorscale": [
             [
              0,
              "#0d0887"
             ],
             [
              0.1111111111111111,
              "#46039f"
             ],
             [
              0.2222222222222222,
              "#7201a8"
             ],
             [
              0.3333333333333333,
              "#9c179e"
             ],
             [
              0.4444444444444444,
              "#bd3786"
             ],
             [
              0.5555555555555556,
              "#d8576b"
             ],
             [
              0.6666666666666666,
              "#ed7953"
             ],
             [
              0.7777777777777778,
              "#fb9f3a"
             ],
             [
              0.8888888888888888,
              "#fdca26"
             ],
             [
              1,
              "#f0f921"
             ]
            ],
            "type": "histogram2d"
           }
          ],
          "histogram2dcontour": [
           {
            "colorbar": {
             "outlinewidth": 0,
             "ticks": ""
            },
            "colorscale": [
             [
              0,
              "#0d0887"
             ],
             [
              0.1111111111111111,
              "#46039f"
             ],
             [
              0.2222222222222222,
              "#7201a8"
             ],
             [
              0.3333333333333333,
              "#9c179e"
             ],
             [
              0.4444444444444444,
              "#bd3786"
             ],
             [
              0.5555555555555556,
              "#d8576b"
             ],
             [
              0.6666666666666666,
              "#ed7953"
             ],
             [
              0.7777777777777778,
              "#fb9f3a"
             ],
             [
              0.8888888888888888,
              "#fdca26"
             ],
             [
              1,
              "#f0f921"
             ]
            ],
            "type": "histogram2dcontour"
           }
          ],
          "mesh3d": [
           {
            "colorbar": {
             "outlinewidth": 0,
             "ticks": ""
            },
            "type": "mesh3d"
           }
          ],
          "parcoords": [
           {
            "line": {
             "colorbar": {
              "outlinewidth": 0,
              "ticks": ""
             }
            },
            "type": "parcoords"
           }
          ],
          "pie": [
           {
            "automargin": true,
            "type": "pie"
           }
          ],
          "scatter": [
           {
            "fillpattern": {
             "fillmode": "overlay",
             "size": 10,
             "solidity": 0.2
            },
            "type": "scatter"
           }
          ],
          "scatter3d": [
           {
            "line": {
             "colorbar": {
              "outlinewidth": 0,
              "ticks": ""
             }
            },
            "marker": {
             "colorbar": {
              "outlinewidth": 0,
              "ticks": ""
             }
            },
            "type": "scatter3d"
           }
          ],
          "scattercarpet": [
           {
            "marker": {
             "colorbar": {
              "outlinewidth": 0,
              "ticks": ""
             }
            },
            "type": "scattercarpet"
           }
          ],
          "scattergeo": [
           {
            "marker": {
             "colorbar": {
              "outlinewidth": 0,
              "ticks": ""
             }
            },
            "type": "scattergeo"
           }
          ],
          "scattergl": [
           {
            "marker": {
             "colorbar": {
              "outlinewidth": 0,
              "ticks": ""
             }
            },
            "type": "scattergl"
           }
          ],
          "scattermapbox": [
           {
            "marker": {
             "colorbar": {
              "outlinewidth": 0,
              "ticks": ""
             }
            },
            "type": "scattermapbox"
           }
          ],
          "scatterpolar": [
           {
            "marker": {
             "colorbar": {
              "outlinewidth": 0,
              "ticks": ""
             }
            },
            "type": "scatterpolar"
           }
          ],
          "scatterpolargl": [
           {
            "marker": {
             "colorbar": {
              "outlinewidth": 0,
              "ticks": ""
             }
            },
            "type": "scatterpolargl"
           }
          ],
          "scatterternary": [
           {
            "marker": {
             "colorbar": {
              "outlinewidth": 0,
              "ticks": ""
             }
            },
            "type": "scatterternary"
           }
          ],
          "surface": [
           {
            "colorbar": {
             "outlinewidth": 0,
             "ticks": ""
            },
            "colorscale": [
             [
              0,
              "#0d0887"
             ],
             [
              0.1111111111111111,
              "#46039f"
             ],
             [
              0.2222222222222222,
              "#7201a8"
             ],
             [
              0.3333333333333333,
              "#9c179e"
             ],
             [
              0.4444444444444444,
              "#bd3786"
             ],
             [
              0.5555555555555556,
              "#d8576b"
             ],
             [
              0.6666666666666666,
              "#ed7953"
             ],
             [
              0.7777777777777778,
              "#fb9f3a"
             ],
             [
              0.8888888888888888,
              "#fdca26"
             ],
             [
              1,
              "#f0f921"
             ]
            ],
            "type": "surface"
           }
          ],
          "table": [
           {
            "cells": {
             "fill": {
              "color": "#EBF0F8"
             },
             "line": {
              "color": "white"
             }
            },
            "header": {
             "fill": {
              "color": "#C8D4E3"
             },
             "line": {
              "color": "white"
             }
            },
            "type": "table"
           }
          ]
         },
         "layout": {
          "annotationdefaults": {
           "arrowcolor": "#2a3f5f",
           "arrowhead": 0,
           "arrowwidth": 1
          },
          "autotypenumbers": "strict",
          "coloraxis": {
           "colorbar": {
            "outlinewidth": 0,
            "ticks": ""
           }
          },
          "colorscale": {
           "diverging": [
            [
             0,
             "#8e0152"
            ],
            [
             0.1,
             "#c51b7d"
            ],
            [
             0.2,
             "#de77ae"
            ],
            [
             0.3,
             "#f1b6da"
            ],
            [
             0.4,
             "#fde0ef"
            ],
            [
             0.5,
             "#f7f7f7"
            ],
            [
             0.6,
             "#e6f5d0"
            ],
            [
             0.7,
             "#b8e186"
            ],
            [
             0.8,
             "#7fbc41"
            ],
            [
             0.9,
             "#4d9221"
            ],
            [
             1,
             "#276419"
            ]
           ],
           "sequential": [
            [
             0,
             "#0d0887"
            ],
            [
             0.1111111111111111,
             "#46039f"
            ],
            [
             0.2222222222222222,
             "#7201a8"
            ],
            [
             0.3333333333333333,
             "#9c179e"
            ],
            [
             0.4444444444444444,
             "#bd3786"
            ],
            [
             0.5555555555555556,
             "#d8576b"
            ],
            [
             0.6666666666666666,
             "#ed7953"
            ],
            [
             0.7777777777777778,
             "#fb9f3a"
            ],
            [
             0.8888888888888888,
             "#fdca26"
            ],
            [
             1,
             "#f0f921"
            ]
           ],
           "sequentialminus": [
            [
             0,
             "#0d0887"
            ],
            [
             0.1111111111111111,
             "#46039f"
            ],
            [
             0.2222222222222222,
             "#7201a8"
            ],
            [
             0.3333333333333333,
             "#9c179e"
            ],
            [
             0.4444444444444444,
             "#bd3786"
            ],
            [
             0.5555555555555556,
             "#d8576b"
            ],
            [
             0.6666666666666666,
             "#ed7953"
            ],
            [
             0.7777777777777778,
             "#fb9f3a"
            ],
            [
             0.8888888888888888,
             "#fdca26"
            ],
            [
             1,
             "#f0f921"
            ]
           ]
          },
          "colorway": [
           "#636efa",
           "#EF553B",
           "#00cc96",
           "#ab63fa",
           "#FFA15A",
           "#19d3f3",
           "#FF6692",
           "#B6E880",
           "#FF97FF",
           "#FECB52"
          ],
          "font": {
           "color": "#2a3f5f"
          },
          "geo": {
           "bgcolor": "white",
           "lakecolor": "white",
           "landcolor": "#E5ECF6",
           "showlakes": true,
           "showland": true,
           "subunitcolor": "white"
          },
          "hoverlabel": {
           "align": "left"
          },
          "hovermode": "closest",
          "mapbox": {
           "style": "light"
          },
          "paper_bgcolor": "white",
          "plot_bgcolor": "#E5ECF6",
          "polar": {
           "angularaxis": {
            "gridcolor": "white",
            "linecolor": "white",
            "ticks": ""
           },
           "bgcolor": "#E5ECF6",
           "radialaxis": {
            "gridcolor": "white",
            "linecolor": "white",
            "ticks": ""
           }
          },
          "scene": {
           "xaxis": {
            "backgroundcolor": "#E5ECF6",
            "gridcolor": "white",
            "gridwidth": 2,
            "linecolor": "white",
            "showbackground": true,
            "ticks": "",
            "zerolinecolor": "white"
           },
           "yaxis": {
            "backgroundcolor": "#E5ECF6",
            "gridcolor": "white",
            "gridwidth": 2,
            "linecolor": "white",
            "showbackground": true,
            "ticks": "",
            "zerolinecolor": "white"
           },
           "zaxis": {
            "backgroundcolor": "#E5ECF6",
            "gridcolor": "white",
            "gridwidth": 2,
            "linecolor": "white",
            "showbackground": true,
            "ticks": "",
            "zerolinecolor": "white"
           }
          },
          "shapedefaults": {
           "line": {
            "color": "#2a3f5f"
           }
          },
          "ternary": {
           "aaxis": {
            "gridcolor": "white",
            "linecolor": "white",
            "ticks": ""
           },
           "baxis": {
            "gridcolor": "white",
            "linecolor": "white",
            "ticks": ""
           },
           "bgcolor": "#E5ECF6",
           "caxis": {
            "gridcolor": "white",
            "linecolor": "white",
            "ticks": ""
           }
          },
          "title": {
           "x": 0.05
          },
          "xaxis": {
           "automargin": true,
           "gridcolor": "white",
           "linecolor": "white",
           "ticks": "",
           "title": {
            "standoff": 15
           },
           "zerolinecolor": "white",
           "zerolinewidth": 2
          },
          "yaxis": {
           "automargin": true,
           "gridcolor": "white",
           "linecolor": "white",
           "ticks": "",
           "title": {
            "standoff": 15
           },
           "zerolinecolor": "white",
           "zerolinewidth": 2
          }
         }
        },
        "title": {
         "font": {
          "color": "#4D5663"
         }
        },
        "xaxis": {
         "anchor": "y",
         "domain": [
          0,
          0.2125
         ],
         "gridcolor": "#E1E5ED",
         "showgrid": false,
         "tickfont": {
          "color": "#4D5663"
         },
         "title": {
          "font": {
           "color": "#4D5663"
          },
          "text": ""
         },
         "zerolinecolor": "#E1E5ED"
        },
        "xaxis10": {
         "anchor": "y10",
         "domain": [
          0.2625,
          0.475
         ],
         "gridcolor": "#E1E5ED",
         "showgrid": false,
         "tickfont": {
          "color": "#4D5663"
         },
         "title": {
          "font": {
           "color": "#4D5663"
          },
          "text": ""
         },
         "zerolinecolor": "#E1E5ED"
        },
        "xaxis11": {
         "anchor": "y11",
         "domain": [
          0.525,
          0.7375
         ],
         "gridcolor": "#E1E5ED",
         "showgrid": false,
         "tickfont": {
          "color": "#4D5663"
         },
         "title": {
          "font": {
           "color": "#4D5663"
          },
          "text": ""
         },
         "zerolinecolor": "#E1E5ED"
        },
        "xaxis12": {
         "anchor": "y12",
         "domain": [
          0.7875,
          1
         ],
         "gridcolor": "#E1E5ED",
         "showgrid": false,
         "tickfont": {
          "color": "#4D5663"
         },
         "title": {
          "font": {
           "color": "#4D5663"
          },
          "text": ""
         },
         "zerolinecolor": "#E1E5ED"
        },
        "xaxis13": {
         "anchor": "y13",
         "domain": [
          0,
          0.2125
         ],
         "gridcolor": "#E1E5ED",
         "showgrid": false,
         "tickfont": {
          "color": "#4D5663"
         },
         "title": {
          "font": {
           "color": "#4D5663"
          },
          "text": ""
         },
         "zerolinecolor": "#E1E5ED"
        },
        "xaxis14": {
         "anchor": "y14",
         "domain": [
          0.2625,
          0.475
         ],
         "gridcolor": "#E1E5ED",
         "showgrid": false,
         "tickfont": {
          "color": "#4D5663"
         },
         "title": {
          "font": {
           "color": "#4D5663"
          },
          "text": ""
         },
         "zerolinecolor": "#E1E5ED"
        },
        "xaxis15": {
         "anchor": "y15",
         "domain": [
          0.525,
          0.7375
         ],
         "gridcolor": "#E1E5ED",
         "showgrid": false,
         "tickfont": {
          "color": "#4D5663"
         },
         "title": {
          "font": {
           "color": "#4D5663"
          },
          "text": ""
         },
         "zerolinecolor": "#E1E5ED"
        },
        "xaxis16": {
         "anchor": "y16",
         "domain": [
          0.7875,
          1
         ],
         "gridcolor": "#E1E5ED",
         "showgrid": false,
         "tickfont": {
          "color": "#4D5663"
         },
         "title": {
          "font": {
           "color": "#4D5663"
          },
          "text": ""
         },
         "zerolinecolor": "#E1E5ED"
        },
        "xaxis2": {
         "anchor": "y2",
         "domain": [
          0.2625,
          0.475
         ],
         "gridcolor": "#E1E5ED",
         "showgrid": false,
         "tickfont": {
          "color": "#4D5663"
         },
         "title": {
          "font": {
           "color": "#4D5663"
          },
          "text": ""
         },
         "zerolinecolor": "#E1E5ED"
        },
        "xaxis3": {
         "anchor": "y3",
         "domain": [
          0.525,
          0.7375
         ],
         "gridcolor": "#E1E5ED",
         "showgrid": false,
         "tickfont": {
          "color": "#4D5663"
         },
         "title": {
          "font": {
           "color": "#4D5663"
          },
          "text": ""
         },
         "zerolinecolor": "#E1E5ED"
        },
        "xaxis4": {
         "anchor": "y4",
         "domain": [
          0.7875,
          1
         ],
         "gridcolor": "#E1E5ED",
         "showgrid": false,
         "tickfont": {
          "color": "#4D5663"
         },
         "title": {
          "font": {
           "color": "#4D5663"
          },
          "text": ""
         },
         "zerolinecolor": "#E1E5ED"
        },
        "xaxis5": {
         "anchor": "y5",
         "domain": [
          0,
          0.2125
         ],
         "gridcolor": "#E1E5ED",
         "showgrid": false,
         "tickfont": {
          "color": "#4D5663"
         },
         "title": {
          "font": {
           "color": "#4D5663"
          },
          "text": ""
         },
         "zerolinecolor": "#E1E5ED"
        },
        "xaxis6": {
         "anchor": "y6",
         "domain": [
          0.2625,
          0.475
         ],
         "gridcolor": "#E1E5ED",
         "showgrid": false,
         "tickfont": {
          "color": "#4D5663"
         },
         "title": {
          "font": {
           "color": "#4D5663"
          },
          "text": ""
         },
         "zerolinecolor": "#E1E5ED"
        },
        "xaxis7": {
         "anchor": "y7",
         "domain": [
          0.525,
          0.7375
         ],
         "gridcolor": "#E1E5ED",
         "showgrid": false,
         "tickfont": {
          "color": "#4D5663"
         },
         "title": {
          "font": {
           "color": "#4D5663"
          },
          "text": ""
         },
         "zerolinecolor": "#E1E5ED"
        },
        "xaxis8": {
         "anchor": "y8",
         "domain": [
          0.7875,
          1
         ],
         "gridcolor": "#E1E5ED",
         "showgrid": false,
         "tickfont": {
          "color": "#4D5663"
         },
         "title": {
          "font": {
           "color": "#4D5663"
          },
          "text": ""
         },
         "zerolinecolor": "#E1E5ED"
        },
        "xaxis9": {
         "anchor": "y9",
         "domain": [
          0,
          0.2125
         ],
         "gridcolor": "#E1E5ED",
         "showgrid": false,
         "tickfont": {
          "color": "#4D5663"
         },
         "title": {
          "font": {
           "color": "#4D5663"
          },
          "text": ""
         },
         "zerolinecolor": "#E1E5ED"
        },
        "yaxis": {
         "anchor": "x",
         "domain": [
          0.8025,
          1
         ],
         "gridcolor": "#E1E5ED",
         "showgrid": false,
         "tickfont": {
          "color": "#4D5663"
         },
         "title": {
          "font": {
           "color": "#4D5663"
          },
          "text": ""
         },
         "zerolinecolor": "#E1E5ED"
        },
        "yaxis10": {
         "anchor": "x10",
         "domain": [
          0.2675,
          0.465
         ],
         "gridcolor": "#E1E5ED",
         "showgrid": false,
         "tickfont": {
          "color": "#4D5663"
         },
         "title": {
          "font": {
           "color": "#4D5663"
          },
          "text": ""
         },
         "zerolinecolor": "#E1E5ED"
        },
        "yaxis11": {
         "anchor": "x11",
         "domain": [
          0.2675,
          0.465
         ],
         "gridcolor": "#E1E5ED",
         "showgrid": false,
         "tickfont": {
          "color": "#4D5663"
         },
         "title": {
          "font": {
           "color": "#4D5663"
          },
          "text": ""
         },
         "zerolinecolor": "#E1E5ED"
        },
        "yaxis12": {
         "anchor": "x12",
         "domain": [
          0.2675,
          0.465
         ],
         "gridcolor": "#E1E5ED",
         "showgrid": false,
         "tickfont": {
          "color": "#4D5663"
         },
         "title": {
          "font": {
           "color": "#4D5663"
          },
          "text": ""
         },
         "zerolinecolor": "#E1E5ED"
        },
        "yaxis13": {
         "anchor": "x13",
         "domain": [
          0,
          0.1975
         ],
         "gridcolor": "#E1E5ED",
         "showgrid": false,
         "tickfont": {
          "color": "#4D5663"
         },
         "title": {
          "font": {
           "color": "#4D5663"
          },
          "text": ""
         },
         "zerolinecolor": "#E1E5ED"
        },
        "yaxis14": {
         "anchor": "x14",
         "domain": [
          0,
          0.1975
         ],
         "gridcolor": "#E1E5ED",
         "showgrid": false,
         "tickfont": {
          "color": "#4D5663"
         },
         "title": {
          "font": {
           "color": "#4D5663"
          },
          "text": ""
         },
         "zerolinecolor": "#E1E5ED"
        },
        "yaxis15": {
         "anchor": "x15",
         "domain": [
          0,
          0.1975
         ],
         "gridcolor": "#E1E5ED",
         "showgrid": false,
         "tickfont": {
          "color": "#4D5663"
         },
         "title": {
          "font": {
           "color": "#4D5663"
          },
          "text": ""
         },
         "zerolinecolor": "#E1E5ED"
        },
        "yaxis16": {
         "anchor": "x16",
         "domain": [
          0,
          0.1975
         ],
         "gridcolor": "#E1E5ED",
         "showgrid": false,
         "tickfont": {
          "color": "#4D5663"
         },
         "title": {
          "font": {
           "color": "#4D5663"
          },
          "text": ""
         },
         "zerolinecolor": "#E1E5ED"
        },
        "yaxis2": {
         "anchor": "x2",
         "domain": [
          0.8025,
          1
         ],
         "gridcolor": "#E1E5ED",
         "showgrid": false,
         "tickfont": {
          "color": "#4D5663"
         },
         "title": {
          "font": {
           "color": "#4D5663"
          },
          "text": ""
         },
         "zerolinecolor": "#E1E5ED"
        },
        "yaxis3": {
         "anchor": "x3",
         "domain": [
          0.8025,
          1
         ],
         "gridcolor": "#E1E5ED",
         "showgrid": false,
         "tickfont": {
          "color": "#4D5663"
         },
         "title": {
          "font": {
           "color": "#4D5663"
          },
          "text": ""
         },
         "zerolinecolor": "#E1E5ED"
        },
        "yaxis4": {
         "anchor": "x4",
         "domain": [
          0.8025,
          1
         ],
         "gridcolor": "#E1E5ED",
         "showgrid": false,
         "tickfont": {
          "color": "#4D5663"
         },
         "title": {
          "font": {
           "color": "#4D5663"
          },
          "text": ""
         },
         "zerolinecolor": "#E1E5ED"
        },
        "yaxis5": {
         "anchor": "x5",
         "domain": [
          0.535,
          0.7325
         ],
         "gridcolor": "#E1E5ED",
         "showgrid": false,
         "tickfont": {
          "color": "#4D5663"
         },
         "title": {
          "font": {
           "color": "#4D5663"
          },
          "text": ""
         },
         "zerolinecolor": "#E1E5ED"
        },
        "yaxis6": {
         "anchor": "x6",
         "domain": [
          0.535,
          0.7325
         ],
         "gridcolor": "#E1E5ED",
         "showgrid": false,
         "tickfont": {
          "color": "#4D5663"
         },
         "title": {
          "font": {
           "color": "#4D5663"
          },
          "text": ""
         },
         "zerolinecolor": "#E1E5ED"
        },
        "yaxis7": {
         "anchor": "x7",
         "domain": [
          0.535,
          0.7325
         ],
         "gridcolor": "#E1E5ED",
         "showgrid": false,
         "tickfont": {
          "color": "#4D5663"
         },
         "title": {
          "font": {
           "color": "#4D5663"
          },
          "text": ""
         },
         "zerolinecolor": "#E1E5ED"
        },
        "yaxis8": {
         "anchor": "x8",
         "domain": [
          0.535,
          0.7325
         ],
         "gridcolor": "#E1E5ED",
         "showgrid": false,
         "tickfont": {
          "color": "#4D5663"
         },
         "title": {
          "font": {
           "color": "#4D5663"
          },
          "text": ""
         },
         "zerolinecolor": "#E1E5ED"
        },
        "yaxis9": {
         "anchor": "x9",
         "domain": [
          0.2675,
          0.465
         ],
         "gridcolor": "#E1E5ED",
         "showgrid": false,
         "tickfont": {
          "color": "#4D5663"
         },
         "title": {
          "font": {
           "color": "#4D5663"
          },
          "text": ""
         },
         "zerolinecolor": "#E1E5ED"
        }
       }
      },
      "text/html": [
       "<div>                            <div id=\"d92e472b-9d68-4ffa-85a8-07aef0518006\" class=\"plotly-graph-div\" style=\"height:525px; width:100%;\"></div>            <script type=\"text/javascript\">                require([\"plotly\"], function(Plotly) {                    window.PLOTLYENV=window.PLOTLYENV || {};\n",
       "                    window.PLOTLYENV.BASE_URL='https://plot.ly';                                    if (document.getElementById(\"d92e472b-9d68-4ffa-85a8-07aef0518006\")) {                    Plotly.newPlot(                        \"d92e472b-9d68-4ffa-85a8-07aef0518006\",                        [{\"histfunc\":\"count\",\"histnorm\":\"\",\"marker\":{\"color\":\"rgba(255, 153, 51, 1.0)\",\"line\":{\"color\":\"#4D5663\",\"width\":1.3}},\"name\":\"A\",\"nbinsx\":10,\"opacity\":0.8,\"orientation\":\"v\",\"x\":[0.7705234898774278,-0.5896478916206093,0.17835405438999646,0.5963611453123362,1.7274565609395005,1.5421780537811438,1.628061239074311,-1.6996003095351457,0.4530517140462203,-0.05010402209357444,-0.6730349573592179,-0.505925008907118,1.5217444998825644,0.7830218517512779,0.2136415311917148,-0.5068968787431705,0.7238227873155504,-1.0524166058242228,0.5914587161087208,-2.148676705320432,-0.7343466366308768,-0.5943623139561683,-1.0583740994274637,0.7201107462148718,0.6603549547370541,0.8696266362093719,0.929244746991931,-0.47497605125261894,0.15404582729617616,-0.5917878555453583,0.3905984525454246,-0.4713030598853919,0.8700933287407903,-0.3415262616728389,-1.6728016113390374,0.2671229944566014,1.7640424596098119,0.07097350671730723,-0.19742298132391986,0.1702612515042837,-1.6394584554670721,-0.30406088152150856,-0.5416069186215873,-0.8513178826391808,-2.290646822512884,1.165929862213416,0.6878892903436499,-0.9795878322314134,0.211058793073966,0.7525561644401494,0.9141292435934405,1.0731670376288232,1.928115539184313,-1.0586469160156335,0.2493133435375463,1.0004543896878182,1.0654255989836823,1.514703842271405,-0.37229630884852305,1.4976291737398033,1.6088231464521767,0.1477979916712005,0.3398750970819321,-0.46002824476166554,-0.5551918306725362,-1.6155560991907183,-1.9556880291233207,0.7295946389464798,1.7254124803382753,1.7148315559047616,-0.10266094978445155,0.941879392537153,-1.8244418332264318,-0.13984057595098215,-1.4001826184089927,-0.6613228720419397,0.35870788958066135,-0.17741833189552075,1.4662471983332244,-1.6385294535708028,0.3379690245178709,0.22867327506198257,-0.21706300077687582,0.8480575702567326,-0.4687634196997417,-1.1569707233646864,-0.20439184269921234,0.6484691681289205,0.8247922039779939,0.7566534076986263,-0.47802065920583475,-0.37539515591956796,-0.19480019887372732,-0.8903694266829668,-1.158895906986244,-0.5966010935224592,-1.5444232357563994,1.1777548236526936,0.7616182066614193,0.5047518552082003],\"xaxis\":\"x\",\"yaxis\":\"y\",\"type\":\"histogram\"},{\"line\":{\"color\":\"rgba(128, 128, 128, 1.0)\",\"dash\":\"solid\",\"shape\":\"linear\",\"width\":1.3},\"marker\":{\"size\":2,\"symbol\":\"circle\"},\"mode\":\"markers\",\"name\":\"A\",\"text\":\"\",\"x\":[-1.936991487963092,-0.11569126822480842,-0.9675486848312903,-0.03570748738154921,1.152026157314478,-0.12020911095310927,0.9502929244024161,0.7776727947455804,-0.924013142703625,0.32050791426337977,-1.7597516309042502,-0.4491586351842661,0.290894990735173,-0.9770054854340499,-0.43590308062626865,-1.0944993413852326,-0.4916500092535971,-0.5123894614624396,-0.8467633894763315,-0.826901448085367,-1.4764740605909894,0.11068008983495835,0.28978668069622404,1.0992213648166544,0.7782339040585375,0.5465000218976769,0.3199898087610177,-0.18808464624135388,1.0568366529165245,0.1659244958695554,1.399625046098209,-0.5953007591936754,-0.5206373924693855,0.5801829129702887,0.6832679470816938,1.336260254421983,0.3015855846803247,2.6333464798146022,1.0731127971508758,1.7754932668329395,-2.0385225989590827,0.700761045294904,-0.20299627576017767,-0.020437457335589805,-0.4288836539011838,-0.13226991819424455,0.08764900440910976,-0.674794617002996,0.54043210088352,-0.4860642591960618,0.01366339696631474,1.3753034053891933,0.9162504634564674,-0.32492474812705857,-0.8736821112850072,-0.9934167604855684,-0.34446953444598993,-0.5349924240902536,-0.17457797518128212,-0.6100819152367105,-0.8044402168629541,-1.3249140922986007,-0.4794668006590733,-0.23943261051912887,0.8509726207184295,-0.06513782081526151,0.46049993220238744,1.3352421073022125,-1.870558997580458,0.5559619107977536,0.20130397456112806,0.6883136283856667,0.9348624859768491,0.7897466383010999,-0.11616726146529319,-0.6054411993072186,0.10644067632075262,-0.4346088114743291,-0.12828473246656533,-0.9665313520782338,1.151325789207208,2.201941374624922,-0.19188876859711448,-1.4442447516855943,-2.4301440173709588,0.46959226759189954,-0.27329631691061235,-0.01905773855042531,-0.8807242909845279,0.31128548580138216,-0.4314795761239597,0.26737467979074336,-0.44413081879029187,0.9075101453753525,-0.5403558802549625,0.4024911278983956,-0.08641759945373886,0.12791519183490496,-0.7033907085796087,-0.7884005843835954],\"xaxis\":\"x2\",\"y\":[0.7705234898774278,-0.5896478916206093,0.17835405438999646,0.5963611453123362,1.7274565609395005,1.5421780537811438,1.628061239074311,-1.6996003095351457,0.4530517140462203,-0.05010402209357444,-0.6730349573592179,-0.505925008907118,1.5217444998825644,0.7830218517512779,0.2136415311917148,-0.5068968787431705,0.7238227873155504,-1.0524166058242228,0.5914587161087208,-2.148676705320432,-0.7343466366308768,-0.5943623139561683,-1.0583740994274637,0.7201107462148718,0.6603549547370541,0.8696266362093719,0.929244746991931,-0.47497605125261894,0.15404582729617616,-0.5917878555453583,0.3905984525454246,-0.4713030598853919,0.8700933287407903,-0.3415262616728389,-1.6728016113390374,0.2671229944566014,1.7640424596098119,0.07097350671730723,-0.19742298132391986,0.1702612515042837,-1.6394584554670721,-0.30406088152150856,-0.5416069186215873,-0.8513178826391808,-2.290646822512884,1.165929862213416,0.6878892903436499,-0.9795878322314134,0.211058793073966,0.7525561644401494,0.9141292435934405,1.0731670376288232,1.928115539184313,-1.0586469160156335,0.2493133435375463,1.0004543896878182,1.0654255989836823,1.514703842271405,-0.37229630884852305,1.4976291737398033,1.6088231464521767,0.1477979916712005,0.3398750970819321,-0.46002824476166554,-0.5551918306725362,-1.6155560991907183,-1.9556880291233207,0.7295946389464798,1.7254124803382753,1.7148315559047616,-0.10266094978445155,0.941879392537153,-1.8244418332264318,-0.13984057595098215,-1.4001826184089927,-0.6613228720419397,0.35870788958066135,-0.17741833189552075,1.4662471983332244,-1.6385294535708028,0.3379690245178709,0.22867327506198257,-0.21706300077687582,0.8480575702567326,-0.4687634196997417,-1.1569707233646864,-0.20439184269921234,0.6484691681289205,0.8247922039779939,0.7566534076986263,-0.47802065920583475,-0.37539515591956796,-0.19480019887372732,-0.8903694266829668,-1.158895906986244,-0.5966010935224592,-1.5444232357563994,1.1777548236526936,0.7616182066614193,0.5047518552082003],\"yaxis\":\"y2\",\"type\":\"scatter\"},{\"line\":{\"color\":\"rgba(128, 128, 128, 1.0)\",\"dash\":\"solid\",\"shape\":\"linear\",\"width\":1.3},\"marker\":{\"size\":2,\"symbol\":\"circle\"},\"mode\":\"markers\",\"name\":\"A\",\"text\":\"\",\"x\":[-1.0530784046234432,-0.5998828525246954,0.6823394736694053,0.39154844138397654,-1.4777559005196188,-0.17957819724080418,-0.49546806226955015,-0.03417677960283049,1.0347613869510441,1.0799609381259707,0.7451801785572333,0.9730888944898628,-1.3019376377797687,-1.9657915547564373,-0.870066654359202,2.2559773726913344,0.2885706276295685,-1.6910049820803512,1.357552776496664,1.0029552839044396,-0.21693148932201317,-0.8841730419634529,-0.8113318199507564,-1.3632044957069864,1.1737063458025767,0.17893747159057952,-0.29813181713258186,-0.5763832771031352,0.9242110949417373,-0.5079370686565353,0.2933808766969281,-2.1679992137214095,0.6217215884139936,-1.021758639966795,-0.2560773812211148,1.0595458843720178,-1.518219887885119,0.6816340473089165,0.10731128180675693,-1.1475973355287767,-0.10385105387906973,-1.2684312877153545,1.719844550237913,-0.7581785004384675,0.3841485671271159,1.5469529582376156,1.3272051983404904,-0.7626176485414343,-0.5574002558924317,-0.6226398165697349,-0.529344110988253,0.5776480272337935,0.23965864418308097,0.23123888115013844,-0.7677448090071148,-0.9405940135946458,0.644477074950686,0.27835432726066134,0.05122390242802615,-0.09429130631244215,0.08989403240645649,2.281992722311357,-1.792734526780254,-1.600479070121444,-0.15547847759276393,0.13773518964345685,-1.3715213636621988,0.4610607419023082,2.5757296527396014,-0.9889934472264842,0.9744658553018318,1.2796847790946488,-0.09856461240780492,-0.026284734994786108,0.09559567063454737,0.42256261579730414,0.10452615902512712,1.7483881135714812,-0.5972683954527638,-0.5199775463225929,0.3237357914953983,-0.784322091622033,-0.441690957377831,3.0632314470891338,-1.7079099270243534,-1.883849760005292,-0.676239956124565,-0.3051619621600872,-0.9980426186136298,0.608160336738181,-0.7834567597292276,-0.37191194476714395,0.6413319899545503,0.9373011439114821,-1.287901342341771,-1.472193760695295,0.3411666985779841,-0.9944489415680196,1.6965643906356584,1.2704513652712195],\"xaxis\":\"x3\",\"y\":[0.7705234898774278,-0.5896478916206093,0.17835405438999646,0.5963611453123362,1.7274565609395005,1.5421780537811438,1.628061239074311,-1.6996003095351457,0.4530517140462203,-0.05010402209357444,-0.6730349573592179,-0.505925008907118,1.5217444998825644,0.7830218517512779,0.2136415311917148,-0.5068968787431705,0.7238227873155504,-1.0524166058242228,0.5914587161087208,-2.148676705320432,-0.7343466366308768,-0.5943623139561683,-1.0583740994274637,0.7201107462148718,0.6603549547370541,0.8696266362093719,0.929244746991931,-0.47497605125261894,0.15404582729617616,-0.5917878555453583,0.3905984525454246,-0.4713030598853919,0.8700933287407903,-0.3415262616728389,-1.6728016113390374,0.2671229944566014,1.7640424596098119,0.07097350671730723,-0.19742298132391986,0.1702612515042837,-1.6394584554670721,-0.30406088152150856,-0.5416069186215873,-0.8513178826391808,-2.290646822512884,1.165929862213416,0.6878892903436499,-0.9795878322314134,0.211058793073966,0.7525561644401494,0.9141292435934405,1.0731670376288232,1.928115539184313,-1.0586469160156335,0.2493133435375463,1.0004543896878182,1.0654255989836823,1.514703842271405,-0.37229630884852305,1.4976291737398033,1.6088231464521767,0.1477979916712005,0.3398750970819321,-0.46002824476166554,-0.5551918306725362,-1.6155560991907183,-1.9556880291233207,0.7295946389464798,1.7254124803382753,1.7148315559047616,-0.10266094978445155,0.941879392537153,-1.8244418332264318,-0.13984057595098215,-1.4001826184089927,-0.6613228720419397,0.35870788958066135,-0.17741833189552075,1.4662471983332244,-1.6385294535708028,0.3379690245178709,0.22867327506198257,-0.21706300077687582,0.8480575702567326,-0.4687634196997417,-1.1569707233646864,-0.20439184269921234,0.6484691681289205,0.8247922039779939,0.7566534076986263,-0.47802065920583475,-0.37539515591956796,-0.19480019887372732,-0.8903694266829668,-1.158895906986244,-0.5966010935224592,-1.5444232357563994,1.1777548236526936,0.7616182066614193,0.5047518552082003],\"yaxis\":\"y3\",\"type\":\"scatter\"},{\"line\":{\"color\":\"rgba(128, 128, 128, 1.0)\",\"dash\":\"solid\",\"shape\":\"linear\",\"width\":1.3},\"marker\":{\"size\":2,\"symbol\":\"circle\"},\"mode\":\"markers\",\"name\":\"A\",\"text\":\"\",\"x\":[0.8646413499069018,-0.2552281674137794,0.26811843883347297,-0.05620719260251065,0.608342730014287,-2.256742050699274,0.20863292342878495,-0.3686736158874111,0.4890915253487885,-0.7660163000766769,-1.0416449917165311,0.4806582458712171,-0.4114702750364706,0.5204670498913053,0.8221428149264973,-0.4492091311960765,0.20711343906592006,1.8614968160790308,0.500780513105085,0.7743038045339257,-0.8737176351867867,0.6039583039825533,0.918443752665162,0.8535050575774797,1.0763748311105066,-0.8419136921837637,0.48160211456198027,0.3478897279703216,0.9685946434483648,-2.083276296418463,0.45149660079847936,0.6619071635166061,1.4181560825234245,0.771324956250657,-0.14530416649451658,0.3976651171123839,0.9097113297509332,1.1847865608699824,-0.6593625759218309,0.6063633800482321,-0.8241662343593859,-0.12772546192840956,0.7148164695124857,-0.24942187496075405,-0.9027445697381894,1.8406892568230273,1.535826820285057,0.5447966621621687,0.9062058717674921,-0.42337476638976546,-0.9625853744750459,0.012321355476298982,0.7820001818025489,1.6668604004234198,-1.1406377909082492,0.01252864120674704,2.4945244557662867,-0.36863232278118596,2.105501475153067,-0.6604465682866272,1.441867694392154,0.21658236094602748,-0.0962298020043322,0.9483220550499809,-0.4763879231568212,0.43088325233755626,-2.7808120528625597,-0.23247531036345054,0.36084335483646746,-1.2089322822921906,-0.24890461011327844,-0.8600402238497193,-0.1537178103039477,-0.8126122194166278,0.06500256700747642,-1.2782007194448137,1.3537224338145164,1.1604141316798053,-0.2441372217689482,0.5410938929946172,-0.8566872529766918,-1.2478278597223393,0.37737044908776896,0.29405781918803214,0.4233528157322542,1.8706118533171237,-0.924684455884149,0.22070722366373066,-2.4586292759209427,-0.22400430312705338,0.25890765257504844,-0.027752998619231247,0.6927331168229386,-0.44531744308082827,0.49316863052720616,1.4475888554971592,-1.326978368217466,-0.6001675855943368,-0.09965240439827666,0.18642732850013347],\"xaxis\":\"x4\",\"y\":[0.7705234898774278,-0.5896478916206093,0.17835405438999646,0.5963611453123362,1.7274565609395005,1.5421780537811438,1.628061239074311,-1.6996003095351457,0.4530517140462203,-0.05010402209357444,-0.6730349573592179,-0.505925008907118,1.5217444998825644,0.7830218517512779,0.2136415311917148,-0.5068968787431705,0.7238227873155504,-1.0524166058242228,0.5914587161087208,-2.148676705320432,-0.7343466366308768,-0.5943623139561683,-1.0583740994274637,0.7201107462148718,0.6603549547370541,0.8696266362093719,0.929244746991931,-0.47497605125261894,0.15404582729617616,-0.5917878555453583,0.3905984525454246,-0.4713030598853919,0.8700933287407903,-0.3415262616728389,-1.6728016113390374,0.2671229944566014,1.7640424596098119,0.07097350671730723,-0.19742298132391986,0.1702612515042837,-1.6394584554670721,-0.30406088152150856,-0.5416069186215873,-0.8513178826391808,-2.290646822512884,1.165929862213416,0.6878892903436499,-0.9795878322314134,0.211058793073966,0.7525561644401494,0.9141292435934405,1.0731670376288232,1.928115539184313,-1.0586469160156335,0.2493133435375463,1.0004543896878182,1.0654255989836823,1.514703842271405,-0.37229630884852305,1.4976291737398033,1.6088231464521767,0.1477979916712005,0.3398750970819321,-0.46002824476166554,-0.5551918306725362,-1.6155560991907183,-1.9556880291233207,0.7295946389464798,1.7254124803382753,1.7148315559047616,-0.10266094978445155,0.941879392537153,-1.8244418332264318,-0.13984057595098215,-1.4001826184089927,-0.6613228720419397,0.35870788958066135,-0.17741833189552075,1.4662471983332244,-1.6385294535708028,0.3379690245178709,0.22867327506198257,-0.21706300077687582,0.8480575702567326,-0.4687634196997417,-1.1569707233646864,-0.20439184269921234,0.6484691681289205,0.8247922039779939,0.7566534076986263,-0.47802065920583475,-0.37539515591956796,-0.19480019887372732,-0.8903694266829668,-1.158895906986244,-0.5966010935224592,-1.5444232357563994,1.1777548236526936,0.7616182066614193,0.5047518552082003],\"yaxis\":\"y4\",\"type\":\"scatter\"},{\"line\":{\"color\":\"rgba(128, 128, 128, 1.0)\",\"dash\":\"solid\",\"shape\":\"linear\",\"width\":1.3},\"marker\":{\"size\":2,\"symbol\":\"circle\"},\"mode\":\"markers\",\"name\":\"B\",\"text\":\"\",\"x\":[0.7705234898774278,-0.5896478916206093,0.17835405438999646,0.5963611453123362,1.7274565609395005,1.5421780537811438,1.628061239074311,-1.6996003095351457,0.4530517140462203,-0.05010402209357444,-0.6730349573592179,-0.505925008907118,1.5217444998825644,0.7830218517512779,0.2136415311917148,-0.5068968787431705,0.7238227873155504,-1.0524166058242228,0.5914587161087208,-2.148676705320432,-0.7343466366308768,-0.5943623139561683,-1.0583740994274637,0.7201107462148718,0.6603549547370541,0.8696266362093719,0.929244746991931,-0.47497605125261894,0.15404582729617616,-0.5917878555453583,0.3905984525454246,-0.4713030598853919,0.8700933287407903,-0.3415262616728389,-1.6728016113390374,0.2671229944566014,1.7640424596098119,0.07097350671730723,-0.19742298132391986,0.1702612515042837,-1.6394584554670721,-0.30406088152150856,-0.5416069186215873,-0.8513178826391808,-2.290646822512884,1.165929862213416,0.6878892903436499,-0.9795878322314134,0.211058793073966,0.7525561644401494,0.9141292435934405,1.0731670376288232,1.928115539184313,-1.0586469160156335,0.2493133435375463,1.0004543896878182,1.0654255989836823,1.514703842271405,-0.37229630884852305,1.4976291737398033,1.6088231464521767,0.1477979916712005,0.3398750970819321,-0.46002824476166554,-0.5551918306725362,-1.6155560991907183,-1.9556880291233207,0.7295946389464798,1.7254124803382753,1.7148315559047616,-0.10266094978445155,0.941879392537153,-1.8244418332264318,-0.13984057595098215,-1.4001826184089927,-0.6613228720419397,0.35870788958066135,-0.17741833189552075,1.4662471983332244,-1.6385294535708028,0.3379690245178709,0.22867327506198257,-0.21706300077687582,0.8480575702567326,-0.4687634196997417,-1.1569707233646864,-0.20439184269921234,0.6484691681289205,0.8247922039779939,0.7566534076986263,-0.47802065920583475,-0.37539515591956796,-0.19480019887372732,-0.8903694266829668,-1.158895906986244,-0.5966010935224592,-1.5444232357563994,1.1777548236526936,0.7616182066614193,0.5047518552082003],\"xaxis\":\"x5\",\"y\":[-1.936991487963092,-0.11569126822480842,-0.9675486848312903,-0.03570748738154921,1.152026157314478,-0.12020911095310927,0.9502929244024161,0.7776727947455804,-0.924013142703625,0.32050791426337977,-1.7597516309042502,-0.4491586351842661,0.290894990735173,-0.9770054854340499,-0.43590308062626865,-1.0944993413852326,-0.4916500092535971,-0.5123894614624396,-0.8467633894763315,-0.826901448085367,-1.4764740605909894,0.11068008983495835,0.28978668069622404,1.0992213648166544,0.7782339040585375,0.5465000218976769,0.3199898087610177,-0.18808464624135388,1.0568366529165245,0.1659244958695554,1.399625046098209,-0.5953007591936754,-0.5206373924693855,0.5801829129702887,0.6832679470816938,1.336260254421983,0.3015855846803247,2.6333464798146022,1.0731127971508758,1.7754932668329395,-2.0385225989590827,0.700761045294904,-0.20299627576017767,-0.020437457335589805,-0.4288836539011838,-0.13226991819424455,0.08764900440910976,-0.674794617002996,0.54043210088352,-0.4860642591960618,0.01366339696631474,1.3753034053891933,0.9162504634564674,-0.32492474812705857,-0.8736821112850072,-0.9934167604855684,-0.34446953444598993,-0.5349924240902536,-0.17457797518128212,-0.6100819152367105,-0.8044402168629541,-1.3249140922986007,-0.4794668006590733,-0.23943261051912887,0.8509726207184295,-0.06513782081526151,0.46049993220238744,1.3352421073022125,-1.870558997580458,0.5559619107977536,0.20130397456112806,0.6883136283856667,0.9348624859768491,0.7897466383010999,-0.11616726146529319,-0.6054411993072186,0.10644067632075262,-0.4346088114743291,-0.12828473246656533,-0.9665313520782338,1.151325789207208,2.201941374624922,-0.19188876859711448,-1.4442447516855943,-2.4301440173709588,0.46959226759189954,-0.27329631691061235,-0.01905773855042531,-0.8807242909845279,0.31128548580138216,-0.4314795761239597,0.26737467979074336,-0.44413081879029187,0.9075101453753525,-0.5403558802549625,0.4024911278983956,-0.08641759945373886,0.12791519183490496,-0.7033907085796087,-0.7884005843835954],\"yaxis\":\"y5\",\"type\":\"scatter\"},{\"histfunc\":\"count\",\"histnorm\":\"\",\"marker\":{\"color\":\"rgba(55, 128, 191, 1.0)\",\"line\":{\"color\":\"#4D5663\",\"width\":1.3}},\"name\":\"B\",\"nbinsx\":10,\"opacity\":0.8,\"orientation\":\"v\",\"x\":[-1.936991487963092,-0.11569126822480842,-0.9675486848312903,-0.03570748738154921,1.152026157314478,-0.12020911095310927,0.9502929244024161,0.7776727947455804,-0.924013142703625,0.32050791426337977,-1.7597516309042502,-0.4491586351842661,0.290894990735173,-0.9770054854340499,-0.43590308062626865,-1.0944993413852326,-0.4916500092535971,-0.5123894614624396,-0.8467633894763315,-0.826901448085367,-1.4764740605909894,0.11068008983495835,0.28978668069622404,1.0992213648166544,0.7782339040585375,0.5465000218976769,0.3199898087610177,-0.18808464624135388,1.0568366529165245,0.1659244958695554,1.399625046098209,-0.5953007591936754,-0.5206373924693855,0.5801829129702887,0.6832679470816938,1.336260254421983,0.3015855846803247,2.6333464798146022,1.0731127971508758,1.7754932668329395,-2.0385225989590827,0.700761045294904,-0.20299627576017767,-0.020437457335589805,-0.4288836539011838,-0.13226991819424455,0.08764900440910976,-0.674794617002996,0.54043210088352,-0.4860642591960618,0.01366339696631474,1.3753034053891933,0.9162504634564674,-0.32492474812705857,-0.8736821112850072,-0.9934167604855684,-0.34446953444598993,-0.5349924240902536,-0.17457797518128212,-0.6100819152367105,-0.8044402168629541,-1.3249140922986007,-0.4794668006590733,-0.23943261051912887,0.8509726207184295,-0.06513782081526151,0.46049993220238744,1.3352421073022125,-1.870558997580458,0.5559619107977536,0.20130397456112806,0.6883136283856667,0.9348624859768491,0.7897466383010999,-0.11616726146529319,-0.6054411993072186,0.10644067632075262,-0.4346088114743291,-0.12828473246656533,-0.9665313520782338,1.151325789207208,2.201941374624922,-0.19188876859711448,-1.4442447516855943,-2.4301440173709588,0.46959226759189954,-0.27329631691061235,-0.01905773855042531,-0.8807242909845279,0.31128548580138216,-0.4314795761239597,0.26737467979074336,-0.44413081879029187,0.9075101453753525,-0.5403558802549625,0.4024911278983956,-0.08641759945373886,0.12791519183490496,-0.7033907085796087,-0.7884005843835954],\"xaxis\":\"x6\",\"yaxis\":\"y6\",\"type\":\"histogram\"},{\"line\":{\"color\":\"rgba(128, 128, 128, 1.0)\",\"dash\":\"solid\",\"shape\":\"linear\",\"width\":1.3},\"marker\":{\"size\":2,\"symbol\":\"circle\"},\"mode\":\"markers\",\"name\":\"B\",\"text\":\"\",\"x\":[-1.0530784046234432,-0.5998828525246954,0.6823394736694053,0.39154844138397654,-1.4777559005196188,-0.17957819724080418,-0.49546806226955015,-0.03417677960283049,1.0347613869510441,1.0799609381259707,0.7451801785572333,0.9730888944898628,-1.3019376377797687,-1.9657915547564373,-0.870066654359202,2.2559773726913344,0.2885706276295685,-1.6910049820803512,1.357552776496664,1.0029552839044396,-0.21693148932201317,-0.8841730419634529,-0.8113318199507564,-1.3632044957069864,1.1737063458025767,0.17893747159057952,-0.29813181713258186,-0.5763832771031352,0.9242110949417373,-0.5079370686565353,0.2933808766969281,-2.1679992137214095,0.6217215884139936,-1.021758639966795,-0.2560773812211148,1.0595458843720178,-1.518219887885119,0.6816340473089165,0.10731128180675693,-1.1475973355287767,-0.10385105387906973,-1.2684312877153545,1.719844550237913,-0.7581785004384675,0.3841485671271159,1.5469529582376156,1.3272051983404904,-0.7626176485414343,-0.5574002558924317,-0.6226398165697349,-0.529344110988253,0.5776480272337935,0.23965864418308097,0.23123888115013844,-0.7677448090071148,-0.9405940135946458,0.644477074950686,0.27835432726066134,0.05122390242802615,-0.09429130631244215,0.08989403240645649,2.281992722311357,-1.792734526780254,-1.600479070121444,-0.15547847759276393,0.13773518964345685,-1.3715213636621988,0.4610607419023082,2.5757296527396014,-0.9889934472264842,0.9744658553018318,1.2796847790946488,-0.09856461240780492,-0.026284734994786108,0.09559567063454737,0.42256261579730414,0.10452615902512712,1.7483881135714812,-0.5972683954527638,-0.5199775463225929,0.3237357914953983,-0.784322091622033,-0.441690957377831,3.0632314470891338,-1.7079099270243534,-1.883849760005292,-0.676239956124565,-0.3051619621600872,-0.9980426186136298,0.608160336738181,-0.7834567597292276,-0.37191194476714395,0.6413319899545503,0.9373011439114821,-1.287901342341771,-1.472193760695295,0.3411666985779841,-0.9944489415680196,1.6965643906356584,1.2704513652712195],\"xaxis\":\"x7\",\"y\":[-1.936991487963092,-0.11569126822480842,-0.9675486848312903,-0.03570748738154921,1.152026157314478,-0.12020911095310927,0.9502929244024161,0.7776727947455804,-0.924013142703625,0.32050791426337977,-1.7597516309042502,-0.4491586351842661,0.290894990735173,-0.9770054854340499,-0.43590308062626865,-1.0944993413852326,-0.4916500092535971,-0.5123894614624396,-0.8467633894763315,-0.826901448085367,-1.4764740605909894,0.11068008983495835,0.28978668069622404,1.0992213648166544,0.7782339040585375,0.5465000218976769,0.3199898087610177,-0.18808464624135388,1.0568366529165245,0.1659244958695554,1.399625046098209,-0.5953007591936754,-0.5206373924693855,0.5801829129702887,0.6832679470816938,1.336260254421983,0.3015855846803247,2.6333464798146022,1.0731127971508758,1.7754932668329395,-2.0385225989590827,0.700761045294904,-0.20299627576017767,-0.020437457335589805,-0.4288836539011838,-0.13226991819424455,0.08764900440910976,-0.674794617002996,0.54043210088352,-0.4860642591960618,0.01366339696631474,1.3753034053891933,0.9162504634564674,-0.32492474812705857,-0.8736821112850072,-0.9934167604855684,-0.34446953444598993,-0.5349924240902536,-0.17457797518128212,-0.6100819152367105,-0.8044402168629541,-1.3249140922986007,-0.4794668006590733,-0.23943261051912887,0.8509726207184295,-0.06513782081526151,0.46049993220238744,1.3352421073022125,-1.870558997580458,0.5559619107977536,0.20130397456112806,0.6883136283856667,0.9348624859768491,0.7897466383010999,-0.11616726146529319,-0.6054411993072186,0.10644067632075262,-0.4346088114743291,-0.12828473246656533,-0.9665313520782338,1.151325789207208,2.201941374624922,-0.19188876859711448,-1.4442447516855943,-2.4301440173709588,0.46959226759189954,-0.27329631691061235,-0.01905773855042531,-0.8807242909845279,0.31128548580138216,-0.4314795761239597,0.26737467979074336,-0.44413081879029187,0.9075101453753525,-0.5403558802549625,0.4024911278983956,-0.08641759945373886,0.12791519183490496,-0.7033907085796087,-0.7884005843835954],\"yaxis\":\"y7\",\"type\":\"scatter\"},{\"line\":{\"color\":\"rgba(128, 128, 128, 1.0)\",\"dash\":\"solid\",\"shape\":\"linear\",\"width\":1.3},\"marker\":{\"size\":2,\"symbol\":\"circle\"},\"mode\":\"markers\",\"name\":\"B\",\"text\":\"\",\"x\":[0.8646413499069018,-0.2552281674137794,0.26811843883347297,-0.05620719260251065,0.608342730014287,-2.256742050699274,0.20863292342878495,-0.3686736158874111,0.4890915253487885,-0.7660163000766769,-1.0416449917165311,0.4806582458712171,-0.4114702750364706,0.5204670498913053,0.8221428149264973,-0.4492091311960765,0.20711343906592006,1.8614968160790308,0.500780513105085,0.7743038045339257,-0.8737176351867867,0.6039583039825533,0.918443752665162,0.8535050575774797,1.0763748311105066,-0.8419136921837637,0.48160211456198027,0.3478897279703216,0.9685946434483648,-2.083276296418463,0.45149660079847936,0.6619071635166061,1.4181560825234245,0.771324956250657,-0.14530416649451658,0.3976651171123839,0.9097113297509332,1.1847865608699824,-0.6593625759218309,0.6063633800482321,-0.8241662343593859,-0.12772546192840956,0.7148164695124857,-0.24942187496075405,-0.9027445697381894,1.8406892568230273,1.535826820285057,0.5447966621621687,0.9062058717674921,-0.42337476638976546,-0.9625853744750459,0.012321355476298982,0.7820001818025489,1.6668604004234198,-1.1406377909082492,0.01252864120674704,2.4945244557662867,-0.36863232278118596,2.105501475153067,-0.6604465682866272,1.441867694392154,0.21658236094602748,-0.0962298020043322,0.9483220550499809,-0.4763879231568212,0.43088325233755626,-2.7808120528625597,-0.23247531036345054,0.36084335483646746,-1.2089322822921906,-0.24890461011327844,-0.8600402238497193,-0.1537178103039477,-0.8126122194166278,0.06500256700747642,-1.2782007194448137,1.3537224338145164,1.1604141316798053,-0.2441372217689482,0.5410938929946172,-0.8566872529766918,-1.2478278597223393,0.37737044908776896,0.29405781918803214,0.4233528157322542,1.8706118533171237,-0.924684455884149,0.22070722366373066,-2.4586292759209427,-0.22400430312705338,0.25890765257504844,-0.027752998619231247,0.6927331168229386,-0.44531744308082827,0.49316863052720616,1.4475888554971592,-1.326978368217466,-0.6001675855943368,-0.09965240439827666,0.18642732850013347],\"xaxis\":\"x8\",\"y\":[-1.936991487963092,-0.11569126822480842,-0.9675486848312903,-0.03570748738154921,1.152026157314478,-0.12020911095310927,0.9502929244024161,0.7776727947455804,-0.924013142703625,0.32050791426337977,-1.7597516309042502,-0.4491586351842661,0.290894990735173,-0.9770054854340499,-0.43590308062626865,-1.0944993413852326,-0.4916500092535971,-0.5123894614624396,-0.8467633894763315,-0.826901448085367,-1.4764740605909894,0.11068008983495835,0.28978668069622404,1.0992213648166544,0.7782339040585375,0.5465000218976769,0.3199898087610177,-0.18808464624135388,1.0568366529165245,0.1659244958695554,1.399625046098209,-0.5953007591936754,-0.5206373924693855,0.5801829129702887,0.6832679470816938,1.336260254421983,0.3015855846803247,2.6333464798146022,1.0731127971508758,1.7754932668329395,-2.0385225989590827,0.700761045294904,-0.20299627576017767,-0.020437457335589805,-0.4288836539011838,-0.13226991819424455,0.08764900440910976,-0.674794617002996,0.54043210088352,-0.4860642591960618,0.01366339696631474,1.3753034053891933,0.9162504634564674,-0.32492474812705857,-0.8736821112850072,-0.9934167604855684,-0.34446953444598993,-0.5349924240902536,-0.17457797518128212,-0.6100819152367105,-0.8044402168629541,-1.3249140922986007,-0.4794668006590733,-0.23943261051912887,0.8509726207184295,-0.06513782081526151,0.46049993220238744,1.3352421073022125,-1.870558997580458,0.5559619107977536,0.20130397456112806,0.6883136283856667,0.9348624859768491,0.7897466383010999,-0.11616726146529319,-0.6054411993072186,0.10644067632075262,-0.4346088114743291,-0.12828473246656533,-0.9665313520782338,1.151325789207208,2.201941374624922,-0.19188876859711448,-1.4442447516855943,-2.4301440173709588,0.46959226759189954,-0.27329631691061235,-0.01905773855042531,-0.8807242909845279,0.31128548580138216,-0.4314795761239597,0.26737467979074336,-0.44413081879029187,0.9075101453753525,-0.5403558802549625,0.4024911278983956,-0.08641759945373886,0.12791519183490496,-0.7033907085796087,-0.7884005843835954],\"yaxis\":\"y8\",\"type\":\"scatter\"},{\"line\":{\"color\":\"rgba(128, 128, 128, 1.0)\",\"dash\":\"solid\",\"shape\":\"linear\",\"width\":1.3},\"marker\":{\"size\":2,\"symbol\":\"circle\"},\"mode\":\"markers\",\"name\":\"C\",\"text\":\"\",\"x\":[0.7705234898774278,-0.5896478916206093,0.17835405438999646,0.5963611453123362,1.7274565609395005,1.5421780537811438,1.628061239074311,-1.6996003095351457,0.4530517140462203,-0.05010402209357444,-0.6730349573592179,-0.505925008907118,1.5217444998825644,0.7830218517512779,0.2136415311917148,-0.5068968787431705,0.7238227873155504,-1.0524166058242228,0.5914587161087208,-2.148676705320432,-0.7343466366308768,-0.5943623139561683,-1.0583740994274637,0.7201107462148718,0.6603549547370541,0.8696266362093719,0.929244746991931,-0.47497605125261894,0.15404582729617616,-0.5917878555453583,0.3905984525454246,-0.4713030598853919,0.8700933287407903,-0.3415262616728389,-1.6728016113390374,0.2671229944566014,1.7640424596098119,0.07097350671730723,-0.19742298132391986,0.1702612515042837,-1.6394584554670721,-0.30406088152150856,-0.5416069186215873,-0.8513178826391808,-2.290646822512884,1.165929862213416,0.6878892903436499,-0.9795878322314134,0.211058793073966,0.7525561644401494,0.9141292435934405,1.0731670376288232,1.928115539184313,-1.0586469160156335,0.2493133435375463,1.0004543896878182,1.0654255989836823,1.514703842271405,-0.37229630884852305,1.4976291737398033,1.6088231464521767,0.1477979916712005,0.3398750970819321,-0.46002824476166554,-0.5551918306725362,-1.6155560991907183,-1.9556880291233207,0.7295946389464798,1.7254124803382753,1.7148315559047616,-0.10266094978445155,0.941879392537153,-1.8244418332264318,-0.13984057595098215,-1.4001826184089927,-0.6613228720419397,0.35870788958066135,-0.17741833189552075,1.4662471983332244,-1.6385294535708028,0.3379690245178709,0.22867327506198257,-0.21706300077687582,0.8480575702567326,-0.4687634196997417,-1.1569707233646864,-0.20439184269921234,0.6484691681289205,0.8247922039779939,0.7566534076986263,-0.47802065920583475,-0.37539515591956796,-0.19480019887372732,-0.8903694266829668,-1.158895906986244,-0.5966010935224592,-1.5444232357563994,1.1777548236526936,0.7616182066614193,0.5047518552082003],\"xaxis\":\"x9\",\"y\":[-1.0530784046234432,-0.5998828525246954,0.6823394736694053,0.39154844138397654,-1.4777559005196188,-0.17957819724080418,-0.49546806226955015,-0.03417677960283049,1.0347613869510441,1.0799609381259707,0.7451801785572333,0.9730888944898628,-1.3019376377797687,-1.9657915547564373,-0.870066654359202,2.2559773726913344,0.2885706276295685,-1.6910049820803512,1.357552776496664,1.0029552839044396,-0.21693148932201317,-0.8841730419634529,-0.8113318199507564,-1.3632044957069864,1.1737063458025767,0.17893747159057952,-0.29813181713258186,-0.5763832771031352,0.9242110949417373,-0.5079370686565353,0.2933808766969281,-2.1679992137214095,0.6217215884139936,-1.021758639966795,-0.2560773812211148,1.0595458843720178,-1.518219887885119,0.6816340473089165,0.10731128180675693,-1.1475973355287767,-0.10385105387906973,-1.2684312877153545,1.719844550237913,-0.7581785004384675,0.3841485671271159,1.5469529582376156,1.3272051983404904,-0.7626176485414343,-0.5574002558924317,-0.6226398165697349,-0.529344110988253,0.5776480272337935,0.23965864418308097,0.23123888115013844,-0.7677448090071148,-0.9405940135946458,0.644477074950686,0.27835432726066134,0.05122390242802615,-0.09429130631244215,0.08989403240645649,2.281992722311357,-1.792734526780254,-1.600479070121444,-0.15547847759276393,0.13773518964345685,-1.3715213636621988,0.4610607419023082,2.5757296527396014,-0.9889934472264842,0.9744658553018318,1.2796847790946488,-0.09856461240780492,-0.026284734994786108,0.09559567063454737,0.42256261579730414,0.10452615902512712,1.7483881135714812,-0.5972683954527638,-0.5199775463225929,0.3237357914953983,-0.784322091622033,-0.441690957377831,3.0632314470891338,-1.7079099270243534,-1.883849760005292,-0.676239956124565,-0.3051619621600872,-0.9980426186136298,0.608160336738181,-0.7834567597292276,-0.37191194476714395,0.6413319899545503,0.9373011439114821,-1.287901342341771,-1.472193760695295,0.3411666985779841,-0.9944489415680196,1.6965643906356584,1.2704513652712195],\"yaxis\":\"y9\",\"type\":\"scatter\"},{\"line\":{\"color\":\"rgba(128, 128, 128, 1.0)\",\"dash\":\"solid\",\"shape\":\"linear\",\"width\":1.3},\"marker\":{\"size\":2,\"symbol\":\"circle\"},\"mode\":\"markers\",\"name\":\"C\",\"text\":\"\",\"x\":[-1.936991487963092,-0.11569126822480842,-0.9675486848312903,-0.03570748738154921,1.152026157314478,-0.12020911095310927,0.9502929244024161,0.7776727947455804,-0.924013142703625,0.32050791426337977,-1.7597516309042502,-0.4491586351842661,0.290894990735173,-0.9770054854340499,-0.43590308062626865,-1.0944993413852326,-0.4916500092535971,-0.5123894614624396,-0.8467633894763315,-0.826901448085367,-1.4764740605909894,0.11068008983495835,0.28978668069622404,1.0992213648166544,0.7782339040585375,0.5465000218976769,0.3199898087610177,-0.18808464624135388,1.0568366529165245,0.1659244958695554,1.399625046098209,-0.5953007591936754,-0.5206373924693855,0.5801829129702887,0.6832679470816938,1.336260254421983,0.3015855846803247,2.6333464798146022,1.0731127971508758,1.7754932668329395,-2.0385225989590827,0.700761045294904,-0.20299627576017767,-0.020437457335589805,-0.4288836539011838,-0.13226991819424455,0.08764900440910976,-0.674794617002996,0.54043210088352,-0.4860642591960618,0.01366339696631474,1.3753034053891933,0.9162504634564674,-0.32492474812705857,-0.8736821112850072,-0.9934167604855684,-0.34446953444598993,-0.5349924240902536,-0.17457797518128212,-0.6100819152367105,-0.8044402168629541,-1.3249140922986007,-0.4794668006590733,-0.23943261051912887,0.8509726207184295,-0.06513782081526151,0.46049993220238744,1.3352421073022125,-1.870558997580458,0.5559619107977536,0.20130397456112806,0.6883136283856667,0.9348624859768491,0.7897466383010999,-0.11616726146529319,-0.6054411993072186,0.10644067632075262,-0.4346088114743291,-0.12828473246656533,-0.9665313520782338,1.151325789207208,2.201941374624922,-0.19188876859711448,-1.4442447516855943,-2.4301440173709588,0.46959226759189954,-0.27329631691061235,-0.01905773855042531,-0.8807242909845279,0.31128548580138216,-0.4314795761239597,0.26737467979074336,-0.44413081879029187,0.9075101453753525,-0.5403558802549625,0.4024911278983956,-0.08641759945373886,0.12791519183490496,-0.7033907085796087,-0.7884005843835954],\"xaxis\":\"x10\",\"y\":[-1.0530784046234432,-0.5998828525246954,0.6823394736694053,0.39154844138397654,-1.4777559005196188,-0.17957819724080418,-0.49546806226955015,-0.03417677960283049,1.0347613869510441,1.0799609381259707,0.7451801785572333,0.9730888944898628,-1.3019376377797687,-1.9657915547564373,-0.870066654359202,2.2559773726913344,0.2885706276295685,-1.6910049820803512,1.357552776496664,1.0029552839044396,-0.21693148932201317,-0.8841730419634529,-0.8113318199507564,-1.3632044957069864,1.1737063458025767,0.17893747159057952,-0.29813181713258186,-0.5763832771031352,0.9242110949417373,-0.5079370686565353,0.2933808766969281,-2.1679992137214095,0.6217215884139936,-1.021758639966795,-0.2560773812211148,1.0595458843720178,-1.518219887885119,0.6816340473089165,0.10731128180675693,-1.1475973355287767,-0.10385105387906973,-1.2684312877153545,1.719844550237913,-0.7581785004384675,0.3841485671271159,1.5469529582376156,1.3272051983404904,-0.7626176485414343,-0.5574002558924317,-0.6226398165697349,-0.529344110988253,0.5776480272337935,0.23965864418308097,0.23123888115013844,-0.7677448090071148,-0.9405940135946458,0.644477074950686,0.27835432726066134,0.05122390242802615,-0.09429130631244215,0.08989403240645649,2.281992722311357,-1.792734526780254,-1.600479070121444,-0.15547847759276393,0.13773518964345685,-1.3715213636621988,0.4610607419023082,2.5757296527396014,-0.9889934472264842,0.9744658553018318,1.2796847790946488,-0.09856461240780492,-0.026284734994786108,0.09559567063454737,0.42256261579730414,0.10452615902512712,1.7483881135714812,-0.5972683954527638,-0.5199775463225929,0.3237357914953983,-0.784322091622033,-0.441690957377831,3.0632314470891338,-1.7079099270243534,-1.883849760005292,-0.676239956124565,-0.3051619621600872,-0.9980426186136298,0.608160336738181,-0.7834567597292276,-0.37191194476714395,0.6413319899545503,0.9373011439114821,-1.287901342341771,-1.472193760695295,0.3411666985779841,-0.9944489415680196,1.6965643906356584,1.2704513652712195],\"yaxis\":\"y10\",\"type\":\"scatter\"},{\"histfunc\":\"count\",\"histnorm\":\"\",\"marker\":{\"color\":\"rgba(50, 171, 96, 1.0)\",\"line\":{\"color\":\"#4D5663\",\"width\":1.3}},\"name\":\"C\",\"nbinsx\":10,\"opacity\":0.8,\"orientation\":\"v\",\"x\":[-1.0530784046234432,-0.5998828525246954,0.6823394736694053,0.39154844138397654,-1.4777559005196188,-0.17957819724080418,-0.49546806226955015,-0.03417677960283049,1.0347613869510441,1.0799609381259707,0.7451801785572333,0.9730888944898628,-1.3019376377797687,-1.9657915547564373,-0.870066654359202,2.2559773726913344,0.2885706276295685,-1.6910049820803512,1.357552776496664,1.0029552839044396,-0.21693148932201317,-0.8841730419634529,-0.8113318199507564,-1.3632044957069864,1.1737063458025767,0.17893747159057952,-0.29813181713258186,-0.5763832771031352,0.9242110949417373,-0.5079370686565353,0.2933808766969281,-2.1679992137214095,0.6217215884139936,-1.021758639966795,-0.2560773812211148,1.0595458843720178,-1.518219887885119,0.6816340473089165,0.10731128180675693,-1.1475973355287767,-0.10385105387906973,-1.2684312877153545,1.719844550237913,-0.7581785004384675,0.3841485671271159,1.5469529582376156,1.3272051983404904,-0.7626176485414343,-0.5574002558924317,-0.6226398165697349,-0.529344110988253,0.5776480272337935,0.23965864418308097,0.23123888115013844,-0.7677448090071148,-0.9405940135946458,0.644477074950686,0.27835432726066134,0.05122390242802615,-0.09429130631244215,0.08989403240645649,2.281992722311357,-1.792734526780254,-1.600479070121444,-0.15547847759276393,0.13773518964345685,-1.3715213636621988,0.4610607419023082,2.5757296527396014,-0.9889934472264842,0.9744658553018318,1.2796847790946488,-0.09856461240780492,-0.026284734994786108,0.09559567063454737,0.42256261579730414,0.10452615902512712,1.7483881135714812,-0.5972683954527638,-0.5199775463225929,0.3237357914953983,-0.784322091622033,-0.441690957377831,3.0632314470891338,-1.7079099270243534,-1.883849760005292,-0.676239956124565,-0.3051619621600872,-0.9980426186136298,0.608160336738181,-0.7834567597292276,-0.37191194476714395,0.6413319899545503,0.9373011439114821,-1.287901342341771,-1.472193760695295,0.3411666985779841,-0.9944489415680196,1.6965643906356584,1.2704513652712195],\"xaxis\":\"x11\",\"yaxis\":\"y11\",\"type\":\"histogram\"},{\"line\":{\"color\":\"rgba(128, 128, 128, 1.0)\",\"dash\":\"solid\",\"shape\":\"linear\",\"width\":1.3},\"marker\":{\"size\":2,\"symbol\":\"circle\"},\"mode\":\"markers\",\"name\":\"C\",\"text\":\"\",\"x\":[0.8646413499069018,-0.2552281674137794,0.26811843883347297,-0.05620719260251065,0.608342730014287,-2.256742050699274,0.20863292342878495,-0.3686736158874111,0.4890915253487885,-0.7660163000766769,-1.0416449917165311,0.4806582458712171,-0.4114702750364706,0.5204670498913053,0.8221428149264973,-0.4492091311960765,0.20711343906592006,1.8614968160790308,0.500780513105085,0.7743038045339257,-0.8737176351867867,0.6039583039825533,0.918443752665162,0.8535050575774797,1.0763748311105066,-0.8419136921837637,0.48160211456198027,0.3478897279703216,0.9685946434483648,-2.083276296418463,0.45149660079847936,0.6619071635166061,1.4181560825234245,0.771324956250657,-0.14530416649451658,0.3976651171123839,0.9097113297509332,1.1847865608699824,-0.6593625759218309,0.6063633800482321,-0.8241662343593859,-0.12772546192840956,0.7148164695124857,-0.24942187496075405,-0.9027445697381894,1.8406892568230273,1.535826820285057,0.5447966621621687,0.9062058717674921,-0.42337476638976546,-0.9625853744750459,0.012321355476298982,0.7820001818025489,1.6668604004234198,-1.1406377909082492,0.01252864120674704,2.4945244557662867,-0.36863232278118596,2.105501475153067,-0.6604465682866272,1.441867694392154,0.21658236094602748,-0.0962298020043322,0.9483220550499809,-0.4763879231568212,0.43088325233755626,-2.7808120528625597,-0.23247531036345054,0.36084335483646746,-1.2089322822921906,-0.24890461011327844,-0.8600402238497193,-0.1537178103039477,-0.8126122194166278,0.06500256700747642,-1.2782007194448137,1.3537224338145164,1.1604141316798053,-0.2441372217689482,0.5410938929946172,-0.8566872529766918,-1.2478278597223393,0.37737044908776896,0.29405781918803214,0.4233528157322542,1.8706118533171237,-0.924684455884149,0.22070722366373066,-2.4586292759209427,-0.22400430312705338,0.25890765257504844,-0.027752998619231247,0.6927331168229386,-0.44531744308082827,0.49316863052720616,1.4475888554971592,-1.326978368217466,-0.6001675855943368,-0.09965240439827666,0.18642732850013347],\"xaxis\":\"x12\",\"y\":[-1.0530784046234432,-0.5998828525246954,0.6823394736694053,0.39154844138397654,-1.4777559005196188,-0.17957819724080418,-0.49546806226955015,-0.03417677960283049,1.0347613869510441,1.0799609381259707,0.7451801785572333,0.9730888944898628,-1.3019376377797687,-1.9657915547564373,-0.870066654359202,2.2559773726913344,0.2885706276295685,-1.6910049820803512,1.357552776496664,1.0029552839044396,-0.21693148932201317,-0.8841730419634529,-0.8113318199507564,-1.3632044957069864,1.1737063458025767,0.17893747159057952,-0.29813181713258186,-0.5763832771031352,0.9242110949417373,-0.5079370686565353,0.2933808766969281,-2.1679992137214095,0.6217215884139936,-1.021758639966795,-0.2560773812211148,1.0595458843720178,-1.518219887885119,0.6816340473089165,0.10731128180675693,-1.1475973355287767,-0.10385105387906973,-1.2684312877153545,1.719844550237913,-0.7581785004384675,0.3841485671271159,1.5469529582376156,1.3272051983404904,-0.7626176485414343,-0.5574002558924317,-0.6226398165697349,-0.529344110988253,0.5776480272337935,0.23965864418308097,0.23123888115013844,-0.7677448090071148,-0.9405940135946458,0.644477074950686,0.27835432726066134,0.05122390242802615,-0.09429130631244215,0.08989403240645649,2.281992722311357,-1.792734526780254,-1.600479070121444,-0.15547847759276393,0.13773518964345685,-1.3715213636621988,0.4610607419023082,2.5757296527396014,-0.9889934472264842,0.9744658553018318,1.2796847790946488,-0.09856461240780492,-0.026284734994786108,0.09559567063454737,0.42256261579730414,0.10452615902512712,1.7483881135714812,-0.5972683954527638,-0.5199775463225929,0.3237357914953983,-0.784322091622033,-0.441690957377831,3.0632314470891338,-1.7079099270243534,-1.883849760005292,-0.676239956124565,-0.3051619621600872,-0.9980426186136298,0.608160336738181,-0.7834567597292276,-0.37191194476714395,0.6413319899545503,0.9373011439114821,-1.287901342341771,-1.472193760695295,0.3411666985779841,-0.9944489415680196,1.6965643906356584,1.2704513652712195],\"yaxis\":\"y12\",\"type\":\"scatter\"},{\"line\":{\"color\":\"rgba(128, 128, 128, 1.0)\",\"dash\":\"solid\",\"shape\":\"linear\",\"width\":1.3},\"marker\":{\"size\":2,\"symbol\":\"circle\"},\"mode\":\"markers\",\"name\":\"D\",\"text\":\"\",\"x\":[0.7705234898774278,-0.5896478916206093,0.17835405438999646,0.5963611453123362,1.7274565609395005,1.5421780537811438,1.628061239074311,-1.6996003095351457,0.4530517140462203,-0.05010402209357444,-0.6730349573592179,-0.505925008907118,1.5217444998825644,0.7830218517512779,0.2136415311917148,-0.5068968787431705,0.7238227873155504,-1.0524166058242228,0.5914587161087208,-2.148676705320432,-0.7343466366308768,-0.5943623139561683,-1.0583740994274637,0.7201107462148718,0.6603549547370541,0.8696266362093719,0.929244746991931,-0.47497605125261894,0.15404582729617616,-0.5917878555453583,0.3905984525454246,-0.4713030598853919,0.8700933287407903,-0.3415262616728389,-1.6728016113390374,0.2671229944566014,1.7640424596098119,0.07097350671730723,-0.19742298132391986,0.1702612515042837,-1.6394584554670721,-0.30406088152150856,-0.5416069186215873,-0.8513178826391808,-2.290646822512884,1.165929862213416,0.6878892903436499,-0.9795878322314134,0.211058793073966,0.7525561644401494,0.9141292435934405,1.0731670376288232,1.928115539184313,-1.0586469160156335,0.2493133435375463,1.0004543896878182,1.0654255989836823,1.514703842271405,-0.37229630884852305,1.4976291737398033,1.6088231464521767,0.1477979916712005,0.3398750970819321,-0.46002824476166554,-0.5551918306725362,-1.6155560991907183,-1.9556880291233207,0.7295946389464798,1.7254124803382753,1.7148315559047616,-0.10266094978445155,0.941879392537153,-1.8244418332264318,-0.13984057595098215,-1.4001826184089927,-0.6613228720419397,0.35870788958066135,-0.17741833189552075,1.4662471983332244,-1.6385294535708028,0.3379690245178709,0.22867327506198257,-0.21706300077687582,0.8480575702567326,-0.4687634196997417,-1.1569707233646864,-0.20439184269921234,0.6484691681289205,0.8247922039779939,0.7566534076986263,-0.47802065920583475,-0.37539515591956796,-0.19480019887372732,-0.8903694266829668,-1.158895906986244,-0.5966010935224592,-1.5444232357563994,1.1777548236526936,0.7616182066614193,0.5047518552082003],\"xaxis\":\"x13\",\"y\":[0.8646413499069018,-0.2552281674137794,0.26811843883347297,-0.05620719260251065,0.608342730014287,-2.256742050699274,0.20863292342878495,-0.3686736158874111,0.4890915253487885,-0.7660163000766769,-1.0416449917165311,0.4806582458712171,-0.4114702750364706,0.5204670498913053,0.8221428149264973,-0.4492091311960765,0.20711343906592006,1.8614968160790308,0.500780513105085,0.7743038045339257,-0.8737176351867867,0.6039583039825533,0.918443752665162,0.8535050575774797,1.0763748311105066,-0.8419136921837637,0.48160211456198027,0.3478897279703216,0.9685946434483648,-2.083276296418463,0.45149660079847936,0.6619071635166061,1.4181560825234245,0.771324956250657,-0.14530416649451658,0.3976651171123839,0.9097113297509332,1.1847865608699824,-0.6593625759218309,0.6063633800482321,-0.8241662343593859,-0.12772546192840956,0.7148164695124857,-0.24942187496075405,-0.9027445697381894,1.8406892568230273,1.535826820285057,0.5447966621621687,0.9062058717674921,-0.42337476638976546,-0.9625853744750459,0.012321355476298982,0.7820001818025489,1.6668604004234198,-1.1406377909082492,0.01252864120674704,2.4945244557662867,-0.36863232278118596,2.105501475153067,-0.6604465682866272,1.441867694392154,0.21658236094602748,-0.0962298020043322,0.9483220550499809,-0.4763879231568212,0.43088325233755626,-2.7808120528625597,-0.23247531036345054,0.36084335483646746,-1.2089322822921906,-0.24890461011327844,-0.8600402238497193,-0.1537178103039477,-0.8126122194166278,0.06500256700747642,-1.2782007194448137,1.3537224338145164,1.1604141316798053,-0.2441372217689482,0.5410938929946172,-0.8566872529766918,-1.2478278597223393,0.37737044908776896,0.29405781918803214,0.4233528157322542,1.8706118533171237,-0.924684455884149,0.22070722366373066,-2.4586292759209427,-0.22400430312705338,0.25890765257504844,-0.027752998619231247,0.6927331168229386,-0.44531744308082827,0.49316863052720616,1.4475888554971592,-1.326978368217466,-0.6001675855943368,-0.09965240439827666,0.18642732850013347],\"yaxis\":\"y13\",\"type\":\"scatter\"},{\"line\":{\"color\":\"rgba(128, 128, 128, 1.0)\",\"dash\":\"solid\",\"shape\":\"linear\",\"width\":1.3},\"marker\":{\"size\":2,\"symbol\":\"circle\"},\"mode\":\"markers\",\"name\":\"D\",\"text\":\"\",\"x\":[-1.936991487963092,-0.11569126822480842,-0.9675486848312903,-0.03570748738154921,1.152026157314478,-0.12020911095310927,0.9502929244024161,0.7776727947455804,-0.924013142703625,0.32050791426337977,-1.7597516309042502,-0.4491586351842661,0.290894990735173,-0.9770054854340499,-0.43590308062626865,-1.0944993413852326,-0.4916500092535971,-0.5123894614624396,-0.8467633894763315,-0.826901448085367,-1.4764740605909894,0.11068008983495835,0.28978668069622404,1.0992213648166544,0.7782339040585375,0.5465000218976769,0.3199898087610177,-0.18808464624135388,1.0568366529165245,0.1659244958695554,1.399625046098209,-0.5953007591936754,-0.5206373924693855,0.5801829129702887,0.6832679470816938,1.336260254421983,0.3015855846803247,2.6333464798146022,1.0731127971508758,1.7754932668329395,-2.0385225989590827,0.700761045294904,-0.20299627576017767,-0.020437457335589805,-0.4288836539011838,-0.13226991819424455,0.08764900440910976,-0.674794617002996,0.54043210088352,-0.4860642591960618,0.01366339696631474,1.3753034053891933,0.9162504634564674,-0.32492474812705857,-0.8736821112850072,-0.9934167604855684,-0.34446953444598993,-0.5349924240902536,-0.17457797518128212,-0.6100819152367105,-0.8044402168629541,-1.3249140922986007,-0.4794668006590733,-0.23943261051912887,0.8509726207184295,-0.06513782081526151,0.46049993220238744,1.3352421073022125,-1.870558997580458,0.5559619107977536,0.20130397456112806,0.6883136283856667,0.9348624859768491,0.7897466383010999,-0.11616726146529319,-0.6054411993072186,0.10644067632075262,-0.4346088114743291,-0.12828473246656533,-0.9665313520782338,1.151325789207208,2.201941374624922,-0.19188876859711448,-1.4442447516855943,-2.4301440173709588,0.46959226759189954,-0.27329631691061235,-0.01905773855042531,-0.8807242909845279,0.31128548580138216,-0.4314795761239597,0.26737467979074336,-0.44413081879029187,0.9075101453753525,-0.5403558802549625,0.4024911278983956,-0.08641759945373886,0.12791519183490496,-0.7033907085796087,-0.7884005843835954],\"xaxis\":\"x14\",\"y\":[0.8646413499069018,-0.2552281674137794,0.26811843883347297,-0.05620719260251065,0.608342730014287,-2.256742050699274,0.20863292342878495,-0.3686736158874111,0.4890915253487885,-0.7660163000766769,-1.0416449917165311,0.4806582458712171,-0.4114702750364706,0.5204670498913053,0.8221428149264973,-0.4492091311960765,0.20711343906592006,1.8614968160790308,0.500780513105085,0.7743038045339257,-0.8737176351867867,0.6039583039825533,0.918443752665162,0.8535050575774797,1.0763748311105066,-0.8419136921837637,0.48160211456198027,0.3478897279703216,0.9685946434483648,-2.083276296418463,0.45149660079847936,0.6619071635166061,1.4181560825234245,0.771324956250657,-0.14530416649451658,0.3976651171123839,0.9097113297509332,1.1847865608699824,-0.6593625759218309,0.6063633800482321,-0.8241662343593859,-0.12772546192840956,0.7148164695124857,-0.24942187496075405,-0.9027445697381894,1.8406892568230273,1.535826820285057,0.5447966621621687,0.9062058717674921,-0.42337476638976546,-0.9625853744750459,0.012321355476298982,0.7820001818025489,1.6668604004234198,-1.1406377909082492,0.01252864120674704,2.4945244557662867,-0.36863232278118596,2.105501475153067,-0.6604465682866272,1.441867694392154,0.21658236094602748,-0.0962298020043322,0.9483220550499809,-0.4763879231568212,0.43088325233755626,-2.7808120528625597,-0.23247531036345054,0.36084335483646746,-1.2089322822921906,-0.24890461011327844,-0.8600402238497193,-0.1537178103039477,-0.8126122194166278,0.06500256700747642,-1.2782007194448137,1.3537224338145164,1.1604141316798053,-0.2441372217689482,0.5410938929946172,-0.8566872529766918,-1.2478278597223393,0.37737044908776896,0.29405781918803214,0.4233528157322542,1.8706118533171237,-0.924684455884149,0.22070722366373066,-2.4586292759209427,-0.22400430312705338,0.25890765257504844,-0.027752998619231247,0.6927331168229386,-0.44531744308082827,0.49316863052720616,1.4475888554971592,-1.326978368217466,-0.6001675855943368,-0.09965240439827666,0.18642732850013347],\"yaxis\":\"y14\",\"type\":\"scatter\"},{\"line\":{\"color\":\"rgba(128, 128, 128, 1.0)\",\"dash\":\"solid\",\"shape\":\"linear\",\"width\":1.3},\"marker\":{\"size\":2,\"symbol\":\"circle\"},\"mode\":\"markers\",\"name\":\"D\",\"text\":\"\",\"x\":[-1.0530784046234432,-0.5998828525246954,0.6823394736694053,0.39154844138397654,-1.4777559005196188,-0.17957819724080418,-0.49546806226955015,-0.03417677960283049,1.0347613869510441,1.0799609381259707,0.7451801785572333,0.9730888944898628,-1.3019376377797687,-1.9657915547564373,-0.870066654359202,2.2559773726913344,0.2885706276295685,-1.6910049820803512,1.357552776496664,1.0029552839044396,-0.21693148932201317,-0.8841730419634529,-0.8113318199507564,-1.3632044957069864,1.1737063458025767,0.17893747159057952,-0.29813181713258186,-0.5763832771031352,0.9242110949417373,-0.5079370686565353,0.2933808766969281,-2.1679992137214095,0.6217215884139936,-1.021758639966795,-0.2560773812211148,1.0595458843720178,-1.518219887885119,0.6816340473089165,0.10731128180675693,-1.1475973355287767,-0.10385105387906973,-1.2684312877153545,1.719844550237913,-0.7581785004384675,0.3841485671271159,1.5469529582376156,1.3272051983404904,-0.7626176485414343,-0.5574002558924317,-0.6226398165697349,-0.529344110988253,0.5776480272337935,0.23965864418308097,0.23123888115013844,-0.7677448090071148,-0.9405940135946458,0.644477074950686,0.27835432726066134,0.05122390242802615,-0.09429130631244215,0.08989403240645649,2.281992722311357,-1.792734526780254,-1.600479070121444,-0.15547847759276393,0.13773518964345685,-1.3715213636621988,0.4610607419023082,2.5757296527396014,-0.9889934472264842,0.9744658553018318,1.2796847790946488,-0.09856461240780492,-0.026284734994786108,0.09559567063454737,0.42256261579730414,0.10452615902512712,1.7483881135714812,-0.5972683954527638,-0.5199775463225929,0.3237357914953983,-0.784322091622033,-0.441690957377831,3.0632314470891338,-1.7079099270243534,-1.883849760005292,-0.676239956124565,-0.3051619621600872,-0.9980426186136298,0.608160336738181,-0.7834567597292276,-0.37191194476714395,0.6413319899545503,0.9373011439114821,-1.287901342341771,-1.472193760695295,0.3411666985779841,-0.9944489415680196,1.6965643906356584,1.2704513652712195],\"xaxis\":\"x15\",\"y\":[0.8646413499069018,-0.2552281674137794,0.26811843883347297,-0.05620719260251065,0.608342730014287,-2.256742050699274,0.20863292342878495,-0.3686736158874111,0.4890915253487885,-0.7660163000766769,-1.0416449917165311,0.4806582458712171,-0.4114702750364706,0.5204670498913053,0.8221428149264973,-0.4492091311960765,0.20711343906592006,1.8614968160790308,0.500780513105085,0.7743038045339257,-0.8737176351867867,0.6039583039825533,0.918443752665162,0.8535050575774797,1.0763748311105066,-0.8419136921837637,0.48160211456198027,0.3478897279703216,0.9685946434483648,-2.083276296418463,0.45149660079847936,0.6619071635166061,1.4181560825234245,0.771324956250657,-0.14530416649451658,0.3976651171123839,0.9097113297509332,1.1847865608699824,-0.6593625759218309,0.6063633800482321,-0.8241662343593859,-0.12772546192840956,0.7148164695124857,-0.24942187496075405,-0.9027445697381894,1.8406892568230273,1.535826820285057,0.5447966621621687,0.9062058717674921,-0.42337476638976546,-0.9625853744750459,0.012321355476298982,0.7820001818025489,1.6668604004234198,-1.1406377909082492,0.01252864120674704,2.4945244557662867,-0.36863232278118596,2.105501475153067,-0.6604465682866272,1.441867694392154,0.21658236094602748,-0.0962298020043322,0.9483220550499809,-0.4763879231568212,0.43088325233755626,-2.7808120528625597,-0.23247531036345054,0.36084335483646746,-1.2089322822921906,-0.24890461011327844,-0.8600402238497193,-0.1537178103039477,-0.8126122194166278,0.06500256700747642,-1.2782007194448137,1.3537224338145164,1.1604141316798053,-0.2441372217689482,0.5410938929946172,-0.8566872529766918,-1.2478278597223393,0.37737044908776896,0.29405781918803214,0.4233528157322542,1.8706118533171237,-0.924684455884149,0.22070722366373066,-2.4586292759209427,-0.22400430312705338,0.25890765257504844,-0.027752998619231247,0.6927331168229386,-0.44531744308082827,0.49316863052720616,1.4475888554971592,-1.326978368217466,-0.6001675855943368,-0.09965240439827666,0.18642732850013347],\"yaxis\":\"y15\",\"type\":\"scatter\"},{\"histfunc\":\"count\",\"histnorm\":\"\",\"marker\":{\"color\":\"rgba(128, 0, 128, 1.0)\",\"line\":{\"color\":\"#4D5663\",\"width\":1.3}},\"name\":\"D\",\"nbinsx\":10,\"opacity\":0.8,\"orientation\":\"v\",\"x\":[0.8646413499069018,-0.2552281674137794,0.26811843883347297,-0.05620719260251065,0.608342730014287,-2.256742050699274,0.20863292342878495,-0.3686736158874111,0.4890915253487885,-0.7660163000766769,-1.0416449917165311,0.4806582458712171,-0.4114702750364706,0.5204670498913053,0.8221428149264973,-0.4492091311960765,0.20711343906592006,1.8614968160790308,0.500780513105085,0.7743038045339257,-0.8737176351867867,0.6039583039825533,0.918443752665162,0.8535050575774797,1.0763748311105066,-0.8419136921837637,0.48160211456198027,0.3478897279703216,0.9685946434483648,-2.083276296418463,0.45149660079847936,0.6619071635166061,1.4181560825234245,0.771324956250657,-0.14530416649451658,0.3976651171123839,0.9097113297509332,1.1847865608699824,-0.6593625759218309,0.6063633800482321,-0.8241662343593859,-0.12772546192840956,0.7148164695124857,-0.24942187496075405,-0.9027445697381894,1.8406892568230273,1.535826820285057,0.5447966621621687,0.9062058717674921,-0.42337476638976546,-0.9625853744750459,0.012321355476298982,0.7820001818025489,1.6668604004234198,-1.1406377909082492,0.01252864120674704,2.4945244557662867,-0.36863232278118596,2.105501475153067,-0.6604465682866272,1.441867694392154,0.21658236094602748,-0.0962298020043322,0.9483220550499809,-0.4763879231568212,0.43088325233755626,-2.7808120528625597,-0.23247531036345054,0.36084335483646746,-1.2089322822921906,-0.24890461011327844,-0.8600402238497193,-0.1537178103039477,-0.8126122194166278,0.06500256700747642,-1.2782007194448137,1.3537224338145164,1.1604141316798053,-0.2441372217689482,0.5410938929946172,-0.8566872529766918,-1.2478278597223393,0.37737044908776896,0.29405781918803214,0.4233528157322542,1.8706118533171237,-0.924684455884149,0.22070722366373066,-2.4586292759209427,-0.22400430312705338,0.25890765257504844,-0.027752998619231247,0.6927331168229386,-0.44531744308082827,0.49316863052720616,1.4475888554971592,-1.326978368217466,-0.6001675855943368,-0.09965240439827666,0.18642732850013347],\"xaxis\":\"x16\",\"yaxis\":\"y16\",\"type\":\"histogram\"}],                        {\"bargap\":0.02,\"legend\":{\"bgcolor\":\"#F5F6F9\",\"font\":{\"color\":\"#4D5663\"}},\"paper_bgcolor\":\"#F5F6F9\",\"plot_bgcolor\":\"#F5F6F9\",\"showlegend\":false,\"template\":{\"data\":{\"barpolar\":[{\"marker\":{\"line\":{\"color\":\"#E5ECF6\",\"width\":0.5},\"pattern\":{\"fillmode\":\"overlay\",\"size\":10,\"solidity\":0.2}},\"type\":\"barpolar\"}],\"bar\":[{\"error_x\":{\"color\":\"#2a3f5f\"},\"error_y\":{\"color\":\"#2a3f5f\"},\"marker\":{\"line\":{\"color\":\"#E5ECF6\",\"width\":0.5},\"pattern\":{\"fillmode\":\"overlay\",\"size\":10,\"solidity\":0.2}},\"type\":\"bar\"}],\"carpet\":[{\"aaxis\":{\"endlinecolor\":\"#2a3f5f\",\"gridcolor\":\"white\",\"linecolor\":\"white\",\"minorgridcolor\":\"white\",\"startlinecolor\":\"#2a3f5f\"},\"baxis\":{\"endlinecolor\":\"#2a3f5f\",\"gridcolor\":\"white\",\"linecolor\":\"white\",\"minorgridcolor\":\"white\",\"startlinecolor\":\"#2a3f5f\"},\"type\":\"carpet\"}],\"choropleth\":[{\"colorbar\":{\"outlinewidth\":0,\"ticks\":\"\"},\"type\":\"choropleth\"}],\"contourcarpet\":[{\"colorbar\":{\"outlinewidth\":0,\"ticks\":\"\"},\"type\":\"contourcarpet\"}],\"contour\":[{\"colorbar\":{\"outlinewidth\":0,\"ticks\":\"\"},\"colorscale\":[[0.0,\"#0d0887\"],[0.1111111111111111,\"#46039f\"],[0.2222222222222222,\"#7201a8\"],[0.3333333333333333,\"#9c179e\"],[0.4444444444444444,\"#bd3786\"],[0.5555555555555556,\"#d8576b\"],[0.6666666666666666,\"#ed7953\"],[0.7777777777777778,\"#fb9f3a\"],[0.8888888888888888,\"#fdca26\"],[1.0,\"#f0f921\"]],\"type\":\"contour\"}],\"heatmapgl\":[{\"colorbar\":{\"outlinewidth\":0,\"ticks\":\"\"},\"colorscale\":[[0.0,\"#0d0887\"],[0.1111111111111111,\"#46039f\"],[0.2222222222222222,\"#7201a8\"],[0.3333333333333333,\"#9c179e\"],[0.4444444444444444,\"#bd3786\"],[0.5555555555555556,\"#d8576b\"],[0.6666666666666666,\"#ed7953\"],[0.7777777777777778,\"#fb9f3a\"],[0.8888888888888888,\"#fdca26\"],[1.0,\"#f0f921\"]],\"type\":\"heatmapgl\"}],\"heatmap\":[{\"colorbar\":{\"outlinewidth\":0,\"ticks\":\"\"},\"colorscale\":[[0.0,\"#0d0887\"],[0.1111111111111111,\"#46039f\"],[0.2222222222222222,\"#7201a8\"],[0.3333333333333333,\"#9c179e\"],[0.4444444444444444,\"#bd3786\"],[0.5555555555555556,\"#d8576b\"],[0.6666666666666666,\"#ed7953\"],[0.7777777777777778,\"#fb9f3a\"],[0.8888888888888888,\"#fdca26\"],[1.0,\"#f0f921\"]],\"type\":\"heatmap\"}],\"histogram2dcontour\":[{\"colorbar\":{\"outlinewidth\":0,\"ticks\":\"\"},\"colorscale\":[[0.0,\"#0d0887\"],[0.1111111111111111,\"#46039f\"],[0.2222222222222222,\"#7201a8\"],[0.3333333333333333,\"#9c179e\"],[0.4444444444444444,\"#bd3786\"],[0.5555555555555556,\"#d8576b\"],[0.6666666666666666,\"#ed7953\"],[0.7777777777777778,\"#fb9f3a\"],[0.8888888888888888,\"#fdca26\"],[1.0,\"#f0f921\"]],\"type\":\"histogram2dcontour\"}],\"histogram2d\":[{\"colorbar\":{\"outlinewidth\":0,\"ticks\":\"\"},\"colorscale\":[[0.0,\"#0d0887\"],[0.1111111111111111,\"#46039f\"],[0.2222222222222222,\"#7201a8\"],[0.3333333333333333,\"#9c179e\"],[0.4444444444444444,\"#bd3786\"],[0.5555555555555556,\"#d8576b\"],[0.6666666666666666,\"#ed7953\"],[0.7777777777777778,\"#fb9f3a\"],[0.8888888888888888,\"#fdca26\"],[1.0,\"#f0f921\"]],\"type\":\"histogram2d\"}],\"histogram\":[{\"marker\":{\"pattern\":{\"fillmode\":\"overlay\",\"size\":10,\"solidity\":0.2}},\"type\":\"histogram\"}],\"mesh3d\":[{\"colorbar\":{\"outlinewidth\":0,\"ticks\":\"\"},\"type\":\"mesh3d\"}],\"parcoords\":[{\"line\":{\"colorbar\":{\"outlinewidth\":0,\"ticks\":\"\"}},\"type\":\"parcoords\"}],\"pie\":[{\"automargin\":true,\"type\":\"pie\"}],\"scatter3d\":[{\"line\":{\"colorbar\":{\"outlinewidth\":0,\"ticks\":\"\"}},\"marker\":{\"colorbar\":{\"outlinewidth\":0,\"ticks\":\"\"}},\"type\":\"scatter3d\"}],\"scattercarpet\":[{\"marker\":{\"colorbar\":{\"outlinewidth\":0,\"ticks\":\"\"}},\"type\":\"scattercarpet\"}],\"scattergeo\":[{\"marker\":{\"colorbar\":{\"outlinewidth\":0,\"ticks\":\"\"}},\"type\":\"scattergeo\"}],\"scattergl\":[{\"marker\":{\"colorbar\":{\"outlinewidth\":0,\"ticks\":\"\"}},\"type\":\"scattergl\"}],\"scattermapbox\":[{\"marker\":{\"colorbar\":{\"outlinewidth\":0,\"ticks\":\"\"}},\"type\":\"scattermapbox\"}],\"scatterpolargl\":[{\"marker\":{\"colorbar\":{\"outlinewidth\":0,\"ticks\":\"\"}},\"type\":\"scatterpolargl\"}],\"scatterpolar\":[{\"marker\":{\"colorbar\":{\"outlinewidth\":0,\"ticks\":\"\"}},\"type\":\"scatterpolar\"}],\"scatter\":[{\"fillpattern\":{\"fillmode\":\"overlay\",\"size\":10,\"solidity\":0.2},\"type\":\"scatter\"}],\"scatterternary\":[{\"marker\":{\"colorbar\":{\"outlinewidth\":0,\"ticks\":\"\"}},\"type\":\"scatterternary\"}],\"surface\":[{\"colorbar\":{\"outlinewidth\":0,\"ticks\":\"\"},\"colorscale\":[[0.0,\"#0d0887\"],[0.1111111111111111,\"#46039f\"],[0.2222222222222222,\"#7201a8\"],[0.3333333333333333,\"#9c179e\"],[0.4444444444444444,\"#bd3786\"],[0.5555555555555556,\"#d8576b\"],[0.6666666666666666,\"#ed7953\"],[0.7777777777777778,\"#fb9f3a\"],[0.8888888888888888,\"#fdca26\"],[1.0,\"#f0f921\"]],\"type\":\"surface\"}],\"table\":[{\"cells\":{\"fill\":{\"color\":\"#EBF0F8\"},\"line\":{\"color\":\"white\"}},\"header\":{\"fill\":{\"color\":\"#C8D4E3\"},\"line\":{\"color\":\"white\"}},\"type\":\"table\"}]},\"layout\":{\"annotationdefaults\":{\"arrowcolor\":\"#2a3f5f\",\"arrowhead\":0,\"arrowwidth\":1},\"autotypenumbers\":\"strict\",\"coloraxis\":{\"colorbar\":{\"outlinewidth\":0,\"ticks\":\"\"}},\"colorscale\":{\"diverging\":[[0,\"#8e0152\"],[0.1,\"#c51b7d\"],[0.2,\"#de77ae\"],[0.3,\"#f1b6da\"],[0.4,\"#fde0ef\"],[0.5,\"#f7f7f7\"],[0.6,\"#e6f5d0\"],[0.7,\"#b8e186\"],[0.8,\"#7fbc41\"],[0.9,\"#4d9221\"],[1,\"#276419\"]],\"sequential\":[[0.0,\"#0d0887\"],[0.1111111111111111,\"#46039f\"],[0.2222222222222222,\"#7201a8\"],[0.3333333333333333,\"#9c179e\"],[0.4444444444444444,\"#bd3786\"],[0.5555555555555556,\"#d8576b\"],[0.6666666666666666,\"#ed7953\"],[0.7777777777777778,\"#fb9f3a\"],[0.8888888888888888,\"#fdca26\"],[1.0,\"#f0f921\"]],\"sequentialminus\":[[0.0,\"#0d0887\"],[0.1111111111111111,\"#46039f\"],[0.2222222222222222,\"#7201a8\"],[0.3333333333333333,\"#9c179e\"],[0.4444444444444444,\"#bd3786\"],[0.5555555555555556,\"#d8576b\"],[0.6666666666666666,\"#ed7953\"],[0.7777777777777778,\"#fb9f3a\"],[0.8888888888888888,\"#fdca26\"],[1.0,\"#f0f921\"]]},\"colorway\":[\"#636efa\",\"#EF553B\",\"#00cc96\",\"#ab63fa\",\"#FFA15A\",\"#19d3f3\",\"#FF6692\",\"#B6E880\",\"#FF97FF\",\"#FECB52\"],\"font\":{\"color\":\"#2a3f5f\"},\"geo\":{\"bgcolor\":\"white\",\"lakecolor\":\"white\",\"landcolor\":\"#E5ECF6\",\"showlakes\":true,\"showland\":true,\"subunitcolor\":\"white\"},\"hoverlabel\":{\"align\":\"left\"},\"hovermode\":\"closest\",\"mapbox\":{\"style\":\"light\"},\"paper_bgcolor\":\"white\",\"plot_bgcolor\":\"#E5ECF6\",\"polar\":{\"angularaxis\":{\"gridcolor\":\"white\",\"linecolor\":\"white\",\"ticks\":\"\"},\"bgcolor\":\"#E5ECF6\",\"radialaxis\":{\"gridcolor\":\"white\",\"linecolor\":\"white\",\"ticks\":\"\"}},\"scene\":{\"xaxis\":{\"backgroundcolor\":\"#E5ECF6\",\"gridcolor\":\"white\",\"gridwidth\":2,\"linecolor\":\"white\",\"showbackground\":true,\"ticks\":\"\",\"zerolinecolor\":\"white\"},\"yaxis\":{\"backgroundcolor\":\"#E5ECF6\",\"gridcolor\":\"white\",\"gridwidth\":2,\"linecolor\":\"white\",\"showbackground\":true,\"ticks\":\"\",\"zerolinecolor\":\"white\"},\"zaxis\":{\"backgroundcolor\":\"#E5ECF6\",\"gridcolor\":\"white\",\"gridwidth\":2,\"linecolor\":\"white\",\"showbackground\":true,\"ticks\":\"\",\"zerolinecolor\":\"white\"}},\"shapedefaults\":{\"line\":{\"color\":\"#2a3f5f\"}},\"ternary\":{\"aaxis\":{\"gridcolor\":\"white\",\"linecolor\":\"white\",\"ticks\":\"\"},\"baxis\":{\"gridcolor\":\"white\",\"linecolor\":\"white\",\"ticks\":\"\"},\"bgcolor\":\"#E5ECF6\",\"caxis\":{\"gridcolor\":\"white\",\"linecolor\":\"white\",\"ticks\":\"\"}},\"title\":{\"x\":0.05},\"xaxis\":{\"automargin\":true,\"gridcolor\":\"white\",\"linecolor\":\"white\",\"ticks\":\"\",\"title\":{\"standoff\":15},\"zerolinecolor\":\"white\",\"zerolinewidth\":2},\"yaxis\":{\"automargin\":true,\"gridcolor\":\"white\",\"linecolor\":\"white\",\"ticks\":\"\",\"title\":{\"standoff\":15},\"zerolinecolor\":\"white\",\"zerolinewidth\":2}}},\"title\":{\"font\":{\"color\":\"#4D5663\"}},\"xaxis\":{\"anchor\":\"y\",\"domain\":[0.0,0.2125],\"gridcolor\":\"#E1E5ED\",\"showgrid\":false,\"tickfont\":{\"color\":\"#4D5663\"},\"title\":{\"font\":{\"color\":\"#4D5663\"},\"text\":\"\"},\"zerolinecolor\":\"#E1E5ED\"},\"yaxis\":{\"anchor\":\"x\",\"domain\":[0.8025,1.0],\"gridcolor\":\"#E1E5ED\",\"showgrid\":false,\"tickfont\":{\"color\":\"#4D5663\"},\"title\":{\"font\":{\"color\":\"#4D5663\"},\"text\":\"\"},\"zerolinecolor\":\"#E1E5ED\"},\"xaxis2\":{\"anchor\":\"y2\",\"domain\":[0.2625,0.475],\"gridcolor\":\"#E1E5ED\",\"showgrid\":false,\"tickfont\":{\"color\":\"#4D5663\"},\"title\":{\"font\":{\"color\":\"#4D5663\"},\"text\":\"\"},\"zerolinecolor\":\"#E1E5ED\"},\"yaxis2\":{\"anchor\":\"x2\",\"domain\":[0.8025,1.0],\"gridcolor\":\"#E1E5ED\",\"showgrid\":false,\"tickfont\":{\"color\":\"#4D5663\"},\"title\":{\"font\":{\"color\":\"#4D5663\"},\"text\":\"\"},\"zerolinecolor\":\"#E1E5ED\"},\"xaxis3\":{\"anchor\":\"y3\",\"domain\":[0.525,0.7375],\"gridcolor\":\"#E1E5ED\",\"showgrid\":false,\"tickfont\":{\"color\":\"#4D5663\"},\"title\":{\"font\":{\"color\":\"#4D5663\"},\"text\":\"\"},\"zerolinecolor\":\"#E1E5ED\"},\"yaxis3\":{\"anchor\":\"x3\",\"domain\":[0.8025,1.0],\"gridcolor\":\"#E1E5ED\",\"showgrid\":false,\"tickfont\":{\"color\":\"#4D5663\"},\"title\":{\"font\":{\"color\":\"#4D5663\"},\"text\":\"\"},\"zerolinecolor\":\"#E1E5ED\"},\"xaxis4\":{\"anchor\":\"y4\",\"domain\":[0.7875,1.0],\"gridcolor\":\"#E1E5ED\",\"showgrid\":false,\"tickfont\":{\"color\":\"#4D5663\"},\"title\":{\"font\":{\"color\":\"#4D5663\"},\"text\":\"\"},\"zerolinecolor\":\"#E1E5ED\"},\"yaxis4\":{\"anchor\":\"x4\",\"domain\":[0.8025,1.0],\"gridcolor\":\"#E1E5ED\",\"showgrid\":false,\"tickfont\":{\"color\":\"#4D5663\"},\"title\":{\"font\":{\"color\":\"#4D5663\"},\"text\":\"\"},\"zerolinecolor\":\"#E1E5ED\"},\"xaxis5\":{\"anchor\":\"y5\",\"domain\":[0.0,0.2125],\"gridcolor\":\"#E1E5ED\",\"showgrid\":false,\"tickfont\":{\"color\":\"#4D5663\"},\"title\":{\"font\":{\"color\":\"#4D5663\"},\"text\":\"\"},\"zerolinecolor\":\"#E1E5ED\"},\"yaxis5\":{\"anchor\":\"x5\",\"domain\":[0.535,0.7325],\"gridcolor\":\"#E1E5ED\",\"showgrid\":false,\"tickfont\":{\"color\":\"#4D5663\"},\"title\":{\"font\":{\"color\":\"#4D5663\"},\"text\":\"\"},\"zerolinecolor\":\"#E1E5ED\"},\"xaxis6\":{\"anchor\":\"y6\",\"domain\":[0.2625,0.475],\"gridcolor\":\"#E1E5ED\",\"showgrid\":false,\"tickfont\":{\"color\":\"#4D5663\"},\"title\":{\"font\":{\"color\":\"#4D5663\"},\"text\":\"\"},\"zerolinecolor\":\"#E1E5ED\"},\"yaxis6\":{\"anchor\":\"x6\",\"domain\":[0.535,0.7325],\"gridcolor\":\"#E1E5ED\",\"showgrid\":false,\"tickfont\":{\"color\":\"#4D5663\"},\"title\":{\"font\":{\"color\":\"#4D5663\"},\"text\":\"\"},\"zerolinecolor\":\"#E1E5ED\"},\"xaxis7\":{\"anchor\":\"y7\",\"domain\":[0.525,0.7375],\"gridcolor\":\"#E1E5ED\",\"showgrid\":false,\"tickfont\":{\"color\":\"#4D5663\"},\"title\":{\"font\":{\"color\":\"#4D5663\"},\"text\":\"\"},\"zerolinecolor\":\"#E1E5ED\"},\"yaxis7\":{\"anchor\":\"x7\",\"domain\":[0.535,0.7325],\"gridcolor\":\"#E1E5ED\",\"showgrid\":false,\"tickfont\":{\"color\":\"#4D5663\"},\"title\":{\"font\":{\"color\":\"#4D5663\"},\"text\":\"\"},\"zerolinecolor\":\"#E1E5ED\"},\"xaxis8\":{\"anchor\":\"y8\",\"domain\":[0.7875,1.0],\"gridcolor\":\"#E1E5ED\",\"showgrid\":false,\"tickfont\":{\"color\":\"#4D5663\"},\"title\":{\"font\":{\"color\":\"#4D5663\"},\"text\":\"\"},\"zerolinecolor\":\"#E1E5ED\"},\"yaxis8\":{\"anchor\":\"x8\",\"domain\":[0.535,0.7325],\"gridcolor\":\"#E1E5ED\",\"showgrid\":false,\"tickfont\":{\"color\":\"#4D5663\"},\"title\":{\"font\":{\"color\":\"#4D5663\"},\"text\":\"\"},\"zerolinecolor\":\"#E1E5ED\"},\"xaxis9\":{\"anchor\":\"y9\",\"domain\":[0.0,0.2125],\"gridcolor\":\"#E1E5ED\",\"showgrid\":false,\"tickfont\":{\"color\":\"#4D5663\"},\"title\":{\"font\":{\"color\":\"#4D5663\"},\"text\":\"\"},\"zerolinecolor\":\"#E1E5ED\"},\"yaxis9\":{\"anchor\":\"x9\",\"domain\":[0.2675,0.465],\"gridcolor\":\"#E1E5ED\",\"showgrid\":false,\"tickfont\":{\"color\":\"#4D5663\"},\"title\":{\"font\":{\"color\":\"#4D5663\"},\"text\":\"\"},\"zerolinecolor\":\"#E1E5ED\"},\"xaxis10\":{\"anchor\":\"y10\",\"domain\":[0.2625,0.475],\"gridcolor\":\"#E1E5ED\",\"showgrid\":false,\"tickfont\":{\"color\":\"#4D5663\"},\"title\":{\"font\":{\"color\":\"#4D5663\"},\"text\":\"\"},\"zerolinecolor\":\"#E1E5ED\"},\"yaxis10\":{\"anchor\":\"x10\",\"domain\":[0.2675,0.465],\"gridcolor\":\"#E1E5ED\",\"showgrid\":false,\"tickfont\":{\"color\":\"#4D5663\"},\"title\":{\"font\":{\"color\":\"#4D5663\"},\"text\":\"\"},\"zerolinecolor\":\"#E1E5ED\"},\"xaxis11\":{\"anchor\":\"y11\",\"domain\":[0.525,0.7375],\"gridcolor\":\"#E1E5ED\",\"showgrid\":false,\"tickfont\":{\"color\":\"#4D5663\"},\"title\":{\"font\":{\"color\":\"#4D5663\"},\"text\":\"\"},\"zerolinecolor\":\"#E1E5ED\"},\"yaxis11\":{\"anchor\":\"x11\",\"domain\":[0.2675,0.465],\"gridcolor\":\"#E1E5ED\",\"showgrid\":false,\"tickfont\":{\"color\":\"#4D5663\"},\"title\":{\"font\":{\"color\":\"#4D5663\"},\"text\":\"\"},\"zerolinecolor\":\"#E1E5ED\"},\"xaxis12\":{\"anchor\":\"y12\",\"domain\":[0.7875,1.0],\"gridcolor\":\"#E1E5ED\",\"showgrid\":false,\"tickfont\":{\"color\":\"#4D5663\"},\"title\":{\"font\":{\"color\":\"#4D5663\"},\"text\":\"\"},\"zerolinecolor\":\"#E1E5ED\"},\"yaxis12\":{\"anchor\":\"x12\",\"domain\":[0.2675,0.465],\"gridcolor\":\"#E1E5ED\",\"showgrid\":false,\"tickfont\":{\"color\":\"#4D5663\"},\"title\":{\"font\":{\"color\":\"#4D5663\"},\"text\":\"\"},\"zerolinecolor\":\"#E1E5ED\"},\"xaxis13\":{\"anchor\":\"y13\",\"domain\":[0.0,0.2125],\"gridcolor\":\"#E1E5ED\",\"showgrid\":false,\"tickfont\":{\"color\":\"#4D5663\"},\"title\":{\"font\":{\"color\":\"#4D5663\"},\"text\":\"\"},\"zerolinecolor\":\"#E1E5ED\"},\"yaxis13\":{\"anchor\":\"x13\",\"domain\":[0.0,0.1975],\"gridcolor\":\"#E1E5ED\",\"showgrid\":false,\"tickfont\":{\"color\":\"#4D5663\"},\"title\":{\"font\":{\"color\":\"#4D5663\"},\"text\":\"\"},\"zerolinecolor\":\"#E1E5ED\"},\"xaxis14\":{\"anchor\":\"y14\",\"domain\":[0.2625,0.475],\"gridcolor\":\"#E1E5ED\",\"showgrid\":false,\"tickfont\":{\"color\":\"#4D5663\"},\"title\":{\"font\":{\"color\":\"#4D5663\"},\"text\":\"\"},\"zerolinecolor\":\"#E1E5ED\"},\"yaxis14\":{\"anchor\":\"x14\",\"domain\":[0.0,0.1975],\"gridcolor\":\"#E1E5ED\",\"showgrid\":false,\"tickfont\":{\"color\":\"#4D5663\"},\"title\":{\"font\":{\"color\":\"#4D5663\"},\"text\":\"\"},\"zerolinecolor\":\"#E1E5ED\"},\"xaxis15\":{\"anchor\":\"y15\",\"domain\":[0.525,0.7375],\"gridcolor\":\"#E1E5ED\",\"showgrid\":false,\"tickfont\":{\"color\":\"#4D5663\"},\"title\":{\"font\":{\"color\":\"#4D5663\"},\"text\":\"\"},\"zerolinecolor\":\"#E1E5ED\"},\"yaxis15\":{\"anchor\":\"x15\",\"domain\":[0.0,0.1975],\"gridcolor\":\"#E1E5ED\",\"showgrid\":false,\"tickfont\":{\"color\":\"#4D5663\"},\"title\":{\"font\":{\"color\":\"#4D5663\"},\"text\":\"\"},\"zerolinecolor\":\"#E1E5ED\"},\"xaxis16\":{\"anchor\":\"y16\",\"domain\":[0.7875,1.0],\"gridcolor\":\"#E1E5ED\",\"showgrid\":false,\"tickfont\":{\"color\":\"#4D5663\"},\"title\":{\"font\":{\"color\":\"#4D5663\"},\"text\":\"\"},\"zerolinecolor\":\"#E1E5ED\"},\"yaxis16\":{\"anchor\":\"x16\",\"domain\":[0.0,0.1975],\"gridcolor\":\"#E1E5ED\",\"showgrid\":false,\"tickfont\":{\"color\":\"#4D5663\"},\"title\":{\"font\":{\"color\":\"#4D5663\"},\"text\":\"\"},\"zerolinecolor\":\"#E1E5ED\"}},                        {\"showLink\": true, \"linkText\": \"Export to plot.ly\", \"plotlyServerURL\": \"https://plot.ly\", \"responsive\": true}                    ).then(function(){\n",
       "                            \n",
       "var gd = document.getElementById('d92e472b-9d68-4ffa-85a8-07aef0518006');\n",
       "var x = new MutationObserver(function (mutations, observer) {{\n",
       "        var display = window.getComputedStyle(gd).display;\n",
       "        if (!display || display === 'none') {{\n",
       "            console.log([gd, 'removed!']);\n",
       "            Plotly.purge(gd);\n",
       "            observer.disconnect();\n",
       "        }}\n",
       "}});\n",
       "\n",
       "// Listen for the removal of the full notebook cells\n",
       "var notebookContainer = gd.closest('#notebook-container');\n",
       "if (notebookContainer) {{\n",
       "    x.observe(notebookContainer, {childList: true});\n",
       "}}\n",
       "\n",
       "// Listen for the clearing of the current output cell\n",
       "var outputEl = gd.closest('.output');\n",
       "if (outputEl) {{\n",
       "    x.observe(outputEl, {childList: true});\n",
       "}}\n",
       "\n",
       "                        })                };                });            </script>        </div>"
      ]
     },
     "metadata": {},
     "output_type": "display_data"
    }
   ],
   "source": [
    "df.scatter_matrix()"
   ]
  },
  {
   "cell_type": "code",
   "execution_count": null,
   "metadata": {},
   "outputs": [],
   "source": []
  },
  {
   "cell_type": "code",
   "execution_count": null,
   "metadata": {},
   "outputs": [],
   "source": []
  }
 ],
 "metadata": {
  "kernelspec": {
   "display_name": "Python 3 (ipykernel)",
   "language": "python",
   "name": "python3"
  },
  "language_info": {
   "codemirror_mode": {
    "name": "ipython",
    "version": 3
   },
   "file_extension": ".py",
   "mimetype": "text/x-python",
   "name": "python",
   "nbconvert_exporter": "python",
   "pygments_lexer": "ipython3",
   "version": "3.11.3"
  }
 },
 "nbformat": 4,
 "nbformat_minor": 1
}
